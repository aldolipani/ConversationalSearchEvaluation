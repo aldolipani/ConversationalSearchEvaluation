{
 "cells": [
  {
   "cell_type": "code",
   "execution_count": 6,
   "metadata": {},
   "outputs": [],
   "source": [
    "!pip -q install seaborn\n",
    "!pip -q install nltk"
   ]
  },
  {
   "cell_type": "code",
   "execution_count": 7,
   "metadata": {},
   "outputs": [],
   "source": [
    "import json\n",
    "import numpy as np\n",
    "import numpy.random as random\n",
    "import matplotlib.pyplot as plt\n",
    "import scipy.stats\n",
    "import seaborn as sns;\n",
    "from collections import defaultdict\n",
    "from utils import *\n",
    "from search_engine import *\n",
    "from numpy.random import choice\n",
    "from tqdm.notebook import tqdm"
   ]
  },
  {
   "cell_type": "code",
   "execution_count": 38,
   "metadata": {},
   "outputs": [],
   "source": [
    "topics, documents, qrels = parse_squad()"
   ]
  },
  {
   "cell_type": "code",
   "execution_count": 39,
   "metadata": {},
   "outputs": [],
   "source": [
    "mapping = { \n",
    "    \"Harvard_University\":'1_harvard',\n",
    "    \"Black_Death\":'2_blackdeath',\n",
    "    \"Intergovernmental_Panel_on_Climate_Change\":'3_ipcc',\n",
    "    \"Geology\":'5_geology',\n",
    "    \"Economic_inequality\":'6_economicinequality',\n",
    "    \"Immune_system\":'7_immunesystem',\n",
    "    \"Oxygen\":'8_oxygen'}\n",
    "\n",
    "for topic in list(topics.keys()):\n",
    "    if topic in mapping:\n",
    "        topics[mapping[topic]] = topics[topic]\n",
    "        documents[mapping[topic]] = documents[topic]\n",
    "        del documents[topic]\n",
    "        qrels[mapping[topic]] = qrels[topic]\n",
    "    del topics[topic]\n",
    "    del qrels[topic]"
   ]
  },
  {
   "cell_type": "code",
   "execution_count": 40,
   "metadata": {},
   "outputs": [],
   "source": [
    "def get_queries(queries, document_id):\n",
    "    res = {}\n",
    "    for query_id, query in queries.items():\n",
    "        if query_id[0] == document_id:\n",
    "            res[query_id] = query\n",
    "    return res\n",
    "\n",
    "def get_document_to_subtopics(topic_id):\n",
    "    res = {}\n",
    "    with open(\"t\" + topic_id + \"_prels.tsv\", \"r\") as f:\n",
    "        for line in f.readlines():\n",
    "            items = line.split(\"\\t\")\n",
    "            sub_topics = items[1]\n",
    "            document_id = int(items[0])\n",
    "            if sub_topics:\n",
    "                for sub_topic in sub_topics.strip().split(' '):\n",
    "                    sub_topic = int(sub_topic)\n",
    "                    if document_id not in res:\n",
    "                        res[document_id] = set()\n",
    "                    res[document_id].add(sub_topic)\n",
    "    return res\n",
    "\n",
    "def get_document_to_subtopics_based_on_users(topic):\n",
    "    res = {}\n",
    "    qrels = get_qrels(topic)\n",
    "    sequence_list = get_sequence_list(topic, qrels)\n",
    "    for sequence in sequence_list:\n",
    "        for item in sequence:\n",
    "            if item[4]:\n",
    "                document = item[1]\n",
    "                if document not in res:\n",
    "                    res[document] = set()\n",
    "                res[document].add(item[3])\n",
    "    return res\n",
    "\n",
    "def get_subtopics_to_queries(queries, document_to_subtopics): \n",
    "    subtopics_to_queries = defaultdict(list)\n",
    "    for document_id, subtopic_ids in document_to_subtopics.items():\n",
    "        for subtopic_id in subtopic_ids:\n",
    "            for query_id, query in get_queries(queries, document_id).items():\n",
    "                subtopics_to_queries[subtopic_id].append(query)\n",
    "    return subtopics_to_queries\n",
    "\n",
    "def get_topics_from_users(topic):\n",
    "    res = {}\n",
    "    qrels = get_qrels(topic)\n",
    "    sequence_list = get_sequence_list(topic, qrels)\n",
    "    for sequence_id, sequence in enumerate(sequence_list):\n",
    "        for item in sequence:\n",
    "            query = item[5]\n",
    "            if item[3] not in res:\n",
    "                res[item[3]] = []\n",
    "            res[item[3]].append(query)\n",
    "    return res"
   ]
  },
  {
   "cell_type": "code",
   "execution_count": 41,
   "metadata": {},
   "outputs": [],
   "source": [
    "# Execute for Dataset Relevance\n",
    "topics_to_subtopics_to_queries = {}\n",
    "topics_to_documents_to_subtopics = {} # dataset relevance\n",
    "for topic_id in topics:\n",
    "    document_to_subtopics = get_document_to_subtopics(topic_id)\n",
    "    topics_to_documents_to_subtopics[topic_id] = document_to_subtopics\n",
    "    queries = topics[topic_id]\n",
    "    topics_to_subtopics_to_queries[topic_id] = get_subtopics_to_queries(queries, document_to_subtopics)"
   ]
  },
  {
   "cell_type": "code",
   "execution_count": 42,
   "metadata": {},
   "outputs": [],
   "source": [
    "# Execute this to get user query and relevance \n",
    "topics_to_subtopics_to_queries = {}\n",
    "topics_to_documents_to_subtopics = {} # user relevance\n",
    "for topic_id in topics:\n",
    "    document_to_subtopics = get_document_to_subtopics_based_on_users(topic_id)\n",
    "    topics_to_documents_to_subtopics[topic_id] = document_to_subtopics\n",
    "    topics_to_subtopics_to_queries[topic_id] = get_topics_from_users(topic_id)"
   ]
  },
  {
   "cell_type": "code",
   "execution_count": 43,
   "metadata": {},
   "outputs": [
    {
     "name": "stdout",
     "output_type": "stream",
     "text": [
      "8_oxygen\n",
      "[('8_oxygen', 301), ('8_oxygen', 286), ('8_oxygen', 282), ('8_oxygen', 264), ('8_oxygen', 296), ('8_oxygen', 283), ('8_oxygen', 294), ('8_oxygen', 304), ('8_oxygen', 290), (None, None)]\n"
     ]
    }
   ],
   "source": [
    "def get_search_engine(topic_id, noise = 0.0):\n",
    "    # select documents belonging to the topic\n",
    "    selected_documents = {}\n",
    "    selected_documents[topic_id] = {}\n",
    "    all_documents = {}\n",
    "    all_documents[topic_id] = {}\n",
    "    for document_id in documents[topic_id]:\n",
    "        if document_id in topics_to_documents_to_subtopics[topic_id]:\n",
    "            selected_documents[topic_id][document_id] = documents[topic_id][document_id]\n",
    "        \n",
    "    for t_id in documents:\n",
    "        for document_id in documents[t_id]:\n",
    "            all_documents[topic_id][document_id] = documents[t_id][document_id]\n",
    "    \n",
    "    # select random documents\n",
    "    if noise > 0:\n",
    "        for t_id in documents:\n",
    "            if t_id not in selected_documents:\n",
    "                selected_documents[t_id] = {}\n",
    "            n_d = int(noise * len(documents[t_id]))\n",
    "            d_ids = choice(len(documents[t_id]), size = n_d, replace = False)\n",
    "            documents_list = list(documents[t_id].items())\n",
    "            for d_id in d_ids:\n",
    "                selected_documents[t_id][documents_list[d_id][0]] = documents_list[d_id][1]\n",
    "\n",
    "    direct_index = get_direct_index(selected_documents)\n",
    "    dictionary, cl, lengths, inverted_index = get_inverted_index(direct_index)\n",
    "    \n",
    "    direct_index_sm = get_direct_index(all_documents)\n",
    "    dictionary_sm, cl_sm, lengths_sm, inverted_index_sm = get_inverted_index(direct_index_sm)\n",
    "    \n",
    "    return dictionary_sm, cl_sm, lengths, inverted_index\n",
    "\n",
    "for topic_id in topics:\n",
    "    print(topic_id)\n",
    "    dictionary, cl, lengths, inverted_index = get_search_engine(topic_id, 0.0)\n",
    "    print(search(\"oxygen\", dictionary, cl, lengths, inverted_index, 100, 10))\n",
    "    break"
   ]
  },
  {
   "cell_type": "code",
   "execution_count": 44,
   "metadata": {},
   "outputs": [
    {
     "data": {
      "text/plain": [
       "([('1_harvard', 0.9464558621177265),\n",
       "  ('2_blackdeath', 0.9140780938123753),\n",
       "  ('3_ipcc', 0.9769319492502884),\n",
       "  ('5_geology', 1.0),\n",
       "  ('6_economicinequality', 0.9667221297836939),\n",
       "  ('7_immunesystem', 0.9356500337866327),\n",
       "  ('8_oxygen', 0.9560479041916168)],\n",
       " [('1_harvard', 0.6277635260670987),\n",
       "  ('2_blackdeath', 0.6089353038304688),\n",
       "  ('3_ipcc', 0.6897091933205275),\n",
       "  ('5_geology', 0.7568113051347012),\n",
       "  ('6_economicinequality', 0.6739542475804687),\n",
       "  ('7_immunesystem', 0.7294231459463704),\n",
       "  ('8_oxygen', 0.7515796682839179)],\n",
       " [('1_harvard', 0.9541666666666666),\n",
       "  ('2_blackdeath', 0.9277777777777778),\n",
       "  ('3_ipcc', 0.9777777777777776),\n",
       "  ('5_geology', 1.0),\n",
       "  ('6_economicinequality', 0.9714285714285715),\n",
       "  ('7_immunesystem', 0.9527272727272728),\n",
       "  ('8_oxygen', 0.9599999999999997)])"
      ]
     },
     "execution_count": 44,
     "metadata": {},
     "output_type": "execute_result"
    }
   ],
   "source": [
    "def use_pooled_relevance(sequence_list, topic_to_documents_to_subtopics):\n",
    "    for sequence in sequence_list:\n",
    "        for n, item in enumerate(sequence):\n",
    "            is_rel = False\n",
    "            if item[1] in topic_to_documents_to_subtopics:\n",
    "                is_rel = item[3] in topic_to_documents_to_subtopics[item[1]]\n",
    "                #print(is_rel, item[3], topics_to_documents_to_subtopics[topic][item[1]])\n",
    "            sequence[n] = (item[0], item[1], item[2], item[3], is_rel, item[5])\n",
    "            \n",
    "ncbp_p_scores = []\n",
    "ncbp_scores = []\n",
    "ncp_scores = []\n",
    "for topic in topics:\n",
    "    qrels = get_qrels(topic)\n",
    "    sequence_list = get_sequence_list(topic, qrels)\n",
    "    use_pooled_relevance(sequence_list, topics_to_documents_to_subtopics[topic])\n",
    "    ncbp_p_scores.append((topic, np.mean(get_ncbp_p_list(sequence_list, 1, 0.67))))\n",
    "    ncbp_scores.append((topic, np.mean(get_ncbp_list(sequence_list, 0.85))))\n",
    "    ncp_scores.append((topic, np.mean(get_ncp_list(sequence_list))))\n",
    "    \n",
    "ncbp_p_scores = sorted(ncbp_p_scores)\n",
    "ncbp_scores = sorted(ncbp_scores)\n",
    "ncp_scores = sorted(ncp_scores)\n",
    "ncbp_p_scores, ncbp_scores, ncp_scores"
   ]
  },
  {
   "cell_type": "code",
   "execution_count": 45,
   "metadata": {},
   "outputs": [
    {
     "data": {
      "text/plain": [
       "[('1_harvard', 0.8),\n",
       " ('2_blackdeath', 0.2),\n",
       " ('3_ipcc', 1.0),\n",
       " ('5_geology', 0.6),\n",
       " ('6_economicinequality', 0.8),\n",
       " ('7_immunesystem', 0.8),\n",
       " ('8_oxygen', 0.6)]"
      ]
     },
     "execution_count": 45,
     "metadata": {},
     "output_type": "execute_result"
    }
   ],
   "source": [
    "satisfaction_scores = []\n",
    "for topic in topics:\n",
    "    satisfaction_list = get_satisfaction_list(topic)\n",
    "    satisfaction_scores.append((topic, np.mean(satisfaction_list)))\n",
    "\n",
    "satisfaction_scores = sorted(satisfaction_scores)\n",
    "satisfaction_scores"
   ]
  },
  {
   "cell_type": "code",
   "execution_count": 46,
   "metadata": {},
   "outputs": [
    {
     "data": {
      "text/plain": [
       "KendalltauResult(correlation=0.2646280620124816, pvalue=0.4272628567457064)"
      ]
     },
     "execution_count": 46,
     "metadata": {},
     "output_type": "execute_result"
    },
    {
     "data": {
      "image/png": "[encoded data removed]",
      "text/plain": [
       "<Figure size 432x288 with 1 Axes>"
      ]
     },
     "metadata": {
      "needs_background": "light"
     },
     "output_type": "display_data"
    }
   ],
   "source": [
    "x = [i[1] for i in ncbp_p_scores]\n",
    "y = [i[1] for i in satisfaction_scores]\n",
    "plt.plot(x, y, 'o')\n",
    "scipy.stats.kendalltau(x, y)"
   ]
  },
  {
   "cell_type": "code",
   "execution_count": 47,
   "metadata": {},
   "outputs": [
    {
     "data": {
      "text/plain": [
       "KendalltauResult(correlation=-0.05292561240249632, pvalue=0.8738446985173735)"
      ]
     },
     "execution_count": 47,
     "metadata": {},
     "output_type": "execute_result"
    },
    {
     "data": {
      "image/png": "[encoded data removed]",
      "text/plain": [
       "<Figure size 432x288 with 1 Axes>"
      ]
     },
     "metadata": {
      "needs_background": "light"
     },
     "output_type": "display_data"
    }
   ],
   "source": [
    "x = [i[1] for i in ncbp_scores]\n",
    "y = [i[1] for i in satisfaction_scores]\n",
    "plt.plot(x, y, 'o')\n",
    "scipy.stats.kendalltau(x, y)"
   ]
  },
  {
   "cell_type": "code",
   "execution_count": 48,
   "metadata": {},
   "outputs": [
    {
     "name": "stdout",
     "output_type": "stream",
     "text": [
      "KendalltauResult(correlation=0.2646280620124816, pvalue=0.4272628567457064)\n"
     ]
    },
    {
     "data": {
      "image/png": "[encoded data removed]",
      "text/plain": [
       "<Figure size 432x288 with 1 Axes>"
      ]
     },
     "metadata": {
      "needs_background": "light"
     },
     "output_type": "display_data"
    }
   ],
   "source": [
    "plt.plot([i[1] for i in ncp_scores], [i[1] for i in satisfaction_scores], 'o')\n",
    "print(scipy.stats.kendalltau([i[1] for i in ncp_scores], [i[1] for i in satisfaction_scores]))"
   ]
  },
  {
   "cell_type": "code",
   "execution_count": 117,
   "metadata": {},
   "outputs": [
    {
     "data": {
      "application/vnd.jupyter.widget-view+json": {
       "model_id": "9eaed9ebfa954b25a6135d125dfb66ad",
       "version_major": 2,
       "version_minor": 0
      },
      "text/plain": [
       "HBox(children=(FloatProgress(value=0.0, max=7.0), HTML(value='')))"
      ]
     },
     "metadata": {},
     "output_type": "display_data"
    },
    {
     "name": "stdout",
     "output_type": "stream",
     "text": [
      "10\n",
      "8\n",
      "8\n",
      "11\n",
      "6\n",
      "10\n",
      "6\n",
      "\n"
     ]
    },
    {
     "data": {
      "text/plain": [
       "[('1_harvard', 0.2909235973243544),\n",
       " ('2_blackdeath', 0.44541888058710943),\n",
       " ('3_ipcc', 0.4231315742109375),\n",
       " ('5_geology', 0.47995130059918656),\n",
       " ('6_economicinequality', 0.37922076930703125),\n",
       " ('7_immunesystem', 0.5616523486941968),\n",
       " ('8_oxygen', 0.42587628319080767)]"
      ]
     },
     "execution_count": 117,
     "metadata": {},
     "output_type": "execute_result"
    }
   ],
   "source": [
    "# transition probabilities for harvard\n",
    "# comparison of a system with without filtering, or with noise\n",
    "# compute transition on sessions using the transition probabilities.\n",
    "\n",
    "mu = 1000\n",
    "noise = 0.0\n",
    "\n",
    "topic_scores = []\n",
    "topic_scores_ses = []\n",
    "for topic_id in tqdm(topics):\n",
    "    num_subtopics = max(topics_to_subtopics_to_queries[topic_id].keys())\n",
    "    dictionary, cl, lengths, inverted_index = get_search_engine(topic_id, noise)\n",
    "    print(len(lengths))\n",
    "    qrels = get_qrels(topic_id)\n",
    "    # compute metric\n",
    "    probs = []\n",
    "    scores = []\n",
    "    #for n in range(5000):\n",
    "        #sequence, prob = generate_sequence(num_subtopics)\n",
    "    sequence_list = get_sequence_list(topic_id, qrels)\n",
    "    use_pooled_relevance(sequence_list, topics_to_documents_to_subtopics[topic_id])\n",
    "    for sequence in sequence_list:\n",
    "        #print(sequence)\n",
    "        prob = 0.0\n",
    "        probs.append(prob)\n",
    "        score = 0.0\n",
    "        ncbp_score = ncbp(sequence, 0.85)\n",
    "        for m, item in enumerate(sequence):\n",
    "            #print(sequence)\n",
    "            item = (item[0], item[3], item[5], item[1])\n",
    "            subtopic_id = item[1]\n",
    "            is_rel = False\n",
    "            if subtopic_id in topics_to_subtopics_to_queries[topic_id]:\n",
    "                queries = topics_to_subtopics_to_queries[topic_id][subtopic_id]\n",
    "                query = queries[choice(range(len(queries)))]\n",
    "                query = item[2]\n",
    "                \n",
    "                answer = None\n",
    "                #print(search(query, dictionary, cl, lengths, inverted_index, mu, 10))\n",
    "                #print(topics_to_documents_to_subtopics[topic_id])\n",
    "                for i, a in enumerate(search(query, dictionary, cl, lengths, inverted_index, mu, 100)):\n",
    "                    if i == 0:\n",
    "                        answer = a\n",
    "                    temp = get_document_to_subtopics(topic_id)\n",
    "                    #print(temp)\n",
    "                    #print(a, subtopic_id, a[1] in temp, subtopic_id in temp[a[1]], temp[a[1]])\n",
    "                    if a[1] in temp and subtopic_id in temp[a[1]]:\n",
    "                        answer = a\n",
    "                    break\n",
    "                #print(answer, item[3])\n",
    "                #answer = (topic_id, item[3]) \n",
    "                #print(answer)\n",
    "                is_rel = False\n",
    "                if answer != None:\n",
    "                    #print(answer[1], subtopic_id, topics_to_documents_to_subtopics[topic_id])\n",
    "                    if answer[1] in topics_to_documents_to_subtopics[topic_id]:\n",
    "                        is_rel = subtopic_id in topics_to_documents_to_subtopics[topic_id][answer[1]]\n",
    "            sequence[m] = (item[0], is_rel, is_rel, item[1], is_rel)\n",
    "            \n",
    "            if is_rel:\n",
    "                score += dd_ncbp(0.85, m)\n",
    "                #score += dd_cbp_p(1, 0.67, m, sequence)\n",
    "                #score += dd_cp(sequence)\n",
    "            #print(\"score\", score, m, dd_ncbp(0.85, m), is_rel)\n",
    "        #print(\"comparison\", score, ncbp_score)\n",
    "        scores.append(score)\n",
    "    \n",
    "    if scores:\n",
    "        probs = np.array(probs)\n",
    "        scores = np.array(scores)\n",
    "        #topic_score = (scores @ probs) / probs.sum()\n",
    "        topic_score = np.mean(scores)\n",
    "        topic_scores.append((topic_id, topic_score))\n",
    "    else:\n",
    "        topic_scores.append((topic_id, 0.0))\n",
    "\n",
    "#topic_scores = np.array(topic_scores)\n",
    "system_scores = sorted(topic_scores)\n",
    "system_scores\n"
   ]
  },
  {
   "cell_type": "code",
   "execution_count": 118,
   "metadata": {},
   "outputs": [
    {
     "data": {
      "text/plain": [
       "[('1_harvard', 0.6277635260670987),\n",
       " ('2_blackdeath', 0.6089353038304688),\n",
       " ('3_ipcc', 0.6897091933205275),\n",
       " ('5_geology', 0.7568113051347012),\n",
       " ('6_economicinequality', 0.6739542475804687),\n",
       " ('7_immunesystem', 0.7294231459463704),\n",
       " ('8_oxygen', 0.7515796682839179)]"
      ]
     },
     "execution_count": 118,
     "metadata": {},
     "output_type": "execute_result"
    }
   ],
   "source": [
    "ncbp_scores"
   ]
  },
  {
   "cell_type": "code",
   "execution_count": 119,
   "metadata": {},
   "outputs": [
    {
     "data": {
      "text/plain": [
       "KendalltauResult(correlation=0.4285714285714286, pvalue=0.2388888888888889)"
      ]
     },
     "execution_count": 119,
     "metadata": {},
     "output_type": "execute_result"
    },
    {
     "data": {
      "image/png": "[encoded data removed]",
      "text/plain": [
       "<Figure size 432x288 with 1 Axes>"
      ]
     },
     "metadata": {
      "needs_background": "light"
     },
     "output_type": "display_data"
    }
   ],
   "source": [
    "x = [i[1] for i in system_scores]\n",
    "y = [i[1] for i in ncbp_scores]\n",
    "plt.plot(x, y, 'o')\n",
    "scipy.stats.kendalltau(x, y)"
   ]
  },
  {
   "cell_type": "code",
   "execution_count": 67,
   "metadata": {},
   "outputs": [
    {
     "data": {
      "text/plain": [
       "KendalltauResult(correlation=0.8095238095238096, pvalue=0.010714285714285714)"
      ]
     },
     "execution_count": 67,
     "metadata": {},
     "output_type": "execute_result"
    },
    {
     "data": {
      "image/png": "[encoded data removed]",
      "text/plain": [
       "<Figure size 432x288 with 1 Axes>"
      ]
     },
     "metadata": {
      "needs_background": "light"
     },
     "output_type": "display_data"
    }
   ],
   "source": []
  },
  {
   "cell_type": "code",
   "execution_count": 49,
   "metadata": {},
   "outputs": [
    {
     "data": {
      "application/vnd.jupyter.widget-view+json": {
       "model_id": "4f76ddd84d72426d83c159c753af187c",
       "version_major": 2,
       "version_minor": 0
      },
      "text/plain": [
       "HBox(children=(FloatProgress(value=0.0, max=7.0), HTML(value='')))"
      ]
     },
     "metadata": {},
     "output_type": "display_data"
    },
    {
     "name": "stdout",
     "output_type": "stream",
     "text": [
      "10\n",
      "8\n",
      "8\n",
      "11\n",
      "6\n",
      "10\n",
      "6\n",
      "\n"
     ]
    },
    {
     "data": {
      "text/plain": [
       "[('1_harvard', 0.2232323007420825),\n",
       " ('2_blackdeath', 0.3210107293417197),\n",
       " ('3_ipcc', 0.2894085353238028),\n",
       " ('5_geology', 0.3523840779735315),\n",
       " ('6_economicinequality', 0.23053861228416045),\n",
       " ('7_immunesystem', 0.3593634265369536),\n",
       " ('8_oxygen', 0.2924852589583538)]"
      ]
     },
     "execution_count": 49,
     "metadata": {},
     "output_type": "execute_result"
    }
   ],
   "source": [
    "# transition probabilities for harvard\n",
    "# comparison of a system with without filtering, or with noise\n",
    "# compute transition on sessions using the transition probabilities.\n",
    "\n",
    "mu = 1000\n",
    "noise = 0.0\n",
    "\n",
    "topic_scores = []\n",
    "topic_scores_ses = []\n",
    "for topic_id in tqdm(topics):\n",
    "    num_subtopics = max(topics_to_subtopics_to_queries[topic_id].keys())\n",
    "    dictionary, cl, lengths, inverted_index = get_search_engine(topic_id, noise)\n",
    "    print(len(lengths))\n",
    "    qrels = get_qrels(topic_id)\n",
    "    # compute metric\n",
    "    probs = []\n",
    "    scores = []\n",
    "    for n in range(5000):\n",
    "        sequence, prob = generate_sequence(num_subtopics)\n",
    "    #sequence_list = get_sequence_list(topic_id, qrels)\n",
    "    #use_pooled_relevance(sequence_list, topics_to_documents_to_subtopics[topic_id])\n",
    "    #for sequence in sequence_list:\n",
    "        #print(sequence)\n",
    "        prob = 0.0\n",
    "        probs.append(prob)\n",
    "        score = 0.0\n",
    "        #ncbp_score = ncbp(sequence, 0.85)\n",
    "        for m, item in enumerate(sequence):\n",
    "            #print(sequence)\n",
    "            #item = (item[0], item[3], item[5], item[1])\n",
    "            subtopic_id = item[1]\n",
    "            is_rel = False\n",
    "            if subtopic_id in topics_to_subtopics_to_queries[topic_id]:\n",
    "                queries = topics_to_subtopics_to_queries[topic_id][subtopic_id]\n",
    "                query = queries[choice(range(len(queries)))]\n",
    "                #query = item[2]\n",
    "                \n",
    "                answer = None\n",
    "                #print(search(query, dictionary, cl, lengths, inverted_index, mu, 10))\n",
    "                #print(topics_to_documents_to_subtopics[topic_id])\n",
    "                for i, a in enumerate(search(query, dictionary, cl, lengths, inverted_index, mu, 100)):\n",
    "                    if i == 0:\n",
    "                        answer = a\n",
    "                    temp = get_document_to_subtopics(topic_id)\n",
    "                    #print(temp)\n",
    "                    #print(a, subtopic_id, a[1] in temp, subtopic_id in temp[a[1]], temp[a[1]])\n",
    "                    if a[1] in temp and subtopic_id in temp[a[1]]:\n",
    "                        answer = a\n",
    "                    break\n",
    "                #print(answer, item[3])\n",
    "                #answer = (topic_id, item[3]) \n",
    "                #print(answer)\n",
    "                is_rel = False\n",
    "                if answer != None:\n",
    "                    #print(answer[1], subtopic_id, topics_to_documents_to_subtopics[topic_id])\n",
    "                    if answer[1] in topics_to_documents_to_subtopics[topic_id]:\n",
    "                        is_rel = subtopic_id in topics_to_documents_to_subtopics[topic_id][answer[1]]\n",
    "            sequence[m] = (item[0], is_rel, is_rel, item[1], is_rel)\n",
    "            \n",
    "            if is_rel:\n",
    "                score += dd_ncbp(0.85, m)\n",
    "                #score += dd_cbp_p(1, 0.67, m, sequence)\n",
    "                #score += dd_cp(sequence)\n",
    "            #print(\"score\", score, m, dd_ncbp(0.85, m), is_rel)\n",
    "        #print(\"comparison\", score, ncbp_score)\n",
    "        scores.append(score)\n",
    "    \n",
    "    if scores:\n",
    "        probs = np.array(probs)\n",
    "        scores = np.array(scores)\n",
    "        #topic_score = (scores @ probs) / probs.sum()\n",
    "        topic_score = np.mean(scores)\n",
    "        topic_scores.append((topic_id, topic_score))\n",
    "    else:\n",
    "        topic_scores.append((topic_id, 0.0))\n",
    "\n",
    "#topic_scores = np.array(topic_scores)\n",
    "system_scores_with_filtering = sorted(topic_scores)\n",
    "system_scores_with_filtering"
   ]
  },
  {
   "cell_type": "code",
   "execution_count": 134,
   "metadata": {},
   "outputs": [
    {
     "data": {
      "application/vnd.jupyter.widget-view+json": {
       "model_id": "8b8649c85bb941308053710940b890b2",
       "version_major": 2,
       "version_minor": 0
      },
      "text/plain": [
       "HBox(children=(FloatProgress(value=0.0, max=7.0), HTML(value='')))"
      ]
     },
     "metadata": {},
     "output_type": "display_data"
    },
    {
     "name": "stdout",
     "output_type": "stream",
     "text": [
      "10\n",
      "8\n",
      "8\n",
      "11\n",
      "6\n",
      "10\n",
      "6\n",
      "\n"
     ]
    },
    {
     "data": {
      "text/plain": [
       "[('1_harvard', 0.223574050705833),\n",
       " ('2_blackdeath', 0.31966036627811983),\n",
       " ('3_ipcc', 0.2863790763559097),\n",
       " ('5_geology', 0.3493856327324293),\n",
       " ('6_economicinequality', 0.22914499789676906),\n",
       " ('7_immunesystem', 0.35505738659249403),\n",
       " ('8_oxygen', 0.29576036846122333)]"
      ]
     },
     "execution_count": 134,
     "metadata": {},
     "output_type": "execute_result"
    }
   ],
   "source": [
    "# transition probabilities for harvard\n",
    "# comparison of a system with without filtering, or with noise\n",
    "# compute transition on sessions using the transition probabilities.\n",
    "\n",
    "mu = 1000\n",
    "noise = 0.0\n",
    "\n",
    "topic_scores = []\n",
    "topic_scores_ses = []\n",
    "for topic_id in tqdm(topics):\n",
    "    num_subtopics = max(topics_to_subtopics_to_queries[topic_id].keys())\n",
    "    dictionary, cl, lengths, inverted_index = get_search_engine(topic_id, noise)\n",
    "    print(len(lengths))\n",
    "    qrels = get_qrels(topic_id)\n",
    "    # compute metric\n",
    "    probs = []\n",
    "    scores = []\n",
    "    for n in range(5000):\n",
    "        sequence, prob = generate_sequence(num_subtopics)\n",
    "    #sequence_list = get_sequence_list(topic_id, qrels)\n",
    "    #use_pooled_relevance(sequence_list, topics_to_documents_to_subtopics[topic_id])\n",
    "    #for sequence in sequence_list:\n",
    "        #print(sequence)\n",
    "        prob = 0.0\n",
    "        probs.append(prob)\n",
    "        score = 0.0\n",
    "        #ncbp_score = ncbp(sequence, 0.85)\n",
    "        for m, item in enumerate(sequence):\n",
    "            #print(sequence)\n",
    "            #item = (item[0], item[3], item[5], item[1])\n",
    "            subtopic_id = item[1]\n",
    "            is_rel = False\n",
    "            if subtopic_id in topics_to_subtopics_to_queries[topic_id]:\n",
    "                queries = topics_to_subtopics_to_queries[topic_id][subtopic_id]\n",
    "                query = queries[choice(range(len(queries)))]\n",
    "                #query = item[2]\n",
    "                \n",
    "                answer = None\n",
    "                #print(search(query, dictionary, cl, lengths, inverted_index, mu, 10))\n",
    "                #print(topics_to_documents_to_subtopics[topic_id])\n",
    "                for i, a in enumerate(search(query, dictionary, cl, lengths, inverted_index, mu, 100)):\n",
    "                    answer = a\n",
    "                    break\n",
    "                #print(answer, item[3])\n",
    "                #answer = (topic_id, item[3]) \n",
    "                #print(answer)\n",
    "                is_rel = False\n",
    "                if answer != None:\n",
    "                    #print(answer[1], subtopic_id, topics_to_documents_to_subtopics[topic_id])\n",
    "                    if answer[1] in topics_to_documents_to_subtopics[topic_id]:\n",
    "                        is_rel = subtopic_id in topics_to_documents_to_subtopics[topic_id][answer[1]]\n",
    "            sequence[m] = (item[0], is_rel, is_rel, item[1], is_rel)\n",
    "            \n",
    "            if is_rel:\n",
    "                score += dd_ncbp(0.85, m)\n",
    "                #score += dd_cbp_p(1, 0.67, m, sequence)\n",
    "                #score += dd_cp(sequence)\n",
    "            #print(\"score\", score, m, dd_ncbp(0.85, m), is_rel)\n",
    "        #print(\"comparison\", score, ncbp_score)\n",
    "        scores.append(score)\n",
    "    \n",
    "    if scores:\n",
    "        probs = np.array(probs)\n",
    "        scores = np.array(scores)\n",
    "        #topic_score = (scores @ probs) / probs.sum()\n",
    "        topic_score = np.mean(scores)\n",
    "        topic_scores.append((topic_id, topic_score))\n",
    "    else:\n",
    "        topic_scores.append((topic_id, 0.0))\n",
    "\n",
    "#topic_scores = np.array(topic_scores)\n",
    "system_scores_without_filtering = sorted(topic_scores)\n",
    "system_scores_without_filtering"
   ]
  },
  {
   "cell_type": "code",
   "execution_count": 135,
   "metadata": {},
   "outputs": [
    {
     "name": "stdout",
     "output_type": "stream",
     "text": [
      "KendalltauResult(correlation=1.0, pvalue=0.0003968253968253968)\n",
      "0.2941374112889683 0.29423468411951653\n"
     ]
    },
    {
     "data": {
      "image/png": "[encoded data removed]",
      "text/plain": [
       "<Figure size 432x288 with 1 Axes>"
      ]
     },
     "metadata": {
      "needs_background": "light"
     },
     "output_type": "display_data"
    }
   ],
   "source": [
    "x = [i[1] for i in system_scores_without_filtering]\n",
    "y = [i[1] for i in system_scores_with_filtering]\n",
    "plt.plot(x, y, 'o')\n",
    "print(scipy.stats.kendalltau(x, y))\n",
    "print(np.mean(x), np.mean(y))"
   ]
  },
  {
   "cell_type": "code",
   "execution_count": 51,
   "metadata": {},
   "outputs": [
    {
     "name": "stdout",
     "output_type": "stream",
     "text": [
      "KendalltauResult(correlation=0.4285714285714286, pvalue=0.2388888888888889)\n",
      "0.6911680557376504 0.29548899159437203\n"
     ]
    },
    {
     "data": {
      "image/png": "[encoded data removed]",
      "text/plain": [
       "<Figure size 432x288 with 1 Axes>"
      ]
     },
     "metadata": {
      "needs_background": "light"
     },
     "output_type": "display_data"
    }
   ],
   "source": [
    "x = [i[1] for i in ncbp_scores]\n",
    "y = [i[1] for i in system_scores_with_filtering]\n",
    "plt.plot(x, y, 'o')\n",
    "print(scipy.stats.kendalltau(x, y))\n",
    "print(np.mean(x), np.mean(y))"
   ]
  },
  {
   "cell_type": "code",
   "execution_count": 65,
   "metadata": {},
   "outputs": [
    {
     "data": {
      "text/plain": [
       "[('1_harvard', 0.2777055198598928),\n",
       " ('2_blackdeath', 0.3660545565305837),\n",
       " ('3_ipcc', 0.3140713038052152),\n",
       " ('5_geology', 0.4128958334818044),\n",
       " ('6_economicinequality', 0.3110122983675753),\n",
       " ('7_immunesystem', 0.485451460564658),\n",
       " ('8_oxygen', 0.35235702523737933)]"
      ]
     },
     "execution_count": 65,
     "metadata": {},
     "output_type": "execute_result"
    }
   ],
   "source": [
    "# transition probabilities for harvard\n",
    "# comparison of a system with without filtering, or with noise\n",
    "# compute transition on sessions using the transition probabilities.\n",
    "\n",
    "noises = []\n",
    "system_scores = []\n",
    "\n",
    "mu = 1000\n",
    "\n",
    "noise = 0.0\n",
    "topic_scores = []\n",
    "topic_scores_ses = []\n",
    "for topic_id in topics:\n",
    "    num_subtopics = max(topics_to_subtopics_to_queries[topic_id].keys())\n",
    "    dictionary, cl, lengths, inverted_index = get_search_engine(topic_id, noise)\n",
    "\n",
    "    transitions_list = get_transitions_list(topic_id)\n",
    "    table = get_transitions_table(num_subtopics, transitions_list, 0.001)\n",
    "\n",
    "    qrels = get_qrels(topic_id)\n",
    "    # compute metric\n",
    "    probs = []\n",
    "    scores = []\n",
    "    for n in range(50000):\n",
    "        sequence, prob = generate_sequence_from_table(num_subtopics, table)\n",
    "    #sequence_list = get_sequence_list(topic_id, qrels)\n",
    "    #use_pooled_relevance(sequence_list, topics_to_documents_to_subtopics[topic_id])\n",
    "    #for sequence in sequence_list:\n",
    "        #print(sequence)\n",
    "        prob = 0.0\n",
    "        probs.append(prob)\n",
    "        score = 0.0\n",
    "        #ncbp_score = ncbp(sequence, 0.85)\n",
    "        for m, item in enumerate(sequence):\n",
    "            #print(sequence)\n",
    "            #item = (item[0], item[3], item[5], item[1])\n",
    "            subtopic_id = item[1]\n",
    "            is_rel = False\n",
    "            if subtopic_id in topics_to_subtopics_to_queries[topic_id]:\n",
    "                queries = topics_to_subtopics_to_queries[topic_id][subtopic_id]\n",
    "                query = queries[choice(range(len(queries)))]\n",
    "                #query = item[2]\n",
    "\n",
    "                answer = None\n",
    "                #print(search(query, dictionary, cl, lengths, inverted_index, mu, 10))\n",
    "                #print(topics_to_documents_to_subtopics[topic_id])\n",
    "                for i, a in enumerate(search(query, dictionary, cl, lengths, inverted_index, mu, 100)):\n",
    "                    answer = a\n",
    "                    break\n",
    "                #print(answer, item[3])\n",
    "                #answer = (topic_id, item[3]) \n",
    "                #print(answer)\n",
    "                is_rel = False\n",
    "                if answer != None:\n",
    "                    #print(answer[1], subtopic_id, topics_to_documents_to_subtopics[topic_id])\n",
    "                    if answer[1] in topics_to_documents_to_subtopics[topic_id]:\n",
    "                        is_rel = subtopic_id in topics_to_documents_to_subtopics[topic_id][answer[1]]\n",
    "            sequence[m] = (item[0], is_rel, is_rel, item[1], is_rel)\n",
    "\n",
    "            if is_rel:\n",
    "                score += dd_ncbp(0.85, m)\n",
    "                #score += dd_cbp_p(1, 0.67, m, sequence)\n",
    "                #score += dd_cp(sequence)\n",
    "            #print(\"score\", score, m, dd_ncbp(0.85, m), is_rel)\n",
    "        #print(\"comparison\", score, ncbp_score)\n",
    "        scores.append(score)\n",
    "\n",
    "    if scores:\n",
    "        probs = np.array(probs)\n",
    "        scores = np.array(scores)\n",
    "        #topic_score = (scores @ probs) / probs.sum()\n",
    "        topic_score = np.mean(scores)\n",
    "        topic_scores.append((topic_id, topic_score))\n",
    "    else:\n",
    "        topic_scores.append((topic_id, 0.0))\n",
    "\n",
    "topic_scores = sorted(topic_scores)\n",
    "topic_scores"
   ]
  },
  {
   "cell_type": "code",
   "execution_count": 66,
   "metadata": {},
   "outputs": [
    {
     "data": {
      "text/plain": [
       "[('1_harvard', 0.6277635260670987),\n",
       " ('2_blackdeath', 0.6089353038304688),\n",
       " ('3_ipcc', 0.6897091933205275),\n",
       " ('5_geology', 0.7568113051347012),\n",
       " ('6_economicinequality', 0.6739542475804687),\n",
       " ('7_immunesystem', 0.7294231459463704),\n",
       " ('8_oxygen', 0.7515796682839179)]"
      ]
     },
     "execution_count": 66,
     "metadata": {},
     "output_type": "execute_result"
    }
   ],
   "source": [
    "ncbp_scores"
   ]
  },
  {
   "cell_type": "code",
   "execution_count": 67,
   "metadata": {},
   "outputs": [
    {
     "name": "stdout",
     "output_type": "stream",
     "text": [
      "KendalltauResult(correlation=0.4285714285714286, pvalue=0.2388888888888889)\n",
      "0.6911680557376504 0.35993542826387265\n"
     ]
    },
    {
     "data": {
      "image/png": "[encoded data removed]",
      "text/plain": [
       "<Figure size 432x288 with 1 Axes>"
      ]
     },
     "metadata": {
      "needs_background": "light"
     },
     "output_type": "display_data"
    }
   ],
   "source": [
    "x = [i[1] for i in ncbp_scores]\n",
    "y = [i[1] for i in topic_scores]\n",
    "plt.plot(x, y, 'o')\n",
    "print(scipy.stats.kendalltau(x, y))\n",
    "print(np.mean(x), np.mean(y))"
   ]
  },
  {
   "cell_type": "markdown",
   "metadata": {},
   "source": [
    "# Analysis of The Noise"
   ]
  },
  {
   "cell_type": "code",
   "execution_count": 140,
   "metadata": {},
   "outputs": [
    {
     "data": {
      "application/vnd.jupyter.widget-view+json": {
       "model_id": "951a3e4bcdb7433dbb734eadee137bf9",
       "version_major": 2,
       "version_minor": 0
      },
      "text/plain": [
       "HBox(children=(FloatProgress(value=0.0, max=11.0), HTML(value='')))"
      ]
     },
     "metadata": {},
     "output_type": "display_data"
    },
    {
     "name": "stdout",
     "output_type": "stream",
     "text": [
      "\n"
     ]
    },
    {
     "data": {
      "text/plain": [
       "[0.29569536565757326,\n",
       " 0.25566272889304603,\n",
       " 0.2200096240104907,\n",
       " 0.21705390436049662,\n",
       " 0.19913532882081886,\n",
       " 0.1761123043706127,\n",
       " 0.18162499004679036,\n",
       " 0.1723311495007595,\n",
       " 0.16593335022127867,\n",
       " 0.15674931928950575,\n",
       " 0.15588757104363732]"
      ]
     },
     "execution_count": 140,
     "metadata": {},
     "output_type": "execute_result"
    }
   ],
   "source": [
    "# transition probabilities for harvard\n",
    "# comparison of a system with without filtering, or with noise\n",
    "# compute transition on sessions using the transition probabilities.\n",
    "\n",
    "noises = []\n",
    "system_scores = []\n",
    "\n",
    "mu = 1000\n",
    "\n",
    "for noise in tqdm(range(0, 11, 1)):\n",
    "    noise /= 10\n",
    "    topic_scores = []\n",
    "    topic_scores_ses = []\n",
    "    for topic_id in topics:\n",
    "        num_subtopics = max(topics_to_subtopics_to_queries[topic_id].keys())\n",
    "        dictionary, cl, lengths, inverted_index = get_search_engine(topic_id, noise)\n",
    "        \n",
    "        qrels = get_qrels(topic_id)\n",
    "        # compute metric\n",
    "        probs = []\n",
    "        scores = []\n",
    "        for n in range(10000):\n",
    "            sequence, prob = generate_sequence(num_subtopics)\n",
    "        #sequence_list = get_sequence_list(topic_id, qrels)\n",
    "        #use_pooled_relevance(sequence_list, topics_to_documents_to_subtopics[topic_id])\n",
    "        #for sequence in sequence_list:\n",
    "            #print(sequence)\n",
    "            prob = 0.0\n",
    "            probs.append(prob)\n",
    "            score = 0.0\n",
    "            #ncbp_score = ncbp(sequence, 0.85)\n",
    "            for m, item in enumerate(sequence):\n",
    "                #print(sequence)\n",
    "                #item = (item[0], item[3], item[5], item[1])\n",
    "                subtopic_id = item[1]\n",
    "                is_rel = False\n",
    "                if subtopic_id in topics_to_subtopics_to_queries[topic_id]:\n",
    "                    queries = topics_to_subtopics_to_queries[topic_id][subtopic_id]\n",
    "                    query = queries[choice(range(len(queries)))]\n",
    "                    #query = item[2]\n",
    "\n",
    "                    answer = None\n",
    "                    #print(search(query, dictionary, cl, lengths, inverted_index, mu, 10))\n",
    "                    #print(topics_to_documents_to_subtopics[topic_id])\n",
    "                    for i, a in enumerate(search(query, dictionary, cl, lengths, inverted_index, mu, 100)):\n",
    "                        answer = a\n",
    "                        break\n",
    "                    #print(answer, item[3])\n",
    "                    #answer = (topic_id, item[3]) \n",
    "                    #print(answer)\n",
    "                    is_rel = False\n",
    "                    if answer != None:\n",
    "                        #print(answer[1], subtopic_id, topics_to_documents_to_subtopics[topic_id])\n",
    "                        if answer[1] in topics_to_documents_to_subtopics[topic_id]:\n",
    "                            is_rel = subtopic_id in topics_to_documents_to_subtopics[topic_id][answer[1]]\n",
    "                sequence[m] = (item[0], is_rel, is_rel, item[1], is_rel)\n",
    "\n",
    "                if is_rel:\n",
    "                    score += dd_ncbp(0.85, m)\n",
    "                    #score += dd_cbp_p(1, 0.67, m, sequence)\n",
    "                    #score += dd_cp(sequence)\n",
    "                #print(\"score\", score, m, dd_ncbp(0.85, m), is_rel)\n",
    "            #print(\"comparison\", score, ncbp_score)\n",
    "            scores.append(score)\n",
    "\n",
    "        if scores:\n",
    "            probs = np.array(probs)\n",
    "            scores = np.array(scores)\n",
    "            #topic_score = (scores @ probs) / probs.sum()\n",
    "            topic_score = np.mean(scores)\n",
    "            topic_scores.append((topic_id, topic_score))\n",
    "        else:\n",
    "            topic_scores.append((topic_id, 0.0))\n",
    "        \n",
    "    noises.append(noise)\n",
    "    system_scores.append(np.mean([i[1] for i in topic_scores]))\n",
    "    #print(np.mean([i[1] for i in topic_scores]))\n",
    "        \n",
    "#topic_scores = np.array(topic_scores)\n",
    "system_scores"
   ]
  },
  {
   "cell_type": "code",
   "execution_count": 144,
   "metadata": {},
   "outputs": [
    {
     "name": "stdout",
     "output_type": "stream",
     "text": [
      "KendalltauResult(correlation=-0.9636363636363636, pvalue=5.511463844797178e-07)\n",
      "0.5 0.19965414874681908\n"
     ]
    },
    {
     "data": {
      "image/png": "[encoded data removed]",
      "text/plain": [
       "<Figure size 432x288 with 1 Axes>"
      ]
     },
     "metadata": {
      "needs_background": "light"
     },
     "output_type": "display_data"
    }
   ],
   "source": [
    "x = noises\n",
    "y = system_scores\n",
    "plt.plot(x, y, 'o')\n",
    "print(scipy.stats.kendalltau(x, y))\n",
    "print(np.mean(x), np.mean(y))"
   ]
  },
  {
   "cell_type": "code",
   "execution_count": 33,
   "metadata": {},
   "outputs": [
    {
     "data": {
      "application/vnd.jupyter.widget-view+json": {
       "model_id": "5c9f9f8310b548b0a30e4ee2bcf1b750",
       "version_major": 2,
       "version_minor": 0
      },
      "text/plain": [
       "HBox(children=(FloatProgress(value=0.0, max=11.0), HTML(value='')))"
      ]
     },
     "metadata": {},
     "output_type": "display_data"
    },
    {
     "name": "stdout",
     "output_type": "stream",
     "text": [
      "\n"
     ]
    },
    {
     "data": {
      "text/plain": [
       "[0.3591854622390632,\n",
       " 0.2735331393088124,\n",
       " 0.28210409916669094,\n",
       " 0.24993252441993866,\n",
       " 0.24610763433431007,\n",
       " 0.2324230150996933,\n",
       " 0.22751642701631694,\n",
       " 0.2160870454262183,\n",
       " 0.20483270907722925,\n",
       " 0.20709452313794685,\n",
       " 0.2007289037901028]"
      ]
     },
     "execution_count": 33,
     "metadata": {},
     "output_type": "execute_result"
    }
   ],
   "source": [
    "# transition probabilities for harvard\n",
    "# comparison of a system with without filtering, or with noise\n",
    "# compute transition on sessions using the transition probabilities.\n",
    "\n",
    "noises = []\n",
    "system_scores = []\n",
    "\n",
    "mu = 1000\n",
    "\n",
    "for noise in tqdm(range(0, 11, 1)):\n",
    "    noise /= 10\n",
    "    topic_scores = []\n",
    "    topic_scores_ses = []\n",
    "    for topic_id in topics:\n",
    "        num_subtopics = max(topics_to_subtopics_to_queries[topic_id].keys())\n",
    "        dictionary, cl, lengths, inverted_index = get_search_engine(topic_id, noise)\n",
    "        \n",
    "        transitions_list = get_transitions_list(topic_id)\n",
    "        table = get_transitions_table(num_subtopics, transitions_list, 0.01)\n",
    "\n",
    "        qrels = get_qrels(topic_id)\n",
    "        # compute metric\n",
    "        probs = []\n",
    "        scores = []\n",
    "        for n in range(10000):\n",
    "            sequence, prob = generate_sequence_from_table(num_subtopics, table)\n",
    "        #sequence_list = get_sequence_list(topic_id, qrels)\n",
    "        #use_pooled_relevance(sequence_list, topics_to_documents_to_subtopics[topic_id])\n",
    "        #for sequence in sequence_list:\n",
    "            #print(sequence)\n",
    "            prob = 0.0\n",
    "            probs.append(prob)\n",
    "            score = 0.0\n",
    "            #ncbp_score = ncbp(sequence, 0.85)\n",
    "            for m, item in enumerate(sequence):\n",
    "                #print(sequence)\n",
    "                #item = (item[0], item[3], item[5], item[1])\n",
    "                subtopic_id = item[1]\n",
    "                is_rel = False\n",
    "                if subtopic_id in topics_to_subtopics_to_queries[topic_id]:\n",
    "                    queries = topics_to_subtopics_to_queries[topic_id][subtopic_id]\n",
    "                    query = queries[choice(range(len(queries)))]\n",
    "                    #query = item[2]\n",
    "\n",
    "                    answer = None\n",
    "                    #print(search(query, dictionary, cl, lengths, inverted_index, mu, 10))\n",
    "                    #print(topics_to_documents_to_subtopics[topic_id])\n",
    "                    for i, a in enumerate(search(query, dictionary, cl, lengths, inverted_index, mu, 100)):\n",
    "                        answer = a\n",
    "                        break\n",
    "                    #print(answer, item[3])\n",
    "                    #answer = (topic_id, item[3]) \n",
    "                    #print(answer)\n",
    "                    is_rel = False\n",
    "                    if answer != None:\n",
    "                        #print(answer[1], subtopic_id, topics_to_documents_to_subtopics[topic_id])\n",
    "                        if answer[1] in topics_to_documents_to_subtopics[topic_id]:\n",
    "                            is_rel = subtopic_id in topics_to_documents_to_subtopics[topic_id][answer[1]]\n",
    "                sequence[m] = (item[0], is_rel, is_rel, item[1], is_rel)\n",
    "\n",
    "                if is_rel:\n",
    "                    score += dd_ncbp(0.85, m)\n",
    "                    #score += dd_cbp_p(1, 0.67, m, sequence)\n",
    "                    #score += dd_cp(sequence)\n",
    "                #print(\"score\", score, m, dd_ncbp(0.85, m), is_rel)\n",
    "            #print(\"comparison\", score, ncbp_score)\n",
    "            scores.append(score)\n",
    "\n",
    "        if scores:\n",
    "            probs = np.array(probs)\n",
    "            scores = np.array(scores)\n",
    "            #topic_score = (scores @ probs) / probs.sum()\n",
    "            topic_score = np.mean(scores)\n",
    "            topic_scores.append((topic_id, topic_score))\n",
    "        else:\n",
    "            topic_scores.append((topic_id, 0.0))\n",
    "        \n",
    "    noises.append(noise)\n",
    "    system_scores.append(np.mean([i[1] for i in topic_scores]))\n",
    "    #print(np.mean([i[1] for i in topic_scores]))\n",
    "        \n",
    "#topic_scores = np.array(topic_scores)\n",
    "system_scores"
   ]
  },
  {
   "cell_type": "code",
   "execution_count": 34,
   "metadata": {},
   "outputs": [
    {
     "name": "stdout",
     "output_type": "stream",
     "text": [
      "KendalltauResult(correlation=-0.9272727272727274, pvalue=3.2567740901074234e-06)\n",
      "0.5 0.24541322572875665\n"
     ]
    },
    {
     "data": {
      "image/png": "[encoded data removed]",
      "text/plain": [
       "<Figure size 432x288 with 1 Axes>"
      ]
     },
     "metadata": {
      "needs_background": "light"
     },
     "output_type": "display_data"
    }
   ],
   "source": [
    "x = noises\n",
    "y = system_scores\n",
    "plt.plot(x, y, 'o')\n",
    "print(scipy.stats.kendalltau(x, y))\n",
    "print(np.mean(x), np.mean(y))"
   ]
  },
  {
   "cell_type": "code",
   "execution_count": 104,
   "metadata": {},
   "outputs": [
    {
     "data": {
      "application/vnd.jupyter.widget-view+json": {
       "model_id": "7e58c69eff194388b29358c1fe66faa1",
       "version_major": 2,
       "version_minor": 0
      },
      "text/plain": [
       "HBox(children=(FloatProgress(value=0.0, max=7.0), HTML(value='')))"
      ]
     },
     "metadata": {},
     "output_type": "display_data"
    },
    {
     "name": "stdout",
     "output_type": "stream",
     "text": [
      "\n"
     ]
    },
    {
     "data": {
      "text/plain": [
       "[('1_harvard', 0.5790148921986314),\n",
       " ('2_blackdeath', 0.5242940382868144),\n",
       " ('3_ipcc', 0.5727974690150099),\n",
       " ('5_geology', 0.6035569458059715),\n",
       " ('6_economicinequality', 0.5308108315080482),\n",
       " ('7_immunesystem', 0.657528887902863),\n",
       " ('8_oxygen', 0.624416776021163)]"
      ]
     },
     "execution_count": 104,
     "metadata": {},
     "output_type": "execute_result"
    }
   ],
   "source": [
    "mu = 100\n",
    "noise = 0.0\n",
    "\n",
    "topic_scores = []\n",
    "topic_scores_ses = []\n",
    "for topic_id in tqdm(topics):\n",
    "    num_subtopics = max(topics_to_subtopics_to_queries[topic_id].keys())\n",
    "\n",
    "    dictionary, cl, lengths, inverted_index = get_search_engine(topic_id, noise)\n",
    "\n",
    "    transitions_list = get_transitions_list(topic_id)\n",
    "    table = get_transitions_table(num_subtopics, transitions_list, 0.01)\n",
    "    \n",
    "    # compute metric\n",
    "    probs = []\n",
    "    scores = []\n",
    "    for n in range(5000):\n",
    "        sequence, prob = generate_sequence_from_table(num_subtopics, table)\n",
    "        probs.append(prob)\n",
    "        score = 0.0\n",
    "        for m, item in enumerate(sequence[:-1]):\n",
    "            subtopic_id = item[1]\n",
    "            if subtopic_id in topics_to_subtopics_to_queries[topic_id]:\n",
    "                queries = topics_to_subtopics_to_queries[topic_id][subtopic_id]\n",
    "                query = queries[choice(range(len(queries)))]\n",
    "                answer = search(query, dictionary, cl, lengths, inverted_index, mu)\n",
    "                is_rel = False\n",
    "                if answer != None:\n",
    "                    if answer[1] in topics_to_documents_to_subtopics[topic_id]:\n",
    "                        is_rel = True #subtopic_id in topics_to_documents_to_subtopics[topic_id][answer[1]]\n",
    "                if is_rel:\n",
    "                    score += dd_ncbp(0.85, m)\n",
    "                    #score += dd_cp(sequence)\n",
    "        scores.append(score)\n",
    "\n",
    "    if scores:\n",
    "        probs = np.array(probs)\n",
    "        scores = np.array(scores)\n",
    "        #print(scores @ probs)\n",
    "        #topic_score = (scores @ probs) / probs.sum()\n",
    "        topic_score = np.mean(scores)\n",
    "        topic_scores.append((topic_id, topic_score))\n",
    "    else:\n",
    "        topic_scores.append((topic_id, 0.0))\n",
    "\n",
    "system_scores = sorted(topic_scores)\n",
    "system_scores"
   ]
  },
  {
   "cell_type": "code",
   "execution_count": 107,
   "metadata": {},
   "outputs": [
    {
     "name": "stdout",
     "output_type": "stream",
     "text": [
      "KendalltauResult(correlation=0.05292561240249632, pvalue=0.8738446985173735)\n"
     ]
    },
    {
     "data": {
      "image/png": "[encoded data removed]",
      "text/plain": [
       "<Figure size 432x288 with 1 Axes>"
      ]
     },
     "metadata": {
      "needs_background": "light"
     },
     "output_type": "display_data"
    }
   ],
   "source": [
    "plt.plot([i[1] for i in system_scores], [i[1] for i in ncbp_scores], 'o')\n",
    "print(kendalltau([i[1] for i in system_scores], [i[1] for i in ncbp_scores]))"
   ]
  },
  {
   "cell_type": "code",
   "execution_count": null,
   "metadata": {},
   "outputs": [],
   "source": []
  },
  {
   "cell_type": "code",
   "execution_count": 123,
   "metadata": {},
   "outputs": [
    {
     "data": {
      "application/vnd.jupyter.widget-view+json": {
       "model_id": "2f1fcb5d56554db1b4c6de26a7fc3625",
       "version_major": 2,
       "version_minor": 0
      },
      "text/plain": [
       "HBox(children=(FloatProgress(value=0.0, max=11.0), HTML(value='')))"
      ]
     },
     "metadata": {},
     "output_type": "display_data"
    },
    {
     "name": "stdout",
     "output_type": "stream",
     "text": [
      "\n"
     ]
    },
    {
     "data": {
      "text/plain": [
       "array([0.55629469, 0.55629469, 0.55629469, 0.55629469, 0.55629469,\n",
       "       0.55629469, 0.55629469, 0.55629469, 0.55629469, 0.55629469,\n",
       "       0.55629469])"
      ]
     },
     "execution_count": 123,
     "metadata": {},
     "output_type": "execute_result"
    }
   ],
   "source": [
    "mus = []\n",
    "cbp_system_scores = []\n",
    "cbp_system_score_ses = []\n",
    "cp_system_scores = []\n",
    "cp_system_score_ses = []\n",
    "noises = []\n",
    "mu = 1000\n",
    "#for mu in tqdm(range(0, 10001, 500)):\n",
    "noise = 0.1\n",
    "for noise in tqdm(range(0, 11)):\n",
    "    noise = noise / 10\n",
    "    cbp_topic_scores = []\n",
    "    cbp_topic_scores_ses = []\n",
    "    cp_topic_scores = []\n",
    "    cp_topic_scores_ses = []\n",
    "    for topic_id in topics:\n",
    "        num_subtopics = max(topics_to_subtopics_to_queries[topic_id].keys())\n",
    "        # select documents belonging to the topic\n",
    "        selected_documents = {}\n",
    "        selected_documents[topic_id] = {}\n",
    "        for document_id in documents[topic_id]:\n",
    "            if document_id in topics_to_documents_to_subtopics[topic_id]:\n",
    "                selected_documents[topic_id][document_id] = documents[topic_id][document_id]\n",
    "        \n",
    "        # select random documents\n",
    "        dictionary, cl, lengths, inverted_index = get_search_engine(topic_id, noise)\n",
    "        \n",
    "        transitions_list = get_transitions_list(topic_id)\n",
    "        table = get_transitions_table(num_subtopics, transitions_list)\n",
    "        \n",
    "        # compute metric\n",
    "        probs = []\n",
    "        cbp_scores = []\n",
    "        cp_scores = []\n",
    "        for n in range(5000):\n",
    "            sequence, prob = generate_sequence_from_table(num_subtopics, table)\n",
    "            probs.append(prob)\n",
    "            cbp_score = 0.0\n",
    "            cp_score = 0.0\n",
    "            for m, item in enumerate(sequence[:-1]):\n",
    "                subtopic_id = item[1]\n",
    "                is_rel = False\n",
    "                if subtopic_id in topics_to_subtopics_to_queries[topic_id]:\n",
    "                    queries = topics_to_subtopics_to_queries[topic_id][subtopic_id]\n",
    "                    query = queries[choice(range(len(queries)))]\n",
    "                    answer = search(query, dictionary, cl, lengths, inverted_index, mu)\n",
    "                    is_rel = False\n",
    "                    if answer != None:\n",
    "                        if answer[1] in topics_to_documents_to_subtopics[topic_id]:\n",
    "                            is_rel = subtopic_id in topics_to_documents_to_subtopics[topic_id][answer[1]]\n",
    "                if is_rel:\n",
    "                    cbp_score += dd_ncbp(0.85, m)\n",
    "                    #score += dd_cp(sequence)\n",
    "        cbp_scores.append(score)\n",
    "        \n",
    "        if cbp_scores:\n",
    "            probs = np.array(probs)\n",
    "            cbp_scores = np.array(cbp_scores)\n",
    "            cp_scores = np.array(cp_scores)\n",
    "            #topic_score = (scores @ probs) / probs.sum()\n",
    "            cbp_topic_score = np.mean(cbp_scores)\n",
    "            cbp_topic_score_se = np.std(cbp_scores) / np.sqrt(len(cbp_scores))\n",
    "            cbp_topic_scores.append(cbp_topic_score)\n",
    "            cbp_topic_scores_ses.append(cbp_topic_score_se)\n",
    "            cp_topic_score = np.mean(cp_scores)\n",
    "            cp_topic_score_se = np.std(cp_scores) / np.sqrt(len(cbp_scores))\n",
    "            cp_topic_scores.append(cp_topic_score)\n",
    "            cp_topic_scores_ses.append(cp_topic_score_se)\n",
    "        else:\n",
    "            topic_scores.append(0)\n",
    "        \n",
    "    topic_scores = np.array(topic_scores)\n",
    "    mus.append(mu)\n",
    "    noises.append(noise)\n",
    "    cbp_system_scores.append(np.mean(cbp_topic_scores))    \n",
    "    cbp_system_score_ses = np.std(cbp_topic_scores) / np.sqrt(len(cbp_topic_scores))\n",
    "    cp_system_scores.append(np.mean(cp_topic_scores))    \n",
    "    cp_system_score_ses = np.std(cp_topic_scores) / np.sqrt(len(cp_topic_scores))\n",
    "    \n",
    "cbp_system_scores = np.array(cbp_system_scores)\n",
    "cbp_system_score_ses = np.array(cbp_system_score_ses)\n",
    "cp_system_scores = np.array(cp_system_scores)\n",
    "cp_system_score_ses = np.array(cp_system_score_ses)\n",
    "cbp_system_scores"
   ]
  },
  {
   "cell_type": "code",
   "execution_count": 122,
   "metadata": {},
   "outputs": [
    {
     "data": {
      "text/plain": [
       "[0.0, 0.1, 0.2, 0.3, 0.4, 0.5, 0.6, 0.7, 0.8, 0.9, 1.0]"
      ]
     },
     "execution_count": 122,
     "metadata": {},
     "output_type": "execute_result"
    }
   ],
   "source": [
    "noises"
   ]
  },
  {
   "cell_type": "code",
   "execution_count": 121,
   "metadata": {},
   "outputs": [
    {
     "data": {
      "text/plain": [
       "<matplotlib.collections.PolyCollection at 0x12ab69250>"
      ]
     },
     "execution_count": 121,
     "metadata": {},
     "output_type": "execute_result"
    },
    {
     "data": {
      "image/png": "[encoded data removed]",
      "text/plain": [
       "<Figure size 432x288 with 1 Axes>"
      ]
     },
     "metadata": {
      "needs_background": "light"
     },
     "output_type": "display_data"
    }
   ],
   "source": [
    "plt.ylim(0, 1)\n",
    "plt.plot(noises, cbp_system_scores)\n",
    "plt.fill_between(noises, cbp_system_scores - 1.96 * cbp_system_score_ses, cbp_system_scores + 1.96 * cbp_system_score_ses, color=\"gray\")"
   ]
  },
  {
   "cell_type": "code",
   "execution_count": 15,
   "metadata": {},
   "outputs": [
    {
     "data": {
      "text/plain": [
       "<matplotlib.collections.PolyCollection at 0x12c3ed510>"
      ]
     },
     "execution_count": 15,
     "metadata": {},
     "output_type": "execute_result"
    },
    {
     "data": {
      "image/png": "[encoded data removed]",
      "text/plain": [
       "<Figure size 432x288 with 1 Axes>"
      ]
     },
     "metadata": {
      "needs_background": "light"
     },
     "output_type": "display_data"
    }
   ],
   "source": [
    "plt.ylim(0, 1)\n",
    "plt.plot(noises, system_scores)\n",
    "plt.fill_between(noises, system_scores - 1.96 * system_score_ses, system_scores + 1.96 * system_score_ses, color=\"gray\")"
   ]
  },
  {
   "cell_type": "code",
   "execution_count": 27,
   "metadata": {},
   "outputs": [
    {
     "data": {
      "text/plain": [
       "KendalltauResult(correlation=0.9636363636363636, pvalue=5.511463844797178e-07)"
      ]
     },
     "execution_count": 27,
     "metadata": {},
     "output_type": "execute_result"
    }
   ],
   "source": [
    "kendalltau(cbp_system_scores, cp_system_scores)"
   ]
  },
  {
   "cell_type": "code",
   "execution_count": 28,
   "metadata": {},
   "outputs": [
    {
     "data": {
      "text/plain": [
       "[<matplotlib.lines.Line2D at 0x12abeab50>]"
      ]
     },
     "execution_count": 28,
     "metadata": {},
     "output_type": "execute_result"
    },
    {
     "data": {
      "image/png": "[encoded data removed]",
      "text/plain": [
       "<Figure size 432x288 with 1 Axes>"
      ]
     },
     "metadata": {
      "needs_background": "light"
     },
     "output_type": "display_data"
    }
   ],
   "source": [
    "plt.ylim(0, 1)\n",
    "plt.plot(cbp_system_scores, cp_system_scores)"
   ]
  },
  {
   "cell_type": "code",
   "execution_count": 36,
   "metadata": {},
   "outputs": [
    {
     "data": {
      "text/plain": [
       "[<matplotlib.lines.Line2D at 0x12c419dd0>]"
      ]
     },
     "execution_count": 36,
     "metadata": {},
     "output_type": "execute_result"
    },
    {
     "data": {
      "image/png": "[encoded data removed]",
      "text/plain": [
       "<Figure size 432x288 with 1 Axes>"
      ]
     },
     "metadata": {
      "needs_background": "light"
     },
     "output_type": "display_data"
    }
   ],
   "source": [
    "plt.ylim(0, 1)\n",
    "plt.plot(cbp_system_scores, system_scores)"
   ]
  },
  {
   "cell_type": "code",
   "execution_count": 37,
   "metadata": {},
   "outputs": [
    {
     "data": {
      "text/plain": [
       "KendalltauResult(correlation=0.8909090909090909, pvalue=1.3728555395222063e-05)"
      ]
     },
     "execution_count": 37,
     "metadata": {},
     "output_type": "execute_result"
    }
   ],
   "source": [
    "kendalltau(cbp_system_scores, system_scores)"
   ]
  },
  {
   "cell_type": "markdown",
   "metadata": {},
   "source": [
    "# Transition Probabilities"
   ]
  },
  {
   "cell_type": "code",
   "execution_count": 8,
   "metadata": {},
   "outputs": [
    {
     "data": {
      "text/plain": [
       "array([[0.2       , 0.0019802 , 0.2       , 0.2       , 0.3980198 ,\n",
       "        0.        ],\n",
       "       [0.00485437, 0.49029126, 0.49029126, 0.00485437, 0.00485437,\n",
       "        0.00485437],\n",
       "       [0.00124069, 0.12531017, 0.12531017, 0.37344913, 0.24937965,\n",
       "        0.12531017],\n",
       "       [0.00082919, 0.24958541, 0.49834163, 0.08374793, 0.00082919,\n",
       "        0.16666667],\n",
       "       [0.00141643, 0.28470255, 0.00141643, 0.14305949, 0.42634561,\n",
       "        0.14305949],\n",
       "       [0.11147903, 0.11147903, 0.33222958, 0.11147903, 0.2218543 ,\n",
       "        0.11147903]])"
      ]
     },
     "execution_count": 8,
     "metadata": {},
     "output_type": "execute_result"
    }
   ],
   "source": [
    "topic_id = \"1_harvard\"\n",
    "transitions_list = get_transitions_list(topic_id)\n",
    "num_subtopics = max(topics_to_subtopics_to_queries[topic_id].keys())\n",
    "table = get_transitions_table(num_subtopics, transitions_list, 0.01)\n",
    "to_matrix(table)"
   ]
  },
  {
   "cell_type": "code",
   "execution_count": 14,
   "metadata": {},
   "outputs": [
    {
     "data": {
      "image/png": "[encoded data removed]",
      "text/plain": [
       "<Figure size 432x288 with 1 Axes>"
      ]
     },
     "metadata": {
      "needs_background": "light"
     },
     "output_type": "display_data"
    }
   ],
   "source": [
    "a = to_matrix(table)\n",
    "plt.rc('font', size=13)\n",
    "labels = np.copy(a)\n",
    "labels = np.round_(labels, 2)\n",
    "labels = labels.astype(str)\n",
    "labels[a < 0.01] = \"$\\\\varepsilon$\"\n",
    "labels[a == 0.0] = \"0\"\n",
    "y_axis_labels = [\"s\", \"$t_1$\", \"$t_2$\", \"$t_3$\", \"$t_4$\", \"$t_5$\"]\n",
    "x_axis_labels = [\"$t_1$\", \"$t_2$\", \"$t_3$\", \"$t_4$\", \"$t_5$\", \"$e$\"]\n",
    "ax = sns.heatmap(a, xticklabels=x_axis_labels, yticklabels=y_axis_labels, vmin=0, vmax=0.5, annot=labels, linewidths=.5, fmt = '', cbar = False)\n",
    "ax.xaxis.set_ticks_position('top')\n",
    "plt.savefig(\"heat_map.png\", dpi=300)"
   ]
  },
  {
   "cell_type": "code",
   "execution_count": 15,
   "metadata": {},
   "outputs": [],
   "source": [
    "topic_id = \"1_harvard\"\n",
    "transitions_list = get_transitions_list(topic_id, True)\n",
    "rel_table, irr_table = get_transitions_tables(num_subtopics, transitions_list, 0.01)"
   ]
  },
  {
   "cell_type": "code",
   "execution_count": 16,
   "metadata": {},
   "outputs": [
    {
     "data": {
      "text/plain": [
       "array([[0.        , 0.        , 0.        , 0.        , 0.        ,\n",
       "        0.        ],\n",
       "       [0.00943396, 0.00943396, 0.95283019, 0.00943396, 0.00943396,\n",
       "        0.00943396],\n",
       "       [0.00165017, 0.00165017, 0.00165017, 0.49669967, 0.33168317,\n",
       "        0.16666667],\n",
       "       [0.00124069, 0.24937965, 0.49751861, 0.12531017, 0.00124069,\n",
       "        0.12531017],\n",
       "       [0.00197628, 0.3972332 , 0.00197628, 0.19960474, 0.3972332 ,\n",
       "        0.00197628],\n",
       "       [0.14305949, 0.14305949, 0.28470255, 0.14305949, 0.14305949,\n",
       "        0.14305949]])"
      ]
     },
     "execution_count": 16,
     "metadata": {},
     "output_type": "execute_result"
    }
   ],
   "source": [
    "to_matrix(rel_table)"
   ]
  },
  {
   "cell_type": "code",
   "execution_count": 20,
   "metadata": {},
   "outputs": [
    {
     "data": {
      "image/png": "[encoded data removed]",
      "text/plain": [
       "<Figure size 432x288 with 1 Axes>"
      ]
     },
     "metadata": {
      "needs_background": "light"
     },
     "output_type": "display_data"
    }
   ],
   "source": [
    "a = to_matrix(irr_table)\n",
    "plt.rc('font', size=13)\n",
    "labels = np.copy(a)\n",
    "labels = np.round_(labels, 2)\n",
    "labels = labels.astype(str)\n",
    "labels[a < 0.01] = \"$\\\\varepsilon$\"\n",
    "labels[a == 0.0] = \"0\"\n",
    "y_axis_labels = [\"s\", \"$t_1$\", \"$t_2$\", \"$t_3$\", \"$t_4$\", \"$t_5$\"]\n",
    "x_axis_labels = [\"$t_1$\", \"$t_2$\", \"$t_3$\", \"$t_4$\", \"$t_5$\", \"$e$\"]\n",
    "ax = sns.heatmap(a, xticklabels=x_axis_labels, yticklabels=y_axis_labels, vmin=0, vmax=0.5, annot=labels, linewidths=.5, fmt = '', cbar = False)\n",
    "ax.xaxis.set_ticks_position('top')\n",
    "plt.savefig(\"heat_map_irrel.png\", dpi=300)"
   ]
  },
  {
   "cell_type": "code",
   "execution_count": 19,
   "metadata": {},
   "outputs": [
    {
     "data": {
      "image/png": "[encoded data removed]",
      "text/plain": [
       "<Figure size 432x288 with 1 Axes>"
      ]
     },
     "metadata": {
      "needs_background": "light"
     },
     "output_type": "display_data"
    }
   ],
   "source": [
    "a = to_matrix(rel_table)\n",
    "plt.rc('font', size=13)\n",
    "labels = np.copy(a)\n",
    "labels = np.round_(labels, 2)\n",
    "labels = labels.astype(str)\n",
    "labels[a < 0.01] = \"$\\\\varepsilon$\"\n",
    "labels[a == 0.0] = \"0\"\n",
    "y_axis_labels = [\"s\",\"$t_1$\", \"$t_2$\", \"$t_3$\", \"$t_4$\", \"$t_5$\"]\n",
    "x_axis_labels = [\"$t_1$\", \"$t_2$\", \"$t_3$\", \"$t_4$\", \"$t_5$\", \"$e$\"]\n",
    "ax = sns.heatmap(a, xticklabels=x_axis_labels, yticklabels=y_axis_labels, vmin=0, vmax=0.5, annot=labels, linewidths=.5, fmt = '', cbar=False)\n",
    "ax.xaxis.set_ticks_position('top')\n",
    "plt.savefig(\"heat_map_rel.png\", dpi=300)"
   ]
  },
  {
   "cell_type": "code",
   "execution_count": null,
   "metadata": {},
   "outputs": [],
   "source": []
  }
 ],
 "metadata": {
  "kernelspec": {
   "display_name": "Python 3",
   "language": "python",
   "name": "python3"
  },
  "language_info": {
   "codemirror_mode": {
    "name": "ipython",
    "version": 3
   },
   "file_extension": ".py",
   "mimetype": "text/x-python",
   "name": "python",
   "nbconvert_exporter": "python",
   "pygments_lexer": "ipython3",
   "version": "3.7.6"
  }
 },
 "nbformat": 4,
 "nbformat_minor": 4
}
