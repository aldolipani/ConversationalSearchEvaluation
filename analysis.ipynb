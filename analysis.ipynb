{
 "cells": [
  {
   "cell_type": "code",
   "execution_count": 1,
   "metadata": {
    "pycharm": {
     "is_executing": false,
     "name": "#%%\n"
    }
   },
   "outputs": [],
   "source": [
    "!pip -q install scipy\n",
    "!pip -q install numpy\n",
    "!pip -q install tqdm\n",
    "!pip -q install matplotlib\n",
    "!pip -q install pandas"
   ]
  },
  {
   "cell_type": "code",
   "execution_count": 1,
   "metadata": {
    "pycharm": {
     "is_executing": false
    }
   },
   "outputs": [],
   "source": [
    "import sys\n",
    "import numpy as np\n",
    "import functools \n",
    "import pandas as pd\n",
    "from scipy.stats import kendalltau\n",
    "from collections import defaultdict\n",
    "from utils import *\n",
    "from numpy.random import choice\n",
    "from tqdm.notebook import tqdm\n",
    "import matplotlib.pyplot as plt\n",
    "import scipy.stats\n",
    "\n",
    "np.set_printoptions(precision=3)"
   ]
  },
  {
   "cell_type": "code",
   "execution_count": 2,
   "metadata": {
    "pycharm": {
     "is_executing": false,
     "name": "#%%\n"
    }
   },
   "outputs": [],
   "source": [
    "path_log = './data/log.2.tsv'\n",
    "path_topic = './data/topic.tsv'\n",
    "path_sub_topic = './data/sub_topic.tsv'\n",
    "path_retrievable_paragraph = './data/retrievable_paragraph.tsv'"
   ]
  },
  {
   "cell_type": "code",
   "execution_count": 3,
   "metadata": {
    "pycharm": {
     "is_executing": false
    }
   },
   "outputs": [
    {
     "data": {
      "text/plain": [
       "{1: 'harvard university',\n",
       " 2: 'black death',\n",
       " 3: 'intergovernmental panel on climate change',\n",
       " 4: 'private schools',\n",
       " 5: 'geology',\n",
       " 6: 'economic inequality',\n",
       " 7: 'immune system',\n",
       " 8: 'oxygen',\n",
       " 9: 'normans',\n",
       " 10: 'amazon rainforest',\n",
       " 11: 'european union law'}"
      ]
     },
     "execution_count": 3,
     "metadata": {},
     "output_type": "execute_result"
    }
   ],
   "source": [
    "topics = get_topics(path_topic)\n",
    "\n",
    "topics"
   ]
  },
  {
   "cell_type": "code",
   "execution_count": 4,
   "metadata": {},
   "outputs": [
    {
     "data": {
      "text/plain": [
       "defaultdict(list,\n",
       "            {10: [1, 2, 3, 4, 5],\n",
       "             5: [6, 7, 8, 9, 10, 11],\n",
       "             6: [12, 13, 14, 15, 16, 17],\n",
       "             4: [18, 19, 20, 21, 22, 23, 24, 25, 26, 27],\n",
       "             2: [28, 29, 30, 31, 32],\n",
       "             9: [33, 34, 35, 36],\n",
       "             1: [37, 38, 39, 40, 41],\n",
       "             8: [42, 43, 44, 45, 46, 47, 48, 49, 50],\n",
       "             11: [51, 52, 53, 54, 55, 56, 57, 58, 59, 60],\n",
       "             7: [61, 62, 63, 64, 65, 66],\n",
       "             3: [67, 68, 69, 70, 71, 72]})"
      ]
     },
     "execution_count": 4,
     "metadata": {},
     "output_type": "execute_result"
    }
   ],
   "source": [
    "sub_topics = get_sub_topics(path_sub_topic)\n",
    "\n",
    "sub_topics"
   ]
  },
  {
   "cell_type": "code",
   "execution_count": 5,
   "metadata": {
    "pycharm": {
     "is_executing": false,
     "name": "#%%\n"
    },
    "scrolled": true
   },
   "outputs": [
    {
     "data": {
      "text/plain": [
       "[('A1WH32GYQOHIRQ', 10),\n",
       " ('A12J4IRF5Z06BT', 7),\n",
       " ('A1PTH9KTRO06EG', 7),\n",
       " ('A23TGEQ4CG90PA', 1),\n",
       " ('A3C2X1L5PVNNLV', 7),\n",
       " ('A1HF64TV3AAOK6', 9),\n",
       " ('A2BZY06YRWGEDL', 8),\n",
       " ('A36A780ODXBDEH', 3),\n",
       " ('A1PTH9KTRO06EG', 10),\n",
       " ('A2O2Y99RA9GFUJ', 10),\n",
       " ('A3DCRZTX0HIHBJ', 2),\n",
       " ('ARVO22MUH1FUZ', 6),\n",
       " ('A7O82NXM2PI12', 8),\n",
       " ('A28ZPY6D5AS7GZ', 2),\n",
       " ('A3GITKS8VABUNB', 1),\n",
       " ('A8C3WNWRBWUXO', 4),\n",
       " ('AQOUDUI0O8CI0', 5),\n",
       " ('A1YGF0LJJGB30G', 10),\n",
       " ('A107RJSS561Y7R', 10),\n",
       " ('A2090SRVQLWA3F', 4),\n",
       " ('A3RQR6LM6CHOMQ', 4),\n",
       " ('A2QS8G463BJAUU', 1),\n",
       " ('A1G452MFAS690B', 5),\n",
       " ('A1XWT5Q5HGYR12', 4),\n",
       " ('AWN1PEZWRQSQ9', 10),\n",
       " ('A264ZZ6XZVJMGF', 4),\n",
       " ('A3HCGNV93TJO7R', 3),\n",
       " ('AOJKSAY7L9HX0', 2),\n",
       " ('A30PFSEW4E2ZO8', 10),\n",
       " ('A3JUPCWYN6N6H4', 3),\n",
       " ('AWJUGWPCUGKEG', 3),\n",
       " ('ARVO22MUH1FUZ', 3),\n",
       " ('AABCSDU3TZLNG', 3),\n",
       " ('A2EED3HLTA96CP', 10),\n",
       " ('ADOA6CWS9LA9', 2),\n",
       " ('A3GITKS8VABUNB', 6),\n",
       " ('A1TR615HGENX1M', 4),\n",
       " ('A1XKL37QKFITT1', 5),\n",
       " ('ALV4DAF8DIJ37', 3),\n",
       " ('A2CWNRI11XJ7WX', 3),\n",
       " ('A320QA9HJFUOZO', 6),\n",
       " ('A2T7VIFQS647LC', 5),\n",
       " ('AOWLCXNXCSQAC', 8),\n",
       " ('A36W1S4Z2LSNTC', 2),\n",
       " ('AXQKGVWRFYMM', 2),\n",
       " ('A3J37RP5AZDACH', 7),\n",
       " ('AX3EXSGDXF9ZJ', 11),\n",
       " ('A35UT5CBNL7FTD', 10),\n",
       " ('A16Z9FSSF1X74O', 10),\n",
       " ('A2CTA782EBXUCT', 4),\n",
       " ('A29ZQYDG9Q6TPK', 6),\n",
       " ('ALMAI0EOCZWNM', 4),\n",
       " ('A1UY2W2FL9CWN', 2),\n",
       " ('A1PVBXVZ1L7AN9', 10),\n",
       " ('AA6RYE4V0IBKM', 3),\n",
       " ('A2JTSH1VPJQ8FR', 7),\n",
       " ('A2S64AUN7JI7ZS', 9),\n",
       " ('ATMIFF1CQZR0A', 5),\n",
       " ('A3TT7QV49VCZJ9', 11),\n",
       " ('A31XNLA9REVGXL', 9),\n",
       " ('A1GKD3NG1NNHRP', 10),\n",
       " ('A3PVTAHBV33G82', 2),\n",
       " ('A21D9YDJU8K2QI', 6),\n",
       " ('A2FBP73AQACKZ2', 7),\n",
       " ('A1TCURESP0T0NM', 6),\n",
       " ('A1PKCBFB4QY19G', 3),\n",
       " ('A27A01GJV2BYHN', 8),\n",
       " ('A1BNGJBEWJS8WE', 9),\n",
       " ('A2Q4Z6CADBW6WD', 11),\n",
       " ('AMPMTF5IAAMK8', 10),\n",
       " ('A3UPAXLDS67HKJ', 3),\n",
       " ('A39VVWV1GHLMFD', 6),\n",
       " ('A2AMQX0BQZXG9N', 9),\n",
       " ('A30RAYNDOWQ61S', 4),\n",
       " ('A2B153AHPWHLH1', 9),\n",
       " ('AA9SBG7LNCG8Q', 6),\n",
       " ('ARVO22MUH1FUZ', 10),\n",
       " ('A354IL6K61ZWHP', 9),\n",
       " ('A2W8ZODKKQ7RYP', 1),\n",
       " ('A2V4DP31BEVABF', 5),\n",
       " ('A1PHDT66U6IK4Q', 10),\n",
       " ('A311A0TCGNTFKK', 10),\n",
       " ('A2M55RDN9UDPXJ', 8),\n",
       " ('A3GITKS8VABUNB', 8),\n",
       " ('A3908297ZI3LES', 4),\n",
       " ('A3P7QP6K56ED2Z', 6),\n",
       " ('A36CZ0F88ELFWF', 6),\n",
       " ('A2NXHJ905WLGAA', 9),\n",
       " ('A2T7VIFQS647LC', 11),\n",
       " ('A1PTH9KTRO06EG', 4),\n",
       " ('A2N9U74YIPDQ9F', 7),\n",
       " ('A2S5GPVIUV8RJI', 9),\n",
       " ('A23DLX3K161MH3', 8),\n",
       " ('A1BWS5AD2T4NIR', 11),\n",
       " ('A1P683LTPL4C68', 11),\n",
       " ('A1ESQQT4HBLB52', 6),\n",
       " ('A3GITKS8VABUNB', 2),\n",
       " ('AA6RYE4V0IBKM', 5),\n",
       " ('A1WCRV1WEWA63I', 6),\n",
       " ('A3C0NQ2IP5FTZQ', 11),\n",
       " ('A2IMMQ5AS3ZK78', 2),\n",
       " ('A345VDWYMDWTGD', 4),\n",
       " ('AKTWA4NBCUQMV', 2),\n",
       " ('A2T7VIFQS647LC', 1),\n",
       " ('A39GADIK8RLMVC', 6),\n",
       " ('ANJUS8CJFMNT7', 4),\n",
       " ('A1NCSZCN8EA787', 6),\n",
       " ('A1PTH9KTRO06EG', 1),\n",
       " ('AWKUOA7M4P8YI', 3),\n",
       " ('A2VL807897JLT9', 8),\n",
       " ('A3PIUNG7VXQWTR', 7),\n",
       " ('A3GITKS8VABUNB', 7),\n",
       " ('A3MCGKRH5KEZR8', 3),\n",
       " ('A2JTSH1VPJQ8FR', 3),\n",
       " ('A2C84POENS2UNY', 11),\n",
       " ('A1YGF0LJJGB30G', 8),\n",
       " ('A1AF25FCVKC87X', 6),\n",
       " ('A171UXH8M8F6HS', 8),\n",
       " ('A1BUBB41AO8TZ9', 2),\n",
       " ('AHEEMGVMGEMEQ', 10),\n",
       " ('A339I8W36KWS4Q', 8),\n",
       " ('AERTM9Y12LBNF', 5),\n",
       " ('A2V66KLFVJTLKC', 2),\n",
       " ('A1PTH9KTRO06EG', 2),\n",
       " ('A2R89RXGEVG05I', 10),\n",
       " ('A20X14OMRL0YPZ', 2),\n",
       " ('A3OB6REG5CGHK1', 5),\n",
       " ('A2V4DP31BEVABF', 1),\n",
       " ('A2CTA782EBXUCT', 5),\n",
       " ('A1YGF0LJJGB30G', 2),\n",
       " ('A3GITKS8VABUNB', 4),\n",
       " ('A3JZLYQ606HJJR', 5),\n",
       " ('A1IQUHRI7G63YF', 7),\n",
       " ('AB09F0Q4T10TE', 9),\n",
       " ('A2C84POENS2UNY', 8),\n",
       " ('A3D2GO0IFRFN6R', 5),\n",
       " ('A3P7QP6K56ED2Z', 2),\n",
       " ('A2090SRVQLWA3F', 3),\n",
       " ('A2T7VIFQS647LC', 7),\n",
       " ('A2K08PIXXDQLU0', 7),\n",
       " ('A3C2X1L5PVNNLV', 2),\n",
       " ('A3EZ3BRM1C5WKV', 9),\n",
       " ('A1969Q0R4Y0E3J', 11),\n",
       " ('AWLT46A9EWTK8', 3),\n",
       " ('A38LEVBZ3P5F6T', 4),\n",
       " ('AWJUGWPCUGKEG', 11),\n",
       " ('A3J37RP5AZDACH', 5),\n",
       " ('A3SOVL9RH7YBCX', 5),\n",
       " ('A2Y5I2HJTRFR8H', 4),\n",
       " ('A2RBVMD2HTBCZ9', 4),\n",
       " ('A1RDRK3QTM7U96', 4),\n",
       " ('A39GADIK8RLMVC', 2),\n",
       " ('AMG800JQZGS2E', 9),\n",
       " ('A3H2Y9ZTY867J3', 10),\n",
       " ('AH31QLJ57XC8W', 3),\n",
       " ('AYW62R027PUT1', 2),\n",
       " ('A2T7VIFQS647LC', 8),\n",
       " ('A4CHLWPHZIP7Y', 7),\n",
       " ('A3C2X1L5PVNNLV', 5),\n",
       " ('A1PTH9KTRO06EG', 5),\n",
       " ('A38VMTKS30TQZB', 7),\n",
       " ('A1CC1ESUM2JWJ2', 8),\n",
       " ('A105ZUIAGMN8SW', 10),\n",
       " ('A1MFQBQRNANOD6', 3),\n",
       " ('A1PTH9KTRO06EG', 8),\n",
       " ('A3DSXUOWWOT30T', 1),\n",
       " ('AA5ZDXAA2DLY1', 5),\n",
       " ('A3HFS6Q0TONAB9', 4),\n",
       " ('A3GITKS8VABUNB', 3),\n",
       " ('A2MOC4PTJYY15B', 6),\n",
       " ('A3DCRZTX0HIHBJ', 9),\n",
       " ('A2PBRGT71DUYOY', 10),\n",
       " ('AQOUDUI0O8CI0', 11),\n",
       " ('A2UIGDOLX5RV95', 4),\n",
       " ('A2C84POENS2UNY', 2),\n",
       " ('A3RQR6LM6CHOMQ', 6),\n",
       " ('A7OZPNXIVO1FX', 11),\n",
       " ('AOWLCXNXCSQAC', 5),\n",
       " ('A264ZZ6XZVJMGF', 11),\n",
       " ('A2JW59JRBWUMR2', 6),\n",
       " ('A2ZHBK2MDL2L51', 4),\n",
       " ('A1NCSZCN8EA787', 5),\n",
       " ('A1PTH9KTRO06EG', 6),\n",
       " ('A1UZU88V9BMFT7', 10),\n",
       " ('A2QZ44GE67GNY5', 2),\n",
       " ('A2GLSQQQE9UZA6', 9),\n",
       " ('A1FQK51ECARQNK', 7),\n",
       " ('A1YGF0LJJGB30G', 9),\n",
       " ('AQOUDUI0O8CI0', 6),\n",
       " ('A3VDG4N48AVYGQ', 4),\n",
       " ('A21D9YDJU8K2QI', 1),\n",
       " ('A6KB4VHCZYTY2', 11),\n",
       " ('A125AOX978LDG7', 11),\n",
       " ('A2Q4Z6CADBW6WD', 3),\n",
       " ('A28LJ6540DSBSQ', 8),\n",
       " ('A20MUNY2OLDCLC', 8),\n",
       " ('ASUYD8BPYM85M', 3),\n",
       " ('A1PTH9KTRO06EG', 3),\n",
       " ('A2M6O2Z15SHWDQ', 2),\n",
       " ('A240OTT1T85UGT', 1),\n",
       " ('A34AJIK5VNZQ97', 5),\n",
       " ('A10VYI35ULRJC8', 4),\n",
       " ('ARVO22MUH1FUZ', 2),\n",
       " ('A3GITKS8VABUNB', 5),\n",
       " ('A1RH3X41J9J05R', 6),\n",
       " ('AQOUDUI0O8CI0', 1),\n",
       " ('A2C84POENS2UNY', 4),\n",
       " ('AQ3HYOMBERB6D', 7),\n",
       " ('A24LB89P1BPKKF', 7),\n",
       " ('A3UN1F1EOHKKE6', 4),\n",
       " ('A1LFKPNCX23XN6', 7),\n",
       " ('AK3H5QRAROFGP', 2),\n",
       " ('A1CW0W7Q2NLDDJ', 10),\n",
       " ('A002160837SWJFPIAI7L7', 3),\n",
       " ('A1ODA3Q5H6HTDQ', 3),\n",
       " ('AWJUGWPCUGKEG', 7),\n",
       " ('A3U21PUMQ6NGT2', 2),\n",
       " ('A1IQUHRI7G63YF', 8),\n",
       " ('A22BBAU24IEHPL', 9),\n",
       " ('A30Y3H3UJ9QKWV', 8),\n",
       " ('A3GITKS8VABUNB', 10),\n",
       " ('A2KHMKJUVDMK1N', 10),\n",
       " ('A2DNLHS1RSTF5R', 8),\n",
       " ('A17IHC8O946XPF', 2),\n",
       " ('A1OTY8CU05T9ZN', 8),\n",
       " ('A2CHDWKAYZ3P3E', 3),\n",
       " ('A1PTH9KTRO06EG', 9),\n",
       " ('AWJUGWPCUGKEG', 9),\n",
       " ('A3141EW4WZT4Q0', 4),\n",
       " ('A3BLJ6QSDTZC9U', 8),\n",
       " ('ARVO22MUH1FUZ', 5),\n",
       " ('AZZA3J049G7R5', 3),\n",
       " ('A1ZAY9U4ZP3GDN', 1),\n",
       " ('A1YGF0LJJGB30G', 5),\n",
       " ('A2ESBX4C2Q6TQY', 8),\n",
       " ('A7SXWHGK8B40R', 4),\n",
       " ('A2M55RDN9UDPXJ', 9),\n",
       " ('A1T0S48O0CMXBC', 2),\n",
       " ('A248QG4DPULP46', 10),\n",
       " ('AOWLCXNXCSQAC', 6),\n",
       " ('A3JGSSDEJ0AWTW', 10)]"
      ]
     },
     "execution_count": 5,
     "metadata": {},
     "output_type": "execute_result"
    }
   ],
   "source": [
    "session_ids = get_session_ids(path_log)\n",
    "\n",
    "session_ids"
   ]
  },
  {
   "cell_type": "code",
   "execution_count": 8,
   "metadata": {
    "pycharm": {
     "is_executing": false,
     "name": "#%%\n"
    }
   },
   "outputs": [
    {
     "data": {
      "image/png": "[encoded data removed]",
      "text/plain": [
       "<Figure size 432x288 with 1 Axes>"
      ]
     },
     "metadata": {
      "needs_background": "light"
     },
     "output_type": "display_data"
    }
   ],
   "source": [
    "count_topics_per_user = defaultdict(int)\n",
    "\n",
    "for user, topic in session_ids:\n",
    "    count_topics_per_user[topic] += 1\n",
    "\n",
    "plt.bar(range(len(count_topics_per_user)), list(count_topics_per_user.values()), align='center')\n",
    "plt.xticks(range(len(count_topics_per_user)), list(count_topics_per_user.keys()))\n",
    "\n",
    "plt.show()"
   ]
  },
  {
   "cell_type": "code",
   "execution_count": 9,
   "metadata": {
    "pycharm": {
     "is_executing": false,
     "name": "#%%\n"
    }
   },
   "outputs": [],
   "source": [
    "all_sequences = get_all_sequences(path_log, session_ids)\n",
    "\n",
    "#all_sequences"
   ]
  },
  {
   "cell_type": "code",
   "execution_count": 10,
   "metadata": {
    "pycharm": {
     "name": "#%%\n"
    }
   },
   "outputs": [],
   "source": [
    "def get_transitions(sequence, max_sub_topic, include_rel = False):\n",
    "    transitions = defaultdict(int)\n",
    "    last_sub_topic = -1\n",
    "    for action in sequence:\n",
    "        current_sub_topic = action[0]\n",
    "        sub_topic = action[3]\n",
    "        rel = action[2]\n",
    "        if not include_rel:\n",
    "            transitions[(current_sub_topic, sub_topic)] += 1\n",
    "        else:\n",
    "            transitions[(current_sub_topic, sub_topic, rel)] += 1\n",
    "        last_sub_topic = sub_topic\n",
    "    if not include_rel:\n",
    "        transitions[(last_sub_topic, max_sub_topic + 1)] += 1\n",
    "    else:\n",
    "        transitions[(last_sub_topic, max_sub_topic + 1, rel)] += 1\n",
    "    return transitions\n",
    "\n",
    "def aggregate_transitions(transitions_list):\n",
    "    res = defaultdict(int)\n",
    "    for transitions in transitions_list:\n",
    "        for key in transitions:\n",
    "            res[key] += transitions[key]\n",
    "    return res\n",
    "\n",
    "def normalize_sub_topics(transitions, min_sub_topic):\n",
    "    res = defaultdict(int)\n",
    "    for key in transitions:\n",
    "        if key[0] == 0:\n",
    "            res[(key[0], key[1] - min_sub_topic + 1)] = transitions[key]\n",
    "        else:\n",
    "            res[(key[0] - min_sub_topic + 1, key[1] - min_sub_topic + 1)] = transitions[key]\n",
    "    return res\n",
    "\n",
    "all_transitions = defaultdict(list)\n",
    "for topic in all_sequences.keys():\n",
    "    sequences = all_sequences[topic]\n",
    "    transitions_list = []\n",
    "    for sequence in sequences:\n",
    "        transitions = get_transitions(sequence, max(sub_topics[topic]))\n",
    "        transitions_list.append(transitions)\n",
    "    all_transitions[topic] = normalize_sub_topics(aggregate_transitions(transitions_list), min(sub_topics[topic]))\n",
    "    \n",
    "#all_transitions"
   ]
  },
  {
   "cell_type": "markdown",
   "metadata": {},
   "source": [
    "# Fitting the best Alpha"
   ]
  },
  {
   "cell_type": "code",
   "execution_count": 11,
   "metadata": {},
   "outputs": [
    {
     "data": {
      "text/plain": [
       "array([0.203, 0.165, 0.158, 0.141, 0.115, 0.078, 0.052, 0.033, 0.022,\n",
       "       0.011, 0.008, 0.005, 0.005, 0.003, 0.002])"
      ]
     },
     "execution_count": 11,
     "metadata": {},
     "output_type": "execute_result"
    }
   ],
   "source": [
    "gp = defaultdict(int)\n",
    "for topic in all_sequences:\n",
    "    for sequence in all_sequences[topic]:\n",
    "        for m, _ in enumerate(sequence):\n",
    "            gp[m] += 1\n",
    "\n",
    "ngp = np.array([value for key, value in gp.items()])\n",
    "ngp = ngp / np.sum(ngp)\n",
    "\n",
    "ngp"
   ]
  },
  {
   "cell_type": "code",
   "execution_count": 12,
   "metadata": {},
   "outputs": [
    {
     "name": "stdout",
     "output_type": "stream",
     "text": [
      "1.0 1.0 1.0 0.2030328559393429\n",
      "0.966326530612245 0.8000000000000004 1.0 0.16512215669755687\n",
      "0.9270588235294119 0.6400000000000005 1.0 0.15754001684919966\n",
      "0.883017964071856 0.5120000000000003 1.0 0.14069081718618365\n",
      "0.8331999999999993 0.4095999999999992 1.0 0.11457455770850884\n",
      "0.7605264516129028 0.32768000000000064 1.0 0.07834877843302443\n",
      "0.6639132903225807 0.2621439999999997 1.0 0.05223251895534962\n",
      "0.6115393641025644 0.20971519999999996 1.0 0.03285593934288121\n",
      "0.5413500061538463 0.16777216000000014 1.0 0.02190395956192081\n",
      "0.4360169944615385 0.13421772800000006 1.0 0.010951979780960405\n",
      "0.37397704248888897 0.10737418240000006 1.0 0.007582139848357203\n",
      "0.3099033600000001 0.08589934592000005 1.0 0.005054759898904802\n",
      "0.2649893546666668 0.06871947673600004 1.0 0.005054759898904802\n",
      "0.2643148800000001 0.054975581388800036 1.0 0.003369839932603201\n",
      "0.15099494400000008 0.043980465111040035 1.0 0.0016849199663016006\n"
     ]
    }
   ],
   "source": [
    "# CP\n",
    "\n",
    "def dd_cp():\n",
    "    return 1\n",
    "\n",
    "def d_cp(m): # precision\n",
    "    res = 0.0\n",
    "    n = 0.0\n",
    "    for topic_id, topic in enumerate(topics):\n",
    "        for sequence in all_sequences[topic]:\n",
    "            if m < len(sequence):\n",
    "                res += dd_cp()\n",
    "                n += 1.0\n",
    "    return res/n\n",
    "\n",
    "# CBP\n",
    "\n",
    "def dd_cbp(alpha, m):\n",
    "    return alpha ** m\n",
    "\n",
    "def d_cbp(alpha, m): # cbp\n",
    "    res = 0.0\n",
    "    n = 0.0\n",
    "    for topic_id, topic in enumerate(topics):\n",
    "        for sequence in all_sequences[topic]:\n",
    "            if m < len(sequence):\n",
    "                #norm = 0.0\n",
    "                #for i, _ in enumerate(sequence):\n",
    "                    #norm += dd_cbp(alpha, i)\n",
    "                res += dd_cbp(alpha, m)#/norm\n",
    "                n += 1.0\n",
    "            \n",
    "    return res/n\n",
    "\n",
    "# CBP +\n",
    "\n",
    "def dd_cbp_p(alpha, beta, m, sequence):\n",
    "    res = 1.0\n",
    "    for action in sequence[:m]:\n",
    "        if action[2] == 'relevant':\n",
    "            res *= alpha\n",
    "        else:\n",
    "            res *= beta\n",
    "    for _ in range(m - len(sequence)):\n",
    "        res *= beta\n",
    "    return res\n",
    "\n",
    "def d_cbp_p(alpha, beta, m):\n",
    "    res = 0.0\n",
    "    n = 0.0\n",
    "    for topic_id, topic in enumerate(topics):\n",
    "        for sequence in all_sequences[topic]:\n",
    "            if m < len(sequence):\n",
    "                res += dd_cbp_p(alpha, beta, m, sequence)\n",
    "                n += 1.0\n",
    "    return res/n\n",
    "\n",
    "for i in range(15):\n",
    "    print(d_cbp_p(1.0, 0.8, i), d_cbp(0.8, i), d_cp(i), ngp[i])"
   ]
  },
  {
   "cell_type": "markdown",
   "metadata": {},
   "source": [
    "## Precision@Length Model"
   ]
  },
  {
   "cell_type": "code",
   "execution_count": 13,
   "metadata": {},
   "outputs": [
    {
     "name": "stdout",
     "output_type": "stream",
     "text": [
      "l(TSE) = -2.6560\n",
      "l(TAE) = -0.0849\n",
      "KL = 0.5522\n"
     ]
    }
   ],
   "source": [
    "min_err = sys.float_info.max\n",
    "res = 100\n",
    "M = len(ngp)\n",
    "gt = ngp\n",
    "\n",
    "def tse_cp():\n",
    "    norm = 0.0\n",
    "    for i in range(M):\n",
    "        norm += d_cp(i)\n",
    "    err = 0.0\n",
    "    y_cp = []\n",
    "    for i in range(M):\n",
    "        val = d_cp(i)/norm\n",
    "        y_cp.append(val)\n",
    "        err += (gt[i]-val)**2\n",
    "    return err, y_cp\n",
    "\n",
    "min_err, y_cp = tse_cp()\n",
    "\n",
    "print(\"l(TSE) = {:.4f}\".format(np.log(min_err)))\n",
    "\n",
    "def tae_cp():\n",
    "    norm = 0.0\n",
    "    for i in range(M):\n",
    "        norm += d_cp(i)\n",
    "    err = 0.0\n",
    "    for i in range(M):\n",
    "        val = d_cp(i)/norm\n",
    "        err += abs(gt[i]-val)        \n",
    "    return err\n",
    "\n",
    "print(\"l(TAE) = {:.4f}\".format(np.log(tae_cp())))\n",
    "\n",
    "def kl_cp():\n",
    "    norm = 0.0\n",
    "    for i in range(M):\n",
    "        norm += d_cp(i)\n",
    "    err = 0.0\n",
    "    for i in range(M):\n",
    "        val = d_cp(i)/norm\n",
    "        err += -gt[i] * np.log(val/gt[i])        \n",
    "    return err\n",
    "\n",
    "print(\"KL = {:.4f}\".format(kl_cp()))"
   ]
  },
  {
   "cell_type": "markdown",
   "metadata": {},
   "source": [
    "## Conversational Biased Precision Model"
   ]
  },
  {
   "cell_type": "code",
   "execution_count": 14,
   "metadata": {},
   "outputs": [
    {
     "data": {
      "application/vnd.jupyter.widget-view+json": {
       "model_id": "62cd316f8bb3473d9a17ba888ec8db32",
       "version_major": 2,
       "version_minor": 0
      },
      "text/plain": [
       "HBox(children=(FloatProgress(value=0.0, max=101.0), HTML(value='')))"
      ]
     },
     "metadata": {},
     "output_type": "display_data"
    },
    {
     "name": "stdout",
     "output_type": "stream",
     "text": [
      "\n",
      "a = 0.79\n",
      "l(TSE) = -5.5757\n",
      "l(TAE) = -1.6224\n",
      "KL = 0.0420\n"
     ]
    }
   ],
   "source": [
    "min_err = sys.float_info.max\n",
    "res = 100\n",
    "best_alpha = -1\n",
    "M = len(ngp)\n",
    "gt = ngp\n",
    "\n",
    "y_cbp = []\n",
    "def tse_cbp(a):\n",
    "    y_cbp = []\n",
    "    norm = 0.0\n",
    "    for i in range(M):\n",
    "        norm += d_cbp(a, i)\n",
    "    err = 0.0\n",
    "    for i in range(M):\n",
    "        val = d_cbp(a, i)/norm\n",
    "        y_cbp.append(val)\n",
    "        err += (gt[i]-val)**2\n",
    "    return err, y_cbp\n",
    "\n",
    "for a_i, a in enumerate(tqdm(np.linspace(0, 1, res+1))):        \n",
    "    err, _y_cbp = tse_cbp(a)\n",
    "        \n",
    "    if err < min_err:\n",
    "        min_err = err\n",
    "        best_alpha = a\n",
    "        y_cbp = _y_cbp\n",
    "\n",
    "best_alpha_cbp = best_alpha\n",
    "\n",
    "print(\"a =\", best_alpha) \n",
    "print(\"l(TSE) = {:.4f}\".format(np.log(min_err)))\n",
    "\n",
    "def tae_cbp(a):\n",
    "    norm = 0.0\n",
    "    for i in range(M):\n",
    "        norm += d_cbp(a, i)\n",
    "    err = 0.0\n",
    "    for i in range(M):\n",
    "        val = d_cbp(a, i)/norm\n",
    "        err += abs(gt[i]-val)        \n",
    "    return err\n",
    "\n",
    "print(\"l(TAE) = {:.4f}\".format(np.log(tae_cbp(best_alpha))))\n",
    "\n",
    "def kl_cbp(a):\n",
    "    norm = 0.0\n",
    "    for i in range(M):\n",
    "        norm += d_cbp(a, i)\n",
    "    err = 0.0\n",
    "    for i in range(M):\n",
    "        val = d_cbp(a, i)/norm\n",
    "        err += -gt[i] * np.log(val/gt[i])        \n",
    "    return err\n",
    "\n",
    "print(\"KL = {:.4f}\".format(kl_cbp(best_alpha)))"
   ]
  },
  {
   "cell_type": "markdown",
   "metadata": {},
   "source": [
    "## Conversational Biased Precision + Model"
   ]
  },
  {
   "cell_type": "code",
   "execution_count": 15,
   "metadata": {},
   "outputs": [
    {
     "data": {
      "application/vnd.jupyter.widget-view+json": {
       "model_id": "c6ad40165767447085dd90c2b7333bf4",
       "version_major": 2,
       "version_minor": 0
      },
      "text/plain": [
       "HBox(children=(FloatProgress(value=0.0, max=101.0), HTML(value='')))"
      ]
     },
     "metadata": {},
     "output_type": "display_data"
    },
    {
     "name": "stdout",
     "output_type": "stream",
     "text": [
      "\n",
      "a = 1.0 b = 0.32\n",
      "l(TSE) = -7.5836\n",
      "l(TAE) = -2.6969\n",
      "KL = 0.0169\n"
     ]
    }
   ],
   "source": [
    "min_err = sys.float_info.max\n",
    "res = 100\n",
    "best_alpha = -1\n",
    "best_beta = -1\n",
    "M = len(ngp)\n",
    "gt = ngp\n",
    "\n",
    "y_cbp_p = []\n",
    "def tse_cbp_p(a, b):\n",
    "    y_cbp_p = []\n",
    "    err = 0.0\n",
    "    norm = 0.0\n",
    "    for i in range(M):\n",
    "        norm += d_cbp_p(a, b, i)\n",
    "    for i in range(M):\n",
    "        val = d_cbp_p(a, b, i)/norm\n",
    "        y_cbp_p.append(val)\n",
    "        err += (gt[i]-val)**2\n",
    "    return err, y_cbp_p\n",
    "\n",
    "for a_i, a in enumerate(tqdm(np.linspace(0, 1, 1*res+1))):      \n",
    "    \n",
    "    for b_i, b in enumerate(np.linspace(0, 1, res+1)):        \n",
    "    \n",
    "        err, _y_cbp_p = tse_cbp_p(a, b)\n",
    "\n",
    "        if err < min_err:\n",
    "            min_err = err\n",
    "            best_alpha = a\n",
    "            best_beta = b\n",
    "            y_cbp_p = _y_cbp_p\n",
    "\n",
    "\n",
    "best_alpha_cbp_p = best_alpha\n",
    "best_beta_cbp_p = best_beta\n",
    "\n",
    "print(\"a =\", best_alpha, \"b =\", best_beta)\n",
    "print(\"l(TSE) = {:.4f}\".format(np.log(min_err)))\n",
    "\n",
    "def tae_cbp_p(a, b):\n",
    "    norm = 0.0\n",
    "    for i in range(M):\n",
    "        norm += d_cbp_p(a, b, i)\n",
    "    err = 0.0\n",
    "    for i in range(M):\n",
    "        val = d_cbp_p(a, b, i)/norm\n",
    "        err += abs(gt[i]-val)        \n",
    "    return err\n",
    "\n",
    "print(\"l(TAE) = {:.4f}\".format(np.log(tae_cbp_p(best_alpha, best_beta))))\n",
    "\n",
    "def kl_cbp_p(a, b):\n",
    "    norm = 0.0\n",
    "    for i in range(M):\n",
    "        norm += d_cbp_p(a, b, i)\n",
    "    err = 0.0\n",
    "    for i in range(M):\n",
    "        val = d_cbp_p(a, b, i)/norm\n",
    "        err += -gt[i] * np.log(val/gt[i])        \n",
    "    return err\n",
    "\n",
    "print(\"KL = {:.4f}\".format(kl_cbp_p(best_alpha, best_beta)))"
   ]
  },
  {
   "cell_type": "code",
   "execution_count": 16,
   "metadata": {},
   "outputs": [
    {
     "data": {
      "image/png": "[encoded data removed]",
      "text/plain": [
       "<Figure size 432x288 with 1 Axes>"
      ]
     },
     "metadata": {
      "needs_background": "light"
     },
     "output_type": "display_data"
    }
   ],
   "source": [
    "x = np.arange(M)\n",
    "\n",
    "bar_width = 0.20\n",
    "\n",
    "plt.bar(x-bar_width*1, y_cp, width = bar_width, color='#E69F00', align='center', label='P')\n",
    "plt.bar(x+bar_width*0, y_cbp, width = bar_width, color='#56B4E9', align='center', label='CBP')\n",
    "plt.bar(x+bar_width*1, y_cbp_p, width = bar_width, color='#009E73', align='center', label=\"CBP$^{+}$\")\n",
    "plt.bar(x+bar_width*2, gt, width = bar_width, color='black', align='center', label=\"Observed\")\n",
    "\n",
    "#plt.rc('font', size=13)\n",
    "plt.ylabel('$P(\\\\mathcal{Q})$')\n",
    "plt.xlabel('$m$')\n",
    "\n",
    "plt.legend()\n",
    "plt.savefig(\"probability_of_querying.png\", dpi=300)"
   ]
  },
  {
   "cell_type": "markdown",
   "metadata": {},
   "source": [
    "# Condition Probability Analysis\n",
    "\n",
    "## Same vs Other Topic"
   ]
  },
  {
   "cell_type": "code",
   "execution_count": 17,
   "metadata": {},
   "outputs": [
    {
     "name": "stdout",
     "output_type": "stream",
     "text": [
      "same | not_rel 0.3386454183266932\n",
      "different | not_rel 0.6613545816733067\n",
      "different | rel 0.8805755395683453\n",
      "same | rel 0.11942446043165468\n"
     ]
    }
   ],
   "source": [
    "probs = defaultdict(int)\n",
    "transitions_tables = {}\n",
    "for topic_id, topic in enumerate(topics):\n",
    "    sequences = all_sequences[topic]\n",
    "    \n",
    "    for sequence in sequences:\n",
    "        #print(sequence)\n",
    "        prev_item = sequence[0]\n",
    "        for item in sequence[1:]:\n",
    "            if prev_item[2] == 'relevant':\n",
    "                if item[3] == prev_item[3]:\n",
    "                    #print(\"rel, same topic\")\n",
    "                    probs[\"same | rel\"] += 1\n",
    "                else:\n",
    "                    #print(\"rel, different\")\n",
    "                    probs[\"different | rel\"] += 1\n",
    "            else:\n",
    "                if item[3] == prev_item[3]:\n",
    "                    #print(\"not_rel, same\")\n",
    "                    probs[\"same | not_rel\"] += 1\n",
    "                else:\n",
    "                    #print(\"not_rel, different\")\n",
    "                    probs[\"different | not_rel\"] += 1\n",
    "            prev_item = item\n",
    "    \n",
    "norm_rel = sum([value for key, value in probs.items() if \"not_rel\" not in  key])\n",
    "norm_not_rel = sum([value for key, value in probs.items() if \"not_rel\" in  key])\n",
    "\n",
    "for key, value in probs.items():\n",
    "    if \"not_rel\" not in key:\n",
    "        print(key, value / norm_rel)\n",
    "        probs[key] = value/norm_rel\n",
    "    else: \n",
    "        print(key, value / norm_not_rel)\n",
    "        probs[key] = value/norm_not_rel"
   ]
  },
  {
   "cell_type": "code",
   "execution_count": 18,
   "metadata": {},
   "outputs": [
    {
     "data": {
      "image/png": "[encoded data removed]",
      "text/plain": [
       "<Figure size 432x288 with 1 Axes>"
      ]
     },
     "metadata": {
      "needs_background": "light"
     },
     "output_type": "display_data"
    }
   ],
   "source": [
    "x = ['same | not_rel', 'same | rel', 'different | not_rel', 'different | rel']\n",
    "\n",
    "bar_width = 0.20\n",
    "\n",
    "y = [probs['same | not_rel'], probs['same | rel'], probs['different | not_rel'], probs['different | rel']]\n",
    "\n",
    "plt.bar(x, y, width = bar_width, color='#E69F00', align='center')\n",
    "\n",
    "#plt.rc('font', size=13)\n",
    "plt.ylabel('$P$')\n",
    "\n",
    "#plt.savefig(\"probability_of_querying.png\", dpi=300)\n",
    "plt.show()"
   ]
  },
  {
   "cell_type": "markdown",
   "metadata": {},
   "source": [
    "## Influence of a Relevant Document to the next Subtopic"
   ]
  },
  {
   "cell_type": "code",
   "execution_count": 20,
   "metadata": {},
   "outputs": [],
   "source": [
    "# from users\n",
    "# topic -> sub_topic -> paragraphs\n",
    "qrels_users = {}\n",
    "\n",
    "for topic in sub_topics:\n",
    "    for sequence in all_sequences[topic]:\n",
    "        for action in sequence:\n",
    "            paragraph = action[1]\n",
    "            rel = action[2]\n",
    "            sub_topic = action[3]\n",
    "            if rel == 'relevant':\n",
    "                if topic not in qrels_users:\n",
    "                    qrels_users[topic] = {}\n",
    "                if sub_topic not in qrels_users[topic]:\n",
    "                    qrels_users[topic][sub_topic] = set()\n",
    "                qrels_users[topic][sub_topic].add(paragraph)\n",
    "\n",
    "#qrels_users"
   ]
  },
  {
   "cell_type": "code",
   "execution_count": 21,
   "metadata": {},
   "outputs": [],
   "source": [
    "# topic -> sub_topic -> paragraphs\n",
    "qrels = defaultdict(dict)\n",
    "\n",
    "sub_topic_to_paragraph = defaultdict(set)\n",
    "with open(path_retrievable_paragraph) as f:\n",
    "    for line in f.readlines()[1:]:\n",
    "        items = line.split('\\t')\n",
    "        sub_topic = int(items[0])\n",
    "        paragraph = int(items[1])\n",
    "        sub_topic_to_paragraph[sub_topic].add(paragraph)\n",
    "\n",
    "sub_topics = get_sub_topics(path_sub_topic)\n",
    "\n",
    "for topic in sub_topics:\n",
    "    for sub_topic in sub_topics[topic]:\n",
    "        qrels[topic][sub_topic] = sub_topic_to_paragraph[sub_topic]\n",
    "\n",
    "#qrels"
   ]
  },
  {
   "cell_type": "code",
   "execution_count": 22,
   "metadata": {},
   "outputs": [
    {
     "name": "stdout",
     "output_type": "stream",
     "text": [
      "35 316 0.11075949367088607\n"
     ]
    }
   ],
   "source": [
    "#P(of quering a sub_topic to which the examined document belongs | current doc is relevant to the current query and the queried sub_topic)\n",
    "\n",
    "def get_rel_sub_topics(document, topic):\n",
    "    rel_sub_topics = set()\n",
    "    for sub_topic in qrels_users[topic]:\n",
    "        if document in qrels_users[topic][sub_topic]:\n",
    "            rel_sub_topics.add(sub_topic)\n",
    "    return rel_sub_topics\n",
    "\n",
    "probs = defaultdict(int)\n",
    "\n",
    "num = 0\n",
    "den = 0\n",
    "for topic in topics:\n",
    "    sequences = all_sequences[topic]\n",
    "    for sequence in sequences:\n",
    "        prev_action = sequence[0]\n",
    "        for action in sequence[1:]:\n",
    "            rel_sub_topics = get_rel_sub_topics(prev_action[1], topic)\n",
    "            if prev_action[2] == 'relevant' and prev_action[1] != action[1] and len(rel_sub_topics) > 1:\n",
    "                #print(prev_action, action, get_rel_sub_topics(prev_action[1], topic))\n",
    "                if action[3] in rel_sub_topics:\n",
    "                    num += 1\n",
    "                den += 1\n",
    "            prev_action = action\n",
    "            \n",
    "print(num, den, num/den)"
   ]
  },
  {
   "cell_type": "markdown",
   "metadata": {},
   "source": [
    "## How many times our qrels agree with the user relevance?"
   ]
  },
  {
   "cell_type": "code",
   "execution_count": 23,
   "metadata": {},
   "outputs": [
    {
     "name": "stdout",
     "output_type": "stream",
     "text": [
      "FP 0.2928118393234672\n",
      "TP 0.7071881606765328\n",
      "946\n",
      "0.7071881606765328\n"
     ]
    }
   ],
   "source": [
    "probs = defaultdict(int)\n",
    "transitions_tables = {}\n",
    "\n",
    "for topic in topics:\n",
    "    sequences = all_sequences[topic]\n",
    "    for sequence in sequences:\n",
    "        for action in sequence[1:]:\n",
    "            #print(action)\n",
    "            if action[2] == 'relevant':\n",
    "                probs[\"TP\"] += 1\n",
    "            else:\n",
    "                probs[\"FP\"] += 1\n",
    "            \n",
    "norm = sum(probs.values())\n",
    "for key, value in probs.items():\n",
    "    print(key, value / norm)\n",
    "print(norm)\n",
    "\n",
    "print(probs[\"TP\"]/norm)"
   ]
  },
  {
   "cell_type": "markdown",
   "metadata": {},
   "source": [
    "# Correlation Analysis (CBS score vs Satisfaction)"
   ]
  },
  {
   "cell_type": "code",
   "execution_count": 53,
   "metadata": {},
   "outputs": [],
   "source": [
    "\n",
    "# CP\n",
    "\n",
    "def dd_cp(alpha, m, l):\n",
    "    return 1\n",
    "\n",
    "def ncp(sequence):\n",
    "    res = 0.0\n",
    "    for action in sequence:\n",
    "        if action[2] == 'relevant':\n",
    "            res += dd_cp(None, None, None)\n",
    "    return res/len(sequence)\n",
    "\n",
    "def get_ncp_list(sequences):\n",
    "    res = []\n",
    "    for sequence in sequences:\n",
    "        res.append(ncp(sequence))\n",
    "    return res\n",
    "\n",
    "# CBP\n",
    "\n",
    "def dd_cbp(alpha, m, l = None):\n",
    "    return alpha ** m\n",
    "\n",
    "def dd_ncbp(alpha, m, l):\n",
    "    norm = 0.0\n",
    "    for i in range(l):\n",
    "        norm += dd_cbp(alpha, i, l)\n",
    "    return dd_cbp(alpha, m, l) / norm\n",
    "\n",
    "def ncbp(sequence, alpha):\n",
    "    res = 0.0\n",
    "    for m, action in enumerate(sequence):\n",
    "        if action[2] == 'relevant':\n",
    "            res += dd_ncbp(alpha, m, len(sequence))\n",
    "    return res\n",
    "\n",
    "def get_ncbp_list(sequences, alpha):\n",
    "    res = []\n",
    "    for sequence in sequences:\n",
    "        res.append(ncbp(sequence, alpha))\n",
    "    return res\n",
    "\n",
    "# CBP +\n",
    "\n",
    "def dd_ncbp_p(alpha, beta, m, sequence):\n",
    "    res = 1.0\n",
    "    for action in sequence[:m]:\n",
    "        if action[2] == 'relevant':\n",
    "            res *= alpha\n",
    "        else:\n",
    "            res *= beta\n",
    "    norm = 0.0\n",
    "    for i in range(len(sequence)):\n",
    "        norm += dd_cbp(alpha, i)\n",
    "    return res/norm\n",
    "\n",
    "def ncbp_p(sequence, alpha, beta):\n",
    "    res = 0.0\n",
    "    for m, action in enumerate(sequence):\n",
    "        if action[2] == 'relevant':\n",
    "            res += dd_ncbp_p(alpha, beta, m, sequence)\n",
    "    return res\n",
    "\n",
    "def get_ncbp_p_list(sequences, alpha, beta):\n",
    "    res = []\n",
    "    for sequence in sequences:\n",
    "        res.append(ncbp_p(sequence, alpha, beta))\n",
    "    return res"
   ]
  },
  {
   "cell_type": "code",
   "execution_count": 68,
   "metadata": {},
   "outputs": [
    {
     "name": "stdout",
     "output_type": "stream",
     "text": [
      "1.0 0.32\n",
      "0.79\n"
     ]
    }
   ],
   "source": [
    "ncbp_p_scores = []\n",
    "ncbp_scores = []\n",
    "ncp_scores = []\n",
    "\n",
    "print(best_alpha_cbp_p, best_beta_cbp_p)\n",
    "print(best_alpha_cbp)\n",
    "\n",
    "for topic in topics:\n",
    "    sequences = all_sequences[topic]\n",
    "    if(len(sequences) > 0):\n",
    "        ncbp_p_scores.append((topic, get_ncbp_p_list(sequences, best_alpha_cbp_p, best_beta_cbp_p)))\n",
    "        ncbp_scores.append((topic, get_ncbp_list(sequences, best_alpha_cbp)))\n",
    "        ncp_scores.append((topic, get_ncp_list(sequences)))\n",
    "    \n",
    "#ncbp_p_scores, ncbp_scores, ncp_scores"
   ]
  },
  {
   "cell_type": "code",
   "execution_count": 87,
   "metadata": {},
   "outputs": [],
   "source": [
    "# new version\n",
    "def get_satisfaction(lines):\n",
    "    reg_exp = RegExp()\n",
    "    satisfaction = None\n",
    "    for line in lines:\n",
    "        items = line.split('\\t')\n",
    "        content = items[2]\n",
    "        if reg_exp.get(r'user is (.+)', content):\n",
    "            satisfaction = reg_exp.res\n",
    "    return satisfaction\n",
    "\n",
    "# new\n",
    "def get_all_satisfactions(path_log, session_ids):\n",
    "    res = defaultdict(list)\n",
    "    for session_id in session_ids:\n",
    "        selected_lines = []\n",
    "        with open(path_log) as f:\n",
    "            for line in f.readlines()[1:]:\n",
    "                items = line.split('\\t')\n",
    "                user = items[3].strip()\n",
    "                topic = int(items[4].strip())\n",
    "                if user == session_id[0] and topic == session_id[1]:\n",
    "                    selected_lines.append(line)\n",
    "\n",
    "        satisfaction = get_satisfaction(selected_lines)\n",
    "        res[session_id[1]].append(satisfaction)\n",
    "    return res\n",
    "\n",
    "all_satisfactions = get_all_satisfactions(path_log, session_ids)\n",
    "\n",
    "satisfaction_scores = []\n",
    "for topic in topics:\n",
    "    satisfactions = all_satisfactions[topic]\n",
    "    if len(satisfactions) > 0:\n",
    "        satisfaction_score = []\n",
    "        for satisfaction in satisfactions:\n",
    "            if satisfaction == 'satisfied':\n",
    "                #satisfaction_score += 1\n",
    "        #satisfaction_score /= len(satisfactions)\n",
    "                satisfaction_score.append(1.0)\n",
    "            else:\n",
    "                satisfaction_score.append(0.0)\n",
    "        satisfaction_scores.append((topic, satisfaction_score))\n",
    "        \n",
    "satisfaction_scores = sorted(satisfaction_scores)\n",
    "#satisfaction_scores"
   ]
  },
  {
   "cell_type": "code",
   "execution_count": 78,
   "metadata": {},
   "outputs": [
    {
     "name": "stdout",
     "output_type": "stream",
     "text": [
      "CBP+ KendalltauResult(correlation=0.6482593132545565, pvalue=0.006117582447622464)\n",
      "CBP KendalltauResult(correlation=0.7223460919122202, pvalue=0.002252739154933953)\n",
      "P KendalltauResult(correlation=0.6853027025833884, pvalue=0.0037547436251961193)\n",
      "CBP+ SpearmanrResult(correlation=0.7625650275119625, pvalue=0.006350520569425186)\n",
      "CBP SpearmanrResult(correlation=0.831058892258546, pvalue=0.0015265983452635986)\n",
      "P SpearmanrResult(correlation=0.8173601193092295, pvalue=0.002123165628965581)\n",
      "CBP+ (0.895775045068781, 0.00019150677188840314)\n",
      "CBP (0.8808739887980555, 0.0003417224415667421)\n",
      "P (0.9157449250833796, 7.57466248948151e-05)\n"
     ]
    }
   ],
   "source": [
    "def unpack(l):\n",
    "    return [np.mean(i[1]) for i in l]\n",
    "    #return functools.reduce(list.__add__, [i[1] for i in l])\n",
    "\n",
    "print(\"CBP+\", scipy.stats.kendalltau(unpack(ncbp_p_scores), unpack(satisfaction_scores)))\n",
    "print(\"CBP\", scipy.stats.kendalltau(unpack(ncbp_scores), unpack(satisfaction_scores)))\n",
    "print(\"P\", scipy.stats.kendalltau(unpack(ncp_scores), unpack(satisfaction_scores)))\n",
    "\n",
    "print(\"CBP+\", scipy.stats.spearmanr(unpack(ncbp_p_scores), unpack(satisfaction_scores)))\n",
    "print(\"CBP\", scipy.stats.spearmanr(unpack(ncbp_scores), unpack(satisfaction_scores)))\n",
    "print(\"P\", scipy.stats.spearmanr(unpack(ncp_scores), unpack(satisfaction_scores)))\n",
    "\n",
    "print(\"CBP+\", scipy.stats.pearsonr(unpack(ncbp_p_scores), unpack(satisfaction_scores)))\n",
    "print(\"CBP\", scipy.stats.pearsonr(unpack(ncbp_scores), unpack(satisfaction_scores)))\n",
    "print(\"P\", scipy.stats.pearsonr(unpack(ncp_scores), unpack(satisfaction_scores)))"
   ]
  },
  {
   "cell_type": "code",
   "execution_count": 83,
   "metadata": {},
   "outputs": [
    {
     "name": "stdout",
     "output_type": "stream",
     "text": [
      "KendalltauResult(correlation=0.8181818181818182, pvalue=0.00013227513227513228)\n"
     ]
    },
    {
     "data": {
      "image/png": "[encoded data removed]",
      "text/plain": [
       "<Figure size 432x288 with 1 Axes>"
      ]
     },
     "metadata": {
      "needs_background": "light"
     },
     "output_type": "display_data"
    }
   ],
   "source": [
    "plt.plot(unpack(ncbp_p_scores), unpack(ncp_scores), 'o', color='black')\n",
    "\n",
    "plt.xlabel('CBP$^+$')\n",
    "plt.ylabel('P')\n",
    "\n",
    "plt.savefig(\"CBP_P_vs_P.png\", dpi=300)\n",
    "print(scipy.stats.kendalltau(unpack(ncbp_p_scores), unpack(ncp_scores)))"
   ]
  },
  {
   "cell_type": "code",
   "execution_count": 85,
   "metadata": {},
   "outputs": [
    {
     "name": "stdout",
     "output_type": "stream",
     "text": [
      "KendalltauResult(correlation=0.8909090909090909, pvalue=1.3728555395222063e-05)\n"
     ]
    },
    {
     "data": {
      "image/png": "[encoded data removed]",
      "text/plain": [
       "<Figure size 432x288 with 1 Axes>"
      ]
     },
     "metadata": {
      "needs_background": "light"
     },
     "output_type": "display_data"
    }
   ],
   "source": [
    "plt.plot(unpack(ncbp_scores), unpack(ncp_scores), 'o', color='black')\n",
    "\n",
    "plt.xlabel('CBP')\n",
    "plt.ylabel('P')\n",
    "\n",
    "plt.savefig(\"CBP_vs_P.png\", dpi=300)\n",
    "print(scipy.stats.kendalltau(unpack(ncbp_scores), unpack(ncp_scores)))"
   ]
  },
  {
   "cell_type": "code",
   "execution_count": 86,
   "metadata": {},
   "outputs": [
    {
     "name": "stdout",
     "output_type": "stream",
     "text": [
      "KendalltauResult(correlation=0.7818181818181819, pvalue=0.0003334435626102293)\n"
     ]
    },
    {
     "data": {
      "image/png": "[encoded data removed]",
      "text/plain": [
       "<Figure size 432x288 with 1 Axes>"
      ]
     },
     "metadata": {
      "needs_background": "light"
     },
     "output_type": "display_data"
    }
   ],
   "source": [
    "plt.plot(unpack(ncbp_p_scores), unpack(ncbp_scores), 'o', color='black')\n",
    "\n",
    "plt.xlabel('CBP$^+$')\n",
    "plt.ylabel('CBP')\n",
    "\n",
    "plt.savefig(\"CBP_P_vs_CBP.png\", dpi=300)\n",
    "print(scipy.stats.kendalltau(unpack(ncbp_p_scores), unpack(ncbp_scores)))"
   ]
  },
  {
   "cell_type": "code",
   "execution_count": null,
   "metadata": {},
   "outputs": [],
   "source": []
  },
  {
   "cell_type": "code",
   "execution_count": null,
   "metadata": {},
   "outputs": [],
   "source": []
  },
  {
   "cell_type": "code",
   "execution_count": null,
   "metadata": {},
   "outputs": [],
   "source": []
  },
  {
   "cell_type": "code",
   "execution_count": null,
   "metadata": {},
   "outputs": [],
   "source": []
  },
  {
   "cell_type": "code",
   "execution_count": null,
   "metadata": {},
   "outputs": [],
   "source": []
  },
  {
   "cell_type": "code",
   "execution_count": null,
   "metadata": {},
   "outputs": [],
   "source": []
  },
  {
   "cell_type": "code",
   "execution_count": null,
   "metadata": {},
   "outputs": [],
   "source": []
  },
  {
   "cell_type": "code",
   "execution_count": null,
   "metadata": {},
   "outputs": [],
   "source": []
  },
  {
   "cell_type": "code",
   "execution_count": null,
   "metadata": {},
   "outputs": [],
   "source": []
  },
  {
   "cell_type": "code",
   "execution_count": null,
   "metadata": {},
   "outputs": [],
   "source": []
  },
  {
   "cell_type": "code",
   "execution_count": null,
   "metadata": {},
   "outputs": [],
   "source": []
  },
  {
   "cell_type": "code",
   "execution_count": null,
   "metadata": {},
   "outputs": [],
   "source": []
  }
 ],
 "metadata": {
  "kernelspec": {
   "display_name": "Python 3",
   "language": "python",
   "name": "python3"
  },
  "language_info": {
   "codemirror_mode": {
    "name": "ipython",
    "version": 3
   },
   "file_extension": ".py",
   "mimetype": "text/x-python",
   "name": "python",
   "nbconvert_exporter": "python",
   "pygments_lexer": "ipython3",
   "version": "3.7.6"
  },
  "pycharm": {
   "stem_cell": {
    "cell_type": "raw",
    "metadata": {
     "collapsed": false
    },
    "source": []
   }
  }
 },
 "nbformat": 4,
 "nbformat_minor": 4
}
