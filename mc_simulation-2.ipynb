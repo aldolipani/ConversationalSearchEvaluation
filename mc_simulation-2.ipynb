{
 "cells": [
  {
   "cell_type": "code",
   "execution_count": 1,
   "metadata": {},
   "outputs": [],
   "source": [
    "import json\n",
    "import numpy as np\n",
    "import numpy.random as random\n",
    "import matplotlib.pyplot as plt\n",
    "from scipy.stats import *\n",
    "from collections import defaultdict\n",
    "from utils import *\n",
    "from search_engine import *\n",
    "from numpy.random import choice\n",
    "from tqdm.notebook import tqdm\n",
    "\n",
    "np.set_printoptions(precision=3)"
   ]
  },
  {
   "cell_type": "code",
   "execution_count": 2,
   "metadata": {},
   "outputs": [],
   "source": [
    "path_log = './data/log.2.tsv'\n",
    "path_topic = './data/topic.tsv'\n",
    "path_sub_topic = './data/sub_topic.tsv'\n",
    "path_retrievable_paragraph = './data/retrievable_paragraph.tsv'"
   ]
  },
  {
   "cell_type": "code",
   "execution_count": 3,
   "metadata": {},
   "outputs": [],
   "source": [
    "session_ids = get_session_ids(path_log)\n",
    "all_sequences = get_all_sequences(path_log, session_ids)"
   ]
  },
  {
   "cell_type": "code",
   "execution_count": 4,
   "metadata": {},
   "outputs": [
    {
     "data": {
      "text/plain": [
       "{1: 'harvard university',\n",
       " 2: 'black death',\n",
       " 3: 'intergovernmental panel on climate change',\n",
       " 4: 'private schools',\n",
       " 5: 'geology',\n",
       " 6: 'economic inequality',\n",
       " 7: 'immune system',\n",
       " 8: 'oxygen',\n",
       " 9: 'normans',\n",
       " 10: 'amazon rainforest',\n",
       " 11: 'european union law'}"
      ]
     },
     "execution_count": 4,
     "metadata": {},
     "output_type": "execute_result"
    }
   ],
   "source": [
    "topics = get_topics(path_topic)\n",
    "\n",
    "topics"
   ]
  },
  {
   "cell_type": "code",
   "execution_count": 5,
   "metadata": {},
   "outputs": [],
   "source": [
    "# topic -> sub_topic -> queries\n",
    "all_queries = {}\n",
    "\n",
    "for topic in all_sequences:\n",
    "    \n",
    "    queries = defaultdict(list)\n",
    "    for sequence in all_sequences[topic]:\n",
    "        for action in sequence:\n",
    "            sub_topic = action[3]\n",
    "            query = action[4]\n",
    "            queries[sub_topic].append(query)\n",
    "    \n",
    "    all_queries[topic] = queries\n",
    "\n",
    "#all_queries"
   ]
  },
  {
   "cell_type": "code",
   "execution_count": 6,
   "metadata": {},
   "outputs": [],
   "source": [
    "# topic -> sub_topic -> paragraphs\n",
    "qrels = defaultdict(dict)\n",
    "\n",
    "sub_topic_to_paragraph = defaultdict(set)\n",
    "with open(path_retrievable_paragraph) as f:\n",
    "    for line in f.readlines()[1:]:\n",
    "        items = line.split('\\t')\n",
    "        sub_topic = int(items[0])\n",
    "        paragraph = int(items[1])\n",
    "        sub_topic_to_paragraph[sub_topic].add(paragraph)\n",
    "\n",
    "sub_topics = get_sub_topics(path_sub_topic)\n",
    "\n",
    "for topic in sub_topics:\n",
    "    for sub_topic in sub_topics[topic]:\n",
    "        qrels[topic][sub_topic] = sub_topic_to_paragraph[sub_topic]\n",
    "\n",
    "#qrels"
   ]
  },
  {
   "cell_type": "code",
   "execution_count": 7,
   "metadata": {},
   "outputs": [],
   "source": [
    "# from users\n",
    "# topic -> sub_topic -> paragraphs\n",
    "qrels_users = {}\n",
    "\n",
    "for topic in sub_topics:\n",
    "    for sequence in all_sequences[topic]:\n",
    "        for action in sequence:\n",
    "            paragraph = action[1]\n",
    "            rel = action[2]\n",
    "            sub_topic = action[3]\n",
    "            if rel == 'relevant':\n",
    "                if topic not in qrels_users:\n",
    "                    qrels_users[topic] = {}\n",
    "                if sub_topic not in qrels_users[topic]:\n",
    "                    qrels_users[topic][sub_topic] = set()\n",
    "                qrels_users[topic][sub_topic].add(paragraph)\n",
    "\n",
    "#qrels_users"
   ]
  },
  {
   "cell_type": "code",
   "execution_count": null,
   "metadata": {},
   "outputs": [],
   "source": []
  },
  {
   "cell_type": "code",
   "execution_count": 8,
   "metadata": {},
   "outputs": [],
   "source": [
    "# from users\n",
    "# topic -> sub_topic -> paragraphs\n",
    "qrels_users = {}\n",
    "\n",
    "for topic in sub_topics:\n",
    "    for sequence in all_sequences[topic]:\n",
    "        for action in sequence:\n",
    "            paragraph = action[1]\n",
    "            rel = action[2]\n",
    "            sub_topic = action[3]\n",
    "            if topic not in qrels_users:\n",
    "                qrels_users[topic] = {}\n",
    "            if sub_topic not in qrels_users[topic]:\n",
    "                qrels_users[topic][sub_topic] = {}\n",
    "            if paragraph not in qrels_users[topic][sub_topic]:\n",
    "                qrels_users[topic][sub_topic][paragraph] = (0, 0)\n",
    "            num, den = qrels_users[topic][sub_topic][paragraph]\n",
    "            if rel == 'relevant':\n",
    "                qrels_users[topic][sub_topic][paragraph] = (num + 1, den + 1)\n",
    "            else:\n",
    "                qrels_users[topic][sub_topic][paragraph] = (num, den + 1)\n",
    "\n",
    "for topic in qrels_users:\n",
    "    for sub_topic in qrels_users[topic]:\n",
    "        for paragraph in qrels_users[topic][sub_topic]:\n",
    "            num, den = qrels_users[topic][sub_topic][paragraph]\n",
    "            qrels_users[topic][sub_topic][paragraph] = num/den\n",
    "            \n",
    "#qrels_users"
   ]
  },
  {
   "cell_type": "code",
   "execution_count": 9,
   "metadata": {},
   "outputs": [],
   "source": [
    "direct_index = DirectIndex.load()"
   ]
  },
  {
   "cell_type": "code",
   "execution_count": 10,
   "metadata": {},
   "outputs": [
    {
     "data": {
      "text/plain": [
       "{0, 3, 6, 7, 9}"
      ]
     },
     "execution_count": 10,
     "metadata": {},
     "output_type": "execute_result"
    }
   ],
   "source": [
    "set(choice(list(range(10)), replace=False, size = int(len(range(10)) * 0.5)))"
   ]
  },
  {
   "cell_type": "code",
   "execution_count": 11,
   "metadata": {},
   "outputs": [
    {
     "name": "stdout",
     "output_type": "stream",
     "text": [
      "10 amazon rainforest 1\n",
      "over 204 documents\n",
      "[374, 149]\n",
      "10 amazon rainforest 2\n",
      "over 203 documents\n",
      "[371, 381]\n",
      "10 amazon rainforest 3\n",
      "over 205 documents\n",
      "[381, 379]\n",
      "10 amazon rainforest 4\n",
      "over 204 documents\n",
      "[386, 380]\n",
      "10 amazon rainforest 5\n",
      "over 203 documents\n",
      "[371, 54]\n"
     ]
    }
   ],
   "source": [
    "pre_preocessor = PreProcessor()\n",
    "\n",
    "def select_random_documents(documents:set, p:float=0.0):\n",
    "    assert(0.0 <= p <= 1.0)\n",
    "    if p == 0.0:\n",
    "        return set()\n",
    "    elif p == 1.0:\n",
    "        return documents\n",
    "    else:\n",
    "        return set(choice(list(documents), replace=False, size = int(len(documents) * p)))\n",
    "        \n",
    "def get_search_engine(topic, sub_topic, qrels, direct_index, noise = 0.0):\n",
    "    # select documents belonging to the topic\n",
    "    selected_documents = {}\n",
    "    for document in qrels[topic][sub_topic]:\n",
    "        selected_documents[document] = direct_index.index[document]\n",
    "        \n",
    "    # select random documents\n",
    "    # 1. from topic documents\n",
    "    topic_documents = set()\n",
    "    for _, sub_topic_documents in qrels[topic].items():\n",
    "        topic_documents.update(sub_topic_documents)    \n",
    "    topic_documents = select_random_documents(topic_documents, noise)\n",
    "    \n",
    "    for document in topic_documents:\n",
    "        selected_documents[document] = direct_index.index[document]\n",
    "    \n",
    "    # 2. from all_documents\n",
    "    all_documents = direct_index.index.keys()\n",
    "    all_documents = select_random_documents(all_documents, noise)\n",
    "\n",
    "    for document in all_documents:\n",
    "        selected_documents[document] = direct_index.index[document]\n",
    "        \n",
    "    # retrievable documents\n",
    "    inverted_index = InvertedIndex()\n",
    "    inverted_index.create(selected_documents)\n",
    "        \n",
    "    return selected_documents, inverted_index\n",
    "\n",
    "# stats\n",
    "inverted_index = InvertedIndex()\n",
    "inverted_index.create(direct_index.index)\n",
    "\n",
    "# test\n",
    "for topic in sub_topics:\n",
    "    for sub_topic in sub_topics[topic]:\n",
    "        print(topic, topics[topic], sub_topic)\n",
    "        r_documents, r_inverted_index = get_search_engine(topic, sub_topic, qrels, direct_index, 0.01)\n",
    "        print(\"over\", len(r_documents), \"documents\")\n",
    "        r_inverted_index.cl = inverted_index.cl\n",
    "        r_inverted_index.dictionary = inverted_index.dictionary\n",
    "        search = Search(r_inverted_index, pre_preocessor)\n",
    "        print(search.search('amazon', n=2, retrievable_paragraphs=r_documents.keys()))\n",
    "    break"
   ]
  },
  {
   "cell_type": "code",
   "execution_count": null,
   "metadata": {},
   "outputs": [],
   "source": []
  },
  {
   "cell_type": "code",
   "execution_count": 12,
   "metadata": {},
   "outputs": [],
   "source": [
    "\n",
    "# CP\n",
    "\n",
    "def dd_cp(alpha, m, l):\n",
    "    return 1\n",
    "\n",
    "def dd_ncp(alpha, m, l):\n",
    "    return 1/l\n",
    "\n",
    "def ncp(sequence):\n",
    "    res = 0.0\n",
    "    for action in sequence:\n",
    "        if action[2] == 'relevant':\n",
    "            res += dd_cp(None, None, None)\n",
    "    return res/len(sequence)\n",
    "\n",
    "def get_ncp_list(sequences):\n",
    "    res = []\n",
    "    for sequence in sequences:\n",
    "        res.append(ncp(sequence))\n",
    "    return res\n",
    "\n",
    "# CBP\n",
    "\n",
    "def dd_cbp(alpha, m, l = None):\n",
    "    return alpha ** m\n",
    "\n",
    "def dd_ncbp(alpha, m, l):\n",
    "    norm = 0.0\n",
    "    for i in range(l):\n",
    "        norm += dd_cbp(alpha, i, l)\n",
    "    return dd_cbp(alpha, m, l) / norm\n",
    "\n",
    "def ncbp(sequence, alpha):\n",
    "    res = 0.0\n",
    "    for m, action in enumerate(sequence):\n",
    "        if action[2] == 'relevant':\n",
    "            res += dd_ncbp(alpha, m, len(sequence))\n",
    "    return res\n",
    "\n",
    "def get_ncbp_list(sequences, alpha):\n",
    "    res = []\n",
    "    for sequence in sequences:\n",
    "        res.append(ncbp(sequence, alpha))\n",
    "    return res\n",
    "\n",
    "# CBP +\n",
    "\n",
    "def dd_ncbp_p(alpha, beta, m, sequence):\n",
    "    res = 1.0\n",
    "    for action in sequence[:m]:\n",
    "        if action[2] == 'relevant':\n",
    "            res *= alpha\n",
    "        else:\n",
    "            res *= beta\n",
    "    norm = 0.0\n",
    "    for i in range(len(sequence)):\n",
    "        norm += dd_cbp(alpha, i)\n",
    "    return res/norm\n",
    "\n",
    "def ncbp_p(sequence, alpha, beta):\n",
    "    res = 0.0\n",
    "    for m, action in enumerate(sequence):\n",
    "        if action[2] == 'relevant':\n",
    "            res += dd_ncbp_p(alpha, beta, m, sequence)\n",
    "    return res\n",
    "\n",
    "def get_ncbp_p_list(sequences, alpha, beta):\n",
    "    res = []\n",
    "    for sequence in sequences:\n",
    "        res.append(ncbp_p(sequence, alpha, beta))\n",
    "    return res"
   ]
  },
  {
   "cell_type": "code",
   "execution_count": 13,
   "metadata": {},
   "outputs": [
    {
     "data": {
      "text/plain": [
       "([(1, 0.48598495253333335),\n",
       "  (2, 0.7245402721088434),\n",
       "  (3, 0.8613003663003662),\n",
       "  (4, 0.5472815345025279),\n",
       "  (5, 0.3364321794779211),\n",
       "  (6, 0.642563116883117),\n",
       "  (7, 0.7394005012531328),\n",
       "  (8, 0.45797078978234923),\n",
       "  (9, 0.7591999041239462),\n",
       "  (10, 0.7321888384625154),\n",
       "  (11, 0.6494714074074074)],\n",
       " [(1, 0.6948132344457122),\n",
       "  (2, 0.8791838367018248),\n",
       "  (3, 0.9021250402482669),\n",
       "  (4, 0.7157422331257991),\n",
       "  (5, 0.567897587303366),\n",
       "  (6, 0.8095286053912288),\n",
       "  (7, 0.8461916634617963),\n",
       "  (8, 0.6376887986533195),\n",
       "  (9, 0.8774625265738412),\n",
       "  (10, 0.8783735656195284),\n",
       "  (11, 0.8046611482436372)],\n",
       " [(1, 0.7194444444444444),\n",
       "  (2, 0.8677862811791384),\n",
       "  (3, 0.8874542124542124),\n",
       "  (4, 0.7112874779541445),\n",
       "  (5, 0.5482839624143971),\n",
       "  (6, 0.812987012987013),\n",
       "  (7, 0.8398496240601504),\n",
       "  (8, 0.6008454106280192),\n",
       "  (9, 0.8604978354978355),\n",
       "  (10, 0.8352598019264688),\n",
       "  (11, 0.8098653198653198)])"
      ]
     },
     "execution_count": 13,
     "metadata": {},
     "output_type": "execute_result"
    }
   ],
   "source": [
    "ncbp_p_scores = []\n",
    "ncbp_scores = []\n",
    "ncp_scores = []\n",
    "\n",
    "for topic in topics:\n",
    "    sequences = all_sequences[topic]\n",
    "    ncbp_p_scores.append((topic, np.mean(get_ncbp_p_list(sequences, 1.0, 0.32))))\n",
    "    ncbp_scores.append((topic, np.mean(get_ncbp_list(sequences, 0.79))))\n",
    "    ncp_scores.append((topic, np.mean(get_ncp_list(sequences))))\n",
    "    \n",
    "ncbp_p_scores = sorted(ncbp_p_scores)\n",
    "ncbp_scores = sorted(ncbp_scores)\n",
    "ncp_scores = sorted(ncp_scores)\n",
    "\n",
    "ncbp_p_scores, ncbp_scores, ncp_scores"
   ]
  },
  {
   "cell_type": "code",
   "execution_count": 14,
   "metadata": {},
   "outputs": [],
   "source": [
    "# new version\n",
    "def get_satisfaction(lines):\n",
    "    reg_exp = RegExp()\n",
    "    satisfaction = None\n",
    "    for line in lines:\n",
    "        items = line.split('\\t')\n",
    "        content = items[2]\n",
    "        if reg_exp.get(r'user is (.+)', content):\n",
    "            satisfaction = reg_exp.res\n",
    "    return satisfaction\n",
    "\n",
    "# new\n",
    "def get_all_satisfactions(path_log, session_ids):\n",
    "    res = defaultdict(list)\n",
    "    for session_id in session_ids:\n",
    "        selected_lines = []\n",
    "        with open(path_log) as f:\n",
    "            for line in f.readlines()[1:]:\n",
    "                items = line.split('\\t')\n",
    "                user = items[3].strip()\n",
    "                topic = int(items[4].strip())\n",
    "                if user == session_id[0] and topic == session_id[1]:\n",
    "                    selected_lines.append(line)\n",
    "\n",
    "        satisfaction = get_satisfaction(selected_lines)\n",
    "        res[session_id[1]].append(satisfaction)\n",
    "    return res\n",
    "\n",
    "all_satisfactions = get_all_satisfactions(path_log, session_ids)\n",
    "#all_satisfactions"
   ]
  },
  {
   "cell_type": "code",
   "execution_count": 15,
   "metadata": {},
   "outputs": [
    {
     "data": {
      "text/plain": [
       "[(1, 0.6666666666666666),\n",
       " (2, 0.7857142857142857),\n",
       " (3, 0.8846153846153846),\n",
       " (4, 0.7407407407407407),\n",
       " (5, 0.5217391304347826),\n",
       " (6, 0.7727272727272727),\n",
       " (7, 0.8421052631578947),\n",
       " (8, 0.5217391304347826),\n",
       " (9, 0.7368421052631579),\n",
       " (10, 0.7407407407407407),\n",
       " (11, 0.7333333333333333)]"
      ]
     },
     "execution_count": 15,
     "metadata": {},
     "output_type": "execute_result"
    }
   ],
   "source": [
    "satisfaction_scores = []\n",
    "for topic in topics:\n",
    "    satisfactions = all_satisfactions[topic]\n",
    "    satisfaction_score = 0.0\n",
    "    for satisfaction in satisfactions:\n",
    "        if satisfaction == 'satisfied':\n",
    "            satisfaction_score += 1\n",
    "    satisfaction_score /= len(satisfactions)\n",
    "    satisfaction_scores.append((topic, satisfaction_score))\n",
    "\n",
    "satisfaction_scores = sorted(satisfaction_scores)\n",
    "satisfaction_scores"
   ]
  },
  {
   "cell_type": "code",
   "execution_count": 16,
   "metadata": {},
   "outputs": [
    {
     "name": "stdout",
     "output_type": "stream",
     "text": [
      "KendalltauResult(correlation=0.6482593132545565, pvalue=0.006117582447622464)\n",
      "SpearmanrResult(correlation=0.7625650275119625, pvalue=0.006350520569425186)\n",
      "(0.8957750450687809, 0.000191506771888404)\n"
     ]
    },
    {
     "data": {
      "image/png": "[encoded data removed]",
      "text/plain": [
       "<Figure size 432x288 with 1 Axes>"
      ]
     },
     "metadata": {
      "needs_background": "light"
     },
     "output_type": "display_data"
    }
   ],
   "source": [
    "plt.plot([i[1] for i in ncbp_p_scores], [i[1] for i in satisfaction_scores], 'o')\n",
    "print(kendalltau([i[1] for i in ncbp_p_scores], [i[1] for i in satisfaction_scores]))\n",
    "print(spearmanr([i[1] for i in ncbp_p_scores], [i[1] for i in satisfaction_scores]))\n",
    "print(pearsonr([i[1] for i in ncbp_p_scores], [i[1] for i in satisfaction_scores]))"
   ]
  },
  {
   "cell_type": "code",
   "execution_count": 17,
   "metadata": {},
   "outputs": [
    {
     "name": "stdout",
     "output_type": "stream",
     "text": [
      "KendalltauResult(correlation=0.7223460919122202, pvalue=0.002252739154933953)\n",
      "SpearmanrResult(correlation=0.831058892258546, pvalue=0.0015265983452635986)\n",
      "(0.8808739887980555, 0.0003417224415667421)\n"
     ]
    },
    {
     "data": {
      "image/png": "[encoded data removed]",
      "text/plain": [
       "<Figure size 432x288 with 1 Axes>"
      ]
     },
     "metadata": {
      "needs_background": "light"
     },
     "output_type": "display_data"
    }
   ],
   "source": [
    "plt.plot([i[1] for i in ncbp_scores], [i[1] for i in satisfaction_scores], 'o')\n",
    "print(kendalltau([i[1] for i in ncbp_scores], [i[1] for i in satisfaction_scores]))\n",
    "print(spearmanr([i[1] for i in ncbp_scores], [i[1] for i in satisfaction_scores]))\n",
    "print(pearsonr([i[1] for i in ncbp_scores], [i[1] for i in satisfaction_scores]))"
   ]
  },
  {
   "cell_type": "code",
   "execution_count": 18,
   "metadata": {},
   "outputs": [
    {
     "name": "stdout",
     "output_type": "stream",
     "text": [
      "KendalltauResult(correlation=0.6853027025833884, pvalue=0.0037547436251961193)\n",
      "SpearmanrResult(correlation=0.8173601193092295, pvalue=0.002123165628965581)\n",
      "(0.9157449250833796, 7.57466248948151e-05)\n"
     ]
    },
    {
     "data": {
      "image/png": "[encoded data removed]",
      "text/plain": [
       "<Figure size 432x288 with 1 Axes>"
      ]
     },
     "metadata": {
      "needs_background": "light"
     },
     "output_type": "display_data"
    }
   ],
   "source": [
    "plt.plot([i[1] for i in ncp_scores], [i[1] for i in satisfaction_scores], 'o')\n",
    "print(kendalltau([i[1] for i in ncp_scores], [i[1] for i in satisfaction_scores]))\n",
    "print(spearmanr([i[1] for i in ncp_scores], [i[1] for i in satisfaction_scores]))\n",
    "print(pearsonr([i[1] for i in ncp_scores], [i[1] for i in satisfaction_scores]))"
   ]
  },
  {
   "cell_type": "code",
   "execution_count": 19,
   "metadata": {},
   "outputs": [
    {
     "name": "stdout",
     "output_type": "stream",
     "text": [
      "10 amazon rainforest 1\n",
      "[372]\n",
      "10 amazon rainforest 2\n",
      "[371]\n",
      "10 amazon rainforest 3\n",
      "[379]\n",
      "10 amazon rainforest 4\n",
      "[385]\n",
      "10 amazon rainforest 5\n",
      "[371]\n"
     ]
    }
   ],
   "source": [
    "for topic in sub_topics:\n",
    "    for sub_topic in sub_topics[topic]:\n",
    "        print(topic, topics[topic], sub_topic)\n",
    "        r_documents, r_inverted_index = get_search_engine(topic, sub_topic, qrels, inverted_index, 0.0)\n",
    "        r_inverted_index.cl = inverted_index.cl\n",
    "        r_inverted_index.dictionary = inverted_index.dictionary\n",
    "        search = Search(r_inverted_index, pre_preocessor)\n",
    "        print(search.search('amazon', n=2, retrievable_paragraphs=r_documents.keys()))\n",
    "    break"
   ]
  },
  {
   "cell_type": "code",
   "execution_count": 20,
   "metadata": {},
   "outputs": [
    {
     "name": "stdout",
     "output_type": "stream",
     "text": [
      "[(0, None, None, 4, None), (4, None, None, 4, None), (4, None, None, 3, None), (3, None, None, 2, None), (2, None, None, 1, None), (1, None, None, 6, None)]\n",
      "[(0, None, None, 4, None), (4, None, None, 4, None), (4, None, None, 3, None), (3, None, None, 2, None), (2, None, None, 1, None)]\n"
     ]
    }
   ],
   "source": [
    "def generate_sequence(num_subtopics, min_sub_topics = 1):\n",
    "    prob = 1.0\n",
    "    sequence = []\n",
    "    current_subtopic = 0\n",
    "    \n",
    "    next_subtopic = choice(range(1, num_subtopics + 1), 1)[0]\n",
    "    prob *= 1.0/num_subtopics\n",
    "    sequence.append((current_subtopic, None, None, next_subtopic + min_sub_topics - 1, None))\n",
    "    current_subtopic = next_subtopic\n",
    "    \n",
    "    while next_subtopic + min_sub_topics - 1 != num_subtopics + 1 + min_sub_topics - 1:\n",
    "        next_subtopic = choice(range(1, num_subtopics + 2), 1)[0]\n",
    "        prob *= 1.0/(num_subtopics + 1)\n",
    "        sequence.append((current_subtopic + min_sub_topics - 1, None, None, next_subtopic + min_sub_topics - 1, None))\n",
    "        current_subtopic = next_subtopic\n",
    "        \n",
    "    return sequence, prob\n",
    "\n",
    "sequence, prob = generate_sequence(5)\n",
    "\n",
    "print(sequence)\n",
    "\n",
    "print(sequence[:-1])"
   ]
  },
  {
   "cell_type": "code",
   "execution_count": null,
   "metadata": {},
   "outputs": [],
   "source": []
  },
  {
   "cell_type": "code",
   "execution_count": null,
   "metadata": {},
   "outputs": [],
   "source": []
  },
  {
   "cell_type": "code",
   "execution_count": 32,
   "metadata": {},
   "outputs": [],
   "source": [
    "# comparison of a system with without filtering, or with noise\n",
    "# compute transition on sessions using the transition probabilities.\n",
    "sampling_size = 5000\n",
    "\n",
    "def get_uniform_sim(dd):\n",
    "    topic_scores = []\n",
    "    for topic in tqdm(topics):\n",
    "        num_subtopics = len(sub_topics[topic])\n",
    "\n",
    "        all_r_documents = {}\n",
    "        all_r_inverted_index = {}\n",
    "        for sub_topic in sub_topics[topic]:\n",
    "            r_documents, r_inverted_index = get_search_engine(topic, sub_topic, qrels, direct_index)\n",
    "            all_r_documents[sub_topic] = r_documents\n",
    "            all_r_inverted_index[sub_topic] = r_inverted_index\n",
    "\n",
    "        scores = []\n",
    "        for n in range(sampling_size):\n",
    "            sequence, prob = generate_sequence(num_subtopics, min(sub_topics[topic]))\n",
    "\n",
    "            score = 0.0\n",
    "            for m, action in enumerate(sequence[:-1]):\n",
    "                sub_topic = action[3]\n",
    "                query = action[4]\n",
    "\n",
    "                query = ''\n",
    "                if sub_topic in all_queries[topic] and len(all_queries[topic][sub_topic]) > 0: \n",
    "                    queries = list(all_queries[topic][sub_topic])\n",
    "                    query = queries[choice(range(len(queries)))]\n",
    "\n",
    "                search = Search(all_r_inverted_index[sub_topic], pre_preocessor)\n",
    "                answer = search.search(query, n=1, retrievable_paragraphs=all_r_documents[sub_topic].keys())[0]\n",
    "\n",
    "                rel = 0.0\n",
    "                if sub_topic in qrels_users[topic] and answer in qrels_users[topic][sub_topic]:\n",
    "                    rel = qrels_users[topic][sub_topic][answer]\n",
    "\n",
    "                score += dd(0.79, m, len(sequence[:-1])) * rel\n",
    "                \n",
    "            scores.append(score)\n",
    "\n",
    "        if scores:\n",
    "            scores = np.array(scores)\n",
    "            topic_score = np.mean(scores)\n",
    "            topic_scores.append((topic, topic_score))\n",
    "        else:\n",
    "            topic_scores.append((topic, 0.0))\n",
    "\n",
    "    return sorted(topic_scores)"
   ]
  },
  {
   "cell_type": "code",
   "execution_count": null,
   "metadata": {},
   "outputs": [],
   "source": [
    "uniform_sim_system_ncp = get_uniform_sim(lambda alpha, m, l : dd_ncp(alpha, m, l))"
   ]
  },
  {
   "cell_type": "code",
   "execution_count": 26,
   "metadata": {},
   "outputs": [
    {
     "data": {
      "application/vnd.jupyter.widget-view+json": {
       "model_id": "f6dd387ca1b84df28f3caed4ad137986",
       "version_major": 2,
       "version_minor": 0
      },
      "text/plain": [
       "HBox(children=(FloatProgress(value=0.0, max=11.0), HTML(value='')))"
      ]
     },
     "metadata": {},
     "output_type": "display_data"
    },
    {
     "name": "stdout",
     "output_type": "stream",
     "text": [
      "\n"
     ]
    }
   ],
   "source": [
    "uniform_sim_system_ncbp = get_uniform_sim(lambda alpha, m, l : dd_ncbp(alpha, m, l))"
   ]
  },
  {
   "cell_type": "code",
   "execution_count": 31,
   "metadata": {},
   "outputs": [],
   "source": [
    "#uniform_sim_system_ncp, uniform_sim_system_ncbp"
   ]
  },
  {
   "cell_type": "code",
   "execution_count": 27,
   "metadata": {},
   "outputs": [
    {
     "name": "stdout",
     "output_type": "stream",
     "text": [
      "KendalltauResult(correlation=0.6482593132545565, pvalue=0.006117582447622464)\n",
      "KendalltauResult(correlation=0.6482593132545565, pvalue=0.006117582447622464)\n"
     ]
    }
   ],
   "source": [
    "print(kendalltau([i[1] for i in uniform_sim_system_ncp], [i[1] for i in satisfaction_scores]))\n",
    "print(kendalltau([i[1] for i in uniform_sim_system_ncbp], [i[1] for i in satisfaction_scores]))"
   ]
  },
  {
   "cell_type": "code",
   "execution_count": 29,
   "metadata": {},
   "outputs": [
    {
     "name": "stdout",
     "output_type": "stream",
     "text": [
      "KendalltauResult(correlation=0.6727272727272727, pvalue=0.0031063111271444604)\n",
      "KendalltauResult(correlation=0.5636363636363636, pvalue=0.016540504248837583)\n",
      "KendalltauResult(correlation=0.6363636363636364, pvalue=0.005707170915504249)\n",
      "KendalltauResult(correlation=0.6727272727272727, pvalue=0.0031063111271444604)\n",
      "KendalltauResult(correlation=0.5636363636363636, pvalue=0.016540504248837583)\n",
      "KendalltauResult(correlation=0.6363636363636364, pvalue=0.005707170915504249)\n"
     ]
    }
   ],
   "source": [
    "print(kendalltau([i[1] for i in ncp_scores], [i[1] for i in uniform_sim_system_ncp]))\n",
    "print(kendalltau([i[1] for i in ncbp_scores], [i[1] for i in uniform_sim_system_ncp]))\n",
    "print(kendalltau([i[1] for i in ncbp_p_scores], [i[1] for i in uniform_sim_system_ncp]))\n",
    "\n",
    "print(kendalltau([i[1] for i in ncp_scores], [i[1] for i in uniform_sim_system_ncbp]))\n",
    "print(kendalltau([i[1] for i in ncbp_scores], [i[1] for i in uniform_sim_system_ncbp]))\n",
    "print(kendalltau([i[1] for i in ncbp_p_scores], [i[1] for i in uniform_sim_system_ncbp]))"
   ]
  },
  {
   "cell_type": "code",
   "execution_count": 23,
   "metadata": {},
   "outputs": [
    {
     "name": "stdout",
     "output_type": "stream",
     "text": [
      "KendalltauResult(correlation=0.8181818181818182, pvalue=0.00013227513227513228)\n"
     ]
    }
   ],
   "source": []
  },
  {
   "cell_type": "code",
   "execution_count": 24,
   "metadata": {},
   "outputs": [
    {
     "name": "stdout",
     "output_type": "stream",
     "text": [
      "KendalltauResult(correlation=0.4720343200308506, pvalue=0.04833991683905927)\n"
     ]
    }
   ],
   "source": [
    "#plt.plot([i[1] for i in uniform_sim_system_scores], [i[1] for i in satisfaction_scores], 'o')\n",
    "print(kendalltau([i[1] for i in uniform_sim_system_scores], [i[1] for i in satisfaction_scores]))"
   ]
  },
  {
   "cell_type": "code",
   "execution_count": 71,
   "metadata": {},
   "outputs": [],
   "source": [
    "def get_transitions_table(num_subtopics, min_sub_topic, sequences, epsilon = 0.0):\n",
    "    transitions_table = defaultdict(float)\n",
    "    for sequence in sequences:\n",
    "        last_key = None\n",
    "        for n, action in enumerate(sequence):\n",
    "            if n == 0:\n",
    "                key = (action[0], action[3] - min_sub_topic + 1)\n",
    "            else:\n",
    "                key = (action[0] - min_sub_topic + 1, action[3] - min_sub_topic + 1)\n",
    "            transitions_table[key] += 1\n",
    "            last_key = key\n",
    "        transitions_table[(last_key[1], num_subtopics+1)] += 1\n",
    "    \n",
    "    norms = defaultdict(float)\n",
    "    for from_subtopic, to_subtopic in product(range(num_subtopics+1), range(1, num_subtopics+2)):\n",
    "        if not (from_subtopic == 0 and to_subtopic == num_subtopics + 1):            \n",
    "            transitions_table[(from_subtopic, to_subtopic)] += epsilon\n",
    "        norms[from_subtopic] += transitions_table[(from_subtopic, to_subtopic)]\n",
    "    \n",
    "    for from_subtopic, to_subtopic in product(range(num_subtopics+1), range(1, num_subtopics+2)):\n",
    "        if norms[from_subtopic] > 0.0:\n",
    "            transitions_table[(from_subtopic, to_subtopic)] /= norms[from_subtopic]\n",
    "            \n",
    "    return transitions_table\n",
    "\n",
    "#get_transitions_table(len(sub_topics[1]), min(sub_topics[1]), all_sequences[1])\n",
    "\n",
    "def generate_sequence_from_table(num_subtopics, min_sub_topics, table):\n",
    "    prob = 1.0\n",
    "    table = to_matrix(table)\n",
    "    sequence = []\n",
    "    current_subtopic = 0\n",
    "    \n",
    "    next_subtopic = choice(range(1, num_subtopics + 2), 1, p=table[0])[0]\n",
    "    prob *= table[0, next_subtopic - 1]\n",
    "    sequence.append((current_subtopic, None, None, next_subtopic + min_sub_topics - 1, None))\n",
    "    current_subtopic = next_subtopic\n",
    "    \n",
    "    while next_subtopic + min_sub_topics - 1 != num_subtopics + 1 + min_sub_topics - 1:\n",
    "        next_subtopic = choice(range(1, num_subtopics + 2), 1, p=table[current_subtopic])[0]\n",
    "        prob *= table[current_subtopic, next_subtopic-1]\n",
    "        sequence.append((current_subtopic + min_sub_topics - 1, None, None, next_subtopic + min_sub_topics - 1, None))\n",
    "        current_subtopic = next_subtopic\n",
    "    \n",
    "    return sequence, prob\n",
    "    \n",
    "transitions_table = get_transitions_table(len(sub_topics[1]), min(sub_topics[1]), all_sequences[1])\n",
    "#generate_sequence_from_table(len(sub_topics[1]), min(sub_topics[1]), transitions_table)"
   ]
  },
  {
   "cell_type": "code",
   "execution_count": 27,
   "metadata": {},
   "outputs": [
    {
     "data": {
      "application/vnd.jupyter.widget-view+json": {
       "model_id": "81f8dbd5003143df9be7c855839053a5",
       "version_major": 2,
       "version_minor": 0
      },
      "text/plain": [
       "HBox(children=(FloatProgress(value=0.0, max=11.0), HTML(value='')))"
      ]
     },
     "metadata": {},
     "output_type": "display_data"
    },
    {
     "name": "stdout",
     "output_type": "stream",
     "text": [
      "\n"
     ]
    },
    {
     "data": {
      "text/plain": [
       "[((1, 0.8162941742206982), (1, 0.7799641374746731)),\n",
       " ((2, 0.8763218452751548), (2, 0.8745853438757577)),\n",
       " ((3, 0.894629902347133), (3, 0.8945038856320807)),\n",
       " ((4, 0.5325909577523417), (4, 0.6005342526375882)),\n",
       " ((5, 0.37745821213763786), (5, 0.3593291485479703)),\n",
       " ((6, 0.7830627022790169), (6, 0.7882732571209181)),\n",
       " ((7, 0.8648019685477608), (7, 0.876525852719441)),\n",
       " ((8, 0.5458108598502371), (8, 0.641354165804504)),\n",
       " ((9, 0.8481337366242809), (9, 0.8476545974578821)),\n",
       " ((10, 0.7601370822719049), (10, 0.8426307897789052)),\n",
       " ((11, 0.7278309317477643), (11, 0.7100540197214268))]"
      ]
     },
     "execution_count": 27,
     "metadata": {},
     "output_type": "execute_result"
    }
   ],
   "source": [
    "# comparison of a system with without filtering, or with noise\n",
    "# compute transition on sessions using the transition probabilities.\n",
    "\n",
    "sampling_size = 5000\n",
    "\n",
    "topic_scores = []\n",
    "for topic in tqdm(topics):\n",
    "    num_subtopics = len(sub_topics[topic])\n",
    "\n",
    "    all_r_documents = {}\n",
    "    all_r_inverted_index = {}\n",
    "    for sub_topic in sub_topics[topic]:\n",
    "        r_documents, r_inverted_index = get_search_engine(topic, sub_topic, qrels, direct_index)\n",
    "        all_r_documents[sub_topic] = r_documents\n",
    "        all_r_inverted_index[sub_topic] = r_inverted_index\n",
    "\n",
    "    transitions_table = get_transitions_table(num_subtopics, min(sub_topics[topic]), all_sequences[topic])\n",
    "\n",
    "    scores = []\n",
    "    for n in range(sampling_size):\n",
    "        sequence, prob = generate_sequence_from_table(num_subtopics, min(sub_topics[topic]), transitions_table)\n",
    "\n",
    "        score = 0.0\n",
    "        for m, action in enumerate(sequence[:-1]):\n",
    "            sub_topic = action[3]\n",
    "            query = action[4]\n",
    "\n",
    "            query = ''\n",
    "            if sub_topic in all_queries[topic] and len(all_queries[topic][sub_topic]) > 0: \n",
    "                queries = list(all_queries[topic][sub_topic])\n",
    "                query = queries[choice(range(len(queries)))]\n",
    "\n",
    "            search = Search(all_r_inverted_index[sub_topic], pre_preocessor)\n",
    "            answer = search.search(query, n=1, retrievable_paragraphs=all_r_documents[sub_topic].keys())[0]\n",
    "\n",
    "            rel = 0.0\n",
    "            if sub_topic in qrels_users[topic] and answer in qrels_users[topic][sub_topic]:\n",
    "                rel = qrels_users[topic][sub_topic][answer]\n",
    "\n",
    "            #score += 1 *  #dd_ncbp(0.8, m, len(sequence[:-1]))\n",
    "            #score += dd_cbp_p(1, 0.67, m, sequence)\n",
    "            #score += dd_cp(sequence) * rel\n",
    "            score += dd_ncbp(0.8, m, len(sequence[:-1])) * rel\n",
    "            \n",
    "        scores.append(score)\n",
    "\n",
    "    if scores:\n",
    "        scores = np.array(scores)\n",
    "        topic_score = np.mean(scores)\n",
    "        topic_scores.append((topic, topic_score))\n",
    "    else:\n",
    "        topic_scores.append((topic, 0.0))\n",
    "\n",
    "table_sim_system_scores = sorted(topic_scores)\n",
    "list(zip(table_sim_system_scores, ncbp_scores))"
   ]
  },
  {
   "cell_type": "code",
   "execution_count": 28,
   "metadata": {},
   "outputs": [
    {
     "name": "stdout",
     "output_type": "stream",
     "text": [
      "KendalltauResult(correlation=0.8909090909090909, pvalue=1.3728555395222063e-05)\n"
     ]
    }
   ],
   "source": [
    "#plt.plot([i[1] for i in uniform_sim_system_scores], [i[1] for i in table_sim_system_scores], 'o')\n",
    "print(kendalltau([i[1] for i in uniform_sim_system_scores], [i[1] for i in table_sim_system_scores]))"
   ]
  },
  {
   "cell_type": "code",
   "execution_count": 29,
   "metadata": {},
   "outputs": [
    {
     "name": "stdout",
     "output_type": "stream",
     "text": [
      "KendalltauResult(correlation=0.9272727272727274, pvalue=3.2567740901074234e-06)\n"
     ]
    }
   ],
   "source": [
    "#plt.plot([i[1] for i in ncp_scores], [i[1] for i in table_sim_system_scores], 'o')\n",
    "print(kendalltau([i[1] for i in ncp_scores], [i[1] for i in table_sim_system_scores]))"
   ]
  },
  {
   "cell_type": "code",
   "execution_count": 30,
   "metadata": {},
   "outputs": [
    {
     "name": "stdout",
     "output_type": "stream",
     "text": [
      "KendalltauResult(correlation=0.8545454545454545, pvalue=4.624619207952541e-05)\n"
     ]
    }
   ],
   "source": [
    "#plt.plot([i[1] for i in ncbp_scores], [i[1] for i in table_sim_system_scores], 'o')\n",
    "print(kendalltau([i[1] for i in ncbp_scores], [i[1] for i in table_sim_system_scores]))"
   ]
  },
  {
   "cell_type": "code",
   "execution_count": 31,
   "metadata": {},
   "outputs": [
    {
     "name": "stdout",
     "output_type": "stream",
     "text": [
      "KendalltauResult(correlation=0.4720343200308506, pvalue=0.04833991683905927)\n"
     ]
    },
    {
     "data": {
      "image/png": "[encoded data removed]",
      "text/plain": [
       "<Figure size 432x288 with 1 Axes>"
      ]
     },
     "metadata": {
      "needs_background": "light"
     },
     "output_type": "display_data"
    }
   ],
   "source": [
    "plt.plot([i[1] for i in table_sim_system_scores], [i[1] for i in satisfaction_scores], 'o')\n",
    "print(kendalltau([i[1] for i in table_sim_system_scores], [i[1] for i in satisfaction_scores]))"
   ]
  },
  {
   "cell_type": "code",
   "execution_count": null,
   "metadata": {},
   "outputs": [],
   "source": []
  },
  {
   "cell_type": "code",
   "execution_count": null,
   "metadata": {},
   "outputs": [],
   "source": []
  },
  {
   "cell_type": "code",
   "execution_count": null,
   "metadata": {},
   "outputs": [],
   "source": []
  },
  {
   "cell_type": "code",
   "execution_count": null,
   "metadata": {},
   "outputs": [],
   "source": []
  },
  {
   "cell_type": "code",
   "execution_count": null,
   "metadata": {},
   "outputs": [],
   "source": []
  },
  {
   "cell_type": "code",
   "execution_count": 58,
   "metadata": {},
   "outputs": [
    {
     "name": "stdout",
     "output_type": "stream",
     "text": [
      "[[0.    0.    0.    0.    0.    0.   ]\n",
      " [0.    0.222 0.222 0.111 0.333 0.111]\n",
      " [0.167 0.    0.167 0.5   0.    0.167]\n",
      " [0.154 0.154 0.    0.231 0.154 0.308]\n",
      " [0.3   0.1   0.4   0.    0.2   0.   ]\n",
      " [0.    0.222 0.222 0.222 0.    0.333]]\n",
      "[[0.167 0.    0.583 0.    0.25  0.   ]\n",
      " [0.    0.    0.    0.    0.    1.   ]\n",
      " [0.    0.5   0.    0.    0.5   0.   ]\n",
      " [0.    0.167 0.5   0.167 0.    0.167]\n",
      " [0.    0.    0.    0.    0.    0.   ]\n",
      " [0.4   0.    0.    0.    0.4   0.2  ]]\n"
     ]
    }
   ],
   "source": [
    "def get_transitions_tables(num_subtopics, min_sub_topic, sequences, epsilon = 0.0):\n",
    "    rel_transitions_table = defaultdict(float)\n",
    "    irr_transitions_table = defaultdict(float)\n",
    "    p_rel = defaultdict(float)\n",
    "    p_irr = defaultdict(float)\n",
    "    for sequence in sequences:\n",
    "        last_key = None\n",
    "        last_rel = 'irrelevant'\n",
    "        for n, action in enumerate(sequence):\n",
    "            if n == 0:\n",
    "                key = (action[0], action[3] - min_sub_topic + 1)\n",
    "            else:\n",
    "                key = (action[0] - min_sub_topic + 1, action[3] - min_sub_topic + 1)\n",
    "            if last_rel == 'relevant':\n",
    "                rel_transitions_table[key] += 1\n",
    "                p_rel[key[0]] += 1\n",
    "            else:\n",
    "                irr_transitions_table[key] += 1\n",
    "                p_irr[key[0]] += 1\n",
    "            last_key = key\n",
    "            last_rel = action[2]\n",
    "        \n",
    "        if last_rel == 'relevant':\n",
    "            rel_transitions_table[(last_key[1], num_subtopics+1)] += 1\n",
    "            p_rel[last_key[1]] += 1\n",
    "        else:\n",
    "            irr_transitions_table[(last_key[1], num_subtopics+1)] += 1\n",
    "            p_irr[last_key[1]] += 1\n",
    "        \n",
    "    rel_norms = defaultdict(float)\n",
    "    for from_subtopic, to_subtopic in product(range(num_subtopics+1), range(1, num_subtopics+2)):\n",
    "        if from_subtopic > 0:            \n",
    "            rel_transitions_table[(from_subtopic, to_subtopic)] += epsilon\n",
    "        rel_norms[from_subtopic] += rel_transitions_table[(from_subtopic, to_subtopic)]\n",
    "    \n",
    "    irr_norms = defaultdict(float)\n",
    "    for from_subtopic, to_subtopic in product(range(num_subtopics+1), range(1, num_subtopics+2)):\n",
    "        if not (from_subtopic == 0 and to_subtopic == num_subtopics + 1):\n",
    "            irr_transitions_table[(from_subtopic, to_subtopic)] += epsilon\n",
    "        irr_norms[from_subtopic] += irr_transitions_table[(from_subtopic, to_subtopic)]\n",
    "    \n",
    "    for from_subtopic, to_subtopic in product(range(num_subtopics+1), range(1, num_subtopics+2)):\n",
    "        if rel_norms[from_subtopic] > 0.0:\n",
    "            rel_transitions_table[(from_subtopic, to_subtopic)] /= (rel_norms[from_subtopic]) \n",
    "    \n",
    "    for from_subtopic, to_subtopic in product(range(num_subtopics+1), range(1, num_subtopics+2)):\n",
    "        if irr_norms[from_subtopic] > 0.0:\n",
    "            irr_transitions_table[(from_subtopic, to_subtopic)] /= (irr_norms[from_subtopic])\n",
    "    \n",
    "    p = []\n",
    "    for t in range(num_subtopics + 1):\n",
    "        if (p_rel[t] + p_irr[t]) > 0:\n",
    "            p.append(p_rel[t]/(p_rel[t] + p_irr[t]))\n",
    "        else:\n",
    "            p.append(0.0)\n",
    "    p = np.array([p])\n",
    "\n",
    "    return rel_transitions_table, irr_transitions_table, p, 1 - p\n",
    "\n",
    "t1, t2, p_rel, p_irr = get_transitions_tables(len(sub_topics[1]), min(sub_topics[1]), all_sequences[1], 0.0)\n",
    "\n",
    "#print(p_rel, p_irr)\n",
    "#print(to_matrix(transitions_table))\n",
    "print(to_matrix(t1)) \n",
    "print(to_matrix(t2))\n",
    "#print((to_matrix(t1).T * p_rel).T + (to_matrix(t2).T * p_irr).T)"
   ]
  },
  {
   "cell_type": "code",
   "execution_count": 34,
   "metadata": {},
   "outputs": [
    {
     "name": "stdout",
     "output_type": "stream",
     "text": [
      "(39, 0.5833333333333334)\n",
      "(38, 0.15384615384615385)\n",
      "(40, 0.5)\n",
      "(39, 0.4)\n",
      "(42, 0.3076923076923077)\n"
     ]
    }
   ],
   "source": [
    "class SequenceGenerator:\n",
    "    \n",
    "    def __init__(self, num_subtopics, min_sub_topic, rel_table, irr_table):\n",
    "        self.num_subtopics = num_subtopics\n",
    "        self.rel_table = to_matrix(rel_table)\n",
    "        self.irr_table = to_matrix(irr_table)\n",
    "        self.min_sub_topic = min_sub_topic\n",
    "        self.relevance = False\n",
    "        self.current_subtopic = 0\n",
    "        \n",
    "    def __iter__(self):\n",
    "        #self.current_subtopic = 0\n",
    "        return self\n",
    "    \n",
    "    def set_relevance(self, relevance):\n",
    "        self.relevance = relevance\n",
    "    \n",
    "    def __next__(self):\n",
    "        next_subtopic = -1\n",
    "        prob = -1\n",
    "        if self.current_subtopic + self.min_sub_topic - 1 == self.num_subtopics + 1 + self.min_sub_topic - 1:\n",
    "            raise StopIteration\n",
    "        if self.relevance:\n",
    "            #print(self.rel_table[self.current_subtopic].sum())\n",
    "            next_subtopic = choice(range(1, self.num_subtopics + 2), 1, p=self.rel_table[self.current_subtopic])[0]\n",
    "            prob = self.rel_table[self.current_subtopic, next_subtopic - 1]\n",
    "        else:\n",
    "            #print(self.irr_table[self.current_subtopic].sum())\n",
    "            next_subtopic = choice(range(1, self.num_subtopics + 2), 1, p=self.irr_table[self.current_subtopic])[0]\n",
    "            prob = self.irr_table[self.current_subtopic, next_subtopic - 1]\n",
    "        self.current_subtopic = next_subtopic\n",
    "        return next_subtopic + self.min_sub_topic - 1, prob\n",
    "    \n",
    "sg = SequenceGenerator(len(sub_topics[1]), min(sub_topics[1]), t1, t2)\n",
    "for i in sg:\n",
    "    print(i)\n",
    "    sg.set_relevance(True)"
   ]
  },
  {
   "cell_type": "markdown",
   "metadata": {},
   "source": [
    "# Simulations"
   ]
  },
  {
   "cell_type": "code",
   "execution_count": 133,
   "metadata": {},
   "outputs": [],
   "source": [
    "def ltse(d1, d2):\n",
    "    err = 0.0\n",
    "    M = len(d1)\n",
    "    if len(d1) < len(d2):\n",
    "        d1, d2 = d2, d1\n",
    "    for i in range(len(d1)):\n",
    "        if i < len(d2):\n",
    "            err += abs(d1[i]-d2[i])**2   \n",
    "        else:\n",
    "            err += abs(d1[i])**2\n",
    "    return np.log(err)"
   ]
  },
  {
   "cell_type": "code",
   "execution_count": 134,
   "metadata": {},
   "outputs": [
    {
     "data": {
      "text/plain": [
       "array([0.203, 0.165, 0.158, 0.141, 0.115, 0.078, 0.052, 0.033, 0.022,\n",
       "       0.011, 0.008, 0.005, 0.005, 0.003, 0.002])"
      ]
     },
     "execution_count": 134,
     "metadata": {},
     "output_type": "execute_result"
    }
   ],
   "source": [
    "gp = defaultdict(int)\n",
    "for topic in all_sequences:\n",
    "    for sequence in all_sequences[topic]:\n",
    "        for m, _ in enumerate(sequence):\n",
    "            gp[m] += 1\n",
    "\n",
    "ngp = np.array([value for key, value in gp.items()])\n",
    "ngp = ngp / np.sum(ngp)\n",
    "\n",
    "ngp"
   ]
  },
  {
   "cell_type": "markdown",
   "metadata": {},
   "source": [
    "## Uniform Simulations"
   ]
  },
  {
   "cell_type": "code",
   "execution_count": 135,
   "metadata": {},
   "outputs": [],
   "source": [
    "num_samples = 1000"
   ]
  },
  {
   "cell_type": "code",
   "execution_count": 136,
   "metadata": {},
   "outputs": [],
   "source": [
    "def get_uniform_dist(alpha, dd):\n",
    "    res = defaultdict(float)\n",
    "    norm = defaultdict(float)\n",
    "    for topic in sub_topics:\n",
    "        for _ in range(num_samples):\n",
    "            sequence, _ = generate_sequence(len(sub_topics[topic]), min(sub_topics[topic]))\n",
    "            for m, _ in enumerate(sequence[:-1]):\n",
    "                res[m] += dd(alpha, m, len(sequence[:-1]))\n",
    "                norm[m] += 1\n",
    "    \n",
    "    for m in res:\n",
    "        res[m] /= norm[m]\n",
    "    \n",
    "    nres = np.array([value for key, value in res.items()])\n",
    "    nres = nres / np.sum(nres)\n",
    "    return nres\n",
    "\n",
    "def dd_cbp_p(alpha, beta, m, sequence):\n",
    "    res = 1.0\n",
    "    for action in sequence[:m]:\n",
    "        if action[2] == 'relevant':\n",
    "            res *= alpha\n",
    "        else:\n",
    "            res *= beta\n",
    "    return res\n",
    "\n",
    "def get_uniform_dist2(alpha, beta):\n",
    "    res = defaultdict(float)\n",
    "    norm = defaultdict(float)\n",
    "    for topic in sub_topics:\n",
    "        \n",
    "        all_r_documents = {}\n",
    "        all_r_inverted_index = {}\n",
    "        for sub_topic in sub_topics[topic]:\n",
    "            r_documents, r_inverted_index = get_search_engine(topic, sub_topic, qrels, direct_index)\n",
    "            all_r_documents[sub_topic] = r_documents\n",
    "            all_r_inverted_index[sub_topic] = r_inverted_index\n",
    "            \n",
    "        for _ in range(num_samples):\n",
    "            sequence, _ = generate_sequence(len(sub_topics[topic]), min(sub_topics[topic]))\n",
    "            for m, action in enumerate(sequence[:-1]):\n",
    "                query = ''\n",
    "                if sub_topic in all_queries[topic] and len(all_queries[topic][sub_topic]) > 0: \n",
    "                    queries = list(all_queries[topic][sub_topic])\n",
    "                    query = queries[choice(range(len(queries)))]\n",
    "\n",
    "                search = Search(all_r_inverted_index[sub_topic], pre_preocessor)\n",
    "                answer = search.search(query, n=1, retrievable_paragraphs=all_r_documents[sub_topic].keys())[0]\n",
    "\n",
    "                if sub_topic in qrels_users[topic] and answer in qrels_users[topic][sub_topic] and np.random.uniform(0,1) < qrels_users[topic][sub_topic][answer]:\n",
    "                    sequence[m] = (action[0], action[1], 'relevant', action[3], action[4])\n",
    "                else:\n",
    "                    sequence[m] = (action[0], action[1], 'irrelevant', action[3], action[4])\n",
    "                \n",
    "                res[m] += dd_cbp_p(alpha, beta, m, sequence[:-1])\n",
    "                norm[m] += 1\n",
    "    \n",
    "    for m in res:\n",
    "        res[m] /= norm[m]\n",
    "    \n",
    "    nres = np.array([value for key, value in res.items()])\n",
    "    nres = nres / np.sum(nres)\n",
    "    return nres"
   ]
  },
  {
   "cell_type": "code",
   "execution_count": 137,
   "metadata": {},
   "outputs": [
    {
     "name": "stdout",
     "output_type": "stream",
     "text": [
      "CP, LTSE -2.0535721483461167\n"
     ]
    }
   ],
   "source": [
    "ngp_u_cp = get_uniform_dist(0.0, lambda alpha, m, l : 1)\n",
    "print(\"CP, LTSE\", ltse(ngp, ngp_u_cp))"
   ]
  },
  {
   "cell_type": "code",
   "execution_count": 138,
   "metadata": {},
   "outputs": [
    {
     "data": {
      "application/vnd.jupyter.widget-view+json": {
       "model_id": "d956cc52df45443f97178aa324fa22d4",
       "version_major": 2,
       "version_minor": 0
      },
      "text/plain": [
       "HBox(children=(FloatProgress(value=0.0, max=101.0), HTML(value='')))"
      ]
     },
     "metadata": {},
     "output_type": "display_data"
    },
    {
     "name": "stdout",
     "output_type": "stream",
     "text": [
      "\n",
      "CBP, LTSE -5.482890815309449 0.78\n"
     ]
    }
   ],
   "source": [
    "res = 100\n",
    "max_alpha = 0.0\n",
    "max_lmse = 0.0\n",
    "ngp_u_cbp = None\n",
    "for alpha in tqdm(range(0, res+1)):\n",
    "    alpha /= res\n",
    "    \n",
    "    ngp_u = get_uniform_dist(alpha, lambda alpha, m, l : alpha**m)\n",
    "            \n",
    "    score = ltse(ngp, ngp_u)\n",
    "    if score < max_lmse:\n",
    "        max_lmse = score\n",
    "        max_alpha = alpha\n",
    "        ngp_u_cbp = ngp_u\n",
    "        \n",
    "print(\"CBP, LTSE\", max_lmse, max_alpha)"
   ]
  },
  {
   "cell_type": "code",
   "execution_count": 140,
   "metadata": {},
   "outputs": [
    {
     "data": {
      "application/vnd.jupyter.widget-view+json": {
       "model_id": "31825fb8f78048f786f64d0b31df6f7f",
       "version_major": 2,
       "version_minor": 0
      },
      "text/plain": [
       "HBox(children=(FloatProgress(value=0.0, max=101.0), HTML(value='')))"
      ]
     },
     "metadata": {},
     "output_type": "display_data"
    },
    {
     "name": "stdout",
     "output_type": "stream",
     "text": [
      "\n",
      "CBP, LMSE -5.4286815803638655 0.73 1.0\n"
     ]
    }
   ],
   "source": [
    "res = 100\n",
    "max_alpha = 0.0\n",
    "max_beta = 0.0\n",
    "max_lmse = 0.0\n",
    "ngp_u_cbp_p = None\n",
    "for alpha in tqdm(range(0, res+1)):\n",
    "    alpha /= res\n",
    "    \n",
    "    for beta in range(res, res+1):\n",
    "        beta /= res\n",
    "        \n",
    "        ngp_u = get_uniform_dist2(alpha, beta)\n",
    "\n",
    "        score = ltse(ngp, ngp_u)\n",
    "        if score < max_lmse:\n",
    "            max_lmse = score\n",
    "            max_alpha = alpha\n",
    "            max_beta = beta\n",
    "            ngp_u_cbp_p = ngp_u\n",
    "        \n",
    "print(\"CBP, LMSE\", max_lmse, max_alpha, max_beta)"
   ]
  },
  {
   "cell_type": "code",
   "execution_count": 141,
   "metadata": {},
   "outputs": [
    {
     "data": {
      "text/plain": [
       "<matplotlib.legend.Legend at 0x1a1e7d5f10>"
      ]
     },
     "execution_count": 141,
     "metadata": {},
     "output_type": "execute_result"
    },
    {
     "data": {
      "image/png": "[encoded data removed]",
      "text/plain": [
       "<Figure size 432x288 with 1 Axes>"
      ]
     },
     "metadata": {
      "needs_background": "light"
     },
     "output_type": "display_data"
    }
   ],
   "source": [
    "x = np.arange(ngp.shape[0])\n",
    "\n",
    "bar_width = 0.20\n",
    "\n",
    "plt.bar(x-bar_width*1, ngp_u_cp[0:len(x)], width = bar_width, color='#E69F00', align='center', label='cp')\n",
    "plt.bar(x+bar_width*0, ngp_u_cbp[0:len(x)], width = bar_width, color='#56B4E9', align='center', label='cbp')\n",
    "plt.bar(x+bar_width*1, ngp_u_cbp_p[0:len(x)], width = bar_width, color='#009E73', align='center', label=\"cbp+\")\n",
    "plt.bar(x+bar_width*2, ngp, width = bar_width, color='black', align='center', label=\"Observed\")\n",
    "\n",
    "#plt.rc('font', size=13)\n",
    "plt.ylabel('$P(\\\\mathcal{Q})$')\n",
    "plt.xlabel('$m$')\n",
    "plt.xlim(-1, 15)\n",
    "plt.legend()\n",
    "#plt.savefig(\"probability_of_querying.png\", dpi=300)"
   ]
  },
  {
   "cell_type": "code",
   "execution_count": null,
   "metadata": {},
   "outputs": [],
   "source": []
  },
  {
   "cell_type": "code",
   "execution_count": null,
   "metadata": {},
   "outputs": [],
   "source": []
  },
  {
   "cell_type": "markdown",
   "metadata": {},
   "source": [
    "## Markov Simulations"
   ]
  },
  {
   "cell_type": "code",
   "execution_count": 142,
   "metadata": {},
   "outputs": [],
   "source": [
    "def get_table_dist(alpha, dd):\n",
    "    res = defaultdict(int)\n",
    "    norm = defaultdict(int)\n",
    "    for topic in sub_topics:\n",
    "        transitions_table = get_transitions_table(len(sub_topics[topic]), min(sub_topics[topic]), all_sequences[topic])\n",
    "        for _ in range(num_samples):\n",
    "            sequence, _ = generate_sequence_from_table(len(sub_topics[topic]), min(sub_topics[topic]), transitions_table)\n",
    "            for m, _ in enumerate(sequence[:-1]):\n",
    "                res[m] += dd(alpha, m, len(sequence[:-1]))\n",
    "                norm[m] += 1\n",
    "\n",
    "    for m in res:\n",
    "        res[m] /= norm[m]\n",
    "        \n",
    "    nres = np.array([value for key, value in res.items()])\n",
    "    nres = nres / np.sum(nres)\n",
    "    return nres\n",
    "\n",
    "def get_table_dist2(alpha, beta):\n",
    "    res = defaultdict(int)\n",
    "    norm = defaultdict(int)\n",
    "    for topic in sub_topics:\n",
    "        \n",
    "        all_r_documents = {}\n",
    "        all_r_inverted_index = {}\n",
    "        for sub_topic in sub_topics[topic]:\n",
    "            r_documents, r_inverted_index = get_search_engine(topic, sub_topic, qrels, direct_index)\n",
    "            all_r_documents[sub_topic] = r_documents\n",
    "            all_r_inverted_index[sub_topic] = r_inverted_index\n",
    "            \n",
    "        transitions_table = get_transitions_table(len(sub_topics[topic]), min(sub_topics[topic]), all_sequences[topic])\n",
    "\n",
    "        for _ in range(num_samples):\n",
    "            sequence, _ = generate_sequence_from_table(len(sub_topics[topic]), min(sub_topics[topic]), transitions_table)\n",
    "            for m, action in enumerate(sequence[:-1]):\n",
    "                query = ''\n",
    "                if sub_topic in all_queries[topic] and len(all_queries[topic][sub_topic]) > 0: \n",
    "                    queries = list(all_queries[topic][sub_topic])\n",
    "                    query = queries[choice(range(len(queries)))]\n",
    "\n",
    "                search = Search(all_r_inverted_index[sub_topic], pre_preocessor)\n",
    "                answer = search.search(query, n=1, retrievable_paragraphs=all_r_documents[sub_topic].keys())[0]\n",
    "\n",
    "                if sub_topic in qrels_users[topic] and answer in qrels_users[topic][sub_topic] and np.random.uniform(0,1) < qrels_users[topic][sub_topic][answer]:\n",
    "                    sequence[m] = (action[0], action[1], 'relevant', action[3], action[4])\n",
    "                else:\n",
    "                    sequence[m] = (action[0], action[1], 'irrelevant', action[3], action[4])\n",
    "                \n",
    "                res[m] += dd_cbp_p(alpha, beta, m, sequence[:-1])\n",
    "                norm[m] += 1\n",
    "                \n",
    "    for m in res:\n",
    "        res[m] /= norm[m]\n",
    "    \n",
    "    nres = np.array([value for key, value in res.items()])\n",
    "    nres = nres / np.sum(nres)\n",
    "    return nres"
   ]
  },
  {
   "cell_type": "code",
   "execution_count": 143,
   "metadata": {},
   "outputs": [
    {
     "name": "stdout",
     "output_type": "stream",
     "text": [
      "CP, LTSE -2.153620235438554\n"
     ]
    }
   ],
   "source": [
    "ngp_t_cp = get_table_dist(0.0, lambda alpha, m, l : 1)\n",
    "print(\"CP, LTSE\", ltse(ngp, ngp_t_cp))"
   ]
  },
  {
   "cell_type": "code",
   "execution_count": 144,
   "metadata": {},
   "outputs": [
    {
     "data": {
      "application/vnd.jupyter.widget-view+json": {
       "model_id": "f9931634f6fe466ab3f70d28f614f2c4",
       "version_major": 2,
       "version_minor": 0
      },
      "text/plain": [
       "HBox(children=(FloatProgress(value=0.0, max=101.0), HTML(value='')))"
      ]
     },
     "metadata": {},
     "output_type": "display_data"
    },
    {
     "name": "stdout",
     "output_type": "stream",
     "text": [
      "\n",
      "CBP, LTSE -5.482905364804946 0.78\n"
     ]
    }
   ],
   "source": [
    "res = 100\n",
    "max_alpha = 0.0\n",
    "max_ltse = 0.0\n",
    "ngp_t_cbp = None\n",
    "for alpha in tqdm(range(0, res + 1)):\n",
    "    alpha /= res\n",
    "    \n",
    "    ngp_t = get_table_dist(alpha, lambda alpha, m, l : alpha**m)\n",
    "            \n",
    "    score = ltse(ngp, ngp_t)\n",
    "    if score < max_ltse:\n",
    "        max_ltse = score\n",
    "        max_alpha = alpha\n",
    "        ngp_t_cbp = ngp_t\n",
    "        \n",
    "print(\"CBP, LTSE\", max_ltse, max_alpha)"
   ]
  },
  {
   "cell_type": "code",
   "execution_count": 147,
   "metadata": {},
   "outputs": [
    {
     "data": {
      "application/vnd.jupyter.widget-view+json": {
       "model_id": "70203f24349c47ae954d1a3d2991fa92",
       "version_major": 2,
       "version_minor": 0
      },
      "text/plain": [
       "HBox(children=(FloatProgress(value=0.0, max=11.0), HTML(value='')))"
      ]
     },
     "metadata": {},
     "output_type": "display_data"
    },
    {
     "name": "stdout",
     "output_type": "stream",
     "text": [
      "\n",
      "CBP, LTSE -5.499153751338099 0.8 0.7\n"
     ]
    }
   ],
   "source": [
    "res = 10\n",
    "max_alpha = 0.0\n",
    "max_beta = 0.0\n",
    "max_ltse = 0.0\n",
    "ngp_t_cbp_p = None\n",
    "for alpha in tqdm(range(0, res+1)):\n",
    "    alpha /= res\n",
    "    \n",
    "    for beta in range(0, res+1):\n",
    "        beta /= res\n",
    "        \n",
    "        ngp_t = get_table_dist2(alpha, beta)\n",
    "\n",
    "        score = ltse(ngp, ngp_t)\n",
    "        if score < max_ltse:\n",
    "            max_ltse = score\n",
    "            max_alpha = alpha\n",
    "            max_beta = beta\n",
    "            ngp_t_cbp_p = ngp_t\n",
    "        \n",
    "print(\"CBP, LTSE\", max_ltse, max_alpha, max_beta)"
   ]
  },
  {
   "cell_type": "code",
   "execution_count": 148,
   "metadata": {},
   "outputs": [
    {
     "data": {
      "text/plain": [
       "<matplotlib.legend.Legend at 0x1a1e976f90>"
      ]
     },
     "execution_count": 148,
     "metadata": {},
     "output_type": "execute_result"
    },
    {
     "data": {
      "image/png": "[encoded data removed]",
      "text/plain": [
       "<Figure size 432x288 with 1 Axes>"
      ]
     },
     "metadata": {
      "needs_background": "light"
     },
     "output_type": "display_data"
    }
   ],
   "source": [
    "x = np.arange(ngp.shape[0])\n",
    "\n",
    "bar_width = 0.20\n",
    "\n",
    "plt.bar(x-bar_width*1, ngp_t_cp[0:len(x)], width = bar_width, color='#E69F00', align='center', label='cp')\n",
    "plt.bar(x+bar_width*0, ngp_t_cbp[0:len(x)], width = bar_width, color='#56B4E9', align='center', label='cbp')\n",
    "plt.bar(x+bar_width*1, ngp_t_cbp_p[0:len(x)], width = bar_width, color='#009E73', align='center', label=\"cbp+\")\n",
    "plt.bar(x+bar_width*2, ngp, width = bar_width, color='black', align='center', label=\"Observed\")\n",
    "\n",
    "#plt.rc('font', size=13)\n",
    "plt.ylabel('$P(\\\\mathcal{Q})$')\n",
    "plt.xlabel('$m$')\n",
    "plt.xlim(-1, 15)\n",
    "plt.legend()\n",
    "#plt.savefig(\"probability_of_querying.png\", dpi=300)"
   ]
  },
  {
   "cell_type": "markdown",
   "metadata": {},
   "source": [
    "## Markov + Simulation"
   ]
  },
  {
   "cell_type": "code",
   "execution_count": 149,
   "metadata": {},
   "outputs": [],
   "source": [
    "def get_double_table_dist(alpha, dd):\n",
    "    res = defaultdict(float)\n",
    "    norm = defaultdict(float)\n",
    "    for topic in sub_topics:\n",
    "        num_subtopics = len(sub_topics[topic])\n",
    "\n",
    "        all_r_documents = {}\n",
    "        all_r_inverted_index = {}\n",
    "        for sub_topic in sub_topics[topic]:\n",
    "            r_documents, r_inverted_index = get_search_engine(topic, sub_topic, qrels, direct_index)\n",
    "            all_r_documents[sub_topic] = r_documents\n",
    "            all_r_inverted_index[sub_topic] = r_inverted_index\n",
    "\n",
    "        rel_table, irr_table, p_rel, _ = get_transitions_tables(num_subtopics, min(sub_topics[topic]), all_sequences[topic], 0.0001)\n",
    "\n",
    "        for _ in range(num_samples):\n",
    "            sg = SequenceGenerator(num_subtopics, min(sub_topics[topic]), rel_table, irr_table)\n",
    "            for m, (sub_topic, _) in enumerate(sg):\n",
    "                if sub_topic != num_subtopics + 1 + min(sub_topics[topic]) - 1:\n",
    "                    query = ''\n",
    "                    if sub_topic in all_queries[topic] and len(all_queries[topic][sub_topic]) > 0: \n",
    "                        queries = list(all_queries[topic][sub_topic])\n",
    "                        query = queries[choice(range(len(queries)))]\n",
    "\n",
    "                    search = Search(all_r_inverted_index[sub_topic], pre_preocessor)\n",
    "                    answer = search.search(query, n=1, retrievable_paragraphs=all_r_documents[sub_topic].keys())[0]\n",
    "                    \n",
    "                    if sub_topic in qrels_users[topic] and answer in qrels_users[topic][sub_topic] and np.random.uniform(0,1) < qrels_users[topic][sub_topic][answer]:\n",
    "                        sg.set_relevance(True)\n",
    "                    else:\n",
    "                        sg.set_relevance(False)\n",
    "                        \n",
    "                    res[m] += dd(alpha, m, len(sequence[:-1]))\n",
    "                    norm[m] += 1\n",
    "\n",
    "    for m in res:\n",
    "        res[m] /= norm[m]\n",
    "        \n",
    "    nres = np.array([value for key, value in res.items()])\n",
    "    nres = nres / np.sum(nres)\n",
    "    return nres\n",
    "\n",
    "\n",
    "def get_double_table_dist2(alpha, beta):\n",
    "    res = defaultdict(float) \n",
    "    norm = defaultdict(float) \n",
    "    \n",
    "    for topic in sub_topics:\n",
    "        num_subtopics = len(sub_topics[topic])\n",
    "\n",
    "        all_r_documents = {}\n",
    "        all_r_inverted_index = {}\n",
    "        for sub_topic in sub_topics[topic]:\n",
    "            r_documents, r_inverted_index = get_search_engine(topic, sub_topic, qrels, direct_index)\n",
    "            all_r_documents[sub_topic] = r_documents\n",
    "            all_r_inverted_index[sub_topic] = r_inverted_index\n",
    "\n",
    "        rel_table, irr_table, p_rel, _ = get_transitions_tables(num_subtopics, min(sub_topics[topic]), all_sequences[topic], 0.001)\n",
    "\n",
    "        for _ in range(num_samples):\n",
    "            sg = SequenceGenerator(num_subtopics, min(sub_topics[topic]), rel_table, irr_table)\n",
    "            sequence = []\n",
    "            for m, (sub_topic, _) in enumerate(sg):\n",
    "                if sub_topic != num_subtopics + 1 + min(sub_topics[topic]) - 1:\n",
    "                    query = ''\n",
    "                    if sub_topic in all_queries[topic] and len(all_queries[topic][sub_topic]) > 0: \n",
    "                        queries = list(all_queries[topic][sub_topic])\n",
    "                        query = queries[choice(range(len(queries)))]\n",
    "\n",
    "                    search = Search(all_r_inverted_index[sub_topic], pre_preocessor)\n",
    "                    answer = search.search(query, n=1, retrievable_paragraphs=all_r_documents[sub_topic].keys())[0]\n",
    "                    \n",
    "                    if sub_topic in qrels_users[topic] and answer in qrels_users[topic][sub_topic] and np.random.uniform(0,1) < qrels_users[topic][sub_topic][answer]:\n",
    "                        sg.set_relevance(True)\n",
    "                        sequence.append((None, None, 'relevant', None, None))\n",
    "                    else:\n",
    "                        sg.set_relevance(False)\n",
    "                        sequence.append((None, None, 'irrelevant', None, None))\n",
    "\n",
    "                    res[m] += dd_cbp_p(alpha, beta, m, sequence)\n",
    "                    norm[m] += 1\n",
    "\n",
    "    for m in res:\n",
    "        res[m] /= norm[m]\n",
    "\n",
    "    nres = np.array([value for key, value in res.items()])\n",
    "    nres = nres / np.sum(nres)\n",
    "    return nres"
   ]
  },
  {
   "cell_type": "code",
   "execution_count": 150,
   "metadata": {},
   "outputs": [
    {
     "name": "stdout",
     "output_type": "stream",
     "text": [
      "CP, LTSE -2.1614551910283293\n"
     ]
    }
   ],
   "source": [
    "ngp_t2_cp = get_double_table_dist(None, lambda alpha, m, l : 1)\n",
    "print(\"CP, LTSE\", ltse(ngp, ngp_t2_cp))"
   ]
  },
  {
   "cell_type": "code",
   "execution_count": 151,
   "metadata": {},
   "outputs": [
    {
     "data": {
      "application/vnd.jupyter.widget-view+json": {
       "model_id": "b31beb7b49ad48529ea05ceb81509706",
       "version_major": 2,
       "version_minor": 0
      },
      "text/plain": [
       "HBox(children=(FloatProgress(value=0.0, max=101.0), HTML(value='')))"
      ]
     },
     "metadata": {},
     "output_type": "display_data"
    },
    {
     "name": "stdout",
     "output_type": "stream",
     "text": [
      "\n",
      "CBP, LMSE -5.4286815803638655 0.78\n"
     ]
    }
   ],
   "source": [
    "res = 100\n",
    "max_alpha = 0.0\n",
    "max_ltse = 0.0\n",
    "ngp_t2_cbp = None\n",
    "for alpha in tqdm(range(0, res+1)):\n",
    "    alpha /= res\n",
    "    \n",
    "    ngp_t2 = get_double_table_dist(alpha, lambda alpha, m, l : alpha**m)\n",
    "            \n",
    "    score = ltse(ngp, ngp_t2)\n",
    "    if score < max_ltse:\n",
    "        max_ltse = score\n",
    "        max_alpha = alpha\n",
    "        ngp_t2_cbp = ngp_t2\n",
    "        \n",
    "print(\"CBP, LMSE\", max_lmse, max_alpha)"
   ]
  },
  {
   "cell_type": "code",
   "execution_count": null,
   "metadata": {},
   "outputs": [
    {
     "data": {
      "application/vnd.jupyter.widget-view+json": {
       "model_id": "87ac6e51145543de91804c07c9ba71c9",
       "version_major": 2,
       "version_minor": 0
      },
      "text/plain": [
       "HBox(children=(FloatProgress(value=0.0, max=11.0), HTML(value='')))"
      ]
     },
     "metadata": {},
     "output_type": "display_data"
    }
   ],
   "source": [
    "res = 10\n",
    "max_alpha = 0.0\n",
    "max_beta = 0.0\n",
    "max_ltse = 0.0\n",
    "ngp_t2_cbp_p = None\n",
    "for alpha in tqdm(range(0, res+1)):\n",
    "    alpha /= res\n",
    "    \n",
    "    for beta in range(0, res+1):\n",
    "        beta /= res\n",
    "        \n",
    "        ngp_t2 = get_double_table_dist2(alpha, beta)\n",
    "\n",
    "        score = ltse(ngp, ngp_t2)\n",
    "        if score < max_ltse:\n",
    "            max_ltse = score\n",
    "            max_alpha = alpha\n",
    "            max_beta = beta\n",
    "            ngp_t2_cbp_p = ngp_t2\n",
    "        \n",
    "print(\"CBP, LMSE\", max_ltse, max_alpha, max_beta)"
   ]
  },
  {
   "cell_type": "code",
   "execution_count": 153,
   "metadata": {},
   "outputs": [
    {
     "data": {
      "text/plain": [
       "<matplotlib.legend.Legend at 0x1a1e99b690>"
      ]
     },
     "execution_count": 153,
     "metadata": {},
     "output_type": "execute_result"
    },
    {
     "data": {
      "image/png": "[encoded data removed]",
      "text/plain": [
       "<Figure size 432x288 with 1 Axes>"
      ]
     },
     "metadata": {
      "needs_background": "light"
     },
     "output_type": "display_data"
    }
   ],
   "source": [
    "x = np.arange(ngp.shape[0])\n",
    "\n",
    "bar_width = 0.20\n",
    "\n",
    "plt.bar(x-bar_width*1, ngp_t2_cp[0:len(x)], width = bar_width, color='#E69F00', align='center', label='p')\n",
    "plt.bar(x+bar_width*0, ngp_t2_cbp[0:len(x)], width = bar_width, color='#56B4E9', align='center', label='cbp')\n",
    "plt.bar(x+bar_width*1, ngp_t2_cbp_p[0:len(x)], width = bar_width, color='#009E73', align='center', label=\"cbp+\")\n",
    "plt.bar(x+bar_width*2, ngp, width = bar_width, color='black', align='center', label=\"Observed\")\n",
    "\n",
    "#plt.rc('font', size=13)\n",
    "plt.ylabel('$P(\\\\mathcal{Q})$')\n",
    "plt.xlabel('$m$')\n",
    "plt.xlim(-1, 15)\n",
    "plt.legend()\n",
    "#plt.savefig(\"probability_of_querying.png\", dpi=300)"
   ]
  },
  {
   "cell_type": "code",
   "execution_count": 155,
   "metadata": {},
   "outputs": [
    {
     "data": {
      "text/plain": [
       "<matplotlib.legend.Legend at 0x1a26be2f90>"
      ]
     },
     "execution_count": 155,
     "metadata": {},
     "output_type": "execute_result"
    },
    {
     "data": {
      "image/png": "[encoded data removed]",
      "text/plain": [
       "<Figure size 432x288 with 1 Axes>"
      ]
     },
     "metadata": {
      "needs_background": "light"
     },
     "output_type": "display_data"
    }
   ],
   "source": [
    "x = np.arange(ngp.shape[0])\n",
    "\n",
    "bar_width = 0.20\n",
    "\n",
    "plt.bar(x-bar_width*1, ngp_t2_cbp_p[0:len(x)], width = bar_width, color='#E69F00', align='center', label='table 2')\n",
    "plt.bar(x+bar_width*0, ngp_t_cbp_p[0:len(x)], width = bar_width, color='#56B4E9', align='center', label='table')\n",
    "plt.bar(x+bar_width*1, ngp_u_cbp_p[0:len(x)], width = bar_width, color='#009E73', align='center', label=\"uniform\")\n",
    "plt.bar(x+bar_width*2, ngp, width = bar_width, color='black', align='center', label=\"Observed\")\n",
    "\n",
    "#plt.rc('font', size=13)\n",
    "plt.ylabel('$P(\\\\mathcal{Q})$')\n",
    "plt.xlabel('$m$')\n",
    "plt.xlim(-1, 15)\n",
    "plt.legend()\n",
    "#plt.savefig(\"probability_of_querying.png\", dpi=300)"
   ]
  },
  {
   "cell_type": "markdown",
   "metadata": {},
   "source": [
    "# Correlation Analysis with Satisfaction"
   ]
  },
  {
   "cell_type": "code",
   "execution_count": 132,
   "metadata": {},
   "outputs": [
    {
     "data": {
      "application/vnd.jupyter.widget-view+json": {
       "model_id": "393ec61acf5b4d919daadc11c2890fae",
       "version_major": 2,
       "version_minor": 0
      },
      "text/plain": [
       "HBox(children=(FloatProgress(value=0.0, max=11.0), HTML(value='')))"
      ]
     },
     "metadata": {},
     "output_type": "display_data"
    },
    {
     "name": "stdout",
     "output_type": "stream",
     "text": [
      "\n"
     ]
    },
    {
     "data": {
      "text/plain": [
       "[(1, 0.762770062735889),\n",
       " (2, 0.8533936176528112),\n",
       " (3, 0.9226404063120115),\n",
       " (4, 0.7061487535404528),\n",
       " (5, 0.590362376063788),\n",
       " (6, 0.7886455248373765),\n",
       " (7, 0.8824769683687621),\n",
       " (8, 0.6272470146396827),\n",
       " (9, 0.7815201481458842),\n",
       " (10, 0.7531536996691425),\n",
       " (11, 0.8663886612288991)]"
      ]
     },
     "execution_count": 132,
     "metadata": {},
     "output_type": "execute_result"
    }
   ],
   "source": [
    "topic_scores = []\n",
    "for topic in tqdm(topics):\n",
    "    num_subtopics = len(sub_topics[topic])\n",
    "\n",
    "    all_r_documents = {}\n",
    "    all_r_inverted_index = {}\n",
    "    for sub_topic in sub_topics[topic]:\n",
    "        r_documents, r_inverted_index = get_search_engine(topic, sub_topic, qrels, direct_index)\n",
    "        all_r_documents[sub_topic] = r_documents\n",
    "        all_r_inverted_index[sub_topic] = r_inverted_index\n",
    "\n",
    "    scores = []\n",
    "    for n in range(num_samples):\n",
    "        sequence, _ = generate_sequence(len(sub_topics[topic]), min(sub_topics[topic]))\n",
    "\n",
    "        score = 0.0\n",
    "        norm = 0.0\n",
    "        for m, action in enumerate(sequence[:-1]):\n",
    "            sub_topic = action[3]\n",
    "            query = action[4]\n",
    "\n",
    "            query = ''\n",
    "            if sub_topic in all_queries[topic] and len(all_queries[topic][sub_topic]) > 0: \n",
    "                queries = list(all_queries[topic][sub_topic])\n",
    "                query = queries[choice(range(len(queries)))]\n",
    "\n",
    "            search = Search(all_r_inverted_index[sub_topic], pre_preocessor)\n",
    "            answer = search.search(query, n=1, retrievable_paragraphs=all_r_documents[sub_topic].keys())[0]\n",
    "\n",
    "            rel = 0.0\n",
    "            if sub_topic in qrels_users[topic] and answer in qrels_users[topic][sub_topic]:\n",
    "                rel = qrels_users[topic][sub_topic][answer]\n",
    "                \n",
    "            score += rel\n",
    "            norm += 1\n",
    "            \n",
    "        scores.append(score/norm)\n",
    "\n",
    "    if scores:\n",
    "        scores = np.array(scores)\n",
    "        topic_score = np.mean(scores)\n",
    "        topic_scores.append((topic, topic_score))\n",
    "    else:\n",
    "        topic_scores.append((topic, 0.0))\n",
    "\n",
    "uniform_sim_system_scores = sorted(topic_scores)\n",
    "uniform_sim_system_scores"
   ]
  },
  {
   "cell_type": "code",
   "execution_count": 109,
   "metadata": {},
   "outputs": [
    {
     "name": "stdout",
     "output_type": "stream",
     "text": [
      "KendalltauResult(correlation=0.6482593132545565, pvalue=0.006117582447622464)\n",
      "SpearmanrResult(correlation=0.7671312851617349, pvalue=0.005860949194525314)\n",
      "(0.9189546710456666, 6.390226682697633e-05)\n"
     ]
    },
    {
     "data": {
      "image/png": "[encoded data removed]",
      "text/plain": [
       "<Figure size 432x288 with 1 Axes>"
      ]
     },
     "metadata": {
      "needs_background": "light"
     },
     "output_type": "display_data"
    }
   ],
   "source": [
    "plt.plot([i[1] for i in uniform_sim_system_scores], [i[1] for i in satisfaction_scores], 'o')\n",
    "print(kendalltau([i[1] for i in uniform_sim_system_scores], [i[1] for i in satisfaction_scores]))\n",
    "print(spearmanr([i[1] for i in uniform_sim_system_scores], [i[1] for i in satisfaction_scores]))\n",
    "print(pearsonr([i[1] for i in uniform_sim_system_scores], [i[1] for i in satisfaction_scores]))"
   ]
  },
  {
   "cell_type": "code",
   "execution_count": null,
   "metadata": {},
   "outputs": [],
   "source": [
    "plt.plot([i[1] for i in uniform_sim_system_scores], [i[1] for i in satisfaction_scores], 'o')\n",
    "print(kendalltau([i[1] for i in uniform_sim_system_scores], [i[1] for i in satisfaction_scores]))\n",
    "print(spearmanr([i[1] for i in uniform_sim_system_scores], [i[1] for i in satisfaction_scores]))\n",
    "print(pearsonr([i[1] for i in uniform_sim_system_scores], [i[1] for i in satisfaction_scores]))"
   ]
  },
  {
   "cell_type": "code",
   "execution_count": 103,
   "metadata": {},
   "outputs": [
    {
     "data": {
      "application/vnd.jupyter.widget-view+json": {
       "model_id": "ea5027e1df1147589e7c5a1f251d3ee2",
       "version_major": 2,
       "version_minor": 0
      },
      "text/plain": [
       "HBox(children=(FloatProgress(value=0.0, max=11.0), HTML(value='')))"
      ]
     },
     "metadata": {},
     "output_type": "display_data"
    },
    {
     "name": "stdout",
     "output_type": "stream",
     "text": [
      "\n"
     ]
    },
    {
     "data": {
      "text/plain": [
       "[(1, 0.7264720872542596),\n",
       " (2, 0.8578781148805954),\n",
       " (3, 0.9071334666396406),\n",
       " (4, 0.6157307327499238),\n",
       " (5, 0.5769248189116538),\n",
       " (6, 0.8227734493139862),\n",
       " (7, 0.8694614364638016),\n",
       " (8, 0.5701797759243734),\n",
       " (9, 0.8282828894937792),\n",
       " (10, 0.7424616936825696),\n",
       " (11, 0.7825486657272813)]"
      ]
     },
     "execution_count": 103,
     "metadata": {},
     "output_type": "execute_result"
    }
   ],
   "source": [
    "topic_scores = []\n",
    "for topic in tqdm(topics):\n",
    "    num_subtopics = len(sub_topics[topic])\n",
    "\n",
    "    all_r_documents = {}\n",
    "    all_r_inverted_index = {}\n",
    "    for sub_topic in sub_topics[topic]:\n",
    "        r_documents, r_inverted_index = get_search_engine(topic, sub_topic, qrels, direct_index)\n",
    "        all_r_documents[sub_topic] = r_documents\n",
    "        all_r_inverted_index[sub_topic] = r_inverted_index\n",
    "\n",
    "    transitions_table = get_transitions_table(num_subtopics, min(sub_topics[topic]), all_sequences[topic])\n",
    "\n",
    "    scores = []\n",
    "    for n in range(num_samples):\n",
    "        sequence, prob = generate_sequence_from_table(num_subtopics, min(sub_topics[topic]), transitions_table)\n",
    "\n",
    "        score = 0.0\n",
    "        norm = 0.0\n",
    "        for m, action in enumerate(sequence[:-1]):\n",
    "            sub_topic = action[3]\n",
    "            query = action[4]\n",
    "\n",
    "            query = ''\n",
    "            if sub_topic in all_queries[topic] and len(all_queries[topic][sub_topic]) > 0: \n",
    "                queries = list(all_queries[topic][sub_topic])\n",
    "                query = queries[choice(range(len(queries)))]\n",
    "\n",
    "            search = Search(all_r_inverted_index[sub_topic], pre_preocessor)\n",
    "            answer = search.search(query, n=1, retrievable_paragraphs=all_r_documents[sub_topic].keys())[0]\n",
    "\n",
    "            rel = 0.0\n",
    "            if sub_topic in qrels_users[topic] and answer in qrels_users[topic][sub_topic]:\n",
    "                rel = qrels_users[topic][sub_topic][answer]\n",
    "                \n",
    "            score += rel\n",
    "            norm += 1\n",
    "            \n",
    "        scores.append(score/norm)\n",
    "\n",
    "    if scores:\n",
    "        scores = np.array(scores)\n",
    "        topic_score = np.mean(scores)\n",
    "        topic_scores.append((topic, topic_score))\n",
    "    else:\n",
    "        topic_scores.append((topic, 0.0))\n",
    "\n",
    "table_sim_system_scores = sorted(topic_scores)\n",
    "table_sim_system_scores"
   ]
  },
  {
   "cell_type": "code",
   "execution_count": 104,
   "metadata": {},
   "outputs": [
    {
     "name": "stdout",
     "output_type": "stream",
     "text": [
      "KendalltauResult(correlation=0.759389481241052, pvalue=0.0013210471654040165)\n",
      "SpearmanrResult(correlation=0.8630226958069518, pvalue=0.0006236016959127901)\n",
      "(0.8809872248878505, 0.0003403208798428066)\n"
     ]
    },
    {
     "data": {
      "image/png": "[encoded data removed]",
      "text/plain": [
       "<Figure size 432x288 with 1 Axes>"
      ]
     },
     "metadata": {
      "needs_background": "light"
     },
     "output_type": "display_data"
    }
   ],
   "source": [
    "plt.plot([i[1] for i in table_sim_system_scores], [i[1] for i in satisfaction_scores], 'o')\n",
    "print(kendalltau([i[1] for i in table_sim_system_scores], [i[1] for i in satisfaction_scores]))\n",
    "print(spearmanr([i[1] for i in table_sim_system_scores], [i[1] for i in satisfaction_scores]))\n",
    "print(pearsonr([i[1] for i in table_sim_system_scores], [i[1] for i in satisfaction_scores]))"
   ]
  },
  {
   "cell_type": "code",
   "execution_count": 115,
   "metadata": {},
   "outputs": [
    {
     "data": {
      "application/vnd.jupyter.widget-view+json": {
       "model_id": "3b9c0f1c3f674c9c89c96b5ccb061405",
       "version_major": 2,
       "version_minor": 0
      },
      "text/plain": [
       "HBox(children=(FloatProgress(value=0.0, max=11.0), HTML(value='')))"
      ]
     },
     "metadata": {},
     "output_type": "display_data"
    },
    {
     "name": "stdout",
     "output_type": "stream",
     "text": [
      "\n"
     ]
    },
    {
     "data": {
      "text/plain": [
       "[(1, 0.7294545180644723),\n",
       " (2, 0.8553605773327895),\n",
       " (3, 0.8989598675820376),\n",
       " (4, 0.6269565321972065),\n",
       " (5, 0.5837254402537244),\n",
       " (6, 0.8090523639273562),\n",
       " (7, 0.863684257095535),\n",
       " (8, 0.5652870189989936),\n",
       " (9, 0.8362258920955621),\n",
       " (10, 0.7357550466760356),\n",
       " (11, 0.7814501057105049)]"
      ]
     },
     "execution_count": 115,
     "metadata": {},
     "output_type": "execute_result"
    }
   ],
   "source": [
    "topic_scores = []\n",
    "for topic in tqdm(topics):\n",
    "    num_subtopics = len(sub_topics[topic])\n",
    "\n",
    "    all_r_documents = {}\n",
    "    all_r_inverted_index = {}\n",
    "    for sub_topic in sub_topics[topic]:\n",
    "        r_documents, r_inverted_index = get_search_engine(topic, sub_topic, qrels, direct_index)\n",
    "        all_r_documents[sub_topic] = r_documents\n",
    "        all_r_inverted_index[sub_topic] = r_inverted_index\n",
    "\n",
    "    rel_table, irr_table, p_rel, _ = get_transitions_tables(num_subtopics, min(sub_topics[topic]), all_sequences[topic], 0.01)\n",
    "\n",
    "    # compute metric\n",
    "    scores = []\n",
    "    for n in range(num_samples):\n",
    "        score = 0.0\n",
    "        norm = 0.0\n",
    "        sg = SequenceGenerator(num_subtopics, min(sub_topics[topic]), rel_table, irr_table)\n",
    "        sequence = []\n",
    "        for m, (sub_topic, prob_subtopic)  in enumerate(sg):\n",
    "            if sub_topic != num_subtopics + 1 + min(sub_topics[topic]) - 1:\n",
    "                prob *= prob_subtopic\n",
    "                is_rel = False\n",
    "                query = ''\n",
    "                if sub_topic in all_queries[topic] and len(all_queries[topic][sub_topic]) > 0: \n",
    "                    queries = list(all_queries[topic][sub_topic])\n",
    "                    query = queries[choice(range(len(queries)))]\n",
    "\n",
    "                search = Search(all_r_inverted_index[sub_topic], pre_preocessor)\n",
    "                answer = search.search(query, n=1, retrievable_paragraphs=all_r_documents[sub_topic].keys())[0]\n",
    "\n",
    "                rel = 0.0\n",
    "                if sub_topic in qrels_users[topic] and answer in qrels_users[topic][sub_topic]:\n",
    "                    if np.random.uniform(0,1) < qrels_users[topic][sub_topic][answer]:\n",
    "                        sg.set_relevance(True)\n",
    "                        sequence.append((None, None, 'relevant', None, None))\n",
    "                    else:\n",
    "                        sg.set_relevance(False)\n",
    "                        sequence.append((None, None, 'irrelevant', None, None))                        \n",
    "                    rel = qrels_users[topic][sub_topic][answer]\n",
    "                else:\n",
    "                    sg.set_relevance(False)\n",
    "                    sequence.append((None, None, 'irrelevant', None, None))\n",
    "                \n",
    "                \n",
    "                score += rel\n",
    "                norm += 1\n",
    "\n",
    "        scores.append(score/norm)\n",
    "\n",
    "    if scores:\n",
    "        scores = np.array(scores)\n",
    "        topic_score = np.mean(scores)\n",
    "        topic_scores.append((topic, topic_score))\n",
    "    else:\n",
    "        topic_scores.append((topic, 0.0))\n",
    "\n",
    "system_scores = sorted(topic_scores)\n",
    "\n",
    "system_scores"
   ]
  },
  {
   "cell_type": "code",
   "execution_count": 116,
   "metadata": {},
   "outputs": [
    {
     "name": "stdout",
     "output_type": "stream",
     "text": [
      "KendalltauResult(correlation=0.759389481241052, pvalue=0.0013210471654040165)\n",
      "SpearmanrResult(correlation=0.8630226958069518, pvalue=0.0006236016959127901)\n",
      "(0.8832298816864123, 0.00031345031993632337)\n"
     ]
    },
    {
     "data": {
      "image/png": "[encoded data removed]",
      "text/plain": [
       "<Figure size 432x288 with 1 Axes>"
      ]
     },
     "metadata": {
      "needs_background": "light"
     },
     "output_type": "display_data"
    }
   ],
   "source": [
    "plt.plot([i[1] for i in system_scores], [i[1] for i in satisfaction_scores], 'o')\n",
    "print(kendalltau([i[1] for i in system_scores], [i[1] for i in satisfaction_scores]))\n",
    "print(spearmanr([i[1] for i in system_scores], [i[1] for i in satisfaction_scores]))\n",
    "print(pearsonr([i[1] for i in system_scores], [i[1] for i in satisfaction_scores]))\n",
    "\n"
   ]
  },
  {
   "cell_type": "code",
   "execution_count": 113,
   "metadata": {},
   "outputs": [
    {
     "name": "stdout",
     "output_type": "stream",
     "text": [
      "KendalltauResult(correlation=0.6727272727272727, pvalue=0.0031063111271444604)\n",
      "SpearmanrResult(correlation=0.8000000000000002, pvalue=0.0031104283103858483)\n",
      "(0.8647546896442244, 0.0005904360432073924)\n"
     ]
    },
    {
     "data": {
      "image/png": "[encoded data removed]",
      "text/plain": [
       "<Figure size 432x288 with 1 Axes>"
      ]
     },
     "metadata": {
      "needs_background": "light"
     },
     "output_type": "display_data"
    }
   ],
   "source": [
    "plt.plot([i[1] for i in system_scores], [i[1] for i in ncbp_scores], 'o')\n",
    "print(kendalltau([i[1] for i in system_scores], [i[1] for i in ncbp_scores]))\n",
    "print(spearmanr([i[1] for i in system_scores], [i[1] for i in ncbp_scores]))\n",
    "print(pearsonr([i[1] for i in system_scores], [i[1] for i in ncbp_scores]))"
   ]
  },
  {
   "cell_type": "code",
   "execution_count": 57,
   "metadata": {},
   "outputs": [
    {
     "data": {
      "application/vnd.jupyter.widget-view+json": {
       "model_id": "60c7326d02954f838161b76f124fc574",
       "version_major": 2,
       "version_minor": 0
      },
      "text/plain": [
       "HBox(children=(FloatProgress(value=0.0, max=11.0), HTML(value='')))"
      ]
     },
     "metadata": {},
     "output_type": "display_data"
    },
    {
     "name": "stdout",
     "output_type": "stream",
     "text": [
      "\n"
     ]
    },
    {
     "data": {
      "text/plain": [
       "[(0.0, 0.5990411683655059),\n",
       " (0.1, 0.23892707565406066),\n",
       " (0.2, 0.1882925909385129),\n",
       " (0.3, 0.11470096829422398),\n",
       " (0.4, 0.09781414835830922),\n",
       " (0.5, 0.10366885926110005),\n",
       " (0.6, 0.08672672279096678),\n",
       " (0.7, 0.08140980379790647),\n",
       " (0.8, 0.07947905090882018),\n",
       " (0.9, 0.08515765405331138),\n",
       " (1.0, 0.0766703986810347)]"
      ]
     },
     "execution_count": 57,
     "metadata": {},
     "output_type": "execute_result"
    }
   ],
   "source": [
    "# comparison of a system with without filtering, or with noise\n",
    "# compute transition on sessions using the transition probabilities.\n",
    "noise = 0.0\n",
    "\n",
    "means = []\n",
    "for noise in tqdm(range(0, 11)):\n",
    "    noise = noise/10\n",
    "\n",
    "    topic_scores = []\n",
    "\n",
    "    for topic in topics:\n",
    "        num_subtopics = len(sub_topics[topic])\n",
    "\n",
    "        all_r_documents = {}\n",
    "        all_r_inverted_index = {}\n",
    "        for sub_topic in sub_topics[topic]:\n",
    "            r_documents, r_inverted_index = get_search_engine(topic, sub_topic, qrels, direct_index, noise)\n",
    "            all_r_documents[sub_topic] = r_documents\n",
    "            all_r_inverted_index[sub_topic] = r_inverted_index\n",
    "\n",
    "        rel_table, irr_table, p_rel, _ = get_transitions_tables(num_subtopics, min(sub_topics[topic]), all_sequences[topic], 0.01)\n",
    "\n",
    "        # compute metric\n",
    "        scores = []\n",
    "        for n in range(50):\n",
    "            score = 0.0\n",
    "            norm = 0.0\n",
    "            sg = SequenceGenerator(num_subtopics, min(sub_topics[topic]), rel_table, irr_table)\n",
    "            sequence = []\n",
    "            for m, (sub_topic, prob_subtopic)  in enumerate(sg):\n",
    "                if sub_topic != num_subtopics + 1 + min(sub_topics[topic]) - 1:\n",
    "                    prob *= prob_subtopic\n",
    "                    is_rel = False\n",
    "                    query = ''\n",
    "                    if sub_topic in all_queries[topic] and len(all_queries[topic][sub_topic]) > 0: \n",
    "                        queries = list(all_queries[topic][sub_topic])\n",
    "                        query = queries[choice(range(len(queries)))]\n",
    "\n",
    "                    search = Search(all_r_inverted_index[sub_topic], pre_preocessor)\n",
    "                    answer = search.search(query, n=1, retrievable_paragraphs=all_r_documents[sub_topic].keys())[0]\n",
    "\n",
    "                    rel = 0.0\n",
    "                    if sub_topic in qrels_users[topic] and answer in qrels_users[topic][sub_topic] and np.random.uniform(0,1) < qrels_users[topic][sub_topic][answer]:\n",
    "                        sg.set_relevance(True)\n",
    "                        sequence.append((None, None, 'relevant', None, None))\n",
    "                        rel = qrels_users[topic][sub_topic][answer]\n",
    "                    else:\n",
    "                        sg.set_relevance(False)\n",
    "                        sequence.append((None, None, 'irrelevant', None, None))\n",
    "\n",
    "                    score += dd_cbp_p(alpha, beta, m, sequence) * rel\n",
    "                    norm += dd_cbp_p(alpha, beta, m, sequence)\n",
    "            scores.append(score/norm)\n",
    "\n",
    "        if scores:\n",
    "            scores = np.array(scores)\n",
    "            topic_score = np.mean(scores)\n",
    "            topic_scores.append(topic_score)\n",
    "        else:\n",
    "            topic_scores.append(0.0)\n",
    "\n",
    "    system_scores = np.mean(topic_scores)\n",
    "    \n",
    "    means.append((noise, system_scores))\n",
    "    \n",
    "means\n"
   ]
  },
  {
   "cell_type": "code",
   "execution_count": 58,
   "metadata": {},
   "outputs": [
    {
     "data": {
      "text/plain": [
       "[<matplotlib.lines.Line2D at 0x1a3b2e3110>]"
      ]
     },
     "execution_count": 58,
     "metadata": {},
     "output_type": "execute_result"
    },
    {
     "data": {
      "image/png": "[encoded data removed]",
      "text/plain": [
       "<Figure size 432x288 with 1 Axes>"
      ]
     },
     "metadata": {
      "needs_background": "light"
     },
     "output_type": "display_data"
    }
   ],
   "source": [
    "plt.plot([i[0] for i in means], [i[1] for i in means], 'o')"
   ]
  },
  {
   "cell_type": "code",
   "execution_count": 230,
   "metadata": {},
   "outputs": [
    {
     "name": "stdout",
     "output_type": "stream",
     "text": [
      "KendalltauResult(correlation=0.5092285591855548, pvalue=0.04625414225661218)\n"
     ]
    },
    {
     "data": {
      "image/png": "[encoded data removed]",
      "text/plain": [
       "<Figure size 432x288 with 1 Axes>"
      ]
     },
     "metadata": {
      "needs_background": "light"
     },
     "output_type": "display_data"
    }
   ],
   "source": [
    "plt.plot([i[1] for i in system_scores], [i[1] for i in satisfaction_scores], 'o')\n",
    "print(kendalltau([i[1] for i in system_scores], [i[1] for i in satisfaction_scores]))"
   ]
  },
  {
   "cell_type": "code",
   "execution_count": 231,
   "metadata": {},
   "outputs": [
    {
     "name": "stdout",
     "output_type": "stream",
     "text": [
      "KendalltauResult(correlation=0.8499999999999999, pvalue=0.0014534154631930748)\n"
     ]
    },
    {
     "data": {
      "image/png": "[encoded data removed]",
      "text/plain": [
       "<Figure size 432x288 with 1 Axes>"
      ]
     },
     "metadata": {
      "needs_background": "light"
     },
     "output_type": "display_data"
    }
   ],
   "source": [
    "plt.plot([i[1] for i in uniform_sim_system_scores], [i[1] for i in system_scores], 'o')\n",
    "print(kendalltau([i[1] for i in uniform_sim_system_scores], [i[1] for i in system_scores]))"
   ]
  },
  {
   "cell_type": "code",
   "execution_count": 232,
   "metadata": {},
   "outputs": [
    {
     "name": "stdout",
     "output_type": "stream",
     "text": [
      "KendalltauResult(correlation=0.9219544457292885, pvalue=0.0007118113571692198)\n"
     ]
    },
    {
     "data": {
      "image/png": "[encoded data removed]",
      "text/plain": [
       "<Figure size 432x288 with 1 Axes>"
      ]
     },
     "metadata": {
      "needs_background": "light"
     },
     "output_type": "display_data"
    }
   ],
   "source": [
    "plt.plot([i[1] for i in table_sim_system_scores], [i[1] for i in system_scores], 'o')\n",
    "print(kendalltau([i[1] for i in table_sim_system_scores], [i[1] for i in system_scores]))"
   ]
  },
  {
   "cell_type": "code",
   "execution_count": 233,
   "metadata": {},
   "outputs": [
    {
     "name": "stdout",
     "output_type": "stream",
     "text": [
      "KendalltauResult(correlation=0.5092285591855548, pvalue=0.04625414225661218)\n"
     ]
    },
    {
     "data": {
      "image/png": "[encoded data removed]",
      "text/plain": [
       "<Figure size 432x288 with 1 Axes>"
      ]
     },
     "metadata": {
      "needs_background": "light"
     },
     "output_type": "display_data"
    }
   ],
   "source": [
    "plt.plot([i[1] for i in system_scores], [i[1] for i in satisfaction_scores], 'o')\n",
    "print(kendalltau([i[1] for i in system_scores], [i[1] for i in satisfaction_scores]))"
   ]
  },
  {
   "cell_type": "code",
   "execution_count": null,
   "metadata": {},
   "outputs": [],
   "source": []
  },
  {
   "cell_type": "code",
   "execution_count": null,
   "metadata": {},
   "outputs": [],
   "source": []
  },
  {
   "cell_type": "code",
   "execution_count": null,
   "metadata": {},
   "outputs": [],
   "source": [
    "\n",
    "\n"
   ]
  },
  {
   "cell_type": "code",
   "execution_count": 18,
   "metadata": {},
   "outputs": [],
   "source": []
  }
 ],
 "metadata": {
  "kernelspec": {
   "display_name": "Python 3",
   "language": "python",
   "name": "python3"
  },
  "language_info": {
   "codemirror_mode": {
    "name": "ipython",
    "version": 3
   },
   "file_extension": ".py",
   "mimetype": "text/x-python",
   "name": "python",
   "nbconvert_exporter": "python",
   "pygments_lexer": "ipython3",
   "version": "3.7.6"
  }
 },
 "nbformat": 4,
 "nbformat_minor": 4
}
