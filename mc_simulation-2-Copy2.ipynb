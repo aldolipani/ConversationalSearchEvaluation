{
 "cells": [
  {
   "cell_type": "code",
   "execution_count": 21,
   "metadata": {},
   "outputs": [],
   "source": [
    "import json\n",
    "import itertools\n",
    "import numpy as np\n",
    "import numpy.random as random\n",
    "import matplotlib.pyplot as plt\n",
    "from scipy.stats import *\n",
    "from collections import defaultdict\n",
    "from utils import get_session_ids, get_all_sequences, get_topics, get_sub_topics, RegExp, product,to_matrix\n",
    "from search_engine import *\n",
    "from numpy.random import choice\n",
    "from tqdm.notebook import tqdm\n",
    "from multiprocessing import Pool\n",
    "\n",
    "np.set_printoptions(precision=3)"
   ]
  },
  {
   "cell_type": "code",
   "execution_count": 22,
   "metadata": {},
   "outputs": [],
   "source": [
    "path_log = './data/log.2.tsv'\n",
    "path_topic = './data/topic.tsv'\n",
    "path_sub_topic = './data/sub_topic.tsv'\n",
    "path_retrievable_paragraph = './data/retrievable_paragraph.tsv'"
   ]
  },
  {
   "cell_type": "code",
   "execution_count": 3,
   "metadata": {},
   "outputs": [],
   "source": [
    "session_ids = get_session_ids(path_log)\n",
    "all_sequences = get_all_sequences(path_log, session_ids)"
   ]
  },
  {
   "cell_type": "code",
   "execution_count": 4,
   "metadata": {},
   "outputs": [],
   "source": [
    "topics = get_topics(path_topic)\n",
    "\n",
    "#topics"
   ]
  },
  {
   "cell_type": "code",
   "execution_count": 5,
   "metadata": {},
   "outputs": [],
   "source": [
    "# topic -> sub_topic -> queries\n",
    "all_queries = {}\n",
    "\n",
    "for topic in all_sequences:\n",
    "    \n",
    "    queries = defaultdict(list)\n",
    "    for sequence in all_sequences[topic]:\n",
    "        for action in sequence:\n",
    "            sub_topic = action[3]\n",
    "            query = action[4]\n",
    "            queries[sub_topic].append(query)\n",
    "    \n",
    "    all_queries[topic] = queries\n",
    "\n",
    "#all_queries"
   ]
  },
  {
   "cell_type": "code",
   "execution_count": 6,
   "metadata": {},
   "outputs": [],
   "source": [
    "# topic -> sub_topic -> paragraphs\n",
    "qrels = defaultdict(dict)\n",
    "\n",
    "sub_topic_to_paragraph = defaultdict(set)\n",
    "with open(path_retrievable_paragraph) as f:\n",
    "    for line in f.readlines()[1:]:\n",
    "        items = line.split('\\t')\n",
    "        sub_topic = int(items[0])\n",
    "        paragraph = int(items[1])\n",
    "        sub_topic_to_paragraph[sub_topic].add(paragraph)\n",
    "\n",
    "sub_topics = get_sub_topics(path_sub_topic)\n",
    "\n",
    "for topic in sub_topics:\n",
    "    for sub_topic in sub_topics[topic]:\n",
    "        qrels[topic][sub_topic] = sub_topic_to_paragraph[sub_topic]\n",
    "\n",
    "#qrels"
   ]
  },
  {
   "cell_type": "code",
   "execution_count": 7,
   "metadata": {},
   "outputs": [],
   "source": [
    "# from users binary\n",
    "# topic -> sub_topic -> paragraphs\n",
    "qrels_users = {}\n",
    "\n",
    "for topic in sub_topics:\n",
    "    for sequence in all_sequences[topic]:\n",
    "        for action in sequence:\n",
    "            paragraph = action[1]\n",
    "            rel = action[2]\n",
    "            sub_topic = action[3]\n",
    "            if rel == 'relevant':\n",
    "                if topic not in qrels_users:\n",
    "                    qrels_users[topic] = {}\n",
    "                if sub_topic not in qrels_users[topic]:\n",
    "                    qrels_users[topic][sub_topic] = set()\n",
    "                qrels_users[topic][sub_topic].add(paragraph)\n",
    "\n",
    "#qrels_users"
   ]
  },
  {
   "cell_type": "code",
   "execution_count": 8,
   "metadata": {},
   "outputs": [],
   "source": [
    "# from users continuos\n",
    "# topic -> sub_topic -> paragraphs\n",
    "qrels_users = {}\n",
    "\n",
    "for topic in sub_topics:\n",
    "    for sequence in all_sequences[topic]:\n",
    "        for action in sequence:\n",
    "            paragraph = action[1]\n",
    "            rel = action[2]\n",
    "            sub_topic = action[3]\n",
    "            if topic not in qrels_users:\n",
    "                qrels_users[topic] = {}\n",
    "            if sub_topic not in qrels_users[topic]:\n",
    "                qrels_users[topic][sub_topic] = {}\n",
    "            if paragraph not in qrels_users[topic][sub_topic]:\n",
    "                qrels_users[topic][sub_topic][paragraph] = (0, 0)\n",
    "            num, den = qrels_users[topic][sub_topic][paragraph]\n",
    "            if rel == 'relevant':\n",
    "                qrels_users[topic][sub_topic][paragraph] = (num + 1, den + 1)\n",
    "            else:\n",
    "                qrels_users[topic][sub_topic][paragraph] = (num, den + 1)\n",
    "\n",
    "for topic in qrels_users:\n",
    "    for sub_topic in qrels_users[topic]:\n",
    "        for paragraph in qrels_users[topic][sub_topic]:\n",
    "            num, den = qrels_users[topic][sub_topic][paragraph]\n",
    "            qrels_users[topic][sub_topic][paragraph] = num/den\n",
    "            \n",
    "#qrels_users"
   ]
  },
  {
   "cell_type": "code",
   "execution_count": 9,
   "metadata": {},
   "outputs": [],
   "source": [
    "direct_index = DirectIndex.load()"
   ]
  },
  {
   "cell_type": "code",
   "execution_count": 10,
   "metadata": {},
   "outputs": [
    {
     "name": "stdout",
     "output_type": "stream",
     "text": [
      "10 amazon rainforest 1\n",
      "over 204 documents\n",
      "[374, 236]\n",
      "10 amazon rainforest 2\n",
      "over 203 documents\n",
      "[371, 22]\n",
      "10 amazon rainforest 3\n",
      "over 205 documents\n",
      "[381, 379]\n",
      "10 amazon rainforest 4\n",
      "over 204 documents\n",
      "[386, 75]\n",
      "10 amazon rainforest 5\n",
      "over 203 documents\n",
      "[371, 5]\n"
     ]
    }
   ],
   "source": [
    "pre_preocessor = PreProcessor()\n",
    "\n",
    "def select_random_documents(documents:set, p:float=0.0):\n",
    "    assert(0.0 <= p <= 1.0)\n",
    "    if p == 0.0:\n",
    "        return set()\n",
    "    elif p == 1.0:\n",
    "        return documents\n",
    "    else:\n",
    "        return set(choice(list(documents), replace=False, size = int(len(documents) * p)))\n",
    "        \n",
    "def get_search_engine(topic, sub_topic, qrels, direct_index, noise = 0.0):\n",
    "    # select documents belonging to the topic\n",
    "    selected_documents = {}\n",
    "    for document in qrels[topic][sub_topic]:\n",
    "        selected_documents[document] = direct_index.index[document]\n",
    "        \n",
    "    # select random documents\n",
    "    # 1. from topic documents\n",
    "    topic_documents = set()\n",
    "    for _, sub_topic_documents in qrels[topic].items():\n",
    "        topic_documents.update(sub_topic_documents)    \n",
    "    topic_documents = select_random_documents(topic_documents, noise)\n",
    "    \n",
    "    for document in topic_documents:\n",
    "        selected_documents[document] = direct_index.index[document]\n",
    "    \n",
    "    # 2. from all_documents\n",
    "    all_documents = direct_index.index.keys()\n",
    "    all_documents = select_random_documents(all_documents, noise)\n",
    "\n",
    "    for document in all_documents:\n",
    "        selected_documents[document] = direct_index.index[document]\n",
    "        \n",
    "    # retrievable documents\n",
    "    inverted_index = InvertedIndex()\n",
    "    inverted_index.create(selected_documents)\n",
    "        \n",
    "    return selected_documents, inverted_index\n",
    "\n",
    "# stats\n",
    "inverted_index = InvertedIndex()\n",
    "inverted_index.create(direct_index.index)\n",
    "\n",
    "# test\n",
    "for topic in sub_topics:\n",
    "    for sub_topic in sub_topics[topic]:\n",
    "        print(topic, topics[topic], sub_topic)\n",
    "        r_documents, r_inverted_index = get_search_engine(topic, sub_topic, qrels, direct_index, 0.01)\n",
    "        print(\"over\", len(r_documents), \"documents\")\n",
    "        r_inverted_index.cl = inverted_index.cl\n",
    "        r_inverted_index.dictionary = inverted_index.dictionary\n",
    "        search = Search(r_inverted_index, pre_preocessor)\n",
    "        print(search.search('amazon', n=2, retrievable_paragraphs=r_documents.keys()))\n",
    "    break"
   ]
  },
  {
   "cell_type": "markdown",
   "metadata": {},
   "source": [
    "# Correlation Analysis"
   ]
  },
  {
   "cell_type": "code",
   "execution_count": 11,
   "metadata": {},
   "outputs": [],
   "source": [
    "# CP\n",
    "\n",
    "def dd_cp(alpha, m, l):\n",
    "    return 1\n",
    "\n",
    "def ncp(sequence):\n",
    "    res = 0.0\n",
    "    for action in sequence:\n",
    "        if action[2] == 'relevant':\n",
    "            res += dd_cp(None, None, None)\n",
    "    return res/len(sequence)\n",
    "\n",
    "def get_ncp_list(sequences):\n",
    "    res = []\n",
    "    for sequence in sequences:\n",
    "        res.append(ncp(sequence))\n",
    "    return res\n",
    "\n",
    "# CBP\n",
    "\n",
    "def dd_cbp(alpha, m, l = None):\n",
    "    return alpha ** m\n",
    "\n",
    "def dd_ncbp(alpha, m, l):\n",
    "    norm = 0.0\n",
    "    for i in range(l):\n",
    "        norm += dd_cbp(alpha, i, l)\n",
    "    return dd_cbp(alpha, m, l) / norm\n",
    "\n",
    "def ncbp(sequence, alpha):\n",
    "    res = 0.0\n",
    "    for m, action in enumerate(sequence):\n",
    "        if action[2] == 'relevant':\n",
    "            res += dd_ncbp(alpha, m, len(sequence))\n",
    "    return res\n",
    "\n",
    "def get_ncbp_list(sequences, alpha):\n",
    "    res = []\n",
    "    for sequence in sequences:\n",
    "        res.append(ncbp(sequence, alpha))\n",
    "    return res\n",
    "\n",
    "# CBP +\n",
    "\n",
    "def dd_ncbp_p(alpha, beta, m, sequence):\n",
    "    res = 1.0\n",
    "    for action in sequence[:m]:\n",
    "        if action[2] == 'relevant':\n",
    "            res *= alpha\n",
    "        else:\n",
    "            res *= beta\n",
    "    norm = 0.0\n",
    "    for i in range(len(sequence)):\n",
    "        norm += dd_cbp(alpha, i)\n",
    "    return res / norm\n",
    "\n",
    "def ncbp_p(sequence, alpha, beta):\n",
    "    res = 0.0\n",
    "    for m, action in enumerate(sequence):\n",
    "        if action[2] == 'relevant':\n",
    "            res += dd_ncbp_p(alpha, beta, m, sequence)\n",
    "    return res\n",
    "\n",
    "def get_ncbp_p_list(sequences, alpha, beta):\n",
    "    res = []\n",
    "    for sequence in sequences:\n",
    "        res.append(ncbp_p(sequence, alpha, beta))\n",
    "    return res"
   ]
  },
  {
   "cell_type": "markdown",
   "metadata": {},
   "source": [
    "# Simulations"
   ]
  },
  {
   "cell_type": "code",
   "execution_count": 12,
   "metadata": {},
   "outputs": [
    {
     "name": "stdout",
     "output_type": "stream",
     "text": [
      "[(0, None, None, 2, None), (2, None, None, 4, None), (4, None, None, 5, None), (5, None, None, 2, None), (2, None, None, 5, None), (5, None, None, 3, None), (3, None, None, 4, None), (4, None, None, 6, None)]\n",
      "[(0, None, None, 2, None), (2, None, None, 4, None), (4, None, None, 5, None), (5, None, None, 2, None), (2, None, None, 5, None), (5, None, None, 3, None), (3, None, None, 4, None)]\n"
     ]
    }
   ],
   "source": [
    "def generate_sequence(num_subtopics, min_sub_topics = 1):\n",
    "    prob = 1.0\n",
    "    sequence = []\n",
    "    current_subtopic = 0\n",
    "    \n",
    "    next_subtopic = choice(range(1, num_subtopics + 1), 1)[0]\n",
    "    prob *= 1.0/num_subtopics\n",
    "    sequence.append((current_subtopic, None, None, next_subtopic + min_sub_topics - 1, None))\n",
    "    current_subtopic = next_subtopic\n",
    "    \n",
    "    while next_subtopic + min_sub_topics - 1 != num_subtopics + 1 + min_sub_topics - 1:\n",
    "        next_subtopic = choice(range(1, num_subtopics + 2), 1)[0]\n",
    "        prob *= 1.0/(num_subtopics + 1)\n",
    "        sequence.append((current_subtopic + min_sub_topics - 1, \n",
    "                         None, None, \n",
    "                         next_subtopic + min_sub_topics - 1, None))\n",
    "        current_subtopic = next_subtopic\n",
    "        \n",
    "    return sequence, prob\n",
    "\n",
    "sequence, prob = generate_sequence(5)\n",
    "\n",
    "print(sequence)\n",
    "\n",
    "print(sequence[:-1])"
   ]
  },
  {
   "cell_type": "code",
   "execution_count": 13,
   "metadata": {},
   "outputs": [],
   "source": [
    "def get_transitions_table(num_subtopics, min_sub_topic, sequences, epsilon = 0.0):\n",
    "    transitions_table = defaultdict(float)\n",
    "    for sequence in sequences:\n",
    "        last_key = None\n",
    "        for n, action in enumerate(sequence):\n",
    "            if n == 0:\n",
    "                key = (action[0], action[3] - min_sub_topic + 1)\n",
    "            else:\n",
    "                key = (action[0] - min_sub_topic + 1, action[3] - min_sub_topic + 1)\n",
    "            transitions_table[key] += 1\n",
    "            last_key = key\n",
    "        transitions_table[(last_key[1], num_subtopics+1)] += 1\n",
    "    \n",
    "    norms = defaultdict(float)\n",
    "    for from_subtopic, to_subtopic in product(range(num_subtopics+1), range(1, num_subtopics+2)):\n",
    "        if not (from_subtopic == 0 and to_subtopic == num_subtopics + 1):            \n",
    "            transitions_table[(from_subtopic, to_subtopic)] += epsilon\n",
    "        norms[from_subtopic] += transitions_table[(from_subtopic, to_subtopic)]\n",
    "    \n",
    "    for from_subtopic, to_subtopic in product(range(num_subtopics+1), range(1, num_subtopics+2)):\n",
    "        if norms[from_subtopic] > 0.0:\n",
    "            transitions_table[(from_subtopic, to_subtopic)] /= norms[from_subtopic]\n",
    "            \n",
    "    return transitions_table\n",
    "\n",
    "#get_transitions_table(len(sub_topics[1]), min(sub_topics[1]), all_sequences[1])\n",
    "\n",
    "def generate_sequence_from_table(num_subtopics, min_sub_topics, table):\n",
    "    prob = 1.0\n",
    "    table = to_matrix(table)\n",
    "    sequence = []\n",
    "    current_subtopic = 0\n",
    "    \n",
    "    next_subtopic = choice(range(1, num_subtopics + 2), 1, p=table[0])[0]\n",
    "    prob *= table[0, next_subtopic - 1]\n",
    "    sequence.append((current_subtopic, None, None, next_subtopic + min_sub_topics - 1, None))\n",
    "    current_subtopic = next_subtopic\n",
    "    \n",
    "    while next_subtopic + min_sub_topics - 1 != num_subtopics + 1 + min_sub_topics - 1:\n",
    "        next_subtopic = choice(range(1, num_subtopics + 2), 1, p=table[current_subtopic])[0]\n",
    "        prob *= table[current_subtopic, next_subtopic-1]\n",
    "        sequence.append((current_subtopic + min_sub_topics - 1, \n",
    "                         None, None, \n",
    "                         next_subtopic + min_sub_topics - 1, None))\n",
    "        current_subtopic = next_subtopic\n",
    "    \n",
    "    return sequence, prob\n",
    "    \n",
    "transitions_table = get_transitions_table(len(sub_topics[1]), min(sub_topics[1]), all_sequences[1])\n",
    "#generate_sequence_from_table(len(sub_topics[1]), min(sub_topics[1]), transitions_table)"
   ]
  },
  {
   "cell_type": "code",
   "execution_count": 14,
   "metadata": {},
   "outputs": [
    {
     "name": "stdout",
     "output_type": "stream",
     "text": [
      "1\n",
      "[[0.    0.    0.    0.    0.    0.   ]\n",
      " [0.    0.222 0.222 0.111 0.333 0.111]\n",
      " [0.167 0.    0.167 0.5   0.    0.167]\n",
      " [0.154 0.154 0.    0.231 0.154 0.308]\n",
      " [0.3   0.1   0.4   0.    0.2   0.   ]\n",
      " [0.    0.222 0.222 0.222 0.    0.333]]\n",
      "[[0.182 0.    0.545 0.    0.273 0.   ]\n",
      " [0.    0.    0.    0.    0.    1.   ]\n",
      " [0.    0.5   0.    0.    0.5   0.   ]\n",
      " [0.    0.2   0.6   0.2   0.    0.   ]\n",
      " [0.    0.    0.    0.    0.    0.   ]\n",
      " [0.4   0.    0.    0.    0.4   0.2  ]]\n",
      "\n",
      "2\n",
      "[[0.    0.    0.    0.    0.    0.   ]\n",
      " [0.    0.44  0.28  0.16  0.04  0.08 ]\n",
      " [0.111 0.056 0.167 0.389 0.222 0.056]\n",
      " [0.    0.074 0.37  0.111 0.407 0.037]\n",
      " [0.05  0.05  0.55  0.1   0.05  0.2  ]\n",
      " [0.077 0.    0.    0.115 0.192 0.615]]\n",
      "[[0.808 0.077 0.077 0.    0.038 0.   ]\n",
      " [0.    0.    0.5   0.5   0.    0.   ]\n",
      " [0.    0.667 0.333 0.    0.    0.   ]\n",
      " [0.1   0.1   0.    0.2   0.5   0.1  ]\n",
      " [0.    0.    0.333 0.333 0.333 0.   ]\n",
      " [0.    0.2   0.2   0.    0.4   0.2  ]]\n",
      "\n",
      "3\n",
      "[[0.    0.    0.    0.    0.    0.    0.   ]\n",
      " [0.095 0.286 0.238 0.095 0.048 0.    0.238]\n",
      " [0.    0.    0.429 0.    0.214 0.    0.357]\n",
      " [0.182 0.182 0.091 0.227 0.273 0.    0.045]\n",
      " [0.067 0.067 0.133 0.    0.2   0.467 0.067]\n",
      " [0.    0.071 0.214 0.429 0.071 0.071 0.143]\n",
      " [0.091 0.091 0.091 0.091 0.    0.182 0.455]]\n",
      "[[0.667 0.    0.167 0.042 0.042 0.083 0.   ]\n",
      " [0.    0.333 0.    0.    0.    0.    0.667]\n",
      " [0.    0.    0.    0.    0.    0.    0.   ]\n",
      " [0.    0.    0.667 0.    0.    0.    0.333]\n",
      " [0.    0.    0.    0.    0.    0.    0.   ]\n",
      " [0.    0.    0.    0.    0.    0.    1.   ]\n",
      " [0.    0.    0.    0.    0.    0.    1.   ]]\n",
      "\n",
      "4\n",
      "[[0.    0.    0.    0.    0.    0.    0.    0.    0.    0.    0.   ]\n",
      " [0.062 0.375 0.188 0.062 0.062 0.    0.    0.    0.125 0.    0.125]\n",
      " [0.    0.2   0.2   0.    0.    0.    0.    0.    0.    0.    0.6  ]\n",
      " [0.3   0.1   0.    0.1   0.1   0.    0.    0.1   0.    0.    0.3  ]\n",
      " [0.    0.1   0.    0.    0.4   0.    0.    0.    0.4   0.    0.1  ]\n",
      " [0.294 0.059 0.118 0.    0.    0.    0.    0.059 0.118 0.118 0.235]\n",
      " [0.    0.    0.    0.    0.    0.    0.    0.    0.    0.    1.   ]\n",
      " [0.    0.    0.    0.    0.    0.    0.    0.    0.    0.    0.   ]\n",
      " [0.    0.    0.    0.2   0.    0.2   0.    0.    0.6   0.    0.   ]\n",
      " [0.25  0.    0.    0.    0.    0.    0.    0.25  0.25  0.    0.25 ]\n",
      " [0.    0.    0.    0.    0.5   0.    0.    0.    0.    0.    0.5  ]]\n",
      "[[0.261 0.043 0.261 0.087 0.304 0.    0.    0.    0.043 0.    0.   ]\n",
      " [0.667 0.    0.    0.    0.333 0.    0.    0.    0.    0.    0.   ]\n",
      " [0.    0.143 0.071 0.143 0.286 0.    0.    0.143 0.071 0.    0.143]\n",
      " [0.143 0.286 0.    0.    0.429 0.    0.    0.    0.    0.    0.143]\n",
      " [0.    0.    0.    0.    0.    0.    0.    0.    0.    0.    0.   ]\n",
      " [0.    0.333 0.333 0.    0.222 0.    0.    0.    0.    0.    0.111]\n",
      " [0.    0.    0.    0.    0.    0.    0.    0.    0.    0.    0.   ]\n",
      " [0.    1.    0.    0.    0.    0.    0.    0.    0.    0.    0.   ]\n",
      " [0.    0.    0.    0.    0.    0.    0.    0.    0.    0.    0.   ]\n",
      " [0.    0.    0.091 0.273 0.182 0.    0.091 0.    0.091 0.    0.273]\n",
      " [0.    0.    0.    0.    0.    0.    0.    0.    0.    0.    0.   ]]\n",
      "\n",
      "5\n",
      "[[0.    0.    0.    0.    0.    0.    0.   ]\n",
      " [0.    0.    0.    1.    0.    0.    0.   ]\n",
      " [0.222 0.222 0.333 0.    0.    0.111 0.111]\n",
      " [0.125 0.188 0.062 0.125 0.062 0.25  0.188]\n",
      " [0.059 0.353 0.118 0.176 0.118 0.059 0.118]\n",
      " [0.471 0.    0.118 0.059 0.118 0.118 0.118]\n",
      " [0.167 0.    0.083 0.083 0.25  0.417 0.   ]]\n",
      "[[0.053 0.053 0.053 0.579 0.158 0.105 0.   ]\n",
      " [0.355 0.161 0.129 0.032 0.    0.129 0.194]\n",
      " [0.154 0.231 0.231 0.077 0.077 0.154 0.077]\n",
      " [0.25  0.    0.5   0.    0.    0.    0.25 ]\n",
      " [0.25  0.25  0.    0.    0.    0.25  0.25 ]\n",
      " [0.    1.    0.    0.    0.    0.    0.   ]\n",
      " [0.067 0.    0.067 0.    0.4   0.333 0.133]]\n",
      "\n",
      "6\n",
      "[[0.    0.    0.    0.    0.    0.    0.   ]\n",
      " [0.143 0.    0.143 0.286 0.429 0.    0.   ]\n",
      " [0.067 0.067 0.267 0.2   0.133 0.067 0.2  ]\n",
      " [0.333 0.167 0.    0.167 0.    0.167 0.167]\n",
      " [0.154 0.231 0.    0.077 0.231 0.154 0.154]\n",
      " [0.077 0.077 0.    0.    0.    0.615 0.231]\n",
      " [0.    0.091 0.364 0.    0.091 0.091 0.364]]\n",
      "[[0.176 0.412 0.059 0.353 0.    0.    0.   ]\n",
      " [0.    0.4   0.    0.2   0.2   0.2   0.   ]\n",
      " [0.    0.    0.    0.    1.    0.    0.   ]\n",
      " [0.    0.    0.    0.25  0.25  0.    0.5  ]\n",
      " [0.5   0.    0.    0.    0.5   0.    0.   ]\n",
      " [0.    0.    0.    0.    0.    0.    1.   ]\n",
      " [0.    0.    0.    0.667 0.    0.    0.333]]\n",
      "\n",
      "7\n",
      "[[0.    0.    0.    0.    0.    0.    0.   ]\n",
      " [0.125 0.375 0.188 0.125 0.062 0.062 0.062]\n",
      " [0.    0.083 0.417 0.083 0.167 0.083 0.167]\n",
      " [0.    0.    0.071 0.429 0.214 0.214 0.071]\n",
      " [0.    0.182 0.    0.    0.364 0.091 0.364]\n",
      " [0.167 0.167 0.167 0.    0.    0.417 0.083]\n",
      " [0.    0.077 0.    0.154 0.308 0.    0.462]]\n",
      "[[0.667 0.111 0.167 0.    0.    0.056 0.   ]\n",
      " [0.    0.    0.5   0.    0.    0.    0.5  ]\n",
      " [0.    0.    0.5   0.    0.5   0.    0.   ]\n",
      " [0.25  0.    0.25  0.    0.    0.25  0.25 ]\n",
      " [0.    0.    0.    0.    0.    0.    0.   ]\n",
      " [0.333 0.    0.333 0.    0.    0.    0.333]\n",
      " [0.    0.    0.    0.    0.    0.    0.   ]]\n",
      "\n",
      "8\n",
      "[[0.    0.    0.    0.    0.    0.    0.    0.    0.    0.   ]\n",
      " [0.    0.2   0.4   0.2   0.    0.    0.2   0.    0.    0.   ]\n",
      " [0.167 0.    0.5   0.167 0.    0.    0.167 0.    0.    0.   ]\n",
      " [0.083 0.    0.083 0.25  0.    0.083 0.167 0.083 0.083 0.167]\n",
      " [0.    0.    0.125 0.    0.375 0.062 0.125 0.25  0.    0.062]\n",
      " [0.    0.077 0.154 0.077 0.077 0.308 0.308 0.    0.    0.   ]\n",
      " [0.    0.    0.    0.    0.    0.    0.667 0.    0.    0.333]\n",
      " [0.2   0.    0.    0.    0.2   0.2   0.    0.2   0.2   0.   ]\n",
      " [0.    0.    0.    0.    0.    0.    0.    0.5   0.    0.5  ]\n",
      " [0.111 0.444 0.222 0.111 0.    0.    0.    0.111 0.    0.   ]]\n",
      "[[0.053 0.211 0.316 0.105 0.    0.    0.    0.    0.316 0.   ]\n",
      " [0.    0.    0.    0.    0.    0.    0.    0.    0.    0.   ]\n",
      " [0.    0.5   0.125 0.    0.    0.    0.    0.125 0.    0.25 ]\n",
      " [0.    0.    0.273 0.364 0.182 0.    0.    0.    0.    0.182]\n",
      " [0.    0.    0.    0.    0.    0.    0.    0.    0.    0.   ]\n",
      " [0.    0.    0.    0.    0.    0.    0.    0.    0.    0.   ]\n",
      " [0.    0.    0.167 0.    0.    0.167 0.333 0.167 0.    0.167]\n",
      " [0.    0.    0.    0.091 0.091 0.091 0.091 0.545 0.    0.091]\n",
      " [0.    0.    0.    0.067 0.133 0.    0.067 0.067 0.133 0.533]\n",
      " [0.    0.    0.    1.    0.    0.    0.    0.    0.    0.   ]]\n",
      "\n",
      "9\n",
      "[[0.    0.    0.    0.    0.   ]\n",
      " [0.25  0.125 0.188 0.188 0.25 ]\n",
      " [0.118 0.    0.529 0.118 0.235]\n",
      " [0.067 0.067 0.067 0.667 0.133]\n",
      " [0.455 0.091 0.    0.273 0.182]]\n",
      "[[0.125 0.75  0.125 0.    0.   ]\n",
      " [0.429 0.143 0.143 0.143 0.143]\n",
      " [0.    0.    0.    0.    0.   ]\n",
      " [1.    0.    0.    0.    0.   ]\n",
      " [0.455 0.    0.    0.273 0.273]]\n",
      "\n",
      "10\n",
      "[[0.    0.    0.    0.    0.    0.   ]\n",
      " [0.059 0.706 0.118 0.118 0.    0.   ]\n",
      " [0.316 0.    0.421 0.    0.053 0.211]\n",
      " [0.045 0.136 0.273 0.409 0.091 0.045]\n",
      " [0.    0.    0.095 0.286 0.429 0.19 ]\n",
      " [0.1   0.    0.1   0.25  0.1   0.45 ]]\n",
      "[[0.391 0.174 0.13  0.043 0.261 0.   ]\n",
      " [0.333 0.333 0.    0.333 0.    0.   ]\n",
      " [0.    0.    0.    1.    0.    0.   ]\n",
      " [0.    0.    0.75  0.25  0.    0.   ]\n",
      " [0.    0.    0.    0.3   0.3   0.4  ]\n",
      " [0.    0.    0.067 0.067 0.8   0.067]]\n",
      "\n",
      "11\n",
      "[[0.    0.    0.    0.    0.    0.    0.    0.    0.    0.    0.   ]\n",
      " [0.25  0.125 0.    0.125 0.125 0.25  0.    0.125 0.    0.    0.   ]\n",
      " [0.    0.2   0.2   0.2   0.    0.    0.    0.    0.    0.    0.4  ]\n",
      " [0.    0.333 0.    0.667 0.    0.    0.    0.    0.    0.    0.   ]\n",
      " [0.    0.    0.    0.286 0.571 0.143 0.    0.    0.    0.    0.   ]\n",
      " [0.    0.25  0.    0.    0.    0.125 0.125 0.    0.    0.    0.5  ]\n",
      " [0.    0.    0.    0.    0.25  0.25  0.25  0.25  0.    0.    0.   ]\n",
      " [0.    0.    0.    0.    0.    0.    0.    0.5   0.    0.    0.5  ]\n",
      " [0.    0.    0.5   0.    0.    0.    0.    0.    0.    0.5   0.   ]\n",
      " [0.    0.    0.    0.    0.    0.    0.    0.    0.    0.    1.   ]\n",
      " [0.    0.    0.    0.    0.5   0.    0.    0.    0.5   0.    0.   ]]\n",
      "[[0.727 0.091 0.    0.091 0.    0.    0.    0.091 0.    0.    0.   ]\n",
      " [0.25  0.    0.    0.25  0.25  0.    0.    0.    0.    0.    0.25 ]\n",
      " [0.    0.    1.    0.    0.    0.    0.    0.    0.    0.    0.   ]\n",
      " [0.    0.    0.    0.    0.    0.    0.    0.    0.    0.    0.   ]\n",
      " [0.    0.    0.    0.5   0.    0.    0.    0.    0.    0.    0.5  ]\n",
      " [0.    0.    0.    0.    0.    0.    0.    0.    0.    0.    0.   ]\n",
      " [0.    0.    0.    0.    0.    0.5   0.    0.    0.    0.5   0.   ]\n",
      " [0.    0.    0.    0.    0.    0.    0.    0.    0.    0.    0.   ]\n",
      " [0.5   0.    0.    0.    0.    0.    0.    0.    0.    0.    0.5  ]\n",
      " [0.    0.    0.    0.    0.    0.    0.    0.    0.    0.    0.   ]\n",
      " [0.    0.    0.    0.    0.    0.    0.    0.    0.    0.    0.   ]]\n",
      "\n"
     ]
    }
   ],
   "source": [
    "def get_transitions_tables(num_subtopics, min_sub_topic, sequences, epsilon = 0.0):\n",
    "    rel_transitions_table = defaultdict(float)\n",
    "    irr_transitions_table = defaultdict(float)\n",
    "    p_rel = defaultdict(float)\n",
    "    p_irr = defaultdict(float)\n",
    "    for sequence in sequences:\n",
    "        last_key = None\n",
    "        last_rel = 'irrelevant'\n",
    "        for n, action in enumerate(sequence):\n",
    "            if n == 0:\n",
    "                key = (action[0], action[3] - min_sub_topic + 1)\n",
    "            else:\n",
    "                key = (action[0] - min_sub_topic + 1, action[3] - min_sub_topic + 1)\n",
    "            if last_rel == 'relevant':\n",
    "                rel_transitions_table[key] += 1\n",
    "                p_rel[key[0]] += 1\n",
    "            else:\n",
    "                irr_transitions_table[key] += 1\n",
    "                p_irr[key[0]] += 1\n",
    "            last_key = key\n",
    "            last_rel = action[2]\n",
    "        \n",
    "        if last_rel == 'relevant':\n",
    "            rel_transitions_table[(last_key[1], num_subtopics+1)] += 1\n",
    "            p_rel[last_key[1]] += 1\n",
    "        else:\n",
    "            irr_transitions_table[(last_key[1], num_subtopics+1)] += 1\n",
    "            p_irr[last_key[1]] += 1\n",
    "        \n",
    "    rel_norms = defaultdict(float)\n",
    "    for from_subtopic, to_subtopic in product(range(num_subtopics+1), range(1, num_subtopics+2)):\n",
    "        if from_subtopic > 0:            \n",
    "            rel_transitions_table[(from_subtopic, to_subtopic)] += epsilon\n",
    "        rel_norms[from_subtopic] += rel_transitions_table[(from_subtopic, to_subtopic)]\n",
    "    \n",
    "    irr_norms = defaultdict(float)\n",
    "    for from_subtopic, to_subtopic in product(range(num_subtopics+1), range(1, num_subtopics+2)):\n",
    "        if not (from_subtopic == 0 and to_subtopic == num_subtopics + 1):\n",
    "            irr_transitions_table[(from_subtopic, to_subtopic)] += epsilon\n",
    "        irr_norms[from_subtopic] += irr_transitions_table[(from_subtopic, to_subtopic)]\n",
    "    \n",
    "    for from_subtopic, to_subtopic in product(range(num_subtopics+1), range(1, num_subtopics+2)):\n",
    "        if rel_norms[from_subtopic] > 0.0:\n",
    "            rel_transitions_table[(from_subtopic, to_subtopic)] /= (rel_norms[from_subtopic]) \n",
    "    \n",
    "    for from_subtopic, to_subtopic in product(range(num_subtopics+1), range(1, num_subtopics+2)):\n",
    "        if irr_norms[from_subtopic] > 0.0:\n",
    "            irr_transitions_table[(from_subtopic, to_subtopic)] /= (irr_norms[from_subtopic])\n",
    "    \n",
    "    p = []\n",
    "    for t in range(num_subtopics + 1):\n",
    "        if (p_rel[t] + p_irr[t]) > 0:\n",
    "            p.append(p_rel[t]/(p_rel[t] + p_irr[t]))\n",
    "        else:\n",
    "            p.append(0.0)\n",
    "    p = np.array([p])\n",
    "\n",
    "    return rel_transitions_table, irr_transitions_table, p, 1 - p\n",
    "\n",
    "for topic in topics:\n",
    "    t1, t2, p_rel, p_irr = get_transitions_tables(len(sub_topics[topic]), \n",
    "                                                  min(sub_topics[topic]), all_sequences[topic], 0.0)\n",
    "    #print(p_rel, p_irr)\n",
    "    #print(to_matrix(transitions_table))\n",
    "    print(topic)\n",
    "    print(to_matrix(t1)) \n",
    "    print(to_matrix(t2))\n",
    "    print()\n",
    "#print((to_matrix(t1).T * p_rel).T + (to_matrix(t2).T * p_irr).T)"
   ]
  },
  {
   "cell_type": "code",
   "execution_count": 15,
   "metadata": {},
   "outputs": [],
   "source": [
    "class SequenceGenerator:\n",
    "    \n",
    "    def __init__(self, num_subtopics, min_sub_topic, rel_table, irr_table):\n",
    "        self.num_subtopics = num_subtopics\n",
    "        self.rel_table = to_matrix(rel_table)\n",
    "        self.irr_table = to_matrix(irr_table)\n",
    "        self.min_sub_topic = min_sub_topic\n",
    "        self.relevance = False\n",
    "        self.current_subtopic = 0\n",
    "        \n",
    "    def __iter__(self):\n",
    "        #self.current_subtopic = 0\n",
    "        return self\n",
    "    \n",
    "    def set_relevance(self, relevance):\n",
    "        self.relevance = relevance\n",
    "    \n",
    "    def __next__(self):\n",
    "        next_subtopic = -1\n",
    "        prob = -1\n",
    "        if self.current_subtopic + self.min_sub_topic - 1 == self.num_subtopics + 1 + self.min_sub_topic - 1:\n",
    "            raise StopIteration\n",
    "        if self.relevance:\n",
    "            #print(self.rel_table[self.current_subtopic].sum())\n",
    "            next_subtopic = choice(range(1, self.num_subtopics + 2), \n",
    "                                   1, \n",
    "                                   p=self.rel_table[self.current_subtopic])[0]\n",
    "            prob = self.rel_table[self.current_subtopic, next_subtopic - 1]\n",
    "        else:\n",
    "            #print(self.irr_table[self.current_subtopic].sum())\n",
    "            next_subtopic = choice(range(1, self.num_subtopics + 2), \n",
    "                                   1, \n",
    "                                   p=self.irr_table[self.current_subtopic])[0]\n",
    "            prob = self.irr_table[self.current_subtopic, next_subtopic - 1]\n",
    "        self.current_subtopic = next_subtopic\n",
    "        return next_subtopic + self.min_sub_topic - 1, prob\n",
    "    \n",
    "#sg = SequenceGenerator(len(sub_topics[10]), min(sub_topics[10]), t1, t2)\n",
    "##for i in sg:\n",
    "#    print(i)\n",
    "#    sg.set_relevance(False)"
   ]
  },
  {
   "cell_type": "code",
   "execution_count": 16,
   "metadata": {},
   "outputs": [],
   "source": [
    "def dd_cp_pp(alpha, beta, m, sequence, acc_value = 1.0):\n",
    "    return sequence[m][5]\n",
    "\n",
    "def dd_cp(alpha, beta, m, sequence, acc_value = 1.0):\n",
    "    return 1\n",
    "\n",
    "def dd_cbp(alpha, beta, m, sequence, acc_value = 1.0):\n",
    "    if m == 0:\n",
    "        return 1.0\n",
    "    else:\n",
    "        res = acc_value*alpha\n",
    "        return res\n",
    "    \n",
    "def dd_cbp_p(alpha, beta, m, sequence, acc_value = 1.0):\n",
    "    if m == 0:\n",
    "        return 1.0\n",
    "    else:\n",
    "        res = acc_value\n",
    "        action = sequence[m]\n",
    "        if action[2] == 'relevant':\n",
    "            res *= alpha\n",
    "        else:\n",
    "            res *= beta\n",
    "        return res"
   ]
  },
  {
   "cell_type": "code",
   "execution_count": 26,
   "metadata": {},
   "outputs": [],
   "source": [
    "num_samples = 100000"
   ]
  },
  {
   "cell_type": "code",
   "execution_count": 17,
   "metadata": {},
   "outputs": [],
   "source": [
    "# CP\n",
    "\n",
    "def dd_cp(alpha, m, l):\n",
    "    return 1\n",
    "\n",
    "def ncp(sequence):\n",
    "    res = 0.0\n",
    "    for action in sequence:\n",
    "        if action[2] == 'relevant':\n",
    "            res += dd_cp(None, None, None)\n",
    "    return res/len(sequence)\n",
    "\n",
    "def get_ncp_list(sequences):\n",
    "    res = []\n",
    "    for sequence in sequences:\n",
    "        res.append(ncp(sequence))\n",
    "    return res\n",
    "\n",
    "# CBP\n",
    "\n",
    "def dd_cbp(alpha, m, l = None):\n",
    "    return alpha ** m\n",
    "\n",
    "def dd_ncbp(alpha, m, l):\n",
    "    norm = 0.0\n",
    "    for i in range(l):\n",
    "        norm += dd_cbp(alpha, i, l)\n",
    "    return dd_cbp(alpha, m, l) / norm\n",
    "\n",
    "def ncbp(sequence, alpha):\n",
    "    res = 0.0\n",
    "    for m, action in enumerate(sequence):\n",
    "        if action[2] == 'relevant':\n",
    "            res += dd_ncbp(alpha, m, len(sequence))\n",
    "    return res\n",
    "\n",
    "def get_ncbp_list(sequences, alpha):\n",
    "    res = []\n",
    "    for sequence in sequences:\n",
    "        res.append(ncbp(sequence, alpha))\n",
    "    return res\n",
    "\n",
    "# CBP +\n",
    "\n",
    "def dd_ncbp_p(alpha, beta, m, sequence):\n",
    "    res = 1.0\n",
    "    for action in sequence[:m]:\n",
    "        if action[2] == 'relevant':\n",
    "            res *= alpha\n",
    "        else:\n",
    "            res *= beta\n",
    "    norm = 0.0\n",
    "    for i in range(len(sequence)):\n",
    "        norm += dd_cbp(alpha, i)\n",
    "    return res/norm\n",
    "\n",
    "def ncbp_p(sequence, alpha, beta):\n",
    "    res = 0.0\n",
    "    for m, action in enumerate(sequence):\n",
    "        if action[2] == 'relevant':\n",
    "            res += dd_ncbp_p(alpha, beta, m, sequence)\n",
    "    return res\n",
    "\n",
    "def get_ncbp_p_list(sequences, alpha, beta):\n",
    "    res = []\n",
    "    for sequence in sequences:\n",
    "        res.append(ncbp_p(sequence, alpha, beta))\n",
    "    return res"
   ]
  },
  {
   "cell_type": "markdown",
   "metadata": {},
   "source": [
    "# Noise Analysis"
   ]
  },
  {
   "cell_type": "code",
   "execution_count": 18,
   "metadata": {},
   "outputs": [
    {
     "data": {
      "application/vnd.jupyter.widget-view+json": {
       "model_id": "c8c06020790243aba98af9332cc8db11",
       "version_major": 2,
       "version_minor": 0
      },
      "text/plain": [
       "HBox(children=(FloatProgress(value=0.0, max=101.0), HTML(value='')))"
      ]
     },
     "metadata": {},
     "output_type": "display_data"
    },
    {
     "data": {
      "application/vnd.jupyter.widget-view+json": {
       "model_id": "be6f9d4566324537a7525bb9046dc5f6",
       "version_major": 2,
       "version_minor": 0
      },
      "text/plain": [
       "HBox(children=(FloatProgress(value=0.0, max=11.0), HTML(value='')))"
      ]
     },
     "metadata": {},
     "output_type": "display_data"
    },
    {
     "name": "stdout",
     "output_type": "stream",
     "text": [
      "\n",
      "0.0 0.7124582495603217\n",
      "[0.729 0.833 0.87  0.606 0.495 0.765 0.832 0.511 0.786 0.716 0.695]\n"
     ]
    },
    {
     "data": {
      "application/vnd.jupyter.widget-view+json": {
       "model_id": "42c936c7d77a4c248a1629ecd320c158",
       "version_major": 2,
       "version_minor": 0
      },
      "text/plain": [
       "HBox(children=(FloatProgress(value=0.0, max=11.0), HTML(value='')))"
      ]
     },
     "metadata": {},
     "output_type": "display_data"
    },
    {
     "name": "stdout",
     "output_type": "stream",
     "text": [
      "\n",
      "0.01 0.504734132553404\n",
      "[0.546 0.447 0.661 0.236 0.383 0.651 0.431 0.473 0.513 0.61  0.599]\n"
     ]
    },
    {
     "data": {
      "application/vnd.jupyter.widget-view+json": {
       "model_id": "147ff9d583454521a3274261073573c7",
       "version_major": 2,
       "version_minor": 0
      },
      "text/plain": [
       "HBox(children=(FloatProgress(value=0.0, max=11.0), HTML(value='')))"
      ]
     },
     "metadata": {},
     "output_type": "display_data"
    },
    {
     "name": "stdout",
     "output_type": "stream",
     "text": [
      "\n",
      "0.02 0.4560728238428322\n",
      "[0.308 0.39  0.599 0.293 0.287 0.387 0.566 0.382 0.701 0.552 0.553]\n"
     ]
    },
    {
     "data": {
      "application/vnd.jupyter.widget-view+json": {
       "model_id": "eace06d776ae4ddea5e86581901e66dc",
       "version_major": 2,
       "version_minor": 0
      },
      "text/plain": [
       "HBox(children=(FloatProgress(value=0.0, max=11.0), HTML(value='')))"
      ]
     },
     "metadata": {},
     "output_type": "display_data"
    },
    {
     "name": "stdout",
     "output_type": "stream",
     "text": [
      "\n",
      "0.03 0.41252005906599654\n",
      "[0.253 0.351 0.607 0.324 0.29  0.343 0.445 0.312 0.484 0.577 0.552]\n"
     ]
    },
    {
     "data": {
      "application/vnd.jupyter.widget-view+json": {
       "model_id": "7001cf2144c94beb99ad0b0323981caa",
       "version_major": 2,
       "version_minor": 0
      },
      "text/plain": [
       "HBox(children=(FloatProgress(value=0.0, max=11.0), HTML(value='')))"
      ]
     },
     "metadata": {},
     "output_type": "display_data"
    },
    {
     "name": "stdout",
     "output_type": "stream",
     "text": [
      "\n",
      "0.04 0.37357307940841233\n",
      "[0.317 0.238 0.548 0.201 0.246 0.411 0.444 0.36  0.288 0.534 0.521]\n"
     ]
    },
    {
     "data": {
      "application/vnd.jupyter.widget-view+json": {
       "model_id": "640e548c0c1444859d304f84be607c17",
       "version_major": 2,
       "version_minor": 0
      },
      "text/plain": [
       "HBox(children=(FloatProgress(value=0.0, max=11.0), HTML(value='')))"
      ]
     },
     "metadata": {},
     "output_type": "display_data"
    },
    {
     "name": "stdout",
     "output_type": "stream",
     "text": [
      "\n",
      "0.05 0.4127376337996546\n",
      "[0.343 0.351 0.644 0.224 0.244 0.412 0.549 0.422 0.41  0.424 0.517]\n"
     ]
    },
    {
     "data": {
      "application/vnd.jupyter.widget-view+json": {
       "model_id": "8a8a44ebcdb3470d95d1866434046218",
       "version_major": 2,
       "version_minor": 0
      },
      "text/plain": [
       "HBox(children=(FloatProgress(value=0.0, max=11.0), HTML(value='')))"
      ]
     },
     "metadata": {},
     "output_type": "display_data"
    },
    {
     "name": "stdout",
     "output_type": "stream",
     "text": [
      "\n",
      "0.06 0.3123060610975541\n",
      "[0.298 0.422 0.556 0.029 0.106 0.21  0.359 0.367 0.139 0.415 0.533]\n"
     ]
    },
    {
     "data": {
      "application/vnd.jupyter.widget-view+json": {
       "model_id": "135d5ab93e624897aa97706c5ba0af5d",
       "version_major": 2,
       "version_minor": 0
      },
      "text/plain": [
       "HBox(children=(FloatProgress(value=0.0, max=11.0), HTML(value='')))"
      ]
     },
     "metadata": {},
     "output_type": "display_data"
    },
    {
     "name": "stdout",
     "output_type": "stream",
     "text": [
      "\n",
      "0.07 0.29574527183233895\n",
      "[0.28  0.128 0.451 0.066 0.175 0.313 0.382 0.349 0.232 0.376 0.5  ]\n"
     ]
    },
    {
     "data": {
      "application/vnd.jupyter.widget-view+json": {
       "model_id": "c5e81f6163f74185b078c6ea584c1ea1",
       "version_major": 2,
       "version_minor": 0
      },
      "text/plain": [
       "HBox(children=(FloatProgress(value=0.0, max=11.0), HTML(value='')))"
      ]
     },
     "metadata": {},
     "output_type": "display_data"
    },
    {
     "name": "stdout",
     "output_type": "stream",
     "text": [
      "\n",
      "0.08 0.29433526330360116\n",
      "[0.261 0.404 0.416 0.066 0.196 0.305 0.351 0.215 0.124 0.368 0.533]\n"
     ]
    },
    {
     "data": {
      "application/vnd.jupyter.widget-view+json": {
       "model_id": "478635a82e4744a3b5518afe86bce1e4",
       "version_major": 2,
       "version_minor": 0
      },
      "text/plain": [
       "HBox(children=(FloatProgress(value=0.0, max=11.0), HTML(value='')))"
      ]
     },
     "metadata": {},
     "output_type": "display_data"
    },
    {
     "name": "stdout",
     "output_type": "stream",
     "text": [
      "\n",
      "0.09 0.2815613296774839\n",
      "[0.149 0.307 0.477 0.156 0.069 0.25  0.339 0.315 0.177 0.394 0.464]\n"
     ]
    },
    {
     "data": {
      "application/vnd.jupyter.widget-view+json": {
       "model_id": "1c82ce3d04d147eca8da5e275df4bf43",
       "version_major": 2,
       "version_minor": 0
      },
      "text/plain": [
       "HBox(children=(FloatProgress(value=0.0, max=11.0), HTML(value='')))"
      ]
     },
     "metadata": {},
     "output_type": "display_data"
    },
    {
     "name": "stdout",
     "output_type": "stream",
     "text": [
      "\n",
      "0.1 0.2541465937731517\n",
      "[0.128 0.094 0.634 0.163 0.067 0.081 0.369 0.214 0.141 0.506 0.399]\n"
     ]
    },
    {
     "data": {
      "application/vnd.jupyter.widget-view+json": {
       "model_id": "bc7073506a644dd0b7129c5922b9017d",
       "version_major": 2,
       "version_minor": 0
      },
      "text/plain": [
       "HBox(children=(FloatProgress(value=0.0, max=11.0), HTML(value='')))"
      ]
     },
     "metadata": {},
     "output_type": "display_data"
    },
    {
     "name": "stdout",
     "output_type": "stream",
     "text": [
      "\n",
      "0.11 0.2894288273440597\n",
      "[0.299 0.074 0.541 0.125 0.129 0.248 0.36  0.318 0.231 0.362 0.497]\n"
     ]
    },
    {
     "data": {
      "application/vnd.jupyter.widget-view+json": {
       "model_id": "d981d0c9fbfa41639b6ddf35e637d480",
       "version_major": 2,
       "version_minor": 0
      },
      "text/plain": [
       "HBox(children=(FloatProgress(value=0.0, max=11.0), HTML(value='')))"
      ]
     },
     "metadata": {},
     "output_type": "display_data"
    },
    {
     "name": "stdout",
     "output_type": "stream",
     "text": [
      "\n",
      "0.12 0.21674166272766612\n",
      "[0.071 0.065 0.437 0.065 0.035 0.09  0.348 0.215 0.131 0.392 0.536]\n"
     ]
    },
    {
     "data": {
      "application/vnd.jupyter.widget-view+json": {
       "model_id": "dd5dc69b970f4d1cb507ddf474387c2a",
       "version_major": 2,
       "version_minor": 0
      },
      "text/plain": [
       "HBox(children=(FloatProgress(value=0.0, max=11.0), HTML(value='')))"
      ]
     },
     "metadata": {},
     "output_type": "display_data"
    },
    {
     "name": "stdout",
     "output_type": "stream",
     "text": [
      "\n",
      "0.13 0.22516721604494017\n",
      "[0.159 0.055 0.597 0.06  0.075 0.234 0.338 0.208 0.087 0.24  0.423]\n"
     ]
    },
    {
     "data": {
      "application/vnd.jupyter.widget-view+json": {
       "model_id": "608e23d9bc86401cb94377ac3bc5c4c8",
       "version_major": 2,
       "version_minor": 0
      },
      "text/plain": [
       "HBox(children=(FloatProgress(value=0.0, max=11.0), HTML(value='')))"
      ]
     },
     "metadata": {},
     "output_type": "display_data"
    },
    {
     "name": "stdout",
     "output_type": "stream",
     "text": [
      "\n",
      "0.14 0.2249054925809283\n",
      "[0.104 0.108 0.341 0.007 0.127 0.31  0.334 0.285 0.142 0.327 0.389]\n"
     ]
    },
    {
     "data": {
      "application/vnd.jupyter.widget-view+json": {
       "model_id": "a866ba9bf62a456b991aa7057679b42c",
       "version_major": 2,
       "version_minor": 0
      },
      "text/plain": [
       "HBox(children=(FloatProgress(value=0.0, max=11.0), HTML(value='')))"
      ]
     },
     "metadata": {},
     "output_type": "display_data"
    },
    {
     "name": "stdout",
     "output_type": "stream",
     "text": [
      "\n",
      "0.15 0.21114396032162164\n",
      "[0.038 0.104 0.46  0.021 0.096 0.236 0.312 0.317 0.135 0.256 0.347]\n"
     ]
    },
    {
     "data": {
      "application/vnd.jupyter.widget-view+json": {
       "model_id": "38fba879add54ada9ed00faf0239f407",
       "version_major": 2,
       "version_minor": 0
      },
      "text/plain": [
       "HBox(children=(FloatProgress(value=0.0, max=11.0), HTML(value='')))"
      ]
     },
     "metadata": {},
     "output_type": "display_data"
    },
    {
     "name": "stdout",
     "output_type": "stream",
     "text": [
      "\n",
      "0.16 0.19681751268007364\n",
      "[0.11  0.032 0.518 0.    0.025 0.238 0.306 0.19  0.236 0.137 0.375]\n"
     ]
    },
    {
     "data": {
      "application/vnd.jupyter.widget-view+json": {
       "model_id": "9ed5c2d05e2746db8146bf91c9d5f51e",
       "version_major": 2,
       "version_minor": 0
      },
      "text/plain": [
       "HBox(children=(FloatProgress(value=0.0, max=11.0), HTML(value='')))"
      ]
     },
     "metadata": {},
     "output_type": "display_data"
    },
    {
     "name": "stdout",
     "output_type": "stream",
     "text": [
      "\n",
      "0.17 0.2234903326673675\n",
      "[0.07  0.092 0.521 0.022 0.102 0.232 0.341 0.187 0.103 0.401 0.387]\n"
     ]
    },
    {
     "data": {
      "application/vnd.jupyter.widget-view+json": {
       "model_id": "fd6ab6661b9e46cca042eb2b1341dee3",
       "version_major": 2,
       "version_minor": 0
      },
      "text/plain": [
       "HBox(children=(FloatProgress(value=0.0, max=11.0), HTML(value='')))"
      ]
     },
     "metadata": {},
     "output_type": "display_data"
    },
    {
     "name": "stdout",
     "output_type": "stream",
     "text": [
      "\n",
      "0.18 0.19308710834838091\n",
      "[0.087 0.113 0.391 0.026 0.023 0.225 0.3   0.215 0.09  0.29  0.366]\n"
     ]
    },
    {
     "data": {
      "application/vnd.jupyter.widget-view+json": {
       "model_id": "21e67e448e174bdba11c6cc2124e2463",
       "version_major": 2,
       "version_minor": 0
      },
      "text/plain": [
       "HBox(children=(FloatProgress(value=0.0, max=11.0), HTML(value='')))"
      ]
     },
     "metadata": {},
     "output_type": "display_data"
    },
    {
     "name": "stdout",
     "output_type": "stream",
     "text": [
      "\n",
      "0.19 0.20870802487205883\n",
      "[0.092 0.103 0.296 0.038 0.083 0.26  0.316 0.21  0.122 0.303 0.472]\n"
     ]
    },
    {
     "data": {
      "application/vnd.jupyter.widget-view+json": {
       "model_id": "fb7bb1ebda224982809f0f56a29b5761",
       "version_major": 2,
       "version_minor": 0
      },
      "text/plain": [
       "HBox(children=(FloatProgress(value=0.0, max=11.0), HTML(value='')))"
      ]
     },
     "metadata": {},
     "output_type": "display_data"
    },
    {
     "name": "stdout",
     "output_type": "stream",
     "text": [
      "\n",
      "0.2 0.17148729307815622\n",
      "[0.193 0.057 0.335 0.007 0.05  0.192 0.3   0.123 0.135 0.251 0.243]\n"
     ]
    },
    {
     "data": {
      "application/vnd.jupyter.widget-view+json": {
       "model_id": "6166f48e3d934af48da1be0821e46bb1",
       "version_major": 2,
       "version_minor": 0
      },
      "text/plain": [
       "HBox(children=(FloatProgress(value=0.0, max=11.0), HTML(value='')))"
      ]
     },
     "metadata": {},
     "output_type": "display_data"
    },
    {
     "name": "stdout",
     "output_type": "stream",
     "text": [
      "\n",
      "0.21 0.18638561538191503\n",
      "[0.153 0.046 0.427 0.008 0.021 0.168 0.301 0.127 0.245 0.152 0.402]\n"
     ]
    },
    {
     "data": {
      "application/vnd.jupyter.widget-view+json": {
       "model_id": "e670844275a0445abb508a02177ccd22",
       "version_major": 2,
       "version_minor": 0
      },
      "text/plain": [
       "HBox(children=(FloatProgress(value=0.0, max=11.0), HTML(value='')))"
      ]
     },
     "metadata": {},
     "output_type": "display_data"
    },
    {
     "name": "stdout",
     "output_type": "stream",
     "text": [
      "\n",
      "0.22 0.16777455982277886\n",
      "[0.071 0.029 0.319 0.    0.052 0.205 0.316 0.203 0.101 0.166 0.382]\n"
     ]
    },
    {
     "data": {
      "application/vnd.jupyter.widget-view+json": {
       "model_id": "4d113ee83cbc48168256c1a02e370994",
       "version_major": 2,
       "version_minor": 0
      },
      "text/plain": [
       "HBox(children=(FloatProgress(value=0.0, max=11.0), HTML(value='')))"
      ]
     },
     "metadata": {},
     "output_type": "display_data"
    },
    {
     "name": "stdout",
     "output_type": "stream",
     "text": [
      "\n",
      "0.23 0.16242757402547173\n",
      "[0.07  0.062 0.304 0.007 0.097 0.118 0.304 0.25  0.104 0.223 0.246]\n"
     ]
    },
    {
     "data": {
      "application/vnd.jupyter.widget-view+json": {
       "model_id": "243afb6a2ed141fcac22dc19b83c47f1",
       "version_major": 2,
       "version_minor": 0
      },
      "text/plain": [
       "HBox(children=(FloatProgress(value=0.0, max=11.0), HTML(value='')))"
      ]
     },
     "metadata": {},
     "output_type": "display_data"
    },
    {
     "name": "stdout",
     "output_type": "stream",
     "text": [
      "\n",
      "0.24 0.18204435436153563\n",
      "[0.07  0.056 0.336 0.004 0.051 0.214 0.299 0.156 0.111 0.228 0.478]\n"
     ]
    },
    {
     "data": {
      "application/vnd.jupyter.widget-view+json": {
       "model_id": "1ab450bee7e24b2aa6cc04abe05914eb",
       "version_major": 2,
       "version_minor": 0
      },
      "text/plain": [
       "HBox(children=(FloatProgress(value=0.0, max=11.0), HTML(value='')))"
      ]
     },
     "metadata": {},
     "output_type": "display_data"
    },
    {
     "name": "stdout",
     "output_type": "stream",
     "text": [
      "\n",
      "0.25 0.15088925388523103\n",
      "[0.039 0.045 0.292 0.022 0.122 0.207 0.318 0.203 0.121 0.058 0.234]\n"
     ]
    },
    {
     "data": {
      "application/vnd.jupyter.widget-view+json": {
       "model_id": "653307d8b6a348f596dc5179c49ab768",
       "version_major": 2,
       "version_minor": 0
      },
      "text/plain": [
       "HBox(children=(FloatProgress(value=0.0, max=11.0), HTML(value='')))"
      ]
     },
     "metadata": {},
     "output_type": "display_data"
    },
    {
     "name": "stdout",
     "output_type": "stream",
     "text": [
      "\n",
      "0.26 0.14353837728036378\n",
      "[0.054 0.031 0.282 0.007 0.044 0.107 0.308 0.102 0.079 0.157 0.409]\n"
     ]
    },
    {
     "data": {
      "application/vnd.jupyter.widget-view+json": {
       "model_id": "d7fd88abb8e74470bc089f079a7f6aa1",
       "version_major": 2,
       "version_minor": 0
      },
      "text/plain": [
       "HBox(children=(FloatProgress(value=0.0, max=11.0), HTML(value='')))"
      ]
     },
     "metadata": {},
     "output_type": "display_data"
    },
    {
     "name": "stdout",
     "output_type": "stream",
     "text": [
      "\n",
      "0.27 0.13859571844473287\n",
      "[0.07  0.028 0.322 0.    0.044 0.09  0.304 0.212 0.082 0.094 0.279]\n"
     ]
    },
    {
     "data": {
      "application/vnd.jupyter.widget-view+json": {
       "model_id": "caccc652d88d43278e51801d3fc44ffb",
       "version_major": 2,
       "version_minor": 0
      },
      "text/plain": [
       "HBox(children=(FloatProgress(value=0.0, max=11.0), HTML(value='')))"
      ]
     },
     "metadata": {},
     "output_type": "display_data"
    },
    {
     "name": "stdout",
     "output_type": "stream",
     "text": [
      "\n",
      "0.28 0.13861183959408682\n",
      "[0.037 0.115 0.306 0.    0.043 0.07  0.329 0.102 0.102 0.163 0.258]\n"
     ]
    },
    {
     "data": {
      "application/vnd.jupyter.widget-view+json": {
       "model_id": "6638da06acfa437c8dd7a028109994aa",
       "version_major": 2,
       "version_minor": 0
      },
      "text/plain": [
       "HBox(children=(FloatProgress(value=0.0, max=11.0), HTML(value='')))"
      ]
     },
     "metadata": {},
     "output_type": "display_data"
    },
    {
     "name": "stdout",
     "output_type": "stream",
     "text": [
      "\n",
      "0.29 0.13822398966569208\n",
      "[0.039 0.028 0.297 0.    0.046 0.077 0.295 0.196 0.102 0.147 0.292]\n"
     ]
    },
    {
     "data": {
      "application/vnd.jupyter.widget-view+json": {
       "model_id": "a6a7c3bab4cb4e50b46a491c731842cb",
       "version_major": 2,
       "version_minor": 0
      },
      "text/plain": [
       "HBox(children=(FloatProgress(value=0.0, max=11.0), HTML(value='')))"
      ]
     },
     "metadata": {},
     "output_type": "display_data"
    },
    {
     "name": "stdout",
     "output_type": "stream",
     "text": [
      "\n",
      "0.3 0.14532768481981245\n",
      "[0.196 0.014 0.245 0.015 0.021 0.145 0.307 0.113 0.076 0.13  0.336]\n"
     ]
    },
    {
     "data": {
      "application/vnd.jupyter.widget-view+json": {
       "model_id": "e8ae5a047a4845ef811312d9837ad8eb",
       "version_major": 2,
       "version_minor": 0
      },
      "text/plain": [
       "HBox(children=(FloatProgress(value=0.0, max=11.0), HTML(value='')))"
      ]
     },
     "metadata": {},
     "output_type": "display_data"
    },
    {
     "name": "stdout",
     "output_type": "stream",
     "text": [
      "\n",
      "0.31 0.14067760352457623\n",
      "[0.038 0.052 0.316 0.    0.017 0.084 0.297 0.198 0.07  0.165 0.31 ]\n"
     ]
    },
    {
     "data": {
      "application/vnd.jupyter.widget-view+json": {
       "model_id": "a35c251b93d5423e98cf59c211b24c35",
       "version_major": 2,
       "version_minor": 0
      },
      "text/plain": [
       "HBox(children=(FloatProgress(value=0.0, max=11.0), HTML(value='')))"
      ]
     },
     "metadata": {},
     "output_type": "display_data"
    },
    {
     "name": "stdout",
     "output_type": "stream",
     "text": [
      "\n",
      "0.32 0.1450337751369106\n",
      "[0.039 0.031 0.269 0.101 0.015 0.069 0.309 0.128 0.087 0.239 0.309]\n"
     ]
    },
    {
     "data": {
      "application/vnd.jupyter.widget-view+json": {
       "model_id": "1644d9d877e54bff990741838676f0b6",
       "version_major": 2,
       "version_minor": 0
      },
      "text/plain": [
       "HBox(children=(FloatProgress(value=0.0, max=11.0), HTML(value='')))"
      ]
     },
     "metadata": {},
     "output_type": "display_data"
    },
    {
     "name": "stdout",
     "output_type": "stream",
     "text": [
      "\n",
      "0.33 0.1428932731286436\n",
      "[0.039 0.047 0.28  0.014 0.016 0.153 0.326 0.186 0.104 0.095 0.312]\n"
     ]
    },
    {
     "data": {
      "application/vnd.jupyter.widget-view+json": {
       "model_id": "929b5a7c80b9415298404bf7fd21a3d7",
       "version_major": 2,
       "version_minor": 0
      },
      "text/plain": [
       "HBox(children=(FloatProgress(value=0.0, max=11.0), HTML(value='')))"
      ]
     },
     "metadata": {},
     "output_type": "display_data"
    },
    {
     "name": "stdout",
     "output_type": "stream",
     "text": [
      "\n",
      "0.34 0.16254231450251974\n",
      "[0.039 0.024 0.281 0.    0.018 0.203 0.301 0.09  0.084 0.306 0.441]\n"
     ]
    },
    {
     "data": {
      "application/vnd.jupyter.widget-view+json": {
       "model_id": "b26208b2de274fc08523961323d925e1",
       "version_major": 2,
       "version_minor": 0
      },
      "text/plain": [
       "HBox(children=(FloatProgress(value=0.0, max=11.0), HTML(value='')))"
      ]
     },
     "metadata": {},
     "output_type": "display_data"
    },
    {
     "name": "stdout",
     "output_type": "stream",
     "text": [
      "\n",
      "0.35 0.12086745052061118\n",
      "[0.038 0.023 0.237 0.    0.019 0.138 0.31  0.092 0.061 0.247 0.164]\n"
     ]
    },
    {
     "data": {
      "application/vnd.jupyter.widget-view+json": {
       "model_id": "3f274aa84d17424790db301c7d11cc71",
       "version_major": 2,
       "version_minor": 0
      },
      "text/plain": [
       "HBox(children=(FloatProgress(value=0.0, max=11.0), HTML(value='')))"
      ]
     },
     "metadata": {},
     "output_type": "display_data"
    },
    {
     "name": "stdout",
     "output_type": "stream",
     "text": [
      "\n",
      "0.36 0.14027118756691914\n",
      "[0.04  0.054 0.254 0.    0.011 0.211 0.302 0.192 0.096 0.144 0.24 ]\n"
     ]
    },
    {
     "data": {
      "application/vnd.jupyter.widget-view+json": {
       "model_id": "7512532b59e0468796b3dca2d271d77a",
       "version_major": 2,
       "version_minor": 0
      },
      "text/plain": [
       "HBox(children=(FloatProgress(value=0.0, max=11.0), HTML(value='')))"
      ]
     },
     "metadata": {},
     "output_type": "display_data"
    },
    {
     "name": "stdout",
     "output_type": "stream",
     "text": [
      "\n",
      "0.37 0.11480312582833738\n",
      "[0.056 0.01  0.237 0.    0.016 0.065 0.299 0.111 0.062 0.065 0.342]\n"
     ]
    },
    {
     "data": {
      "application/vnd.jupyter.widget-view+json": {
       "model_id": "650856ddf4464ab2aa179adbf0849510",
       "version_major": 2,
       "version_minor": 0
      },
      "text/plain": [
       "HBox(children=(FloatProgress(value=0.0, max=11.0), HTML(value='')))"
      ]
     },
     "metadata": {},
     "output_type": "display_data"
    },
    {
     "name": "stdout",
     "output_type": "stream",
     "text": [
      "\n",
      "0.38 0.12939986282687943\n",
      "[0.08  0.017 0.236 0.014 0.02  0.135 0.301 0.204 0.088 0.104 0.225]\n"
     ]
    },
    {
     "data": {
      "application/vnd.jupyter.widget-view+json": {
       "model_id": "8a45f04c3c4d4583982da8bd00c4c7f2",
       "version_major": 2,
       "version_minor": 0
      },
      "text/plain": [
       "HBox(children=(FloatProgress(value=0.0, max=11.0), HTML(value='')))"
      ]
     },
     "metadata": {},
     "output_type": "display_data"
    },
    {
     "name": "stdout",
     "output_type": "stream",
     "text": [
      "\n",
      "0.39 0.13234930187971763\n",
      "[0.081 0.016 0.318 0.    0.046 0.081 0.3   0.089 0.059 0.244 0.221]\n"
     ]
    },
    {
     "data": {
      "application/vnd.jupyter.widget-view+json": {
       "model_id": "c7949a22576c478e98068b370fc48477",
       "version_major": 2,
       "version_minor": 0
      },
      "text/plain": [
       "HBox(children=(FloatProgress(value=0.0, max=11.0), HTML(value='')))"
      ]
     },
     "metadata": {},
     "output_type": "display_data"
    },
    {
     "name": "stdout",
     "output_type": "stream",
     "text": [
      "\n",
      "0.4 0.10649464088931221\n",
      "[0.071 0.009 0.242 0.    0.011 0.055 0.297 0.084 0.096 0.099 0.208]\n"
     ]
    },
    {
     "data": {
      "application/vnd.jupyter.widget-view+json": {
       "model_id": "eafa2429f9184a81bd8e2092c70f44f7",
       "version_major": 2,
       "version_minor": 0
      },
      "text/plain": [
       "HBox(children=(FloatProgress(value=0.0, max=11.0), HTML(value='')))"
      ]
     },
     "metadata": {},
     "output_type": "display_data"
    },
    {
     "name": "stdout",
     "output_type": "stream",
     "text": [
      "\n",
      "0.41 0.12682211288536874\n",
      "[0.038 0.033 0.245 0.    0.013 0.055 0.297 0.163 0.076 0.268 0.206]\n"
     ]
    },
    {
     "data": {
      "application/vnd.jupyter.widget-view+json": {
       "model_id": "a9e2036baf154d4ebcb7c2929278a475",
       "version_major": 2,
       "version_minor": 0
      },
      "text/plain": [
       "HBox(children=(FloatProgress(value=0.0, max=11.0), HTML(value='')))"
      ]
     },
     "metadata": {},
     "output_type": "display_data"
    },
    {
     "name": "stdout",
     "output_type": "stream",
     "text": [
      "\n",
      "0.42 0.1330823013795473\n",
      "[0.107 0.038 0.237 0.    0.017 0.049 0.296 0.167 0.11  0.196 0.248]\n"
     ]
    },
    {
     "data": {
      "application/vnd.jupyter.widget-view+json": {
       "model_id": "8875ecb8c52f4a8bae864d4f9e21333f",
       "version_major": 2,
       "version_minor": 0
      },
      "text/plain": [
       "HBox(children=(FloatProgress(value=0.0, max=11.0), HTML(value='')))"
      ]
     },
     "metadata": {},
     "output_type": "display_data"
    },
    {
     "name": "stdout",
     "output_type": "stream",
     "text": [
      "\n",
      "0.43 0.10634187936713319\n",
      "[0.038 0.021 0.221 0.    0.015 0.064 0.295 0.112 0.064 0.192 0.146]\n"
     ]
    },
    {
     "data": {
      "application/vnd.jupyter.widget-view+json": {
       "model_id": "b68f1f5ea71848099321e8976a3314fe",
       "version_major": 2,
       "version_minor": 0
      },
      "text/plain": [
       "HBox(children=(FloatProgress(value=0.0, max=11.0), HTML(value='')))"
      ]
     },
     "metadata": {},
     "output_type": "display_data"
    },
    {
     "name": "stdout",
     "output_type": "stream",
     "text": [
      "\n",
      "0.44 0.12576856111988297\n",
      "[0.041 0.024 0.306 0.    0.016 0.083 0.303 0.109 0.063 0.198 0.241]\n"
     ]
    },
    {
     "data": {
      "application/vnd.jupyter.widget-view+json": {
       "model_id": "35722181d7274a7698a9aaed8399c407",
       "version_major": 2,
       "version_minor": 0
      },
      "text/plain": [
       "HBox(children=(FloatProgress(value=0.0, max=11.0), HTML(value='')))"
      ]
     },
     "metadata": {},
     "output_type": "display_data"
    },
    {
     "name": "stdout",
     "output_type": "stream",
     "text": [
      "\n",
      "0.45 0.11868830124768626\n",
      "[0.04  0.037 0.257 0.    0.047 0.054 0.311 0.089 0.079 0.06  0.332]\n"
     ]
    },
    {
     "data": {
      "application/vnd.jupyter.widget-view+json": {
       "model_id": "6809f33f2f0c42028267ffff497c5d55",
       "version_major": 2,
       "version_minor": 0
      },
      "text/plain": [
       "HBox(children=(FloatProgress(value=0.0, max=11.0), HTML(value='')))"
      ]
     },
     "metadata": {},
     "output_type": "display_data"
    },
    {
     "name": "stdout",
     "output_type": "stream",
     "text": [
      "\n",
      "0.46 0.12010207244219084\n",
      "[0.04  0.009 0.27  0.    0.014 0.139 0.303 0.101 0.097 0.095 0.254]\n"
     ]
    },
    {
     "data": {
      "application/vnd.jupyter.widget-view+json": {
       "model_id": "42f4eaca594347d69a0593b31a190337",
       "version_major": 2,
       "version_minor": 0
      },
      "text/plain": [
       "HBox(children=(FloatProgress(value=0.0, max=11.0), HTML(value='')))"
      ]
     },
     "metadata": {},
     "output_type": "display_data"
    },
    {
     "name": "stdout",
     "output_type": "stream",
     "text": [
      "\n",
      "0.47 0.1202108044339232\n",
      "[0.073 0.003 0.247 0.    0.022 0.168 0.299 0.09  0.079 0.099 0.242]\n"
     ]
    },
    {
     "data": {
      "application/vnd.jupyter.widget-view+json": {
       "model_id": "6dc5fb17b3f64d09a9ea1b222729dd31",
       "version_major": 2,
       "version_minor": 0
      },
      "text/plain": [
       "HBox(children=(FloatProgress(value=0.0, max=11.0), HTML(value='')))"
      ]
     },
     "metadata": {},
     "output_type": "display_data"
    },
    {
     "name": "stdout",
     "output_type": "stream",
     "text": [
      "\n",
      "0.48 0.12668225427205534\n",
      "[0.038 0.023 0.233 0.015 0.013 0.161 0.301 0.107 0.073 0.198 0.231]\n"
     ]
    },
    {
     "data": {
      "application/vnd.jupyter.widget-view+json": {
       "model_id": "a9508ba227bf4d4bb8a4ffc4a8175f5a",
       "version_major": 2,
       "version_minor": 0
      },
      "text/plain": [
       "HBox(children=(FloatProgress(value=0.0, max=11.0), HTML(value='')))"
      ]
     },
     "metadata": {},
     "output_type": "display_data"
    },
    {
     "name": "stdout",
     "output_type": "stream",
     "text": [
      "\n",
      "0.49 0.10472933206951232\n",
      "[0.072 0.01  0.269 0.    0.013 0.057 0.297 0.086 0.058 0.085 0.206]\n"
     ]
    },
    {
     "data": {
      "application/vnd.jupyter.widget-view+json": {
       "model_id": "5c7ef643ab0e47bea8ba005cc3cb99ea",
       "version_major": 2,
       "version_minor": 0
      },
      "text/plain": [
       "HBox(children=(FloatProgress(value=0.0, max=11.0), HTML(value='')))"
      ]
     },
     "metadata": {},
     "output_type": "display_data"
    },
    {
     "name": "stdout",
     "output_type": "stream",
     "text": [
      "\n",
      "0.5 0.1327972224684897\n",
      "[0.039 0.01  0.24  0.007 0.015 0.174 0.303 0.112 0.075 0.23  0.257]\n"
     ]
    },
    {
     "data": {
      "application/vnd.jupyter.widget-view+json": {
       "model_id": "32089ebda6444a5ea1c142c595170d70",
       "version_major": 2,
       "version_minor": 0
      },
      "text/plain": [
       "HBox(children=(FloatProgress(value=0.0, max=11.0), HTML(value='')))"
      ]
     },
     "metadata": {},
     "output_type": "display_data"
    },
    {
     "name": "stdout",
     "output_type": "stream",
     "text": [
      "\n",
      "0.51 0.1288430896030592\n",
      "[0.039 0.017 0.265 0.    0.015 0.057 0.301 0.157 0.069 0.21  0.287]\n"
     ]
    },
    {
     "data": {
      "application/vnd.jupyter.widget-view+json": {
       "model_id": "a7f22fe46a5748e8aba510b8484364f2",
       "version_major": 2,
       "version_minor": 0
      },
      "text/plain": [
       "HBox(children=(FloatProgress(value=0.0, max=11.0), HTML(value='')))"
      ]
     },
     "metadata": {},
     "output_type": "display_data"
    },
    {
     "name": "stdout",
     "output_type": "stream",
     "text": [
      "\n",
      "0.52 0.11718191523479765\n",
      "[0.037 0.031 0.257 0.    0.017 0.049 0.298 0.167 0.061 0.097 0.277]\n"
     ]
    },
    {
     "data": {
      "application/vnd.jupyter.widget-view+json": {
       "model_id": "f3575301cccc4db78bebf7209afde68f",
       "version_major": 2,
       "version_minor": 0
      },
      "text/plain": [
       "HBox(children=(FloatProgress(value=0.0, max=11.0), HTML(value='')))"
      ]
     },
     "metadata": {},
     "output_type": "display_data"
    },
    {
     "name": "stdout",
     "output_type": "stream",
     "text": [
      "\n",
      "0.53 0.10517073036607294\n",
      "[0.039 0.02  0.266 0.    0.012 0.139 0.296 0.11  0.057 0.054 0.163]\n"
     ]
    },
    {
     "data": {
      "application/vnd.jupyter.widget-view+json": {
       "model_id": "f0c84c3cced04670b93c28ff1be5358c",
       "version_major": 2,
       "version_minor": 0
      },
      "text/plain": [
       "HBox(children=(FloatProgress(value=0.0, max=11.0), HTML(value='')))"
      ]
     },
     "metadata": {},
     "output_type": "display_data"
    },
    {
     "name": "stdout",
     "output_type": "stream",
     "text": [
      "\n",
      "0.54 0.1291333930119141\n",
      "[0.068 0.033 0.248 0.    0.01  0.055 0.3   0.085 0.096 0.219 0.307]\n"
     ]
    },
    {
     "data": {
      "application/vnd.jupyter.widget-view+json": {
       "model_id": "51553e7fbdb849dea2f988ba9443e689",
       "version_major": 2,
       "version_minor": 0
      },
      "text/plain": [
       "HBox(children=(FloatProgress(value=0.0, max=11.0), HTML(value='')))"
      ]
     },
     "metadata": {},
     "output_type": "display_data"
    },
    {
     "name": "stdout",
     "output_type": "stream",
     "text": [
      "\n",
      "0.55 0.12105539924370266\n",
      "[0.04  0.016 0.302 0.    0.016 0.044 0.297 0.085 0.06  0.192 0.279]\n"
     ]
    },
    {
     "data": {
      "application/vnd.jupyter.widget-view+json": {
       "model_id": "af7a6159496b47309d1808ede7e4e47e",
       "version_major": 2,
       "version_minor": 0
      },
      "text/plain": [
       "HBox(children=(FloatProgress(value=0.0, max=11.0), HTML(value='')))"
      ]
     },
     "metadata": {},
     "output_type": "display_data"
    },
    {
     "name": "stdout",
     "output_type": "stream",
     "text": [
      "\n",
      "0.56 0.10573513246943884\n",
      "[0.039 0.026 0.254 0.    0.044 0.061 0.296 0.089 0.05  0.097 0.208]\n"
     ]
    },
    {
     "data": {
      "application/vnd.jupyter.widget-view+json": {
       "model_id": "d598764da114458f8fdef3f3a0122fd2",
       "version_major": 2,
       "version_minor": 0
      },
      "text/plain": [
       "HBox(children=(FloatProgress(value=0.0, max=11.0), HTML(value='')))"
      ]
     },
     "metadata": {},
     "output_type": "display_data"
    },
    {
     "name": "stdout",
     "output_type": "stream",
     "text": [
      "\n",
      "0.57 0.09652475452177525\n",
      "[0.038 0.015 0.232 0.    0.011 0.056 0.295 0.091 0.075 0.097 0.152]\n"
     ]
    },
    {
     "data": {
      "application/vnd.jupyter.widget-view+json": {
       "model_id": "348639a5ca8c4ee68fa70ede7757e567",
       "version_major": 2,
       "version_minor": 0
      },
      "text/plain": [
       "HBox(children=(FloatProgress(value=0.0, max=11.0), HTML(value='')))"
      ]
     },
     "metadata": {},
     "output_type": "display_data"
    },
    {
     "name": "stdout",
     "output_type": "stream",
     "text": [
      "\n",
      "0.59 0.09870881800979019\n",
      "[0.04  0.032 0.28  0.    0.011 0.053 0.302 0.093 0.068 0.057 0.149]\n"
     ]
    },
    {
     "data": {
      "application/vnd.jupyter.widget-view+json": {
       "model_id": "f2584dcdd191447c922022a33ef7f96f",
       "version_major": 2,
       "version_minor": 0
      },
      "text/plain": [
       "HBox(children=(FloatProgress(value=0.0, max=11.0), HTML(value='')))"
      ]
     },
     "metadata": {},
     "output_type": "display_data"
    },
    {
     "name": "stdout",
     "output_type": "stream",
     "text": [
      "\n",
      "0.6 0.10096241092864157\n",
      "[0.037 0.02  0.23  0.    0.015 0.156 0.298 0.088 0.063 0.059 0.145]\n"
     ]
    },
    {
     "data": {
      "application/vnd.jupyter.widget-view+json": {
       "model_id": "846d5cb07c654169a04771c4d14735f9",
       "version_major": 2,
       "version_minor": 0
      },
      "text/plain": [
       "HBox(children=(FloatProgress(value=0.0, max=11.0), HTML(value='')))"
      ]
     },
     "metadata": {},
     "output_type": "display_data"
    },
    {
     "name": "stdout",
     "output_type": "stream",
     "text": [
      "\n",
      "0.61 0.1009627669926071\n",
      "[0.038 0.02  0.24  0.    0.012 0.052 0.296 0.093 0.071 0.138 0.149]\n"
     ]
    },
    {
     "data": {
      "application/vnd.jupyter.widget-view+json": {
       "model_id": "e67a2541152a4c2b82e258480837923b",
       "version_major": 2,
       "version_minor": 0
      },
      "text/plain": [
       "HBox(children=(FloatProgress(value=0.0, max=11.0), HTML(value='')))"
      ]
     },
     "metadata": {},
     "output_type": "display_data"
    },
    {
     "name": "stdout",
     "output_type": "stream",
     "text": [
      "\n",
      "0.62 0.11256626194184943\n",
      "[0.039 0.003 0.232 0.    0.013 0.136 0.299 0.086 0.077 0.096 0.258]\n"
     ]
    },
    {
     "data": {
      "application/vnd.jupyter.widget-view+json": {
       "model_id": "4ab916b56180485cb41237aa84137557",
       "version_major": 2,
       "version_minor": 0
      },
      "text/plain": [
       "HBox(children=(FloatProgress(value=0.0, max=11.0), HTML(value='')))"
      ]
     },
     "metadata": {},
     "output_type": "display_data"
    },
    {
     "name": "stdout",
     "output_type": "stream",
     "text": [
      "\n",
      "0.63 0.09747520032101983\n",
      "[0.04  0.015 0.25  0.    0.015 0.05  0.299 0.083 0.073 0.094 0.152]\n"
     ]
    },
    {
     "data": {
      "application/vnd.jupyter.widget-view+json": {
       "model_id": "426ed4bc884546a1ab269f8025d63d04",
       "version_major": 2,
       "version_minor": 0
      },
      "text/plain": [
       "HBox(children=(FloatProgress(value=0.0, max=11.0), HTML(value='')))"
      ]
     },
     "metadata": {},
     "output_type": "display_data"
    },
    {
     "name": "stdout",
     "output_type": "stream",
     "text": [
      "\n",
      "0.64 0.09654443951620208\n",
      "[0.038 0.009 0.239 0.    0.018 0.05  0.308 0.083 0.067 0.098 0.151]\n"
     ]
    },
    {
     "data": {
      "application/vnd.jupyter.widget-view+json": {
       "model_id": "9ee41a55588f4c6d9db5e866b78e64b6",
       "version_major": 2,
       "version_minor": 0
      },
      "text/plain": [
       "HBox(children=(FloatProgress(value=0.0, max=11.0), HTML(value='')))"
      ]
     },
     "metadata": {},
     "output_type": "display_data"
    },
    {
     "name": "stdout",
     "output_type": "stream",
     "text": [
      "\n",
      "0.65 0.10165203099330572\n",
      "[0.038 0.019 0.267 0.    0.011 0.077 0.305 0.083 0.08  0.059 0.178]\n"
     ]
    },
    {
     "data": {
      "application/vnd.jupyter.widget-view+json": {
       "model_id": "83ef575c19724c70b4880bee4224a62f",
       "version_major": 2,
       "version_minor": 0
      },
      "text/plain": [
       "HBox(children=(FloatProgress(value=0.0, max=11.0), HTML(value='')))"
      ]
     },
     "metadata": {},
     "output_type": "display_data"
    },
    {
     "name": "stdout",
     "output_type": "stream",
     "text": [
      "\n",
      "0.66 0.10067034231093927\n",
      "[0.038 0.003 0.247 0.    0.016 0.071 0.297 0.085 0.063 0.058 0.23 ]\n"
     ]
    },
    {
     "data": {
      "application/vnd.jupyter.widget-view+json": {
       "model_id": "d4372fc647ba4f488727fe94931d5ea2",
       "version_major": 2,
       "version_minor": 0
      },
      "text/plain": [
       "HBox(children=(FloatProgress(value=0.0, max=11.0), HTML(value='')))"
      ]
     },
     "metadata": {},
     "output_type": "display_data"
    },
    {
     "name": "stdout",
     "output_type": "stream",
     "text": [
      "\n",
      "0.67 0.10179653928981115\n",
      "[0.038 0.01  0.221 0.    0.012 0.051 0.296 0.084 0.072 0.158 0.177]\n"
     ]
    },
    {
     "data": {
      "application/vnd.jupyter.widget-view+json": {
       "model_id": "68e9637049f14af4b30e970d923afbb1",
       "version_major": 2,
       "version_minor": 0
      },
      "text/plain": [
       "HBox(children=(FloatProgress(value=0.0, max=11.0), HTML(value='')))"
      ]
     },
     "metadata": {},
     "output_type": "display_data"
    },
    {
     "name": "stdout",
     "output_type": "stream",
     "text": [
      "\n",
      "0.68 0.10071461618916255\n",
      "[0.037 0.003 0.247 0.    0.017 0.047 0.299 0.153 0.07  0.057 0.179]\n"
     ]
    },
    {
     "data": {
      "application/vnd.jupyter.widget-view+json": {
       "model_id": "682d27481569493ca4b79a2e68d18099",
       "version_major": 2,
       "version_minor": 0
      },
      "text/plain": [
       "HBox(children=(FloatProgress(value=0.0, max=11.0), HTML(value='')))"
      ]
     },
     "metadata": {},
     "output_type": "display_data"
    },
    {
     "name": "stdout",
     "output_type": "stream",
     "text": [
      "\n",
      "0.69 0.09562799102129235\n",
      "[0.037 0.003 0.253 0.    0.011 0.05  0.302 0.083 0.048 0.063 0.201]\n"
     ]
    },
    {
     "data": {
      "application/vnd.jupyter.widget-view+json": {
       "model_id": "13acaabf7b0e46d6843d923269481ec3",
       "version_major": 2,
       "version_minor": 0
      },
      "text/plain": [
       "HBox(children=(FloatProgress(value=0.0, max=11.0), HTML(value='')))"
      ]
     },
     "metadata": {},
     "output_type": "display_data"
    },
    {
     "name": "stdout",
     "output_type": "stream",
     "text": [
      "\n",
      "0.7 0.10059726403135519\n",
      "[0.037 0.01  0.227 0.    0.017 0.049 0.293 0.084 0.049 0.189 0.151]\n"
     ]
    },
    {
     "data": {
      "application/vnd.jupyter.widget-view+json": {
       "model_id": "bba0205c9e0140888adcb8072fca4a5b",
       "version_major": 2,
       "version_minor": 0
      },
      "text/plain": [
       "HBox(children=(FloatProgress(value=0.0, max=11.0), HTML(value='')))"
      ]
     },
     "metadata": {},
     "output_type": "display_data"
    },
    {
     "name": "stdout",
     "output_type": "stream",
     "text": [
      "\n",
      "0.71 0.10893632614834145\n",
      "[0.038 0.003 0.24  0.    0.016 0.045 0.301 0.156 0.062 0.137 0.201]\n"
     ]
    },
    {
     "data": {
      "application/vnd.jupyter.widget-view+json": {
       "model_id": "4d74c5a56ec14975bf4a8cf9974321f8",
       "version_major": 2,
       "version_minor": 0
      },
      "text/plain": [
       "HBox(children=(FloatProgress(value=0.0, max=11.0), HTML(value='')))"
      ]
     },
     "metadata": {},
     "output_type": "display_data"
    },
    {
     "name": "stdout",
     "output_type": "stream",
     "text": [
      "\n",
      "0.72 0.08993232675088927\n",
      "[0.04  0.01  0.236 0.    0.012 0.045 0.296 0.085 0.064 0.057 0.144]\n"
     ]
    },
    {
     "data": {
      "application/vnd.jupyter.widget-view+json": {
       "model_id": "384e129a32e94e67be0136d47cd133a6",
       "version_major": 2,
       "version_minor": 0
      },
      "text/plain": [
       "HBox(children=(FloatProgress(value=0.0, max=11.0), HTML(value='')))"
      ]
     },
     "metadata": {},
     "output_type": "display_data"
    },
    {
     "name": "stdout",
     "output_type": "stream",
     "text": [
      "\n",
      "0.73 0.09549668328300812\n",
      "[0.038 0.003 0.23  0.    0.012 0.058 0.3   0.085 0.063 0.094 0.167]\n"
     ]
    },
    {
     "data": {
      "application/vnd.jupyter.widget-view+json": {
       "model_id": "877065cd18d54d1f948c235b51870cfb",
       "version_major": 2,
       "version_minor": 0
      },
      "text/plain": [
       "HBox(children=(FloatProgress(value=0.0, max=11.0), HTML(value='')))"
      ]
     },
     "metadata": {},
     "output_type": "display_data"
    },
    {
     "name": "stdout",
     "output_type": "stream",
     "text": [
      "\n",
      "0.74 0.1075973839545103\n",
      "[0.038 0.003 0.224 0.    0.015 0.051 0.296 0.088 0.052 0.178 0.238]\n"
     ]
    },
    {
     "data": {
      "application/vnd.jupyter.widget-view+json": {
       "model_id": "296c576c13704cbcb8171aef04a77f12",
       "version_major": 2,
       "version_minor": 0
      },
      "text/plain": [
       "HBox(children=(FloatProgress(value=0.0, max=11.0), HTML(value='')))"
      ]
     },
     "metadata": {},
     "output_type": "display_data"
    },
    {
     "name": "stdout",
     "output_type": "stream",
     "text": [
      "\n",
      "0.75 0.08931771039445667\n",
      "[0.038 0.003 0.226 0.    0.011 0.05  0.297 0.09  0.06  0.057 0.15 ]\n"
     ]
    },
    {
     "data": {
      "application/vnd.jupyter.widget-view+json": {
       "model_id": "1007fdbbdd6b49449d11970e120c0a1e",
       "version_major": 2,
       "version_minor": 0
      },
      "text/plain": [
       "HBox(children=(FloatProgress(value=0.0, max=11.0), HTML(value='')))"
      ]
     },
     "metadata": {},
     "output_type": "display_data"
    },
    {
     "name": "stdout",
     "output_type": "stream",
     "text": [
      "\n",
      "0.76 0.09055591022529873\n",
      "[0.038 0.008 0.238 0.    0.011 0.05  0.295 0.086 0.061 0.058 0.152]\n"
     ]
    },
    {
     "data": {
      "application/vnd.jupyter.widget-view+json": {
       "model_id": "2a27a275f9b142379f0c0efb169b078f",
       "version_major": 2,
       "version_minor": 0
      },
      "text/plain": [
       "HBox(children=(FloatProgress(value=0.0, max=11.0), HTML(value='')))"
      ]
     },
     "metadata": {},
     "output_type": "display_data"
    },
    {
     "name": "stdout",
     "output_type": "stream",
     "text": [
      "\n",
      "0.77 0.0911885705651062\n",
      "[0.041 0.003 0.226 0.    0.016 0.044 0.303 0.084 0.049 0.06  0.177]\n"
     ]
    },
    {
     "data": {
      "application/vnd.jupyter.widget-view+json": {
       "model_id": "733981c4e7614885975b9f166172be4d",
       "version_major": 2,
       "version_minor": 0
      },
      "text/plain": [
       "HBox(children=(FloatProgress(value=0.0, max=11.0), HTML(value='')))"
      ]
     },
     "metadata": {},
     "output_type": "display_data"
    },
    {
     "name": "stdout",
     "output_type": "stream",
     "text": [
      "\n",
      "0.78 0.1035994604507292\n",
      "[0.04  0.011 0.222 0.    0.012 0.131 0.305 0.085 0.048 0.137 0.149]\n"
     ]
    },
    {
     "data": {
      "application/vnd.jupyter.widget-view+json": {
       "model_id": "3c2cacca81a446c893833e7248f1ac10",
       "version_major": 2,
       "version_minor": 0
      },
      "text/plain": [
       "HBox(children=(FloatProgress(value=0.0, max=11.0), HTML(value='')))"
      ]
     },
     "metadata": {},
     "output_type": "display_data"
    },
    {
     "name": "stdout",
     "output_type": "stream",
     "text": [
      "\n",
      "0.79 0.08910359783406013\n",
      "[0.04  0.01  0.223 0.    0.016 0.047 0.302 0.084 0.051 0.058 0.151]\n"
     ]
    },
    {
     "data": {
      "application/vnd.jupyter.widget-view+json": {
       "model_id": "58a0dcfa4b1a48fca8ea2a87b8d24e94",
       "version_major": 2,
       "version_minor": 0
      },
      "text/plain": [
       "HBox(children=(FloatProgress(value=0.0, max=11.0), HTML(value='')))"
      ]
     },
     "metadata": {},
     "output_type": "display_data"
    },
    {
     "name": "stdout",
     "output_type": "stream",
     "text": [
      "\n",
      "0.8 0.08807031493031298\n",
      "[0.038 0.003 0.222 0.    0.012 0.047 0.298 0.085 0.057 0.056 0.151]\n"
     ]
    },
    {
     "data": {
      "application/vnd.jupyter.widget-view+json": {
       "model_id": "b8505e2a724e4cb7bb436f8a5779daa5",
       "version_major": 2,
       "version_minor": 0
      },
      "text/plain": [
       "HBox(children=(FloatProgress(value=0.0, max=11.0), HTML(value='')))"
      ]
     },
     "metadata": {},
     "output_type": "display_data"
    },
    {
     "name": "stdout",
     "output_type": "stream",
     "text": [
      "\n",
      "0.81 0.09252113609068911\n",
      "[0.039 0.003 0.233 0.    0.01  0.044 0.3   0.083 0.05  0.055 0.201]\n"
     ]
    },
    {
     "data": {
      "application/vnd.jupyter.widget-view+json": {
       "model_id": "8bc77abed5ed4534a801b1004562699a",
       "version_major": 2,
       "version_minor": 0
      },
      "text/plain": [
       "HBox(children=(FloatProgress(value=0.0, max=11.0), HTML(value='')))"
      ]
     },
     "metadata": {},
     "output_type": "display_data"
    },
    {
     "name": "stdout",
     "output_type": "stream",
     "text": [
      "\n",
      "0.82 0.09328509843908704\n",
      "[0.039 0.003 0.229 0.    0.013 0.056 0.295 0.085 0.05  0.095 0.162]\n"
     ]
    },
    {
     "data": {
      "application/vnd.jupyter.widget-view+json": {
       "model_id": "14b28d47f2294afd867d45676e3fb16d",
       "version_major": 2,
       "version_minor": 0
      },
      "text/plain": [
       "HBox(children=(FloatProgress(value=0.0, max=11.0), HTML(value='')))"
      ]
     },
     "metadata": {},
     "output_type": "display_data"
    },
    {
     "name": "stdout",
     "output_type": "stream",
     "text": [
      "\n",
      "0.83 0.0893524578677752\n",
      "[0.038 0.003 0.244 0.    0.011 0.045 0.296 0.09  0.048 0.058 0.151]\n"
     ]
    },
    {
     "data": {
      "application/vnd.jupyter.widget-view+json": {
       "model_id": "fc13d86f352647ba8ab9f1926c608597",
       "version_major": 2,
       "version_minor": 0
      },
      "text/plain": [
       "HBox(children=(FloatProgress(value=0.0, max=11.0), HTML(value='')))"
      ]
     },
     "metadata": {},
     "output_type": "display_data"
    },
    {
     "name": "stdout",
     "output_type": "stream",
     "text": [
      "\n",
      "0.84 0.08926324463531783\n",
      "[0.039 0.003 0.227 0.    0.011 0.061 0.302 0.085 0.046 0.058 0.149]\n"
     ]
    },
    {
     "data": {
      "application/vnd.jupyter.widget-view+json": {
       "model_id": "476bd9de55d843d88b96bfeab21288fe",
       "version_major": 2,
       "version_minor": 0
      },
      "text/plain": [
       "HBox(children=(FloatProgress(value=0.0, max=11.0), HTML(value='')))"
      ]
     },
     "metadata": {},
     "output_type": "display_data"
    },
    {
     "name": "stdout",
     "output_type": "stream",
     "text": [
      "\n",
      "0.85 0.08962701177855249\n",
      "[0.041 0.003 0.227 0.    0.012 0.051 0.302 0.083 0.06  0.056 0.151]\n"
     ]
    },
    {
     "data": {
      "application/vnd.jupyter.widget-view+json": {
       "model_id": "cf9c64a6765f4fbab3f0c1bbf1c01892",
       "version_major": 2,
       "version_minor": 0
      },
      "text/plain": [
       "HBox(children=(FloatProgress(value=0.0, max=11.0), HTML(value='')))"
      ]
     },
     "metadata": {},
     "output_type": "display_data"
    },
    {
     "name": "stdout",
     "output_type": "stream",
     "text": [
      "\n",
      "0.86 0.08784054731517761\n",
      "[0.037 0.003 0.224 0.    0.011 0.047 0.301 0.085 0.05  0.059 0.15 ]\n"
     ]
    },
    {
     "data": {
      "application/vnd.jupyter.widget-view+json": {
       "model_id": "0019d6648ee14928817edfe98934c306",
       "version_major": 2,
       "version_minor": 0
      },
      "text/plain": [
       "HBox(children=(FloatProgress(value=0.0, max=11.0), HTML(value='')))"
      ]
     },
     "metadata": {},
     "output_type": "display_data"
    },
    {
     "name": "stdout",
     "output_type": "stream",
     "text": [
      "\n",
      "0.87 0.08959935603978421\n",
      "[0.037 0.004 0.24  0.    0.011 0.046 0.294 0.085 0.059 0.058 0.152]\n"
     ]
    },
    {
     "data": {
      "application/vnd.jupyter.widget-view+json": {
       "model_id": "18f444a9683744059d2459ed6842cbf5",
       "version_major": 2,
       "version_minor": 0
      },
      "text/plain": [
       "HBox(children=(FloatProgress(value=0.0, max=11.0), HTML(value='')))"
      ]
     },
     "metadata": {},
     "output_type": "display_data"
    },
    {
     "name": "stdout",
     "output_type": "stream",
     "text": [
      "\n",
      "0.88 0.08724405768377554\n",
      "[0.038 0.003 0.224 0.    0.013 0.046 0.298 0.083 0.049 0.057 0.148]\n"
     ]
    },
    {
     "data": {
      "application/vnd.jupyter.widget-view+json": {
       "model_id": "9314090d40064291a432ff2e5064e634",
       "version_major": 2,
       "version_minor": 0
      },
      "text/plain": [
       "HBox(children=(FloatProgress(value=0.0, max=11.0), HTML(value='')))"
      ]
     },
     "metadata": {},
     "output_type": "display_data"
    },
    {
     "name": "stdout",
     "output_type": "stream",
     "text": [
      "\n",
      "0.89 0.08851270963941214\n",
      "[0.04  0.003 0.221 0.    0.012 0.046 0.293 0.087 0.063 0.059 0.15 ]\n"
     ]
    },
    {
     "data": {
      "application/vnd.jupyter.widget-view+json": {
       "model_id": "46269befa7b146be8a89362543a3592e",
       "version_major": 2,
       "version_minor": 0
      },
      "text/plain": [
       "HBox(children=(FloatProgress(value=0.0, max=11.0), HTML(value='')))"
      ]
     },
     "metadata": {},
     "output_type": "display_data"
    },
    {
     "name": "stdout",
     "output_type": "stream",
     "text": [
      "\n",
      "0.9 0.09179636424992191\n",
      "[0.04  0.009 0.225 0.    0.012 0.044 0.301 0.083 0.05  0.096 0.151]\n"
     ]
    },
    {
     "data": {
      "application/vnd.jupyter.widget-view+json": {
       "model_id": "0622f87e14ea44ada2a0006dc7677b93",
       "version_major": 2,
       "version_minor": 0
      },
      "text/plain": [
       "HBox(children=(FloatProgress(value=0.0, max=11.0), HTML(value='')))"
      ]
     },
     "metadata": {},
     "output_type": "display_data"
    },
    {
     "name": "stdout",
     "output_type": "stream",
     "text": [
      "\n",
      "0.91 0.08993820437569527\n",
      "[0.039 0.003 0.23  0.    0.012 0.052 0.31  0.084 0.048 0.059 0.151]\n"
     ]
    },
    {
     "data": {
      "application/vnd.jupyter.widget-view+json": {
       "model_id": "ca35860761e84d9fbe73cc368f2ae2dc",
       "version_major": 2,
       "version_minor": 0
      },
      "text/plain": [
       "HBox(children=(FloatProgress(value=0.0, max=11.0), HTML(value='')))"
      ]
     },
     "metadata": {},
     "output_type": "display_data"
    },
    {
     "name": "stdout",
     "output_type": "stream",
     "text": [
      "\n",
      "0.92 0.08826084265964469\n",
      "[0.04  0.003 0.229 0.    0.01  0.051 0.299 0.084 0.047 0.058 0.15 ]\n"
     ]
    },
    {
     "data": {
      "application/vnd.jupyter.widget-view+json": {
       "model_id": "5c308e446f1d46c39e6ffd232b3eb164",
       "version_major": 2,
       "version_minor": 0
      },
      "text/plain": [
       "HBox(children=(FloatProgress(value=0.0, max=11.0), HTML(value='')))"
      ]
     },
     "metadata": {},
     "output_type": "display_data"
    },
    {
     "name": "stdout",
     "output_type": "stream",
     "text": [
      "\n",
      "0.93 0.08820486497586356\n",
      "[0.04  0.003 0.224 0.    0.011 0.047 0.302 0.084 0.051 0.058 0.15 ]\n"
     ]
    },
    {
     "data": {
      "application/vnd.jupyter.widget-view+json": {
       "model_id": "22928bee48054ae0b2a913ff1b06fa36",
       "version_major": 2,
       "version_minor": 0
      },
      "text/plain": [
       "HBox(children=(FloatProgress(value=0.0, max=11.0), HTML(value='')))"
      ]
     },
     "metadata": {},
     "output_type": "display_data"
    },
    {
     "name": "stdout",
     "output_type": "stream",
     "text": [
      "\n",
      "0.94 0.08820971078528865\n",
      "[0.037 0.003 0.224 0.    0.012 0.05  0.304 0.082 0.049 0.059 0.149]\n"
     ]
    },
    {
     "data": {
      "application/vnd.jupyter.widget-view+json": {
       "model_id": "8f05155313634c77af0f6dd3a37e381d",
       "version_major": 2,
       "version_minor": 0
      },
      "text/plain": [
       "HBox(children=(FloatProgress(value=0.0, max=11.0), HTML(value='')))"
      ]
     },
     "metadata": {},
     "output_type": "display_data"
    },
    {
     "name": "stdout",
     "output_type": "stream",
     "text": [
      "\n",
      "0.95 0.08907807420581455\n",
      "[0.038 0.009 0.225 0.    0.011 0.045 0.299 0.084 0.062 0.056 0.15 ]\n"
     ]
    },
    {
     "data": {
      "application/vnd.jupyter.widget-view+json": {
       "model_id": "31b9f52ac99f446cb36c1f179a63cbce",
       "version_major": 2,
       "version_minor": 0
      },
      "text/plain": [
       "HBox(children=(FloatProgress(value=0.0, max=11.0), HTML(value='')))"
      ]
     },
     "metadata": {},
     "output_type": "display_data"
    },
    {
     "name": "stdout",
     "output_type": "stream",
     "text": [
      "\n",
      "0.96 0.08766966471163212\n",
      "[0.037 0.003 0.221 0.    0.012 0.045 0.304 0.085 0.052 0.057 0.148]\n"
     ]
    },
    {
     "data": {
      "application/vnd.jupyter.widget-view+json": {
       "model_id": "80e842c285004ab280bee2a04afd7e03",
       "version_major": 2,
       "version_minor": 0
      },
      "text/plain": [
       "HBox(children=(FloatProgress(value=0.0, max=11.0), HTML(value='')))"
      ]
     },
     "metadata": {},
     "output_type": "display_data"
    },
    {
     "name": "stdout",
     "output_type": "stream",
     "text": [
      "\n",
      "0.97 0.08748764206075867\n",
      "[0.037 0.003 0.225 0.    0.011 0.047 0.296 0.085 0.051 0.058 0.149]\n"
     ]
    },
    {
     "data": {
      "application/vnd.jupyter.widget-view+json": {
       "model_id": "be6c276265fd44b38f4cb5dcb6688b07",
       "version_major": 2,
       "version_minor": 0
      },
      "text/plain": [
       "HBox(children=(FloatProgress(value=0.0, max=11.0), HTML(value='')))"
      ]
     },
     "metadata": {},
     "output_type": "display_data"
    },
    {
     "name": "stdout",
     "output_type": "stream",
     "text": [
      "\n",
      "0.98 0.08880696351376015\n",
      "[0.04  0.003 0.24  0.    0.012 0.044 0.302 0.082 0.049 0.058 0.146]\n"
     ]
    },
    {
     "data": {
      "application/vnd.jupyter.widget-view+json": {
       "model_id": "a33955cfc7e94c178ca539cb1cc6da06",
       "version_major": 2,
       "version_minor": 0
      },
      "text/plain": [
       "HBox(children=(FloatProgress(value=0.0, max=11.0), HTML(value='')))"
      ]
     },
     "metadata": {},
     "output_type": "display_data"
    },
    {
     "name": "stdout",
     "output_type": "stream",
     "text": [
      "\n",
      "0.99 0.08795039185505536\n",
      "[0.041 0.003 0.226 0.    0.011 0.045 0.296 0.084 0.052 0.058 0.152]\n"
     ]
    },
    {
     "data": {
      "application/vnd.jupyter.widget-view+json": {
       "model_id": "8a3de3a95ea94129b6ff5060a1e8f863",
       "version_major": 2,
       "version_minor": 0
      },
      "text/plain": [
       "HBox(children=(FloatProgress(value=0.0, max=11.0), HTML(value='')))"
      ]
     },
     "metadata": {},
     "output_type": "display_data"
    },
    {
     "name": "stdout",
     "output_type": "stream",
     "text": [
      "\n",
      "1.0 0.08807823895644212\n",
      "[0.04  0.004 0.229 0.    0.012 0.045 0.299 0.084 0.047 0.058 0.152]\n",
      "\n"
     ]
    }
   ],
   "source": [
    "# comparison of a system with without filtering, or with noise\n",
    "# compute transition on sessions using the transition probabilities.\n",
    "num_samples = 10000\n",
    "\n",
    "res = 100\n",
    "\n",
    "means = []\n",
    "for noise in tqdm(range(0, res+1)):\n",
    "    noise = noise/res\n",
    "\n",
    "    topic_scores = []\n",
    "    for topic in tqdm(topics):\n",
    "        num_subtopics = len(sub_topics[topic])\n",
    "\n",
    "        all_r_documents = {}\n",
    "        all_r_inverted_index = {}\n",
    "        for sub_topic in sub_topics[topic]:\n",
    "            r_documents, r_inverted_index = get_search_engine(topic, sub_topic, qrels, direct_index, noise)\n",
    "            all_r_documents[sub_topic] = r_documents\n",
    "            all_r_inverted_index[sub_topic] = r_inverted_index\n",
    "\n",
    "        rel_table, irr_table, p_rel, _ = get_transitions_tables(num_subtopics, \n",
    "                                                                min(sub_topics[topic]), \n",
    "                                                                all_sequences[topic], \n",
    "                                                                10e-6)\n",
    "        scores = []\n",
    "        for _ in range(num_samples):\n",
    "            sg = SequenceGenerator(num_subtopics, min(sub_topics[topic]), rel_table, irr_table)\n",
    "            prob = 1.0\n",
    "            prev_sub_topic = 0\n",
    "            sequence = []\n",
    "            for m, (sub_topic, prob_action) in enumerate(sg):\n",
    "\n",
    "                if sub_topic != num_subtopics + 1 + min(sub_topics[topic]) - 1:\n",
    "                    query = ''\n",
    "                    if sub_topic in all_queries[topic] and len(all_queries[topic][sub_topic]) > 0: \n",
    "                        queries = all_queries[topic][sub_topic]\n",
    "                        query = queries[choice(range(len(queries)))]\n",
    "\n",
    "                    search = Search(all_r_inverted_index[sub_topic], pre_preocessor)\n",
    "                    answer = search.search(query, \n",
    "                                           n=1, \n",
    "                                           retrievable_paragraphs=all_r_documents[sub_topic].keys())[0]\n",
    "\n",
    "                    if sub_topic in qrels_users[topic] and answer in qrels_users[topic][sub_topic] and \\\n",
    "                    np.random.uniform(0,1) < qrels_users[topic][sub_topic][answer]:\n",
    "                        sg.set_relevance(True)\n",
    "                        sequence.append((prev_sub_topic, answer, 'relevant', sub_topic, query))\n",
    "                    else:\n",
    "                        sg.set_relevance(False)\n",
    "                        sequence.append((prev_sub_topic, answer, 'irrelevant', sub_topic, query))\n",
    "                \n",
    "                prev_sub_topic = sub_topic\n",
    "                prob *= prob_action\n",
    "\n",
    "            scores.append(ncbp_p(sequence, 1.0, 0.91))\n",
    "\n",
    "        scores = np.array(scores)\n",
    "        topic_score = np.mean(scores)\n",
    "        topic_scores.append((topic, topic_score))\n",
    "    \n",
    "    print(noise, np.mean([t[1] for t in topic_scores]))\n",
    "    print(np.array([t[1] for t in topic_scores]))\n",
    "    \n",
    "    means.append((noise, topic_scores))"
   ]
  },
  {
   "cell_type": "code",
   "execution_count": 20,
   "metadata": {},
   "outputs": [
    {
     "data": {
      "image/png": "[encoded data removed]",
      "text/plain": [
       "<Figure size 432x288 with 1 Axes>"
      ]
     },
     "metadata": {
      "needs_background": "light"
     },
     "output_type": "display_data"
    }
   ],
   "source": [
    "xs = np.arange(res+1)\n",
    "\n",
    "for topic in sub_topics:\n",
    "    ys = []\n",
    "    for noise, topic_scores in means:\n",
    "        for topic_score in topic_scores:\n",
    "            if topic_score[0] == topic:\n",
    "                score = topic_scores[topic-1][1]\n",
    "                ys.append(score)\n",
    "    plt.plot(xs, ys, label=topic)\n",
    "\n",
    "#plt.rc('font', size=13)\n",
    "#plt.ylabel('$P(\\\\mathcal{Q})$')\n",
    "#plt.xlabel('$m$')\n",
    "#plt.xlim(-1, 15)\n",
    "#plt.legend()\n",
    "plt.savefig(\"noise.png\", dpi=300)"
   ]
  },
  {
   "cell_type": "code",
   "execution_count": null,
   "metadata": {},
   "outputs": [],
   "source": []
  },
  {
   "cell_type": "code",
   "execution_count": null,
   "metadata": {},
   "outputs": [],
   "source": []
  },
  {
   "cell_type": "code",
   "execution_count": null,
   "metadata": {},
   "outputs": [],
   "source": []
  },
  {
   "cell_type": "code",
   "execution_count": null,
   "metadata": {},
   "outputs": [],
   "source": []
  },
  {
   "cell_type": "code",
   "execution_count": null,
   "metadata": {},
   "outputs": [],
   "source": []
  },
  {
   "cell_type": "code",
   "execution_count": null,
   "metadata": {},
   "outputs": [],
   "source": []
  }
 ],
 "metadata": {
  "kernelspec": {
   "display_name": "Python 3",
   "language": "python",
   "name": "python3"
  },
  "language_info": {
   "codemirror_mode": {
    "name": "ipython",
    "version": 3
   },
   "file_extension": ".py",
   "mimetype": "text/x-python",
   "name": "python",
   "nbconvert_exporter": "python",
   "pygments_lexer": "ipython3",
   "version": "3.7.6"
  }
 },
 "nbformat": 4,
 "nbformat_minor": 4
}
