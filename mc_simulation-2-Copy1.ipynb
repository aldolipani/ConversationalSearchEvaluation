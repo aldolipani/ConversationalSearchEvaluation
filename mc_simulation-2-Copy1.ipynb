{
 "cells": [
  {
   "cell_type": "code",
   "execution_count": 1,
   "metadata": {},
   "outputs": [],
   "source": [
    "import json\n",
    "import numpy as np\n",
    "import numpy.random as random\n",
    "import matplotlib.pyplot as plt\n",
    "from scipy.stats import *\n",
    "from collections import defaultdict\n",
    "from utils import get_session_ids, get_all_sequences, get_topics, get_sub_topics, RegExp, product,to_matrix\n",
    "from search_engine import *\n",
    "from numpy.random import choice\n",
    "from tqdm.notebook import tqdm\n",
    "\n",
    "np.set_printoptions(precision=3)"
   ]
  },
  {
   "cell_type": "code",
   "execution_count": 2,
   "metadata": {},
   "outputs": [],
   "source": [
    "path_log = './data/log.2.tsv'\n",
    "path_topic = './data/topic.tsv'\n",
    "path_sub_topic = './data/sub_topic.tsv'\n",
    "path_retrievable_paragraph = './data/retrievable_paragraph.tsv'"
   ]
  },
  {
   "cell_type": "code",
   "execution_count": 3,
   "metadata": {},
   "outputs": [],
   "source": [
    "session_ids = get_session_ids(path_log)\n",
    "all_sequences = get_all_sequences(path_log, session_ids)"
   ]
  },
  {
   "cell_type": "code",
   "execution_count": 4,
   "metadata": {},
   "outputs": [],
   "source": [
    "topics = get_topics(path_topic)\n",
    "\n",
    "#topics"
   ]
  },
  {
   "cell_type": "code",
   "execution_count": 5,
   "metadata": {},
   "outputs": [],
   "source": [
    "# topic -> sub_topic -> queries\n",
    "all_queries = {}\n",
    "\n",
    "for topic in all_sequences:\n",
    "    \n",
    "    queries = defaultdict(list)\n",
    "    for sequence in all_sequences[topic]:\n",
    "        for action in sequence:\n",
    "            sub_topic = action[3]\n",
    "            query = action[4]\n",
    "            queries[sub_topic].append(query)\n",
    "    \n",
    "    all_queries[topic] = queries\n",
    "\n",
    "#all_queries"
   ]
  },
  {
   "cell_type": "code",
   "execution_count": 6,
   "metadata": {},
   "outputs": [],
   "source": [
    "# topic -> sub_topic -> paragraphs\n",
    "qrels = defaultdict(dict)\n",
    "\n",
    "sub_topic_to_paragraph = defaultdict(set)\n",
    "with open(path_retrievable_paragraph) as f:\n",
    "    for line in f.readlines()[1:]:\n",
    "        items = line.split('\\t')\n",
    "        sub_topic = int(items[0])\n",
    "        paragraph = int(items[1])\n",
    "        sub_topic_to_paragraph[sub_topic].add(paragraph)\n",
    "\n",
    "sub_topics = get_sub_topics(path_sub_topic)\n",
    "\n",
    "for topic in sub_topics:\n",
    "    for sub_topic in sub_topics[topic]:\n",
    "        qrels[topic][sub_topic] = sub_topic_to_paragraph[sub_topic]\n",
    "\n",
    "#qrels"
   ]
  },
  {
   "cell_type": "code",
   "execution_count": 7,
   "metadata": {},
   "outputs": [],
   "source": [
    "# from users binary\n",
    "# topic -> sub_topic -> paragraphs\n",
    "qrels_users = {}\n",
    "\n",
    "for topic in sub_topics:\n",
    "    for sequence in all_sequences[topic]:\n",
    "        for action in sequence:\n",
    "            paragraph = action[1]\n",
    "            rel = action[2]\n",
    "            sub_topic = action[3]\n",
    "            if rel == 'relevant':\n",
    "                if topic not in qrels_users:\n",
    "                    qrels_users[topic] = {}\n",
    "                if sub_topic not in qrels_users[topic]:\n",
    "                    qrels_users[topic][sub_topic] = set()\n",
    "                qrels_users[topic][sub_topic].add(paragraph)\n",
    "\n",
    "#qrels_users"
   ]
  },
  {
   "cell_type": "code",
   "execution_count": 8,
   "metadata": {},
   "outputs": [],
   "source": [
    "# from users continuos\n",
    "# topic -> sub_topic -> paragraphs\n",
    "qrels_users = {}\n",
    "\n",
    "for topic in sub_topics:\n",
    "    for sequence in all_sequences[topic]:\n",
    "        for action in sequence:\n",
    "            paragraph = action[1]\n",
    "            rel = action[2]\n",
    "            sub_topic = action[3]\n",
    "            if topic not in qrels_users:\n",
    "                qrels_users[topic] = {}\n",
    "            if sub_topic not in qrels_users[topic]:\n",
    "                qrels_users[topic][sub_topic] = {}\n",
    "            if paragraph not in qrels_users[topic][sub_topic]:\n",
    "                qrels_users[topic][sub_topic][paragraph] = (0, 0)\n",
    "            num, den = qrels_users[topic][sub_topic][paragraph]\n",
    "            if rel == 'relevant':\n",
    "                qrels_users[topic][sub_topic][paragraph] = (num + 1, den + 1)\n",
    "            else:\n",
    "                qrels_users[topic][sub_topic][paragraph] = (num, den + 1)\n",
    "\n",
    "for topic in qrels_users:\n",
    "    for sub_topic in qrels_users[topic]:\n",
    "        for paragraph in qrels_users[topic][sub_topic]:\n",
    "            num, den = qrels_users[topic][sub_topic][paragraph]\n",
    "            qrels_users[topic][sub_topic][paragraph] = num/den\n",
    "            \n",
    "#qrels_users"
   ]
  },
  {
   "cell_type": "code",
   "execution_count": 9,
   "metadata": {},
   "outputs": [],
   "source": [
    "direct_index = DirectIndex.load()"
   ]
  },
  {
   "cell_type": "code",
   "execution_count": 10,
   "metadata": {},
   "outputs": [
    {
     "name": "stdout",
     "output_type": "stream",
     "text": [
      "10 amazon rainforest 1\n",
      "over 204 documents\n",
      "[374, 50]\n",
      "10 amazon rainforest 2\n",
      "over 203 documents\n",
      "[374, 371]\n",
      "10 amazon rainforest 3\n",
      "over 205 documents\n",
      "[381, 379]\n",
      "10 amazon rainforest 4\n",
      "over 204 documents\n",
      "[386, 381]\n",
      "10 amazon rainforest 5\n",
      "over 203 documents\n",
      "[371, 104]\n"
     ]
    }
   ],
   "source": [
    "pre_preocessor = PreProcessor()\n",
    "\n",
    "def select_random_documents(documents:set, p:float=0.0):\n",
    "    assert(0.0 <= p <= 1.0)\n",
    "    if p == 0.0:\n",
    "        return set()\n",
    "    elif p == 1.0:\n",
    "        return documents\n",
    "    else:\n",
    "        return set(choice(list(documents), replace=False, size = int(len(documents) * p)))\n",
    "        \n",
    "def get_search_engine(topic, sub_topic, qrels, direct_index, noise = 0.0):\n",
    "    # select documents belonging to the topic\n",
    "    selected_documents = {}\n",
    "    for document in qrels[topic][sub_topic]:\n",
    "        selected_documents[document] = direct_index.index[document]\n",
    "        \n",
    "    # select random documents\n",
    "    # 1. from topic documents\n",
    "    topic_documents = set()\n",
    "    for _, sub_topic_documents in qrels[topic].items():\n",
    "        topic_documents.update(sub_topic_documents)    \n",
    "    topic_documents = select_random_documents(topic_documents, noise)\n",
    "    \n",
    "    for document in topic_documents:\n",
    "        selected_documents[document] = direct_index.index[document]\n",
    "    \n",
    "    # 2. from all_documents\n",
    "    all_documents = direct_index.index.keys()\n",
    "    all_documents = select_random_documents(all_documents, noise)\n",
    "\n",
    "    for document in all_documents:\n",
    "        selected_documents[document] = direct_index.index[document]\n",
    "        \n",
    "    # retrievable documents\n",
    "    inverted_index = InvertedIndex()\n",
    "    inverted_index.create(selected_documents)\n",
    "        \n",
    "    return selected_documents, inverted_index\n",
    "\n",
    "# stats\n",
    "inverted_index = InvertedIndex()\n",
    "inverted_index.create(direct_index.index)\n",
    "\n",
    "# test\n",
    "for topic in sub_topics:\n",
    "    for sub_topic in sub_topics[topic]:\n",
    "        print(topic, topics[topic], sub_topic)\n",
    "        r_documents, r_inverted_index = get_search_engine(topic, sub_topic, qrels, direct_index, 0.01)\n",
    "        print(\"over\", len(r_documents), \"documents\")\n",
    "        r_inverted_index.cl = inverted_index.cl\n",
    "        r_inverted_index.dictionary = inverted_index.dictionary\n",
    "        search = Search(r_inverted_index, pre_preocessor)\n",
    "        print(search.search('amazon', n=2, retrievable_paragraphs=r_documents.keys()))\n",
    "    break"
   ]
  },
  {
   "cell_type": "markdown",
   "metadata": {},
   "source": [
    "# Correlation Analysis"
   ]
  },
  {
   "cell_type": "code",
   "execution_count": 55,
   "metadata": {},
   "outputs": [],
   "source": [
    "# CP\n",
    "\n",
    "def dd_cp(alpha = None, m = None, l = None):\n",
    "    return 1\n",
    "\n",
    "def dd_ncp(alpha, m, l):\n",
    "    return dd_cp()/l\n",
    "\n",
    "def ncp(sequence):\n",
    "    res = 0.0\n",
    "    for action in sequence:\n",
    "        if action[2] == 'relevant':\n",
    "            res += dd_ncp(None, None, len(sequence))\n",
    "    return res\n",
    "\n",
    "def get_ncp_list(sequences):\n",
    "    res = []\n",
    "    for sequence in sequences:\n",
    "        res.append(ncp(sequence))\n",
    "    return res\n",
    "\n",
    "# CBP\n",
    "\n",
    "def dd_cbp(alpha, m, l = None):\n",
    "    return alpha ** m\n",
    "\n",
    "def dd_ncbp(alpha, m, l):\n",
    "    norm = 0.0\n",
    "    for i in range(l):\n",
    "        norm += dd_cbp(alpha, i, l)\n",
    "    return dd_cbp(alpha, m, l) / norm\n",
    "\n",
    "def ncbp(sequence, alpha):\n",
    "    res = 0.0\n",
    "    for m, action in enumerate(sequence):\n",
    "        if action[2] == 'relevant':\n",
    "            res += dd_ncbp(alpha, m, len(sequence))\n",
    "    return res\n",
    "\n",
    "def get_ncbp_list(sequences, alpha):\n",
    "    res = []\n",
    "    for sequence in sequences:\n",
    "        res.append(ncbp(sequence, alpha))\n",
    "    return res\n",
    "\n",
    "# CBP +\n",
    "\n",
    "def dd_cbp_p(alpha, beta, m, sequence):\n",
    "    res = 1.0\n",
    "    for action in sequence[:m]:\n",
    "        if action[2] == 'relevant':\n",
    "            res *= alpha\n",
    "        else:\n",
    "            res *= beta\n",
    "    return res\n",
    "\n",
    "def dd_ncbp_p(alpha, beta, m, sequence):\n",
    "    res = dd_cbp_p(alpha, beta, m, sequence)\n",
    "    norm = 0.0\n",
    "    for i in range(len(sequence)):\n",
    "        norm += dd_cbp(alpha, i, len(sequence))\n",
    "    return res/norm\n",
    "\n",
    "def ncbp_p(sequence, alpha, beta):\n",
    "    res = 0.0\n",
    "    for m, action in enumerate(sequence):\n",
    "        if action[2] == 'relevant':\n",
    "            res += dd_ncbp_p(alpha, beta, m, sequence)\n",
    "    return res\n",
    "\n",
    "def get_ncbp_p_list(sequences, alpha, beta):\n",
    "    res = []\n",
    "    for sequence in sequences:\n",
    "        res.append(ncbp_p(sequence, alpha, beta))\n",
    "    return res"
   ]
  },
  {
   "cell_type": "code",
   "execution_count": 12,
   "metadata": {},
   "outputs": [],
   "source": [
    "ncbp_p_scores = []\n",
    "ncbp_scores = []\n",
    "ncp_scores = []\n",
    "\n",
    "for topic in topics:\n",
    "    sequences = all_sequences[topic]\n",
    "    ncbp_p_scores.append((topic, np.mean(get_ncbp_p_list(sequences, 1.0, 0.53))))\n",
    "    ncbp_scores.append((topic, np.mean(get_ncbp_list(sequences, 0.8))))\n",
    "    ncp_scores.append((topic, np.mean(get_ncp_list(sequences))))\n",
    "    \n",
    "ncbp_p_scores = sorted(ncbp_p_scores)\n",
    "ncbp_scores = sorted(ncbp_scores)\n",
    "ncp_scores = sorted(ncp_scores)\n",
    "\n",
    "#ncbp_p_scores, ncbp_scores, ncp_scores"
   ]
  },
  {
   "cell_type": "code",
   "execution_count": 13,
   "metadata": {},
   "outputs": [],
   "source": [
    "# new version\n",
    "def get_satisfaction(lines):\n",
    "    reg_exp = RegExp()\n",
    "    satisfaction = None\n",
    "    for line in lines:\n",
    "        items = line.split('\\t')\n",
    "        content = items[2]\n",
    "        if reg_exp.get(r'user is (.+)', content):\n",
    "            satisfaction = reg_exp.res\n",
    "    return satisfaction\n",
    "\n",
    "# new\n",
    "def get_all_satisfactions(path_log, session_ids):\n",
    "    res = defaultdict(list)\n",
    "    for session_id in session_ids:\n",
    "        selected_lines = []\n",
    "        with open(path_log) as f:\n",
    "            for line in f.readlines()[1:]:\n",
    "                items = line.split('\\t')\n",
    "                user = items[3].strip()\n",
    "                topic = int(items[4].strip())\n",
    "                if user == session_id[0] and topic == session_id[1]:\n",
    "                    selected_lines.append(line)\n",
    "\n",
    "        satisfaction = get_satisfaction(selected_lines)\n",
    "        res[session_id[1]].append(satisfaction)\n",
    "    return res\n",
    "\n",
    "all_satisfactions = get_all_satisfactions(path_log, session_ids)\n",
    "#all_satisfactions"
   ]
  },
  {
   "cell_type": "code",
   "execution_count": 14,
   "metadata": {},
   "outputs": [],
   "source": [
    "satisfaction_scores = []\n",
    "for topic in topics:\n",
    "    satisfactions = all_satisfactions[topic]\n",
    "    satisfaction_score = 0.0\n",
    "    for satisfaction in satisfactions:\n",
    "        if satisfaction == 'satisfied':\n",
    "            satisfaction_score += 1\n",
    "    satisfaction_score /= len(satisfactions)\n",
    "    satisfaction_scores.append((topic, satisfaction_score))\n",
    "\n",
    "satisfaction_scores = sorted(satisfaction_scores)\n",
    "#satisfaction_scores"
   ]
  },
  {
   "cell_type": "code",
   "execution_count": 15,
   "metadata": {},
   "outputs": [
    {
     "name": "stdout",
     "output_type": "stream",
     "text": [
      "KendalltauResult(correlation=0.7339758434175737, pvalue=0.001787289036987269)\n",
      "SpearmanrResult(correlation=0.870161710874372, pvalue=0.0004954180897534654)\n"
     ]
    },
    {
     "data": {
      "image/png": "[encoded data removed]",
      "text/plain": [
       "<Figure size 432x288 with 1 Axes>"
      ]
     },
     "metadata": {
      "needs_background": "light"
     },
     "output_type": "display_data"
    }
   ],
   "source": [
    "plt.plot([i[1] for i in ncbp_p_scores], [i[1] for i in satisfaction_scores], 'o')\n",
    "print(kendalltau([i[1] for i in ncbp_p_scores], [i[1] for i in satisfaction_scores]))\n",
    "print(spearmanr([i[1] for i in ncbp_p_scores], [i[1] for i in satisfaction_scores]))\n",
    "#print(pearsonr([i[1] for i in ncbp_p_scores], [i[1] for i in satisfaction_scores]))"
   ]
  },
  {
   "cell_type": "code",
   "execution_count": 16,
   "metadata": {},
   "outputs": [
    {
     "name": "stdout",
     "output_type": "stream",
     "text": [
      "KendalltauResult(correlation=0.7339758434175737, pvalue=0.001787289036987269)\n",
      "SpearmanrResult(correlation=0.8610500699228079, pvalue=0.0006630680655063411)\n"
     ]
    },
    {
     "data": {
      "image/png": "[encoded data removed]",
      "text/plain": [
       "<Figure size 432x288 with 1 Axes>"
      ]
     },
     "metadata": {
      "needs_background": "light"
     },
     "output_type": "display_data"
    }
   ],
   "source": [
    "plt.plot([i[1] for i in ncbp_scores], [i[1] for i in satisfaction_scores], 'o')\n",
    "print(kendalltau([i[1] for i in ncbp_scores], [i[1] for i in satisfaction_scores]))\n",
    "print(spearmanr([i[1] for i in ncbp_scores], [i[1] for i in satisfaction_scores]))\n",
    "#print(pearsonr([i[1] for i in ncbp_scores], [i[1] for i in satisfaction_scores]))"
   ]
  },
  {
   "cell_type": "code",
   "execution_count": 17,
   "metadata": {},
   "outputs": [
    {
     "name": "stdout",
     "output_type": "stream",
     "text": [
      "KendalltauResult(correlation=0.697277051246695, pvalue=0.0030042622393982835)\n",
      "SpearmanrResult(correlation=0.8382709675438977, pvalue=0.0012683508950782564)\n"
     ]
    },
    {
     "data": {
      "image/png": "[encoded data removed]",
      "text/plain": [
       "<Figure size 432x288 with 1 Axes>"
      ]
     },
     "metadata": {
      "needs_background": "light"
     },
     "output_type": "display_data"
    }
   ],
   "source": [
    "plt.plot([i[1] for i in ncp_scores], [i[1] for i in satisfaction_scores], 'o')\n",
    "print(kendalltau([i[1] for i in ncp_scores], [i[1] for i in satisfaction_scores]))\n",
    "print(spearmanr([i[1] for i in ncp_scores], [i[1] for i in satisfaction_scores]))\n",
    "#print(pearsonr([i[1] for i in ncp_scores], [i[1] for i in satisfaction_scores]))"
   ]
  },
  {
   "cell_type": "code",
   "execution_count": 18,
   "metadata": {},
   "outputs": [
    {
     "name": "stdout",
     "output_type": "stream",
     "text": [
      "10 amazon rainforest 1\n",
      "[372]\n",
      "10 amazon rainforest 2\n",
      "[371]\n",
      "10 amazon rainforest 3\n",
      "[379]\n",
      "10 amazon rainforest 4\n",
      "[385]\n",
      "10 amazon rainforest 5\n",
      "[371]\n"
     ]
    }
   ],
   "source": [
    "for topic in sub_topics:\n",
    "    for sub_topic in sub_topics[topic]:\n",
    "        print(topic, topics[topic], sub_topic)\n",
    "        r_documents, r_inverted_index = get_search_engine(topic, sub_topic, qrels, inverted_index, 0.0)\n",
    "        r_inverted_index.cl = inverted_index.cl\n",
    "        r_inverted_index.dictionary = inverted_index.dictionary\n",
    "        search = Search(r_inverted_index, pre_preocessor)\n",
    "        print(search.search('amazon', n=2, retrievable_paragraphs=r_documents.keys()))\n",
    "    break"
   ]
  },
  {
   "cell_type": "markdown",
   "metadata": {},
   "source": [
    "# Simulations"
   ]
  },
  {
   "cell_type": "code",
   "execution_count": 19,
   "metadata": {},
   "outputs": [
    {
     "name": "stdout",
     "output_type": "stream",
     "text": [
      "[(0, None, None, 2, None), (2, None, None, 3, None), (3, None, None, 3, None), (3, None, None, 4, None), (4, None, None, 2, None), (2, None, None, 4, None), (4, None, None, 4, None), (4, None, None, 4, None), (4, None, None, 5, None), (5, None, None, 5, None), (5, None, None, 6, None)]\n",
      "[(0, None, None, 2, None), (2, None, None, 3, None), (3, None, None, 3, None), (3, None, None, 4, None), (4, None, None, 2, None), (2, None, None, 4, None), (4, None, None, 4, None), (4, None, None, 4, None), (4, None, None, 5, None), (5, None, None, 5, None)]\n"
     ]
    }
   ],
   "source": [
    "def generate_sequence(num_subtopics, min_sub_topics = 1):\n",
    "    prob = 1.0\n",
    "    sequence = []\n",
    "    current_subtopic = 0\n",
    "    \n",
    "    next_subtopic = choice(range(1, num_subtopics + 1), 1)[0]\n",
    "    prob *= 1.0/num_subtopics\n",
    "    sequence.append((current_subtopic, None, None, next_subtopic + min_sub_topics - 1, None))\n",
    "    current_subtopic = next_subtopic\n",
    "    \n",
    "    while next_subtopic + min_sub_topics - 1 != num_subtopics + 1 + min_sub_topics - 1:\n",
    "        next_subtopic = choice(range(1, num_subtopics + 2), 1)[0]\n",
    "        prob *= 1.0/(num_subtopics + 1)\n",
    "        sequence.append((current_subtopic + min_sub_topics - 1, \n",
    "                         None, None, \n",
    "                         next_subtopic + min_sub_topics - 1, None))\n",
    "        current_subtopic = next_subtopic\n",
    "        \n",
    "    return sequence, prob\n",
    "\n",
    "sequence, prob = generate_sequence(5)\n",
    "\n",
    "print(sequence)\n",
    "\n",
    "print(sequence[:-1])"
   ]
  },
  {
   "cell_type": "code",
   "execution_count": 20,
   "metadata": {},
   "outputs": [],
   "source": [
    "def get_transitions_table(num_subtopics, min_sub_topic, sequences, epsilon = 0.0):\n",
    "    transitions_table = defaultdict(float)\n",
    "    for sequence in sequences:\n",
    "        last_key = None\n",
    "        for n, action in enumerate(sequence):\n",
    "            if n == 0:\n",
    "                key = (action[0], action[3] - min_sub_topic + 1)\n",
    "            else:\n",
    "                key = (action[0] - min_sub_topic + 1, action[3] - min_sub_topic + 1)\n",
    "            transitions_table[key] += 1\n",
    "            last_key = key\n",
    "        transitions_table[(last_key[1], num_subtopics+1)] += 1\n",
    "    \n",
    "    norms = defaultdict(float)\n",
    "    for from_subtopic, to_subtopic in product(range(num_subtopics+1), range(1, num_subtopics+2)):\n",
    "        if not (from_subtopic == 0 and to_subtopic == num_subtopics + 1):            \n",
    "            transitions_table[(from_subtopic, to_subtopic)] += epsilon\n",
    "        norms[from_subtopic] += transitions_table[(from_subtopic, to_subtopic)]\n",
    "    \n",
    "    for from_subtopic, to_subtopic in product(range(num_subtopics+1), range(1, num_subtopics+2)):\n",
    "        if norms[from_subtopic] > 0.0:\n",
    "            transitions_table[(from_subtopic, to_subtopic)] /= norms[from_subtopic]\n",
    "            \n",
    "    return transitions_table\n",
    "\n",
    "#get_transitions_table(len(sub_topics[1]), min(sub_topics[1]), all_sequences[1])\n",
    "\n",
    "def generate_sequence_from_table(num_subtopics, min_sub_topics, table):\n",
    "    prob = 1.0\n",
    "    table = to_matrix(table)\n",
    "    sequence = []\n",
    "    current_subtopic = 0\n",
    "    \n",
    "    next_subtopic = choice(range(1, num_subtopics + 2), 1, p=table[0])[0]\n",
    "    prob *= table[0, next_subtopic - 1]\n",
    "    sequence.append((current_subtopic, None, None, next_subtopic + min_sub_topics - 1, None))\n",
    "    current_subtopic = next_subtopic\n",
    "    \n",
    "    while next_subtopic + min_sub_topics - 1 != num_subtopics + 1 + min_sub_topics - 1:\n",
    "        next_subtopic = choice(range(1, num_subtopics + 2), 1, p=table[current_subtopic])[0]\n",
    "        prob *= table[current_subtopic, next_subtopic-1]\n",
    "        sequence.append((current_subtopic + min_sub_topics - 1, \n",
    "                         None, None, \n",
    "                         next_subtopic + min_sub_topics - 1, None))\n",
    "        current_subtopic = next_subtopic\n",
    "    \n",
    "    return sequence, prob\n",
    "    \n",
    "transitions_table = get_transitions_table(len(sub_topics[1]), min(sub_topics[1]), all_sequences[1])\n",
    "#generate_sequence_from_table(len(sub_topics[1]), min(sub_topics[1]), transitions_table)"
   ]
  },
  {
   "cell_type": "code",
   "execution_count": 21,
   "metadata": {},
   "outputs": [],
   "source": [
    "def get_transitions_tables(num_subtopics, min_sub_topic, sequences, epsilon = 0.0):\n",
    "    rel_transitions_table = defaultdict(float)\n",
    "    irr_transitions_table = defaultdict(float)\n",
    "    p_rel = defaultdict(float)\n",
    "    p_irr = defaultdict(float)\n",
    "    for sequence in sequences:\n",
    "        last_key = None\n",
    "        last_rel = 'irrelevant'\n",
    "        for n, action in enumerate(sequence):\n",
    "            if n == 0:\n",
    "                key = (action[0], action[3] - min_sub_topic + 1)\n",
    "            else:\n",
    "                key = (action[0] - min_sub_topic + 1, action[3] - min_sub_topic + 1)\n",
    "            if last_rel == 'relevant':\n",
    "                rel_transitions_table[key] += 1\n",
    "                p_rel[key[0]] += 1\n",
    "            else:\n",
    "                irr_transitions_table[key] += 1\n",
    "                p_irr[key[0]] += 1\n",
    "            last_key = key\n",
    "            last_rel = action[2]\n",
    "        \n",
    "        if last_rel == 'relevant':\n",
    "            rel_transitions_table[(last_key[1], num_subtopics+1)] += 1\n",
    "            p_rel[last_key[1]] += 1\n",
    "        else:\n",
    "            irr_transitions_table[(last_key[1], num_subtopics+1)] += 1\n",
    "            p_irr[last_key[1]] += 1\n",
    "        \n",
    "    rel_norms = defaultdict(float)\n",
    "    for from_subtopic, to_subtopic in product(range(num_subtopics+1), range(1, num_subtopics+2)):\n",
    "        if from_subtopic > 0:            \n",
    "            rel_transitions_table[(from_subtopic, to_subtopic)] += epsilon\n",
    "        rel_norms[from_subtopic] += rel_transitions_table[(from_subtopic, to_subtopic)]\n",
    "    \n",
    "    irr_norms = defaultdict(float)\n",
    "    for from_subtopic, to_subtopic in product(range(num_subtopics+1), range(1, num_subtopics+2)):\n",
    "        if not (from_subtopic == 0 and to_subtopic == num_subtopics + 1):\n",
    "            irr_transitions_table[(from_subtopic, to_subtopic)] += epsilon\n",
    "        irr_norms[from_subtopic] += irr_transitions_table[(from_subtopic, to_subtopic)]\n",
    "    \n",
    "    for from_subtopic, to_subtopic in product(range(num_subtopics+1), range(1, num_subtopics+2)):\n",
    "        if rel_norms[from_subtopic] > 0.0:\n",
    "            rel_transitions_table[(from_subtopic, to_subtopic)] /= (rel_norms[from_subtopic]) \n",
    "    \n",
    "    for from_subtopic, to_subtopic in product(range(num_subtopics+1), range(1, num_subtopics+2)):\n",
    "        if irr_norms[from_subtopic] > 0.0:\n",
    "            irr_transitions_table[(from_subtopic, to_subtopic)] /= (irr_norms[from_subtopic])\n",
    "    \n",
    "    p = []\n",
    "    for t in range(num_subtopics + 1):\n",
    "        if (p_rel[t] + p_irr[t]) > 0:\n",
    "            p.append(p_rel[t]/(p_rel[t] + p_irr[t]))\n",
    "        else:\n",
    "            p.append(0.0)\n",
    "    p = np.array([p])\n",
    "\n",
    "    return rel_transitions_table, irr_transitions_table, p, 1 - p\n",
    "\n",
    "t1, t2, p_rel, p_irr = get_transitions_tables(len(sub_topics[1]), min(sub_topics[1]), all_sequences[1], 0.0)\n",
    "\n",
    "#print(p_rel, p_irr)\n",
    "#print(to_matrix(transitions_table))\n",
    "#print(to_matrix(t1)) \n",
    "#print(to_matrix(t2))\n",
    "#print((to_matrix(t1).T * p_rel).T + (to_matrix(t2).T * p_irr).T)"
   ]
  },
  {
   "cell_type": "code",
   "execution_count": 22,
   "metadata": {},
   "outputs": [],
   "source": [
    "class SequenceGenerator:\n",
    "    \n",
    "    def __init__(self, num_subtopics, min_sub_topic, rel_table, irr_table):\n",
    "        self.num_subtopics = num_subtopics\n",
    "        self.rel_table = to_matrix(rel_table)\n",
    "        self.irr_table = to_matrix(irr_table)\n",
    "        self.min_sub_topic = min_sub_topic\n",
    "        self.relevance = False\n",
    "        self.current_subtopic = 0\n",
    "        \n",
    "    def __iter__(self):\n",
    "        #self.current_subtopic = 0\n",
    "        return self\n",
    "    \n",
    "    def set_relevance(self, relevance):\n",
    "        self.relevance = relevance\n",
    "    \n",
    "    def __next__(self):\n",
    "        next_subtopic = -1\n",
    "        prob = -1\n",
    "        if self.current_subtopic + self.min_sub_topic - 1 == self.num_subtopics + 1 + self.min_sub_topic - 1:\n",
    "            raise StopIteration\n",
    "        if self.relevance:\n",
    "            #print(self.rel_table[self.current_subtopic].sum())\n",
    "            next_subtopic = choice(range(1, self.num_subtopics + 2), 1, p=self.rel_table[self.current_subtopic])[0]\n",
    "            prob = self.rel_table[self.current_subtopic, next_subtopic - 1]\n",
    "        else:\n",
    "            #print(self.irr_table[self.current_subtopic].sum())\n",
    "            next_subtopic = choice(range(1, self.num_subtopics + 2), 1, p=self.irr_table[self.current_subtopic])[0]\n",
    "            prob = self.irr_table[self.current_subtopic, next_subtopic - 1]\n",
    "        self.current_subtopic = next_subtopic\n",
    "        return next_subtopic + self.min_sub_topic - 1, prob\n",
    "    \n",
    "#sg = SequenceGenerator(len(sub_topics[1]), min(sub_topics[1]), t1, t2)\n",
    "#for i in sg:\n",
    "#    print(i)\n",
    "#    sg.set_relevance(True)"
   ]
  },
  {
   "cell_type": "markdown",
   "metadata": {},
   "source": [
    "## Log Total Sum Error "
   ]
  },
  {
   "cell_type": "code",
   "execution_count": 23,
   "metadata": {},
   "outputs": [],
   "source": [
    "def ltse(d1, d2):\n",
    "    err = 0.0\n",
    "    M = len(d1)\n",
    "    if len(d1) < len(d2):\n",
    "        d1, d2 = d2, d1\n",
    "    for i in range(len(d1)):\n",
    "        if i < len(d2):\n",
    "            err += abs(d1[i]-d2[i])**2   \n",
    "        else:\n",
    "            err += abs(d1[i])**2\n",
    "    return np.log(err)"
   ]
  },
  {
   "cell_type": "code",
   "execution_count": 24,
   "metadata": {},
   "outputs": [
    {
     "data": {
      "text/plain": [
       "array([0.184, 0.167, 0.159, 0.143, 0.118, 0.081, 0.054, 0.035, 0.023,\n",
       "       0.012, 0.008, 0.005, 0.005, 0.004, 0.002])"
      ]
     },
     "execution_count": 24,
     "metadata": {},
     "output_type": "execute_result"
    }
   ],
   "source": [
    "gp = defaultdict(int)\n",
    "for topic in all_sequences:\n",
    "    for sequence in all_sequences[topic]:\n",
    "        for m, _ in enumerate(sequence):\n",
    "            gp[m] += 1\n",
    "\n",
    "ngp = np.array([value for key, value in gp.items()])\n",
    "ngp = ngp / np.sum(ngp)\n",
    "\n",
    "ngp"
   ]
  },
  {
   "cell_type": "markdown",
   "metadata": {},
   "source": [
    "## Uniform Simulations"
   ]
  },
  {
   "cell_type": "code",
   "execution_count": 58,
   "metadata": {},
   "outputs": [],
   "source": [
    "def dd_cp(alpha, beta, m, sequence, acc_value = 1.0):\n",
    "    return 1\n",
    "\n",
    "def dd_cbp(alpha, beta, m, sequence, acc_value = 1.0):\n",
    "    if m == 0:\n",
    "        return 1.0\n",
    "    else:\n",
    "        res = acc_value*alpha\n",
    "        return res\n",
    "    \n",
    "def dd_cbp_p(alpha, beta, m, sequence, acc_value = 1.0):\n",
    "    if m == 0:\n",
    "        return 1.0\n",
    "    else:\n",
    "        res = acc_value\n",
    "        action = sequence[m]\n",
    "        if action[2] == 'relevant':\n",
    "            res *= alpha\n",
    "        else:\n",
    "            res *= beta\n",
    "        return res"
   ]
  },
  {
   "cell_type": "code",
   "execution_count": 26,
   "metadata": {},
   "outputs": [],
   "source": [
    "num_samples = 5000"
   ]
  },
  {
   "cell_type": "code",
   "execution_count": 28,
   "metadata": {},
   "outputs": [
    {
     "data": {
      "application/vnd.jupyter.widget-view+json": {
       "model_id": "5f9d4bb7265d47b3aee6dac730a49771",
       "version_major": 2,
       "version_minor": 0
      },
      "text/plain": [
       "HBox(children=(FloatProgress(value=0.0, max=11.0), HTML(value='')))"
      ]
     },
     "metadata": {},
     "output_type": "display_data"
    },
    {
     "name": "stdout",
     "output_type": "stream",
     "text": [
      "\n"
     ]
    }
   ],
   "source": [
    "def get_uniform_sequences():\n",
    "    res = {}\n",
    "    for topic in tqdm(sub_topics):\n",
    "        \n",
    "        all_r_documents = {}\n",
    "        all_r_inverted_index = {}\n",
    "        for sub_topic in sub_topics[topic]:\n",
    "            r_documents, r_inverted_index = get_search_engine(topic, sub_topic, qrels, direct_index)\n",
    "            all_r_documents[sub_topic] = r_documents\n",
    "            all_r_inverted_index[sub_topic] = r_inverted_index\n",
    "        \n",
    "        sequences = []\n",
    "        for _ in range(num_samples):\n",
    "            sequence, prob = generate_sequence(len(sub_topics[topic]), min(sub_topics[topic]))\n",
    "            for m, action in enumerate(sequence[:-1]):\n",
    "                query = ''\n",
    "                if sub_topic in all_queries[topic] and len(all_queries[topic][sub_topic]) > 0: \n",
    "                    queries = list(all_queries[topic][sub_topic])\n",
    "                    query = queries[choice(range(len(queries)))]\n",
    "\n",
    "                search = Search(all_r_inverted_index[sub_topic], pre_preocessor)\n",
    "                answer = search.search(query, n=1, retrievable_paragraphs=all_r_documents[sub_topic].keys())[0]\n",
    "\n",
    "                if sub_topic in qrels_users[topic] and answer in qrels_users[topic][sub_topic] and \\\n",
    "                np.random.uniform(0,1) < qrels_users[topic][sub_topic][answer]:\n",
    "                    sequence[m] = (action[0], answer, 'relevant', action[3], query)\n",
    "                else:\n",
    "                    sequence[m] = (action[0], answer, 'irrelevant', action[3], query)\n",
    "                \n",
    "            sequences.append((sequence[:-1], prob))\n",
    "            \n",
    "        res[topic] = sequences\n",
    "        \n",
    "    return res\n",
    "\n",
    "all_uniform_sequences = get_uniform_sequences()"
   ]
  },
  {
   "cell_type": "code",
   "execution_count": 56,
   "metadata": {},
   "outputs": [],
   "source": [
    "def get_dist(all_sequences, alpha, beta, dd):#, with_prob = True):\n",
    "    res = defaultdict(float)\n",
    "    n = defaultdict(float)\n",
    "    for topic in sub_topics:\n",
    "        for sequence, prob in all_sequences[topic]:\n",
    "            score = 1.0\n",
    "            #if not with_prob:\n",
    "            #prob = 1.0\n",
    "            for m, _ in enumerate(sequence):\n",
    "                score = dd(alpha, beta, m, sequence, score)\n",
    "                res[m] += score * prob\n",
    "                n[m] += prob\n",
    "    \n",
    "    for m in res:\n",
    "        res[m] /= n[m]\n",
    "    \n",
    "    nres = np.array([value for key, value in res.items()])\n",
    "    nres = nres / np.sum(nres)\n",
    "    return nres"
   ]
  },
  {
   "cell_type": "code",
   "execution_count": 59,
   "metadata": {},
   "outputs": [
    {
     "name": "stdout",
     "output_type": "stream",
     "text": [
      "CP, LTSE -2.086166406254105\n"
     ]
    }
   ],
   "source": [
    "ngp_u_cp = get_dist(all_uniform_sequences, None, None, dd_cp)\n",
    "print(\"CP, LTSE\", ltse(ngp, ngp_u_cp))"
   ]
  },
  {
   "cell_type": "code",
   "execution_count": 60,
   "metadata": {},
   "outputs": [
    {
     "data": {
      "application/vnd.jupyter.widget-view+json": {
       "model_id": "891fe745048c4f4db821bd07dc633ffe",
       "version_major": 2,
       "version_minor": 0
      },
      "text/plain": [
       "HBox(children=(FloatProgress(value=0.0, max=101.0), HTML(value='')))"
      ]
     },
     "metadata": {},
     "output_type": "display_data"
    },
    {
     "name": "stdout",
     "output_type": "stream",
     "text": [
      "\n",
      "CBP, LTSE -5.226785263340063 0.79\n"
     ]
    }
   ],
   "source": [
    "res = 100\n",
    "max_alpha = 0.0\n",
    "max_ltse = 0.0\n",
    "ngp_u_cbp = None\n",
    "for alpha in tqdm(range(0, res+1)):\n",
    "    alpha /= res\n",
    "    \n",
    "    ngp_u = get_dist(all_uniform_sequences, alpha, None, dd_cbp)\n",
    "            \n",
    "    score = ltse(ngp, ngp_u)\n",
    "    if score < max_ltse:\n",
    "        max_ltse = score\n",
    "        max_alpha = alpha\n",
    "        ngp_u_cbp = ngp_u\n",
    "        \n",
    "print(\"CBP, LTSE\", max_ltse, max_alpha)"
   ]
  },
  {
   "cell_type": "code",
   "execution_count": 61,
   "metadata": {},
   "outputs": [
    {
     "data": {
      "application/vnd.jupyter.widget-view+json": {
       "model_id": "df3d7c7067d0401e9aa02fb1755147f7",
       "version_major": 2,
       "version_minor": 0
      },
      "text/plain": [
       "HBox(children=(FloatProgress(value=0.0, max=11.0), HTML(value='')))"
      ]
     },
     "metadata": {},
     "output_type": "display_data"
    },
    {
     "name": "stdout",
     "output_type": "stream",
     "text": [
      "\n",
      "CBP, LTSE -5.35915491389204 0.9 0.6\n"
     ]
    }
   ],
   "source": [
    "res = 10\n",
    "max_alpha = 0.0\n",
    "max_beta = 0.0\n",
    "max_ltse = 0.0\n",
    "ngp_u_cbp_p = None\n",
    "for alpha in tqdm(range(0, res+1)):\n",
    "    alpha /= res\n",
    "    \n",
    "    for beta in range(0, res+1):\n",
    "        beta /= res\n",
    "        \n",
    "        ngp_u = get_dist(all_uniform_sequences, alpha, beta, dd_cbp_p)\n",
    "\n",
    "        score = ltse(ngp, ngp_u)\n",
    "        if score < max_ltse:\n",
    "            max_ltse = score\n",
    "            max_alpha = alpha\n",
    "            max_beta = beta\n",
    "            ngp_u_cbp_p = ngp_u\n",
    "        \n",
    "print(\"CBP, LTSE\", max_ltse, max_alpha, max_beta)"
   ]
  },
  {
   "cell_type": "code",
   "execution_count": 63,
   "metadata": {},
   "outputs": [
    {
     "data": {
      "text/plain": [
       "<matplotlib.legend.Legend at 0x7f64ae6f1ed0>"
      ]
     },
     "execution_count": 63,
     "metadata": {},
     "output_type": "execute_result"
    },
    {
     "data": {
      "image/png": "[encoded data removed]",
      "text/plain": [
       "<Figure size 432x288 with 1 Axes>"
      ]
     },
     "metadata": {
      "needs_background": "light"
     },
     "output_type": "display_data"
    }
   ],
   "source": [
    "x = np.arange(ngp.shape[0])\n",
    "\n",
    "bar_width = 0.20\n",
    "\n",
    "plt.bar(x-bar_width*1, ngp_u_cp[0:len(x)], width = bar_width, color='#E69F00', align='center', label='cp')\n",
    "plt.bar(x+bar_width*0, ngp_u_cbp[0:len(x)], width = bar_width, color='#56B4E9', align='center', label='cbp')\n",
    "plt.bar(x+bar_width*1, ngp_u_cbp_p[0:len(x)], width = bar_width, color='#009E73', align='center', label=\"cbp+\")\n",
    "plt.bar(x+bar_width*2, ngp, width = bar_width, color='black', align='center', label=\"Observed\")\n",
    "\n",
    "#plt.rc('font', size=13)\n",
    "plt.ylabel('$P(\\\\mathcal{Q})$')\n",
    "plt.xlabel('$m$')\n",
    "plt.xlim(-1, 15)\n",
    "plt.legend()\n",
    "#plt.savefig(\"probability_of_querying.png\", dpi=300)"
   ]
  },
  {
   "cell_type": "markdown",
   "metadata": {},
   "source": [
    "## Markov Simulations"
   ]
  },
  {
   "cell_type": "code",
   "execution_count": 36,
   "metadata": {},
   "outputs": [
    {
     "data": {
      "application/vnd.jupyter.widget-view+json": {
       "model_id": "7ee639aba6554d39a218109bf7ca2b58",
       "version_major": 2,
       "version_minor": 0
      },
      "text/plain": [
       "HBox(children=(FloatProgress(value=0.0, max=11.0), HTML(value='')))"
      ]
     },
     "metadata": {},
     "output_type": "display_data"
    },
    {
     "name": "stdout",
     "output_type": "stream",
     "text": [
      "\n"
     ]
    }
   ],
   "source": [
    "def get_table_sequences():\n",
    "    res = {}\n",
    "    for topic in tqdm(sub_topics):\n",
    "        \n",
    "        all_r_documents = {}\n",
    "        all_r_inverted_index = {}\n",
    "        for sub_topic in sub_topics[topic]:\n",
    "            r_documents, r_inverted_index = get_search_engine(topic, sub_topic, qrels, direct_index)\n",
    "            all_r_documents[sub_topic] = r_documents\n",
    "            all_r_inverted_index[sub_topic] = r_inverted_index\n",
    "            \n",
    "        transitions_table = get_transitions_table(len(sub_topics[topic]), \n",
    "                                                  min(sub_topics[topic]), \n",
    "                                                  all_sequences[topic])\n",
    "        \n",
    "        sequences = []\n",
    "        for _ in range(num_samples):\n",
    "            sequence, prob = generate_sequence_from_table(len(sub_topics[topic]), \n",
    "                                                          min(sub_topics[topic]), \n",
    "                                                          transitions_table)\n",
    "            for m, action in enumerate(sequence[:-1]):\n",
    "                query = ''\n",
    "                if sub_topic in all_queries[topic] and len(all_queries[topic][sub_topic]) > 0: \n",
    "                    queries = list(all_queries[topic][sub_topic])\n",
    "                    query = queries[choice(range(len(queries)))]\n",
    "\n",
    "                search = Search(all_r_inverted_index[sub_topic], pre_preocessor)\n",
    "                answer = search.search(query, n=1, retrievable_paragraphs=all_r_documents[sub_topic].keys())[0]\n",
    "\n",
    "                if sub_topic in qrels_users[topic] and answer in qrels_users[topic][sub_topic] and \\\n",
    "                np.random.uniform(0,1) < qrels_users[topic][sub_topic][answer]:\n",
    "                    sequence[m] = (action[0], answer, 'relevant', action[3], query)\n",
    "                else:\n",
    "                    sequence[m] = (action[0], answer, 'irrelevant', action[3], query)\n",
    "                \n",
    "            sequences.append((sequence[:-1], prob))\n",
    "            \n",
    "        res[topic] = sequences\n",
    "    return res\n",
    "\n",
    "all_table_sequences = get_table_sequences()"
   ]
  },
  {
   "cell_type": "code",
   "execution_count": 37,
   "metadata": {},
   "outputs": [],
   "source": [
    "#all_table_sequences"
   ]
  },
  {
   "cell_type": "code",
   "execution_count": 64,
   "metadata": {},
   "outputs": [
    {
     "name": "stdout",
     "output_type": "stream",
     "text": [
      "CP, LTSE -2.151194479108714\n"
     ]
    }
   ],
   "source": [
    "ngp_t_cp = get_dist(all_table_sequences, None, None, dd_cp)\n",
    "print(\"CP, LTSE\", ltse(ngp, ngp_t_cp))"
   ]
  },
  {
   "cell_type": "code",
   "execution_count": 65,
   "metadata": {},
   "outputs": [
    {
     "data": {
      "application/vnd.jupyter.widget-view+json": {
       "model_id": "f0697a387e284981a0ca1a6a3d701382",
       "version_major": 2,
       "version_minor": 0
      },
      "text/plain": [
       "HBox(children=(FloatProgress(value=0.0, max=101.0), HTML(value='')))"
      ]
     },
     "metadata": {},
     "output_type": "display_data"
    },
    {
     "name": "stdout",
     "output_type": "stream",
     "text": [
      "\n",
      "CBP, LTSE -5.226786648105764 0.79\n"
     ]
    }
   ],
   "source": [
    "res = 100\n",
    "max_alpha = 0.0\n",
    "max_ltse = 0.0\n",
    "ngp_t_cbp = None\n",
    "for alpha in tqdm(range(0, res + 1)):\n",
    "    alpha /= res\n",
    "    \n",
    "    ngp_t = get_dist(all_table_sequences, alpha, None, dd_cbp)\n",
    "            \n",
    "    score = ltse(ngp, ngp_t)\n",
    "    if score < max_ltse:\n",
    "        max_ltse = score\n",
    "        max_alpha = alpha\n",
    "        ngp_t_cbp = ngp_t\n",
    "        \n",
    "print(\"CBP, LTSE\", max_ltse, max_alpha)"
   ]
  },
  {
   "cell_type": "code",
   "execution_count": 66,
   "metadata": {},
   "outputs": [
    {
     "data": {
      "application/vnd.jupyter.widget-view+json": {
       "model_id": "a1540b13d7dd4c46bd44269b16b368f6",
       "version_major": 2,
       "version_minor": 0
      },
      "text/plain": [
       "HBox(children=(FloatProgress(value=0.0, max=11.0), HTML(value='')))"
      ]
     },
     "metadata": {},
     "output_type": "display_data"
    },
    {
     "name": "stdout",
     "output_type": "stream",
     "text": [
      "\n",
      "CBP, LTSE -5.204493936914731 0.8 0.8\n"
     ]
    }
   ],
   "source": [
    "res = 10\n",
    "max_alpha = 0.0\n",
    "max_beta = 0.0\n",
    "max_ltse = 0.0\n",
    "ngp_t_cbp_p = None\n",
    "for alpha in tqdm(range(0, res+1)):\n",
    "    alpha /= res\n",
    "    \n",
    "    for beta in range(0, res+1):\n",
    "        beta /= res\n",
    "        \n",
    "        ngp_t = get_dist(all_table_sequences, alpha, beta, dd_cbp_p)\n",
    "\n",
    "        score = ltse(ngp, ngp_t)\n",
    "        if score < max_ltse:\n",
    "            max_ltse = score\n",
    "            max_alpha = alpha\n",
    "            max_beta = beta\n",
    "            ngp_t_cbp_p = ngp_t\n",
    "        \n",
    "print(\"CBP, LTSE\", max_ltse, max_alpha, max_beta)"
   ]
  },
  {
   "cell_type": "code",
   "execution_count": 67,
   "metadata": {},
   "outputs": [
    {
     "data": {
      "text/plain": [
       "<matplotlib.legend.Legend at 0x7f64ae550f10>"
      ]
     },
     "execution_count": 67,
     "metadata": {},
     "output_type": "execute_result"
    },
    {
     "data": {
      "image/png": "[encoded data removed]",
      "text/plain": [
       "<Figure size 432x288 with 1 Axes>"
      ]
     },
     "metadata": {
      "needs_background": "light"
     },
     "output_type": "display_data"
    }
   ],
   "source": [
    "x = np.arange(ngp.shape[0])\n",
    "\n",
    "bar_width = 0.20\n",
    "\n",
    "plt.bar(x-bar_width*1, ngp_t_cp[0:len(x)], width = bar_width, color='#E69F00', align='center', label='cp')\n",
    "plt.bar(x+bar_width*0, ngp_t_cbp[0:len(x)], width = bar_width, color='#56B4E9', align='center', label='cbp')\n",
    "plt.bar(x+bar_width*1, ngp_t_cbp_p[0:len(x)], width = bar_width, color='#009E73', align='center', label=\"cbp+\")\n",
    "plt.bar(x+bar_width*2, ngp, width = bar_width, color='black', align='center', label=\"Observed\")\n",
    "\n",
    "#plt.rc('font', size=13)\n",
    "plt.ylabel('$P(\\\\mathcal{Q})$')\n",
    "plt.xlabel('$m$')\n",
    "plt.xlim(-1, 15)\n",
    "plt.legend()\n",
    "#plt.savefig(\"probability_of_querying.png\", dpi=300)"
   ]
  },
  {
   "cell_type": "markdown",
   "metadata": {},
   "source": [
    "## Markov + Simulation"
   ]
  },
  {
   "cell_type": "code",
   "execution_count": 68,
   "metadata": {},
   "outputs": [
    {
     "data": {
      "application/vnd.jupyter.widget-view+json": {
       "model_id": "f9cb3e17cf914245a79f6ea2d7d7b741",
       "version_major": 2,
       "version_minor": 0
      },
      "text/plain": [
       "HBox(children=(FloatProgress(value=0.0, max=11.0), HTML(value='')))"
      ]
     },
     "metadata": {},
     "output_type": "display_data"
    },
    {
     "name": "stdout",
     "output_type": "stream",
     "text": [
      "\n"
     ]
    }
   ],
   "source": [
    "def get_double_table_sequences():\n",
    "    res = {}\n",
    "    for topic in tqdm(sub_topics):\n",
    "        num_subtopics = len(sub_topics[topic])\n",
    "\n",
    "        all_r_documents = {}\n",
    "        all_r_inverted_index = {}\n",
    "        for sub_topic in sub_topics[topic]:\n",
    "            r_documents, r_inverted_index = get_search_engine(topic, sub_topic, qrels, direct_index)\n",
    "            all_r_documents[sub_topic] = r_documents\n",
    "            all_r_inverted_index[sub_topic] = r_inverted_index\n",
    "\n",
    "        rel_table, irr_table, p_rel, _ = get_transitions_tables(num_subtopics, \n",
    "                                                                min(sub_topics[topic]), \n",
    "                                                                all_sequences[topic], \n",
    "                                                                0.001)\n",
    "        sequences = []\n",
    "        for _ in range(num_samples):\n",
    "            sg = SequenceGenerator(num_subtopics, min(sub_topics[topic]), rel_table, irr_table)\n",
    "            prob = 1.0\n",
    "            prev_sub_topic = 0\n",
    "            sequence = []\n",
    "            for m, (sub_topic, prob_action) in enumerate(sg):\n",
    "                if sub_topic != num_subtopics + 1 + min(sub_topics[topic]) - 1:\n",
    "                    query = ''\n",
    "                    if sub_topic in all_queries[topic] and len(all_queries[topic][sub_topic]) > 0: \n",
    "                        queries = list(all_queries[topic][sub_topic])\n",
    "                        query = queries[choice(range(len(queries)))]\n",
    "\n",
    "                    search = Search(all_r_inverted_index[sub_topic], pre_preocessor)\n",
    "                    answer = search.search(query, \n",
    "                                           n=1, \n",
    "                                           retrievable_paragraphs=all_r_documents[sub_topic].keys())[0]\n",
    "                    \n",
    "                    if sub_topic in qrels_users[topic] and answer in qrels_users[topic][sub_topic] and \\\n",
    "                    np.random.uniform(0,1) < qrels_users[topic][sub_topic][answer]:\n",
    "                        sg.set_relevance(True)\n",
    "                        sequence.append((prev_sub_topic, answer, 'relevant', sub_topic, query))\n",
    "                    else:\n",
    "                        sg.set_relevance(False)\n",
    "                        sequence.append((prev_sub_topic, answer, 'irrelevant', sub_topic, query))\n",
    "                prev_sub_topic = sub_topic\n",
    "                prob *= prob_action\n",
    "                    \n",
    "            sequences.append((sequence, prob))\n",
    "        res[topic] = sequences\n",
    "\n",
    "    return res\n",
    "\n",
    "all_double_table_sequences = get_double_table_sequences()"
   ]
  },
  {
   "cell_type": "code",
   "execution_count": 69,
   "metadata": {},
   "outputs": [
    {
     "name": "stdout",
     "output_type": "stream",
     "text": [
      "CP, LTSE -2.1382556405617343\n"
     ]
    }
   ],
   "source": [
    "ngp_t2_cp = get_dist(all_double_table_sequences, None, None, dd_cp)\n",
    "print(\"CP, LTSE\", ltse(ngp, ngp_t2_cp))"
   ]
  },
  {
   "cell_type": "code",
   "execution_count": 70,
   "metadata": {},
   "outputs": [
    {
     "data": {
      "application/vnd.jupyter.widget-view+json": {
       "model_id": "ae6862a824574519bc87866fa300a598",
       "version_major": 2,
       "version_minor": 0
      },
      "text/plain": [
       "HBox(children=(FloatProgress(value=0.0, max=101.0), HTML(value='')))"
      ]
     },
     "metadata": {},
     "output_type": "display_data"
    },
    {
     "name": "stdout",
     "output_type": "stream",
     "text": [
      "\n",
      "CBP, LTSE -5.226785599954785 0.79\n"
     ]
    }
   ],
   "source": [
    "res = 100\n",
    "max_alpha = 0.0\n",
    "max_ltse = 0.0\n",
    "ngp_t2_cbp = None\n",
    "for alpha in tqdm(range(0, res+1)):\n",
    "    alpha /= res\n",
    "    \n",
    "    ngp_t2 = get_dist(all_double_table_sequences, alpha, None, dd_cbp)\n",
    "            \n",
    "    score = ltse(ngp, ngp_t2)\n",
    "    if score < max_ltse:\n",
    "        max_ltse = score\n",
    "        max_alpha = alpha\n",
    "        ngp_t2_cbp = ngp_t2\n",
    "        \n",
    "print(\"CBP, LTSE\", max_ltse, max_alpha)"
   ]
  },
  {
   "cell_type": "code",
   "execution_count": 71,
   "metadata": {},
   "outputs": [
    {
     "data": {
      "application/vnd.jupyter.widget-view+json": {
       "model_id": "abda746c16cf457bb796b2742a887aab",
       "version_major": 2,
       "version_minor": 0
      },
      "text/plain": [
       "HBox(children=(FloatProgress(value=0.0, max=11.0), HTML(value='')))"
      ]
     },
     "metadata": {},
     "output_type": "display_data"
    },
    {
     "name": "stdout",
     "output_type": "stream",
     "text": [
      "\n",
      "CBP, LTSE -5.3770952050915835 0.9 0.5\n"
     ]
    }
   ],
   "source": [
    "res = 10\n",
    "max_alpha = 0.0\n",
    "max_beta = 0.0\n",
    "max_ltse = 0.0\n",
    "ngp_t2_cbp_p = None\n",
    "for alpha in tqdm(range(0, res+1)):\n",
    "    alpha /= res\n",
    "    \n",
    "    for beta in range(0, res+1):\n",
    "        beta /= res\n",
    "        \n",
    "        ngp_t2 = get_dist(all_double_table_sequences, alpha, beta, dd_cbp_p)\n",
    "\n",
    "        score = ltse(ngp, ngp_t2)\n",
    "        if score < max_ltse:\n",
    "            max_ltse = score\n",
    "            max_alpha = alpha\n",
    "            max_beta = beta\n",
    "            ngp_t2_cbp_p = ngp_t2\n",
    "        \n",
    "print(\"CBP, LTSE\", max_ltse, max_alpha, max_beta)"
   ]
  },
  {
   "cell_type": "code",
   "execution_count": 72,
   "metadata": {},
   "outputs": [
    {
     "data": {
      "text/plain": [
       "<matplotlib.legend.Legend at 0x7f64b101e990>"
      ]
     },
     "execution_count": 72,
     "metadata": {},
     "output_type": "execute_result"
    },
    {
     "data": {
      "image/png": "[encoded data removed]",
      "text/plain": [
       "<Figure size 432x288 with 1 Axes>"
      ]
     },
     "metadata": {
      "needs_background": "light"
     },
     "output_type": "display_data"
    }
   ],
   "source": [
    "x = np.arange(ngp.shape[0])\n",
    "\n",
    "bar_width = 0.20\n",
    "\n",
    "plt.bar(x-bar_width*1, ngp_t2_cp[0:len(x)], width = bar_width, color='#E69F00', align='center', label='p')\n",
    "plt.bar(x+bar_width*0, ngp_t2_cbp[0:len(x)], width = bar_width, color='#56B4E9', align='center', label='cbp')\n",
    "plt.bar(x+bar_width*1, ngp_t2_cbp_p[0:len(x)], width = bar_width, color='#009E73', align='center', label=\"cbp+\")\n",
    "plt.bar(x+bar_width*2, ngp, width = bar_width, color='black', align='center', label=\"Observed\")\n",
    "\n",
    "#plt.rc('font', size=13)\n",
    "plt.ylabel('$P(\\\\mathcal{Q})$')\n",
    "plt.xlabel('$m$')\n",
    "plt.xlim(-1, 15)\n",
    "plt.legend()\n",
    "#plt.savefig(\"probability_of_querying.png\", dpi=300)"
   ]
  },
  {
   "cell_type": "code",
   "execution_count": 47,
   "metadata": {},
   "outputs": [
    {
     "data": {
      "text/plain": [
       "<matplotlib.legend.Legend at 0x7f64af993590>"
      ]
     },
     "execution_count": 47,
     "metadata": {},
     "output_type": "execute_result"
    },
    {
     "data": {
      "image/png": "[encoded data removed]",
      "text/plain": [
       "<Figure size 432x288 with 1 Axes>"
      ]
     },
     "metadata": {
      "needs_background": "light"
     },
     "output_type": "display_data"
    }
   ],
   "source": [
    "x = np.arange(ngp.shape[0])\n",
    "\n",
    "bar_width = 0.20\n",
    "\n",
    "plt.bar(x-bar_width*1, ngp_t2_cp[0:len(x)], width = bar_width, color='#E69F00', align='center', label='table 2')\n",
    "plt.bar(x+bar_width*0, ngp_t_cp[0:len(x)], width = bar_width, color='#56B4E9', align='center', label='table')\n",
    "plt.bar(x+bar_width*1, ngp_u_cp[0:len(x)], width = bar_width, color='#009E73', align='center', label=\"uniform\")\n",
    "plt.bar(x+bar_width*2, ngp, width = bar_width, color='black', align='center', label=\"Observed\")\n",
    "\n",
    "#plt.rc('font', size=13)\n",
    "plt.ylabel('$P(\\\\mathcal{Q})$')\n",
    "plt.xlabel('$m$')\n",
    "plt.xlim(-1, 15)\n",
    "plt.legend()\n",
    "#plt.savefig(\"probability_of_querying.png\", dpi=300)"
   ]
  },
  {
   "cell_type": "markdown",
   "metadata": {},
   "source": [
    "# Correlation Analysis with Satisfaction"
   ]
  },
  {
   "cell_type": "code",
   "execution_count": 48,
   "metadata": {},
   "outputs": [],
   "source": [
    "# CP\n",
    "\n",
    "def dd_cp(alpha, m, l):\n",
    "    return 1\n",
    "\n",
    "def ncp(sequence):\n",
    "    res = 0.0\n",
    "    for action in sequence:\n",
    "        if action[2] == 'relevant':\n",
    "            res += dd_cp(None, None, None)\n",
    "    return res/len(sequence)\n",
    "\n",
    "def get_ncp_list(sequences):\n",
    "    res = []\n",
    "    for sequence, prob in sequences:\n",
    "        res.append(ncp(sequence))\n",
    "    return res\n",
    "\n",
    "# CBP\n",
    "\n",
    "def dd_cbp(alpha, m, l = None):\n",
    "    return alpha ** m\n",
    "\n",
    "def dd_ncbp(alpha, m, l):\n",
    "    norm = 0.0\n",
    "    for i in range(l):\n",
    "        norm += dd_cbp(alpha, i, l)\n",
    "    return dd_cbp(alpha, m, l) / norm\n",
    "\n",
    "def ncbp(sequence, alpha):\n",
    "    res = 0.0\n",
    "    for m, action in enumerate(sequence):\n",
    "        if action[2] == 'relevant':\n",
    "            res += dd_ncbp(alpha, m, len(sequence))\n",
    "    return res\n",
    "\n",
    "def get_ncbp_list(sequences, alpha):\n",
    "    res = []\n",
    "    for sequence, prob in sequences:\n",
    "        res.append(ncbp(sequence, alpha))\n",
    "    return res\n",
    "\n",
    "# CBP +\n",
    "\n",
    "def dd_ncbp_p(alpha, beta, m, sequence):\n",
    "    res = 1.0\n",
    "    for action in sequence[:m]:\n",
    "        if action[2] == 'relevant':\n",
    "            res *= alpha\n",
    "        else:\n",
    "            res *= beta\n",
    "    norm = 0.0\n",
    "    for i in range(len(sequence)):\n",
    "        norm += dd_cbp(alpha, i)\n",
    "    return res/norm\n",
    "\n",
    "def ncbp_p(sequence, alpha, beta):\n",
    "    res = 0.0\n",
    "    for m, action in enumerate(sequence):\n",
    "        if action[2] == 'relevant':\n",
    "            res += dd_ncbp_p(alpha, beta, m, sequence)\n",
    "    return res\n",
    "\n",
    "def get_ncbp_p_list(sequences, alpha, beta):\n",
    "    res = []\n",
    "    for sequence, prob in sequences:\n",
    "        res.append(ncbp_p(sequence, alpha, beta))\n",
    "    return res\n",
    "\n",
    "#get_ncp_list(all_uniform_sequences[1])"
   ]
  },
  {
   "cell_type": "code",
   "execution_count": 49,
   "metadata": {},
   "outputs": [],
   "source": [
    "ncp_t2_scores = []\n",
    "ncp_t_scores = []\n",
    "ncp_u_scores = []\n",
    "ncbp_t2_scores = []\n",
    "ncbp_t_scores = []\n",
    "ncbp_u_scores = []\n",
    "ncbp_p_t2_scores = []\n",
    "ncbp_p_t_scores = []\n",
    "ncbp_p_u_scores = []\n",
    "\n",
    "for topic in sorted(topics):\n",
    "    sequences = all_uniform_sequences[topic]\n",
    "    if(len(sequences) > 0):\n",
    "        ncp_u_scores.append((topic, get_ncp_list(sequences)))\n",
    "        ncbp_u_scores.append((topic, get_ncbp_list(sequences, 0.79)))\n",
    "        ncbp_p_u_scores.append((topic, get_ncbp_p_list(sequences, 0.9, 0.5)))\n",
    "    \n",
    "for topic in sorted(topics):\n",
    "    sequences = all_double_table_sequences[topic]\n",
    "    if(len(sequences) > 0):\n",
    "        ncp_t2_scores.append((topic, get_ncp_list(sequences)))\n",
    "        ncbp_t2_scores.append((topic, get_ncbp_list(sequences, 0.79)))\n",
    "        ncbp_p_t2_scores.append((topic, get_ncbp_p_list(sequences, 0.9, 0.5)))\n",
    "\n",
    "\n",
    "for topic in sorted(topics):\n",
    "    sequences = all_table_sequences[topic]\n",
    "    if(len(sequences) > 0):\n",
    "        ncp_t_scores.append((topic, get_ncp_list(sequences)))\n",
    "        ncbp_t_scores.append((topic, get_ncbp_list(sequences, 0.79)))\n",
    "        ncbp_p_t_scores.append((topic, get_ncbp_p_list(sequences, 0.9, 0.5)))\n",
    "    \n",
    "#ncbp_p_scores, ncbp_scores, ncp_scores"
   ]
  },
  {
   "cell_type": "code",
   "execution_count": 50,
   "metadata": {},
   "outputs": [
    {
     "name": "stdout",
     "output_type": "stream",
     "text": [
      "P KendalltauResult(correlation=0.6605782590758164, pvalue=0.004936818556325083)\n",
      "P KendalltauResult(correlation=0.39629696195060854, pvalue=0.09727971487059334)\n",
      "P KendalltauResult(correlation=0.39629696195060854, pvalue=0.09727971487059334)\n",
      "P SpearmanrResult(correlation=0.8200476856407694, pvalue=0.001994360469593147)\n",
      "P SpearmanrResult(correlation=0.4184007547934193, pvalue=0.20031020769041558)\n",
      "P SpearmanrResult(correlation=0.4184007547934193, pvalue=0.20031020769041558)\n",
      "P (0.8608518134354509, 0.0006671363388911672)\n",
      "P (0.4668441212875268, 0.1477212535734143)\n",
      "P (0.459718051882313, 0.15484381827729293)\n"
     ]
    }
   ],
   "source": [
    "import scipy\n",
    "from scipy.stats import kendalltau\n",
    "\n",
    "def unpack(l):\n",
    "    return [np.mean(i[1]) for i in l]\n",
    "    #return functools.reduce(list.__add__, [i[1] for i in l])\n",
    "    \n",
    "print(\"P\", scipy.stats.kendalltau(unpack(ncp_t2_scores), unpack(satisfaction_scores)))\n",
    "print(\"P\", scipy.stats.kendalltau(unpack(ncp_t_scores), unpack(satisfaction_scores)))\n",
    "print(\"P\", scipy.stats.kendalltau(unpack(ncp_u_scores), unpack(satisfaction_scores)))\n",
    "print(\"P\", scipy.stats.spearmanr(unpack(ncp_t2_scores), unpack(satisfaction_scores)))\n",
    "print(\"P\", scipy.stats.spearmanr(unpack(ncp_t_scores), unpack(satisfaction_scores)))\n",
    "print(\"P\", scipy.stats.spearmanr(unpack(ncp_u_scores), unpack(satisfaction_scores)))\n",
    "print(\"P\", scipy.stats.pearsonr(unpack(ncp_t2_scores), unpack(satisfaction_scores)))\n",
    "print(\"P\", scipy.stats.pearsonr(unpack(ncp_t_scores), unpack(satisfaction_scores)))\n",
    "print(\"P\", scipy.stats.pearsonr(unpack(ncp_u_scores), unpack(satisfaction_scores)))\n",
    "\n",
    "#plt.plot(unpack(ncp_t_scores), unpack(satisfaction_scores), 'o')"
   ]
  },
  {
   "cell_type": "code",
   "execution_count": 51,
   "metadata": {},
   "outputs": [
    {
     "name": "stdout",
     "output_type": "stream",
     "text": [
      "P KendalltauResult(correlation=0.6605782590758164, pvalue=0.004936818556325083)\n",
      "P KendalltauResult(correlation=0.39629696195060854, pvalue=0.09727971487059334)\n",
      "P KendalltauResult(correlation=0.39629696195060854, pvalue=0.09727971487059334)\n",
      "P SpearmanrResult(correlation=0.8200476856407694, pvalue=0.001994360469593147)\n",
      "P SpearmanrResult(correlation=0.4184007547934193, pvalue=0.20031020769041558)\n",
      "P SpearmanrResult(correlation=0.4184007547934193, pvalue=0.20031020769041558)\n",
      "P (0.8427539660234707, 0.0011252917643749338)\n",
      "P (0.4677829977947728, 0.14679844508189177)\n",
      "P (0.4590311962293325, 0.15554142203435084)\n"
     ]
    }
   ],
   "source": [
    "import scipy\n",
    "from scipy.stats import kendalltau\n",
    "\n",
    "def unpack(l):\n",
    "    return [np.mean(i[1]) for i in l]\n",
    "    #return functools.reduce(list.__add__, [i[1] for i in l])\n",
    "    \n",
    "print(\"P\", scipy.stats.kendalltau(unpack(ncbp_t2_scores), unpack(satisfaction_scores)))\n",
    "print(\"P\", scipy.stats.kendalltau(unpack(ncbp_t_scores), unpack(satisfaction_scores)))\n",
    "print(\"P\", scipy.stats.kendalltau(unpack(ncbp_u_scores), unpack(satisfaction_scores)))\n",
    "print(\"P\", scipy.stats.spearmanr(unpack(ncbp_t2_scores), unpack(satisfaction_scores)))\n",
    "print(\"P\", scipy.stats.spearmanr(unpack(ncbp_t_scores), unpack(satisfaction_scores)))\n",
    "print(\"P\", scipy.stats.spearmanr(unpack(ncbp_u_scores), unpack(satisfaction_scores)))\n",
    "print(\"P\", scipy.stats.pearsonr(unpack(ncbp_t2_scores), unpack(satisfaction_scores)))\n",
    "print(\"P\", scipy.stats.pearsonr(unpack(ncbp_t_scores), unpack(satisfaction_scores)))\n",
    "print(\"P\", scipy.stats.pearsonr(unpack(ncbp_u_scores), unpack(satisfaction_scores)))"
   ]
  },
  {
   "cell_type": "code",
   "execution_count": 52,
   "metadata": {},
   "outputs": [
    {
     "name": "stdout",
     "output_type": "stream",
     "text": [
      "P KendalltauResult(correlation=0.697277051246695, pvalue=0.0030042622393982835)\n",
      "P KendalltauResult(correlation=0.39629696195060854, pvalue=0.09727971487059334)\n",
      "P KendalltauResult(correlation=0.39629696195060854, pvalue=0.09727971487059334)\n",
      "P SpearmanrResult(correlation=0.8382709675438977, pvalue=0.0012683508950782564)\n",
      "P SpearmanrResult(correlation=0.4184007547934193, pvalue=0.20031020769041558)\n",
      "P SpearmanrResult(correlation=0.4184007547934193, pvalue=0.20031020769041558)\n",
      "P (0.8519433343529084, 0.0008702415350875802)\n",
      "P (0.4609998491215942, 0.15354718383438082)\n",
      "P (0.44815143506542393, 0.16685256984076857)\n"
     ]
    }
   ],
   "source": [
    "import scipy\n",
    "from scipy.stats import kendalltau\n",
    "\n",
    "def unpack(l):\n",
    "    return [np.mean(i[1]) for i in l]\n",
    "    #return functools.reduce(list.__add__, [i[1] for i in l])\n",
    "    \n",
    "print(\"P\", scipy.stats.kendalltau(unpack(ncbp_p_t2_scores), unpack(satisfaction_scores)))\n",
    "print(\"P\", scipy.stats.kendalltau(unpack(ncbp_p_t_scores), unpack(satisfaction_scores)))\n",
    "print(\"P\", scipy.stats.kendalltau(unpack(ncbp_p_u_scores), unpack(satisfaction_scores)))\n",
    "print(\"P\", scipy.stats.spearmanr(unpack(ncbp_p_t2_scores), unpack(satisfaction_scores)))\n",
    "print(\"P\", scipy.stats.spearmanr(unpack(ncbp_p_t_scores), unpack(satisfaction_scores)))\n",
    "print(\"P\", scipy.stats.spearmanr(unpack(ncbp_p_u_scores), unpack(satisfaction_scores)))\n",
    "print(\"P\", scipy.stats.pearsonr(unpack(ncbp_p_t2_scores), unpack(satisfaction_scores)))\n",
    "print(\"P\", scipy.stats.pearsonr(unpack(ncbp_p_t_scores), unpack(satisfaction_scores)))\n",
    "print(\"P\", scipy.stats.pearsonr(unpack(ncbp_p_u_scores), unpack(satisfaction_scores)))"
   ]
  },
  {
   "cell_type": "code",
   "execution_count": 73,
   "metadata": {},
   "outputs": [
    {
     "name": "stdout",
     "output_type": "stream",
     "text": [
      "P KendalltauResult(correlation=0.9272727272727274, pvalue=3.2567740901074234e-06)\n",
      "P KendalltauResult(correlation=0.11219363880101486, pvalue=0.6366573664363878)\n",
      "P KendalltauResult(correlation=0.11219363880101486, pvalue=0.6366573664363878)\n",
      "P SpearmanrResult(correlation=0.9727272727272729, pvalue=5.14217704904919e-07)\n",
      "P SpearmanrResult(correlation=0.1651445647689541, pvalue=0.6274948659508894)\n",
      "P SpearmanrResult(correlation=0.1651445647689541, pvalue=0.6274948659508894)\n",
      "P (0.9564975003779481, 4.106341312289937e-06)\n",
      "P (0.2794322672398877, 0.40531356195723495)\n",
      "P (0.26874564344112384, 0.4242432877878576)\n"
     ]
    }
   ],
   "source": [
    "print(\"P\", scipy.stats.kendalltau(unpack(ncbp_p_t2_scores), unpack(ncp_scores)))\n",
    "print(\"P\", scipy.stats.kendalltau(unpack(ncbp_p_t_scores), unpack(ncp_scores)))\n",
    "print(\"P\", scipy.stats.kendalltau(unpack(ncbp_p_u_scores), unpack(ncp_scores)))\n",
    "print(\"P\", scipy.stats.spearmanr(unpack(ncbp_p_t2_scores), unpack(ncp_scores)))\n",
    "print(\"P\", scipy.stats.spearmanr(unpack(ncbp_p_t_scores), unpack(ncp_scores)))\n",
    "print(\"P\", scipy.stats.spearmanr(unpack(ncbp_p_u_scores), unpack(ncp_scores)))\n",
    "print(\"P\", scipy.stats.pearsonr(unpack(ncbp_p_t2_scores), unpack(ncp_scores)))\n",
    "print(\"P\", scipy.stats.pearsonr(unpack(ncbp_p_t_scores), unpack(ncp_scores)))\n",
    "print(\"P\", scipy.stats.pearsonr(unpack(ncbp_p_u_scores), unpack(ncp_scores)))"
   ]
  },
  {
   "cell_type": "code",
   "execution_count": 74,
   "metadata": {},
   "outputs": [
    {
     "name": "stdout",
     "output_type": "stream",
     "text": [
      "P KendalltauResult(correlation=0.8909090909090909, pvalue=1.3728555395222063e-05)\n",
      "P KendalltauResult(correlation=0.14959151840135315, pvalue=0.5288014592987297)\n",
      "P KendalltauResult(correlation=0.14959151840135315, pvalue=0.5288014592987297)\n",
      "P SpearmanrResult(correlation=0.9454545454545454, pvalue=1.118303770149319e-05)\n",
      "P SpearmanrResult(correlation=0.1743192628116738, pvalue=0.6082120315809951)\n",
      "P SpearmanrResult(correlation=0.1743192628116738, pvalue=0.6082120315809951)\n",
      "P (0.9367922380047544, 2.1434119495574912e-05)\n",
      "P (0.24026297472429736, 0.47669279774009243)\n",
      "P (0.23005564753595964, 0.4961667035487577)\n"
     ]
    }
   ],
   "source": [
    "print(\"P\", scipy.stats.kendalltau(unpack(ncbp_p_t2_scores), unpack(ncbp_scores)))\n",
    "print(\"P\", scipy.stats.kendalltau(unpack(ncbp_p_t_scores), unpack(ncbp_scores)))\n",
    "print(\"P\", scipy.stats.kendalltau(unpack(ncbp_p_u_scores), unpack(ncbp_scores)))\n",
    "print(\"P\", scipy.stats.spearmanr(unpack(ncbp_p_t2_scores), unpack(ncbp_scores)))\n",
    "print(\"P\", scipy.stats.spearmanr(unpack(ncbp_p_t_scores), unpack(ncbp_scores)))\n",
    "print(\"P\", scipy.stats.spearmanr(unpack(ncbp_p_u_scores), unpack(ncbp_scores)))\n",
    "print(\"P\", scipy.stats.pearsonr(unpack(ncbp_p_t2_scores), unpack(ncbp_scores)))\n",
    "print(\"P\", scipy.stats.pearsonr(unpack(ncbp_p_t_scores), unpack(ncbp_scores)))\n",
    "print(\"P\", scipy.stats.pearsonr(unpack(ncbp_p_u_scores), unpack(ncbp_scores)))"
   ]
  },
  {
   "cell_type": "code",
   "execution_count": 75,
   "metadata": {},
   "outputs": [
    {
     "name": "stdout",
     "output_type": "stream",
     "text": [
      "P KendalltauResult(correlation=0.8909090909090909, pvalue=1.3728555395222063e-05)\n",
      "P KendalltauResult(correlation=0.11219363880101486, pvalue=0.6366573664363878)\n",
      "P KendalltauResult(correlation=0.11219363880101486, pvalue=0.6366573664363878)\n",
      "P SpearmanrResult(correlation=0.9636363636363637, pvalue=1.852039864070312e-06)\n",
      "P SpearmanrResult(correlation=0.1651445647689541, pvalue=0.6274948659508894)\n",
      "P SpearmanrResult(correlation=0.1651445647689541, pvalue=0.6274948659508894)\n",
      "P (0.9404928637722723, 1.642686076823705e-05)\n",
      "P (0.30393922502153803, 0.3635202359712866)\n",
      "P (0.2933919772578867, 0.38122670537366526)\n"
     ]
    }
   ],
   "source": [
    "print(\"P\", scipy.stats.kendalltau(unpack(ncbp_p_t2_scores), unpack(ncbp_p_scores)))\n",
    "print(\"P\", scipy.stats.kendalltau(unpack(ncbp_p_t_scores), unpack(ncbp_p_scores)))\n",
    "print(\"P\", scipy.stats.kendalltau(unpack(ncbp_p_u_scores), unpack(ncbp_p_scores)))\n",
    "print(\"P\", scipy.stats.spearmanr(unpack(ncbp_p_t2_scores), unpack(ncbp_p_scores)))\n",
    "print(\"P\", scipy.stats.spearmanr(unpack(ncbp_p_t_scores), unpack(ncbp_p_scores)))\n",
    "print(\"P\", scipy.stats.spearmanr(unpack(ncbp_p_u_scores), unpack(ncbp_p_scores)))\n",
    "print(\"P\", scipy.stats.pearsonr(unpack(ncbp_p_t2_scores), unpack(ncbp_p_scores)))\n",
    "print(\"P\", scipy.stats.pearsonr(unpack(ncbp_p_t_scores), unpack(ncbp_p_scores)))\n",
    "print(\"P\", scipy.stats.pearsonr(unpack(ncbp_p_u_scores), unpack(ncbp_p_scores)))"
   ]
  },
  {
   "cell_type": "code",
   "execution_count": 142,
   "metadata": {},
   "outputs": [
    {
     "data": {
      "application/vnd.jupyter.widget-view+json": {
       "model_id": "2131f9b655d049dab337118c187906f8",
       "version_major": 2,
       "version_minor": 0
      },
      "text/plain": [
       "HBox(children=(FloatProgress(value=0.0, max=11.0), HTML(value='')))"
      ]
     },
     "metadata": {},
     "output_type": "display_data"
    },
    {
     "name": "stdout",
     "output_type": "stream",
     "text": [
      "\n"
     ]
    },
    {
     "data": {
      "text/plain": [
       "[(1, 122.19023390081678),\n",
       " (2, 130.7432388684342),\n",
       " (3, 264.4091520438572),\n",
       " (4, 789.3748757451203),\n",
       " (5, 153.04925583830698),\n",
       " (6, 208.81127476201752),\n",
       " (7, 211.2258227534234),\n",
       " (8, 519.6411058089313),\n",
       " (9, 63.67210729487755),\n",
       " (10, 119.65714042923543),\n",
       " (11, 875.5733211010738)]"
      ]
     },
     "execution_count": 142,
     "metadata": {},
     "output_type": "execute_result"
    }
   ],
   "source": [
    "topic_scores = []\n",
    "for topic in tqdm(topics):\n",
    "    num_subtopics = len(sub_topics[topic])\n",
    "\n",
    "    all_r_documents = {}\n",
    "    all_r_inverted_index = {}\n",
    "    for sub_topic in sub_topics[topic]:\n",
    "        r_documents, r_inverted_index = get_search_engine(topic, sub_topic, qrels, direct_index)\n",
    "        all_r_documents[sub_topic] = r_documents\n",
    "        all_r_inverted_index[sub_topic] = r_inverted_index\n",
    "\n",
    "    scores = []\n",
    "    for n in range(num_samples):\n",
    "        sequence, prob = generate_sequence(len(sub_topics[topic]), min(sub_topics[topic]))\n",
    "\n",
    "        score = 0.0\n",
    "        norm = 0.0\n",
    "        for m, action in enumerate(sequence[:-1]):\n",
    "            sub_topic = action[3]\n",
    "            query = action[4]\n",
    "\n",
    "            query = ''\n",
    "            if sub_topic in all_queries[topic] and len(all_queries[topic][sub_topic]) > 0: \n",
    "                queries = list(all_queries[topic][sub_topic])\n",
    "                query = queries[choice(range(len(queries)))]\n",
    "\n",
    "            search = Search(all_r_inverted_index[sub_topic], pre_preocessor)\n",
    "            answer = search.search(query, n=1, retrievable_paragraphs=all_r_documents[sub_topic].keys())[0]\n",
    "\n",
    "            rel = 0.0\n",
    "            if sub_topic in qrels_users[topic] and answer in qrels_users[topic][sub_topic]:\n",
    "                rel = qrels_users[topic][sub_topic][answer]\n",
    "                \n",
    "            score += rel\n",
    "            norm += 1\n",
    "            \n",
    "        scores.append(score/norm)\n",
    "        \n",
    "    if scores:\n",
    "        scores = np.array(scores)\n",
    "        topic_score = np.mean(scores)\n",
    "        topic_scores.append((topic, topic_score))\n",
    "    else:\n",
    "        topic_scores.append((topic, 0.0))\n",
    "\n",
    "uniform_sim_system_scores = sorted(topic_scores)\n",
    "uniform_sim_system_scores"
   ]
  },
  {
   "cell_type": "code",
   "execution_count": 141,
   "metadata": {},
   "outputs": [
    {
     "name": "stdout",
     "output_type": "stream",
     "text": [
      "KendalltauResult(correlation=0.03669879217087869, pvalue=0.8758960579229409)\n",
      "SpearmanrResult(correlation=0.027334922854692318, pvalue=0.9364140213290887)\n",
      "(-0.19574984934020812, 0.5640496711266797)\n"
     ]
    },
    {
     "data": {
      "image/png": "[encoded data removed]",
      "text/plain": [
       "<Figure size 432x288 with 1 Axes>"
      ]
     },
     "metadata": {
      "needs_background": "light"
     },
     "output_type": "display_data"
    }
   ],
   "source": [
    "plt.plot([i[1] for i in uniform_sim_system_scores], [i[1] for i in satisfaction_scores], 'o')\n",
    "print(kendalltau([i[1] for i in uniform_sim_system_scores], [i[1] for i in satisfaction_scores]))\n",
    "print(spearmanr([i[1] for i in uniform_sim_system_scores], [i[1] for i in satisfaction_scores]))\n",
    "print(pearsonr([i[1] for i in uniform_sim_system_scores], [i[1] for i in satisfaction_scores]))"
   ]
  },
  {
   "cell_type": "code",
   "execution_count": null,
   "metadata": {},
   "outputs": [],
   "source": []
  },
  {
   "cell_type": "code",
   "execution_count": 118,
   "metadata": {},
   "outputs": [
    {
     "data": {
      "application/vnd.jupyter.widget-view+json": {
       "model_id": "5fef5de0a0b144f2b488059d25c516f0",
       "version_major": 2,
       "version_minor": 0
      },
      "text/plain": [
       "HBox(children=(FloatProgress(value=0.0, max=11.0), HTML(value='')))"
      ]
     },
     "metadata": {},
     "output_type": "display_data"
    },
    {
     "name": "stdout",
     "output_type": "stream",
     "text": [
      "\n"
     ]
    },
    {
     "data": {
      "text/plain": [
       "[(1, 0.744931570877279),\n",
       " (2, 0.8403463428808586),\n",
       " (3, 0.9149870261542837),\n",
       " (4, 0.6155595944611646),\n",
       " (5, 0.5665156728245999),\n",
       " (6, 0.797064027888256),\n",
       " (7, 0.8795322963247254),\n",
       " (8, 0.5603886637319133),\n",
       " (9, 0.8128049586407685),\n",
       " (10, 0.7329290870439896),\n",
       " (11, 0.7777588797158198)]"
      ]
     },
     "execution_count": 118,
     "metadata": {},
     "output_type": "execute_result"
    }
   ],
   "source": [
    "topic_scores = []\n",
    "for topic in tqdm(topics):\n",
    "    num_subtopics = len(sub_topics[topic])\n",
    "\n",
    "    all_r_documents = {}\n",
    "    all_r_inverted_index = {}\n",
    "    for sub_topic in sub_topics[topic]:\n",
    "        r_documents, r_inverted_index = get_search_engine(topic, sub_topic, qrels, direct_index)\n",
    "        all_r_documents[sub_topic] = r_documents\n",
    "        all_r_inverted_index[sub_topic] = r_inverted_index\n",
    "\n",
    "    transitions_table = get_transitions_table(num_subtopics, min(sub_topics[topic]), all_sequences[topic])\n",
    "\n",
    "    scores = []\n",
    "    for n in range(num_samples):\n",
    "        sequence, prob = generate_sequence_from_table(num_subtopics, min(sub_topics[topic]), transitions_table)\n",
    "\n",
    "        score = 0.0\n",
    "        norm = 0.0\n",
    "        for m, action in enumerate(sequence[:-1]):\n",
    "            sub_topic = action[3]\n",
    "            query = action[4]\n",
    "\n",
    "            query = ''\n",
    "            if sub_topic in all_queries[topic] and len(all_queries[topic][sub_topic]) > 0: \n",
    "                queries = list(all_queries[topic][sub_topic])\n",
    "                query = queries[choice(range(len(queries)))]\n",
    "\n",
    "            search = Search(all_r_inverted_index[sub_topic], pre_preocessor)\n",
    "            answer = search.search(query, n=1, retrievable_paragraphs=all_r_documents[sub_topic].keys())[0]\n",
    "\n",
    "            rel = 0.0\n",
    "            if sub_topic in qrels_users[topic] and answer in qrels_users[topic][sub_topic]:\n",
    "                rel = qrels_users[topic][sub_topic][answer]\n",
    "                \n",
    "            score += rel\n",
    "            norm += 1\n",
    "            \n",
    "        scores.append(score/norm)\n",
    "\n",
    "    if scores:\n",
    "        scores = np.array(scores)\n",
    "        topic_score = np.mean(scores)\n",
    "        topic_scores.append((topic, topic_score))\n",
    "    else:\n",
    "        topic_scores.append((topic, 0.0))\n",
    "\n",
    "table_sim_system_scores = sorted(topic_scores)\n",
    "table_sim_system_scores"
   ]
  },
  {
   "cell_type": "code",
   "execution_count": 119,
   "metadata": {},
   "outputs": [
    {
     "name": "stdout",
     "output_type": "stream",
     "text": [
      "KendalltauResult(correlation=0.587180674734059, pvalue=0.012462158294540318)\n",
      "SpearmanrResult(correlation=0.779045301358731, pvalue=0.004714320551196522)\n",
      "(0.8087806747017283, 0.0025761117774212245)\n"
     ]
    },
    {
     "data": {
      "image/png": "[encoded data removed]",
      "text/plain": [
       "<Figure size 432x288 with 1 Axes>"
      ]
     },
     "metadata": {
      "needs_background": "light"
     },
     "output_type": "display_data"
    }
   ],
   "source": [
    "plt.plot([i[1] for i in table_sim_system_scores], [i[1] for i in satisfaction_scores], 'o')\n",
    "print(kendalltau([i[1] for i in table_sim_system_scores], [i[1] for i in satisfaction_scores]))\n",
    "print(spearmanr([i[1] for i in table_sim_system_scores], [i[1] for i in satisfaction_scores]))\n",
    "print(pearsonr([i[1] for i in table_sim_system_scores], [i[1] for i in satisfaction_scores]))"
   ]
  },
  {
   "cell_type": "code",
   "execution_count": 120,
   "metadata": {},
   "outputs": [
    {
     "data": {
      "application/vnd.jupyter.widget-view+json": {
       "model_id": "07b08fa542e84136835bea751a2209a0",
       "version_major": 2,
       "version_minor": 0
      },
      "text/plain": [
       "HBox(children=(FloatProgress(value=0.0, max=11.0), HTML(value='')))"
      ]
     },
     "metadata": {},
     "output_type": "display_data"
    },
    {
     "name": "stdout",
     "output_type": "stream",
     "text": [
      "\n"
     ]
    },
    {
     "data": {
      "text/plain": [
       "[(1, 0.7577695115942342),\n",
       " (2, 0.8454844058017886),\n",
       " (3, 0.9083529146134581),\n",
       " (4, 0.6141786384776524),\n",
       " (5, 0.5585738710707222),\n",
       " (6, 0.7932449172228496),\n",
       " (7, 0.8723942653827599),\n",
       " (8, 0.5652680846232361),\n",
       " (9, 0.8138236372280364),\n",
       " (10, 0.7285602787644717),\n",
       " (11, 0.7822967724315569)]"
      ]
     },
     "execution_count": 120,
     "metadata": {},
     "output_type": "execute_result"
    }
   ],
   "source": [
    "topic_scores = []\n",
    "for topic in tqdm(topics):\n",
    "    num_subtopics = len(sub_topics[topic])\n",
    "\n",
    "    all_r_documents = {}\n",
    "    all_r_inverted_index = {}\n",
    "    for sub_topic in sub_topics[topic]:\n",
    "        r_documents, r_inverted_index = get_search_engine(topic, sub_topic, qrels, direct_index)\n",
    "        all_r_documents[sub_topic] = r_documents\n",
    "        all_r_inverted_index[sub_topic] = r_inverted_index\n",
    "\n",
    "    rel_table, irr_table, p_rel, _ = get_transitions_tables(num_subtopics, min(sub_topics[topic]), all_sequences[topic], 0.01)\n",
    "\n",
    "    # compute metric\n",
    "    scores = []\n",
    "    for n in range(num_samples):\n",
    "        score = 0.0\n",
    "        norm = 0.0\n",
    "        sg = SequenceGenerator(num_subtopics, min(sub_topics[topic]), rel_table, irr_table)\n",
    "        sequence = []\n",
    "        for m, (sub_topic, prob_subtopic)  in enumerate(sg):\n",
    "            if sub_topic != num_subtopics + 1 + min(sub_topics[topic]) - 1:\n",
    "                prob *= prob_subtopic\n",
    "                is_rel = False\n",
    "                query = ''\n",
    "                if sub_topic in all_queries[topic] and len(all_queries[topic][sub_topic]) > 0: \n",
    "                    queries = list(all_queries[topic][sub_topic])\n",
    "                    query = queries[choice(range(len(queries)))]\n",
    "\n",
    "                search = Search(all_r_inverted_index[sub_topic], pre_preocessor)\n",
    "                answer = search.search(query, n=1, retrievable_paragraphs=all_r_documents[sub_topic].keys())[0]\n",
    "\n",
    "                rel = 0.0\n",
    "                if sub_topic in qrels_users[topic] and answer in qrels_users[topic][sub_topic]:\n",
    "                    if np.random.uniform(0,1) < qrels_users[topic][sub_topic][answer]:\n",
    "                        sg.set_relevance(True)\n",
    "                        sequence.append((None, None, 'relevant', None, None))\n",
    "                    else:\n",
    "                        sg.set_relevance(False)\n",
    "                        sequence.append((None, None, 'irrelevant', None, None))                        \n",
    "                    rel = qrels_users[topic][sub_topic][answer]\n",
    "                else:\n",
    "                    sg.set_relevance(False)\n",
    "                    sequence.append((None, None, 'irrelevant', None, None))\n",
    "                \n",
    "                \n",
    "                score += rel\n",
    "                norm += 1\n",
    "\n",
    "        scores.append(score/norm)\n",
    "\n",
    "    if scores:\n",
    "        scores = np.array(scores)\n",
    "        topic_score = np.mean(scores)\n",
    "        topic_scores.append((topic, topic_score))\n",
    "    else:\n",
    "        topic_scores.append((topic, 0.0))\n",
    "\n",
    "system_scores = sorted(topic_scores)\n",
    "\n",
    "system_scores"
   ]
  },
  {
   "cell_type": "code",
   "execution_count": 121,
   "metadata": {},
   "outputs": [
    {
     "name": "stdout",
     "output_type": "stream",
     "text": [
      "KendalltauResult(correlation=0.6238794669049376, pvalue=0.007931923532795277)\n",
      "SpearmanrResult(correlation=0.7881569423102951, pvalue=0.003956192304592836)\n",
      "(0.8030651267321897, 0.002915373404656414)\n"
     ]
    },
    {
     "data": {
      "image/png": "[encoded data removed]",
      "text/plain": [
       "<Figure size 432x288 with 1 Axes>"
      ]
     },
     "metadata": {
      "needs_background": "light"
     },
     "output_type": "display_data"
    }
   ],
   "source": [
    "plt.plot([i[1] for i in system_scores], [i[1] for i in satisfaction_scores], 'o')\n",
    "print(kendalltau([i[1] for i in system_scores], [i[1] for i in satisfaction_scores]))\n",
    "print(spearmanr([i[1] for i in system_scores], [i[1] for i in satisfaction_scores]))\n",
    "print(pearsonr([i[1] for i in system_scores], [i[1] for i in satisfaction_scores]))\n",
    "\n"
   ]
  },
  {
   "cell_type": "code",
   "execution_count": 126,
   "metadata": {},
   "outputs": [
    {
     "name": "stdout",
     "output_type": "stream",
     "text": [
      "KendalltauResult(correlation=0.7454545454545454, pvalue=0.000759529822029822)\n",
      "SpearmanrResult(correlation=0.881818181818182, pvalue=0.0003301688021839005)\n",
      "(0.8598633233268744, 0.0006877023035676636)\n"
     ]
    },
    {
     "data": {
      "image/png": "[encoded data removed]",
      "text/plain": [
       "<Figure size 432x288 with 1 Axes>"
      ]
     },
     "metadata": {
      "needs_background": "light"
     },
     "output_type": "display_data"
    }
   ],
   "source": [
    "plt.plot([i[1] for i in system_scores], [i[1] for i in ncbp_p_scores], 'o')\n",
    "print(kendalltau([i[1] for i in system_scores], [i[1] for i in ncbp_p_scores]))\n",
    "print(spearmanr([i[1] for i in system_scores], [i[1] for i in ncbp_p_scores]))\n",
    "print(pearsonr([i[1] for i in system_scores], [i[1] for i in ncbp_p_scores]))"
   ]
  },
  {
   "cell_type": "code",
   "execution_count": 57,
   "metadata": {},
   "outputs": [
    {
     "data": {
      "application/vnd.jupyter.widget-view+json": {
       "model_id": "60c7326d02954f838161b76f124fc574",
       "version_major": 2,
       "version_minor": 0
      },
      "text/plain": [
       "HBox(children=(FloatProgress(value=0.0, max=11.0), HTML(value='')))"
      ]
     },
     "metadata": {},
     "output_type": "display_data"
    },
    {
     "name": "stdout",
     "output_type": "stream",
     "text": [
      "\n"
     ]
    },
    {
     "data": {
      "text/plain": [
       "[(0.0, 0.5990411683655059),\n",
       " (0.1, 0.23892707565406066),\n",
       " (0.2, 0.1882925909385129),\n",
       " (0.3, 0.11470096829422398),\n",
       " (0.4, 0.09781414835830922),\n",
       " (0.5, 0.10366885926110005),\n",
       " (0.6, 0.08672672279096678),\n",
       " (0.7, 0.08140980379790647),\n",
       " (0.8, 0.07947905090882018),\n",
       " (0.9, 0.08515765405331138),\n",
       " (1.0, 0.0766703986810347)]"
      ]
     },
     "execution_count": 57,
     "metadata": {},
     "output_type": "execute_result"
    }
   ],
   "source": [
    "# comparison of a system with without filtering, or with noise\n",
    "# compute transition on sessions using the transition probabilities.\n",
    "noise = 0.0\n",
    "\n",
    "means = []\n",
    "for noise in tqdm(range(0, 11)):\n",
    "    noise = noise/10\n",
    "\n",
    "    topic_scores = []\n",
    "\n",
    "    for topic in topics:\n",
    "        num_subtopics = len(sub_topics[topic])\n",
    "\n",
    "        all_r_documents = {}\n",
    "        all_r_inverted_index = {}\n",
    "        for sub_topic in sub_topics[topic]:\n",
    "            r_documents, r_inverted_index = get_search_engine(topic, sub_topic, qrels, direct_index, noise)\n",
    "            all_r_documents[sub_topic] = r_documents\n",
    "            all_r_inverted_index[sub_topic] = r_inverted_index\n",
    "\n",
    "        rel_table, irr_table, p_rel, _ = get_transitions_tables(num_subtopics, min(sub_topics[topic]), all_sequences[topic], 0.01)\n",
    "\n",
    "        # compute metric\n",
    "        scores = []\n",
    "        for n in range(50):\n",
    "            score = 0.0\n",
    "            norm = 0.0\n",
    "            sg = SequenceGenerator(num_subtopics, min(sub_topics[topic]), rel_table, irr_table)\n",
    "            sequence = []\n",
    "            for m, (sub_topic, prob_subtopic)  in enumerate(sg):\n",
    "                if sub_topic != num_subtopics + 1 + min(sub_topics[topic]) - 1:\n",
    "                    prob *= prob_subtopic\n",
    "                    is_rel = False\n",
    "                    query = ''\n",
    "                    if sub_topic in all_queries[topic] and len(all_queries[topic][sub_topic]) > 0: \n",
    "                        queries = list(all_queries[topic][sub_topic])\n",
    "                        query = queries[choice(range(len(queries)))]\n",
    "\n",
    "                    search = Search(all_r_inverted_index[sub_topic], pre_preocessor)\n",
    "                    answer = search.search(query, n=1, retrievable_paragraphs=all_r_documents[sub_topic].keys())[0]\n",
    "\n",
    "                    rel = 0.0\n",
    "                    if sub_topic in qrels_users[topic] and answer in qrels_users[topic][sub_topic] and np.random.uniform(0,1) < qrels_users[topic][sub_topic][answer]:\n",
    "                        sg.set_relevance(True)\n",
    "                        sequence.append((None, None, 'relevant', None, None))\n",
    "                        rel = qrels_users[topic][sub_topic][answer]\n",
    "                    else:\n",
    "                        sg.set_relevance(False)\n",
    "                        sequence.append((None, None, 'irrelevant', None, None))\n",
    "\n",
    "                    score += dd_cbp_p(alpha, beta, m, sequence) * rel\n",
    "                    norm += dd_cbp_p(alpha, beta, m, sequence)\n",
    "            scores.append(score/norm)\n",
    "\n",
    "        if scores:\n",
    "            scores = np.array(scores)\n",
    "            topic_score = np.mean(scores)\n",
    "            topic_scores.append(topic_score)\n",
    "        else:\n",
    "            topic_scores.append(0.0)\n",
    "\n",
    "    system_scores = np.mean(topic_scores)\n",
    "    \n",
    "    means.append((noise, system_scores))\n",
    "    \n",
    "means\n"
   ]
  },
  {
   "cell_type": "code",
   "execution_count": 58,
   "metadata": {},
   "outputs": [
    {
     "data": {
      "text/plain": [
       "[<matplotlib.lines.Line2D at 0x1a3b2e3110>]"
      ]
     },
     "execution_count": 58,
     "metadata": {},
     "output_type": "execute_result"
    },
    {
     "data": {
      "image/png": "[encoded data removed]",
      "text/plain": [
       "<Figure size 432x288 with 1 Axes>"
      ]
     },
     "metadata": {
      "needs_background": "light"
     },
     "output_type": "display_data"
    }
   ],
   "source": [
    "plt.plot([i[0] for i in means], [i[1] for i in means], 'o')"
   ]
  },
  {
   "cell_type": "code",
   "execution_count": 230,
   "metadata": {},
   "outputs": [
    {
     "name": "stdout",
     "output_type": "stream",
     "text": [
      "KendalltauResult(correlation=0.5092285591855548, pvalue=0.04625414225661218)\n"
     ]
    },
    {
     "data": {
      "image/png": "[encoded data removed]",
      "text/plain": [
       "<Figure size 432x288 with 1 Axes>"
      ]
     },
     "metadata": {
      "needs_background": "light"
     },
     "output_type": "display_data"
    }
   ],
   "source": [
    "plt.plot([i[1] for i in system_scores], [i[1] for i in satisfaction_scores], 'o')\n",
    "print(kendalltau([i[1] for i in system_scores], [i[1] for i in satisfaction_scores]))"
   ]
  },
  {
   "cell_type": "code",
   "execution_count": 231,
   "metadata": {},
   "outputs": [
    {
     "name": "stdout",
     "output_type": "stream",
     "text": [
      "KendalltauResult(correlation=0.8499999999999999, pvalue=0.0014534154631930748)\n"
     ]
    },
    {
     "data": {
      "image/png": "[encoded data removed]",
      "text/plain": [
       "<Figure size 432x288 with 1 Axes>"
      ]
     },
     "metadata": {
      "needs_background": "light"
     },
     "output_type": "display_data"
    }
   ],
   "source": [
    "plt.plot([i[1] for i in uniform_sim_system_scores], [i[1] for i in system_scores], 'o')\n",
    "print(kendalltau([i[1] for i in uniform_sim_system_scores], [i[1] for i in system_scores]))"
   ]
  },
  {
   "cell_type": "code",
   "execution_count": 232,
   "metadata": {},
   "outputs": [
    {
     "name": "stdout",
     "output_type": "stream",
     "text": [
      "KendalltauResult(correlation=0.9219544457292885, pvalue=0.0007118113571692198)\n"
     ]
    },
    {
     "data": {
      "image/png": "[encoded data removed]",
      "text/plain": [
       "<Figure size 432x288 with 1 Axes>"
      ]
     },
     "metadata": {
      "needs_background": "light"
     },
     "output_type": "display_data"
    }
   ],
   "source": [
    "plt.plot([i[1] for i in table_sim_system_scores], [i[1] for i in system_scores], 'o')\n",
    "print(kendalltau([i[1] for i in table_sim_system_scores], [i[1] for i in system_scores]))"
   ]
  },
  {
   "cell_type": "code",
   "execution_count": 233,
   "metadata": {},
   "outputs": [
    {
     "name": "stdout",
     "output_type": "stream",
     "text": [
      "KendalltauResult(correlation=0.5092285591855548, pvalue=0.04625414225661218)\n"
     ]
    },
    {
     "data": {
      "image/png": "[encoded data removed]",
      "text/plain": [
       "<Figure size 432x288 with 1 Axes>"
      ]
     },
     "metadata": {
      "needs_background": "light"
     },
     "output_type": "display_data"
    }
   ],
   "source": [
    "plt.plot([i[1] for i in system_scores], [i[1] for i in satisfaction_scores], 'o')\n",
    "print(kendalltau([i[1] for i in system_scores], [i[1] for i in satisfaction_scores]))"
   ]
  },
  {
   "cell_type": "code",
   "execution_count": null,
   "metadata": {},
   "outputs": [],
   "source": []
  },
  {
   "cell_type": "code",
   "execution_count": null,
   "metadata": {},
   "outputs": [],
   "source": []
  },
  {
   "cell_type": "code",
   "execution_count": null,
   "metadata": {},
   "outputs": [],
   "source": [
    "\n",
    "\n"
   ]
  },
  {
   "cell_type": "code",
   "execution_count": 18,
   "metadata": {},
   "outputs": [],
   "source": []
  }
 ],
 "metadata": {
  "kernelspec": {
   "display_name": "Python 3",
   "language": "python",
   "name": "python3"
  },
  "language_info": {
   "codemirror_mode": {
    "name": "ipython",
    "version": 3
   },
   "file_extension": ".py",
   "mimetype": "text/x-python",
   "name": "python",
   "nbconvert_exporter": "python",
   "pygments_lexer": "ipython3",
   "version": "3.7.6"
  }
 },
 "nbformat": 4,
 "nbformat_minor": 4
}
